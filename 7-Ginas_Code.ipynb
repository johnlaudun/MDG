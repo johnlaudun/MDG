{
 "cells": [
  {
   "cell_type": "markdown",
   "metadata": {},
   "source": [
    "# Gina's Code\n",
    "\n",
    "There are two ways to learn. One is through formal instruction where one learns a series of principles or rules and the situations in which to apply them, slowly assembling a set of tools and materials with which to write a computer program, a scholarly essay, or a novel -- these are all things made with words. Another way is informally, through observation of performances or actions of others, extrapolating from the things we see done how things should be done. Neither is right or the best. We can only hope that we can get what we need when we need it. \n",
    "\n",
    "In the opening weeks of this workshop, we worked through various lines of code, slowly building toward larger, more complex actions. In this workbook, we are going to examine some code from one of us that is throwing some errors to see if we can't fix it. First, let's take a look at the code in its entirety:"
   ]
  },
  {
   "cell_type": "code",
   "execution_count": null,
   "metadata": {},
   "outputs": [],
   "source": [
    "import sys\n",
    "\n",
    "filename = sys.argv[1]\n",
    "target = sys.argv[2]\n",
    "count = int(sys.argv[3])\n",
    "\n",
    "with open(filename, 'r') as myfile:\n",
    "    data = myfile.read()\n",
    "\n",
    "data = data.replace(\"\\n\\n\", \" \")\n",
    "data = data.replace(\".\", \"\")\n",
    "data = data.replace(\",\", \"\")\n",
    "words = data.split(\" \")\n",
    "\n",
    "targetIndices = [i for i, x in enumerate(words) if x == target]\n",
    "\n",
    "before = []\n",
    "after = []\n",
    "for x, word in enumerate(words):\n",
    "    for i in targetIndices:\n",
    "        if x >= (i-count) and x < i:\n",
    "            before.append(word)\n",
    "        if x > i and x <= (i+count):\n",
    "            after.append(word)\n",
    "\n",
    "print(str(count) + \" words before \" + target + \":\\n\")\n",
    "for i in range(count):\n",
    "    if i <= len(before)/count:\n",
    "        print(\" \".join(before[i*count:(i+1)*count]) + \"\\n\")\n",
    "\n",
    "print(str(count) + \" words after \" + target + \":\\n\")\n",
    "for i in range(count):\n",
    "    if i <= len(after)/count:\n",
    "        print(\" \".join(after[i*count:(i+1)*count]) + \"\\n\")"
   ]
  },
  {
   "cell_type": "markdown",
   "metadata": {},
   "source": [
    "This first \"block\" of code has to do entirely with the way this code is typically run, which is from the command line, looking something like this:\n",
    "\n",
    "```bash\n",
    "python word.py(somefile.txt, outputfile.txt, 5)\n",
    "```"
   ]
  },
  {
   "cell_type": "code",
   "execution_count": null,
   "metadata": {},
   "outputs": [],
   "source": [
    "import sys\n",
    "\n",
    "filename = sys.argv[1]\n",
    "target = sys.argv[2]\n",
    "count = int(sys.argv[3])"
   ]
  },
  {
   "cell_type": "markdown",
   "metadata": {},
   "source": [
    "The next line is something we've seen before: we've opened a file, but we have to read into an object, or variable, in order to do things with it:"
   ]
  },
  {
   "cell_type": "code",
   "execution_count": null,
   "metadata": {},
   "outputs": [],
   "source": [
    "with open(filename, 'r') as myfile:\n",
    "    data = myfile.read()"
   ]
  },
  {
   "cell_type": "code",
   "execution_count": null,
   "metadata": {},
   "outputs": [],
   "source": []
  },
  {
   "cell_type": "code",
   "execution_count": null,
   "metadata": {},
   "outputs": [],
   "source": [
    "data = data.replace(\"\\n\\n\", \" \")\n",
    "data = data.replace(\".\", \"\")\n",
    "data = data.replace(\",\", \"\")\n",
    "words = data.split(\" \")"
   ]
  },
  {
   "cell_type": "code",
   "execution_count": null,
   "metadata": {},
   "outputs": [],
   "source": []
  },
  {
   "cell_type": "code",
   "execution_count": null,
   "metadata": {},
   "outputs": [],
   "source": [
    "targetIndices = [i for i, x in enumerate(words) if x == target]"
   ]
  },
  {
   "cell_type": "code",
   "execution_count": null,
   "metadata": {},
   "outputs": [],
   "source": []
  },
  {
   "cell_type": "code",
   "execution_count": null,
   "metadata": {},
   "outputs": [],
   "source": [
    "before = []\n",
    "after = []\n",
    "for x, word in enumerate(words):\n",
    "    for i in targetIndices:\n",
    "        if x >= (i-count) and x < i:\n",
    "            before.append(word)\n",
    "        if x > i and x <= (i+count):\n",
    "            after.append(word)"
   ]
  }
 ],
 "metadata": {
  "kernelspec": {
   "display_name": "Python 3",
   "language": "python",
   "name": "python3"
  },
  "language_info": {
   "codemirror_mode": {
    "name": "ipython",
    "version": 3
   },
   "file_extension": ".py",
   "mimetype": "text/x-python",
   "name": "python",
   "nbconvert_exporter": "python",
   "pygments_lexer": "ipython3",
   "version": "3.6.7"
  }
 },
 "nbformat": 4,
 "nbformat_minor": 2
}
