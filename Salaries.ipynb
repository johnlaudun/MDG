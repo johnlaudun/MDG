{
 "cells": [
  {
   "cell_type": "code",
   "execution_count": null,
   "metadata": {},
   "outputs": [],
   "source": []
  },
  {
   "cell_type": "code",
   "execution_count": 1,
   "metadata": {},
   "outputs": [],
   "source": [
    "import numpy as np\n",
    "\n",
    "def gini(array):\n",
    "    \"\"\"Calculate the Gini coefficient of a numpy array.\"\"\"\n",
    "    # based on bottom eq:\n",
    "    # http://www.statsdirect.com/help/generatedimages/equations/equation154.svg\n",
    "    # from:\n",
    "    # http://www.statsdirect.com/help/default.htm#nonparametric_methods/gini.htm\n",
    "    # All values are treated equally, arrays must be 1d:\n",
    "    array = array.flatten()\n",
    "    if np.amin(array) < 0:\n",
    "        # Values cannot be negative:\n",
    "        array -= np.amin(array)\n",
    "    # Values cannot be 0:\n",
    "    array += 0.0000001\n",
    "    # Values must be sorted:\n",
    "    array = np.sort(array)\n",
    "    # Index per array element:\n",
    "    index = np.arange(1,array.shape[0]+1)\n",
    "    # Number of array elements:\n",
    "    n = array.shape[0]\n",
    "    # Gini coefficient:\n",
    "    return ((np.sum((2 * index - n  - 1) * array)) / (n * np.sum(array)))"
   ]
  },
  {
   "cell_type": "code",
   "execution_count": 3,
   "metadata": {},
   "outputs": [],
   "source": [
    "# DATA\n",
    "\n",
    "fac09 = [89750, 83011, 88732, 74024, 94361, 96760, 96568, 81916, 76567, 77573, 83383, 65496, 58478, 52485, 55666, 65973, 69229, 58029, 62859, 74651, 49444, 43000, 49057, 57480, 46640, 36821, 56947, 49000, 43580, 57837, 32000, 35726, 38277, 32209, 32000, 31500, 32000, 47761, 37952, 32000, 32000, 44492, 36617, 42654, 35867, 32000]\n",
    "fac19 = [77558, 88903, 67930, 79258, 73205, 102080, 85693, 88661, 84962, 86423, 70169, 59268, 58464, 59653, 57131, 58564, 53318, 60627, 67775, 50000, 52233, 52782, 50983, 48000, 51000, 50099, 49000, 49000, 48247, 50839, 47018, 54547, 47199, 44283, 40842, 37912, 39953, 37763, 31182, 36136, 39997, 36046, 36106, 38942]\n",
    "cola09 = [138363, 88850]\n",
    "cola19 = [170416, 154447]"
   ]
  },
  {
   "cell_type": "code",
   "execution_count": 9,
   "metadata": {},
   "outputs": [],
   "source": [
    "fac09_array = np.asarray([float(i) for i in fac09])\n",
    "fac19_array = np.asarray([float(i) for i in fac19])\n",
    "overhead09 = fac09 + cola09\n",
    "overhead19 = fac19 + cola19\n",
    "oh09 = np.asarray([float(i) for i in overhead09])\n",
    "oh19 = np.asarray([float(i) for i in overhead19])"
   ]
  },
  {
   "cell_type": "code",
   "execution_count": 11,
   "metadata": {},
   "outputs": [
    {
     "name": "stdout",
     "output_type": "stream",
     "text": [
      "0.20472553490613568 0.16608426017383915\n"
     ]
    }
   ],
   "source": [
    "print(gini(fac09_array), gini(fac19_array))"
   ]
  },
  {
   "cell_type": "code",
   "execution_count": 12,
   "metadata": {},
   "outputs": [
    {
     "name": "stdout",
     "output_type": "stream",
     "text": [
      "0.22050864853040802 0.21224822377388544\n"
     ]
    }
   ],
   "source": [
    "print(gini(oh09), gini(oh19))"
   ]
  }
 ],
 "metadata": {
  "kernelspec": {
   "display_name": "Python 3",
   "language": "python",
   "name": "python3"
  },
  "language_info": {
   "codemirror_mode": {
    "name": "ipython",
    "version": 3
   },
   "file_extension": ".py",
   "mimetype": "text/x-python",
   "name": "python",
   "nbconvert_exporter": "python",
   "pygments_lexer": "ipython3",
   "version": "3.4.10"
  }
 },
 "nbformat": 4,
 "nbformat_minor": 2
}
