{
 "cells": [
  {
   "cell_type": "markdown",
   "id": "exact-restaurant",
   "metadata": {},
   "source": [
    "In SimPy, the behaviors of active components such as customers or vehicles are modeled with *processes*. These processes live in an *environment*. They interact with the environment and with each other via *events*."
   ]
  },
  {
   "cell_type": "code",
   "execution_count": 11,
   "id": "diagnostic-memorabilia",
   "metadata": {},
   "outputs": [],
   "source": [
    "import simpy\n",
    "from random import random, seed"
   ]
  },
  {
   "cell_type": "markdown",
   "id": "interior-blend",
   "metadata": {},
   "source": [
    "## Simulate Waiters"
   ]
  },
  {
   "cell_type": "code",
   "execution_count": 4,
   "id": "fabulous-reminder",
   "metadata": {},
   "outputs": [],
   "source": [
    "def waiter(env):\n",
    "    while True: # Simulate until the time limit\n",
    "        print(f\"Start taking orders from customers at {env.now}\")\n",
    "        take_order_duration = 5\n",
    "        yield env.timeout(take_order_duration) # models duration\n",
    "\n",
    "        print(f'Start giving the orders to the cooks at {env.now}')\n",
    "        give_order_duration = 2\n",
    "        yield env.timeout(give_order_duration)\n",
    "\n",
    "        print(f'Start serving customers food at {env.now}\\n')\n",
    "        serve_order_duration = 5\n",
    "        yield env.timeout(serve_order_duration)"
   ]
  },
  {
   "cell_type": "code",
   "execution_count": 2,
   "id": "emerging-finland",
   "metadata": {},
   "outputs": [
    {
     "name": "stdout",
     "output_type": "stream",
     "text": [
      "Start taking orders from customers at 0\n",
      "Start giving the orders to the cooks at 5\n",
      "Start serving customers food at 7\n",
      "\n",
      "Start taking orders from customers at 12\n",
      "Start giving the orders to the cooks at 17\n",
      "Start serving customers food at 19\n",
      "\n",
      "Start taking orders from customers at 24\n",
      "Start giving the orders to the cooks at 29\n"
     ]
    }
   ],
   "source": [
    "env = simpy.Environment() # the environment where the waiter lives\n",
    "env.process(waiter(env)) # pass the waiter to the environment\n",
    "env.run(until=30) # Run simulation until 30s"
   ]
  },
  {
   "cell_type": "markdown",
   "id": "prompt-hello",
   "metadata": {},
   "source": [
    "## Simulate Customers"
   ]
  },
  {
   "cell_type": "code",
   "execution_count": 7,
   "id": "expired-rachel",
   "metadata": {},
   "outputs": [],
   "source": [
    "def customer(env, name, restaurant, **duration):\n",
    "    while True:\n",
    "        yield env.timeout(random()*10) # There is a new customer between 0 and 10 minutes\n",
    "        print(f\"{name} enters the restaurant and for the waiter to come at {round(env.now, 2)}\")\n",
    "        with restaurant.request() as req:\n",
    "            yield req \n",
    "\n",
    "            print(f\"Seats are available. {name} get seated at {round(env.now, 2)}\")\n",
    "            yield env.timeout(duration['get_sitted'])\n",
    "\n",
    "            print(f\"{name} starts looking at the menu at {round(env.now, 2)}\")\n",
    "            yield env.timeout(duration['choose_food'])\n",
    "\n",
    "            print(f'Waiters start getting the order from {name} at {round(env.now, 2)}')\n",
    "            yield env.timeout(duration['give_order'])\n",
    "\n",
    "            print(f'{name} starts waiting for food at {round(env.now, 2)}')\n",
    "            yield env.timeout(duration['wait_for_food'])\n",
    "\n",
    "            print(f'{name} starts eating at {round(env.now, 2)}')\n",
    "            yield env.timeout(duration['eat'])\n",
    "\n",
    "            print(f'{name} starts paying at {round(env.now, 2)}')\n",
    "            yield env.timeout(duration['pay'])\n",
    "\n",
    "            print(f'{name} leaves at {round(env.now, 2)}')"
   ]
  },
  {
   "cell_type": "code",
   "execution_count": 9,
   "id": "banned-powder",
   "metadata": {},
   "outputs": [],
   "source": [
    "seed(1)\n",
    "env = simpy.Environment()\n",
    "\n",
    "# Model restaurant that can only allow 2 customers at once\n",
    "restaurant = simpy.Resource(env, capacity=2)"
   ]
  },
  {
   "cell_type": "code",
   "execution_count": 10,
   "id": "rapid-reminder",
   "metadata": {},
   "outputs": [
    {
     "name": "stdout",
     "output_type": "stream",
     "text": [
      "Customer 0 enters the restaurant and for the waiter to come at 1.34\n",
      "Seats are available. Customer 0 get seated at 1.34\n",
      "Customer 0 starts looking at the menu at 2.34\n",
      "Customer 3 enters the restaurant and for the waiter to come at 2.55\n",
      "Seats are available. Customer 3 get seated at 2.55\n",
      "Customer 3 starts looking at the menu at 3.55\n",
      "Customer 4 enters the restaurant and for the waiter to come at 4.95\n",
      "Customer 2 enters the restaurant and for the waiter to come at 7.64\n",
      "Customer 1 enters the restaurant and for the waiter to come at 8.47\n",
      "Waiters start getting the order from Customer 0 at 12.34\n",
      "Waiters start getting the order from Customer 3 at 13.55\n",
      "Customer 0 starts waiting for food at 17.34\n",
      "Customer 3 starts waiting for food at 18.55\n",
      "Customer 0 starts eating at 37.34\n",
      "Customer 3 starts eating at 38.55\n",
      "Customer 0 starts paying at 82.34\n",
      "Customer 3 starts paying at 83.55\n",
      "Customer 0 leaves at 92.34\n",
      "Seats are available. Customer 4 get seated at 92.34\n",
      "Customer 4 starts looking at the menu at 93.34\n",
      "Customer 3 leaves at 93.55\n",
      "Seats are available. Customer 2 get seated at 93.55\n",
      "Customer 2 starts looking at the menu at 94.55\n"
     ]
    }
   ],
   "source": [
    "durations = {'get_sitted': 1, 'choose_food': 10, 'give_order': 5, 'wait_for_food': 20, 'eat': 45, 'pay': 10}\n",
    "\n",
    "for i in range(5):\n",
    "    env.process(customer(env, f'Customer {i}', restaurant, **durations))\n",
    "\n",
    "env.run(until=95)"
   ]
  },
  {
   "cell_type": "markdown",
   "id": "geological-plastic",
   "metadata": {},
   "source": [
    "## Simulate a Takeout Restaurant with a Limited Supply of Food\n",
    "\n",
    "We will simulate a restaurant that:\n",
    "\n",
    "* Only takes take-out orders\n",
    "* There is only one staff member\n",
    "* The customers are waiting in line to order food on the menu. The more items a customer orders, the longer the customer needs to wait.\n",
    "\n",
    "The attributes of this restaurant are:\n",
    "\n",
    "* `staff` : a resource with the capacity 1 (the staff can only serve one customer at a time)\n",
    "* `foods` : options of food the restaurant offers\n",
    "* `available` : number of items per option of food\n",
    "* `run_out` : events when each option of food runs out\n",
    "* `when_run_out` : the time when each option of food runs out\n",
    "* `rejected_customers` : number of customers who leave the line because their food option runs out"
   ]
  },
  {
   "cell_type": "code",
   "execution_count": 17,
   "id": "third-headline",
   "metadata": {},
   "outputs": [],
   "source": [
    "from collections import namedtuple\n",
    "\n",
    "NUM_ITEMS = 10 # Number of items per food option\n",
    "\n",
    "staff = simpy.Resource(env, capacity=1)\n",
    "foods = ['Spicy Chicken', 'Poached Chicken', 'Tomato Chicken Skillet', \n",
    "         'Honey Mustard Chicken']\n",
    "available = {food: NUM_ITEMS for food in foods} \n",
    "run_out = {food: env.event() for food in foods}\n",
    "when_run_out = {food: None for food in foods}\n",
    "rejected_customers = {food: 0 for food in foods}\n",
    "\n",
    "Restaurant = namedtuple('Restaurant', 'staff, foods, available,'\n",
    "                        'run_out, when_run_out, rejected_customers')\n",
    "restaurant = Restaurant(staff, foods, available, run_out,\n",
    "                        when_run_out, rejected_customers)"
   ]
  },
  {
   "cell_type": "markdown",
   "id": "ceramic-shell",
   "metadata": {},
   "source": [
    "We also want to create a customer who is waiting in line. A customer will:\n",
    "\n",
    "* Leave if there is not enough food left\n",
    "* Order food if there is enough food left\n",
    "\n",
    "If there is no food left after the customer orders a particular kind of food, we will declare that the chosen food has run out.\n",
    "\n",
    "Two new concepts in the code below are:\n",
    "\n",
    "* `restaurant.staff.request` : Request usage of the resource. In this case, the customer requests a service from the staff member.\n",
    "* `restaurant.run_out[food].succeed` : run_out is an event that can either succeed or fail. \n",
    "\n",
    "In this case, if the event run_out succeeds, it signals that the restaurant runs out of a food option."
   ]
  },
  {
   "cell_type": "code",
   "execution_count": 18,
   "id": "grand-hawaii",
   "metadata": {},
   "outputs": [],
   "source": [
    "def customer(env, food, num_food_order, restaurant):\n",
    "    \"\"\"Customer tries to order a certain number of a particular food, \n",
    "    if that food ran out, customer leaves. If there is enough food left,\n",
    "    customer orders food.\"\"\"\n",
    "\n",
    "    with restaurant.staff.request() as customer:\n",
    "\n",
    "        # If there is not enough food left, customer leaves\n",
    "        if restaurant.available[food] < num_food_order:\n",
    "            restaurant.rejected_customers[food] +=1\n",
    "            return\n",
    "\n",
    "        # If there is enough food left, customer orders food\n",
    "        restaurant.available[food] -= num_food_order\n",
    "        # The time it takes to prepare food\n",
    "        yield env.timeout(10*num_food_order)\n",
    "\n",
    "        # If there is no food left after customer orders, trigger run out event\n",
    "        if restaurant.available[food] == 0:\n",
    "            restaurant.run_out[food].succeed()\n",
    "            restaurant.when_run_out[food] = env.now\n",
    "\n",
    "        yield env.timeout(2)"
   ]
  },
  {
   "cell_type": "markdown",
   "id": "representative-society",
   "metadata": {},
   "source": [
    "Run the simulation:"
   ]
  },
  {
   "cell_type": "code",
   "execution_count": 19,
   "id": "increased-eligibility",
   "metadata": {},
   "outputs": [
    {
     "ename": "NameError",
     "evalue": "name 'customer_arrivals' is not defined",
     "output_type": "error",
     "traceback": [
      "\u001b[0;31m---------------------------------------------------------------------------\u001b[0m",
      "\u001b[0;31mNameError\u001b[0m                                 Traceback (most recent call last)",
      "\u001b[0;32m<ipython-input-19-d818828d8e8c>\u001b[0m in \u001b[0;36m<module>\u001b[0;34m\u001b[0m\n\u001b[1;32m      8\u001b[0m \u001b[0;34m\u001b[0m\u001b[0m\n\u001b[1;32m      9\u001b[0m \u001b[0;31m# Start process and run\u001b[0m\u001b[0;34m\u001b[0m\u001b[0;34m\u001b[0m\u001b[0;34m\u001b[0m\u001b[0m\n\u001b[0;32m---> 10\u001b[0;31m \u001b[0menv\u001b[0m\u001b[0;34m.\u001b[0m\u001b[0mprocess\u001b[0m\u001b[0;34m(\u001b[0m\u001b[0mcustomer_arrivals\u001b[0m\u001b[0;34m(\u001b[0m\u001b[0menv\u001b[0m\u001b[0;34m,\u001b[0m \u001b[0mrestaurant\u001b[0m\u001b[0;34m)\u001b[0m\u001b[0;34m)\u001b[0m\u001b[0;34m\u001b[0m\u001b[0;34m\u001b[0m\u001b[0m\n\u001b[0m\u001b[1;32m     11\u001b[0m \u001b[0menv\u001b[0m\u001b[0;34m.\u001b[0m\u001b[0mrun\u001b[0m\u001b[0;34m(\u001b[0m\u001b[0muntil\u001b[0m\u001b[0;34m=\u001b[0m\u001b[0mSIM_TIME\u001b[0m\u001b[0;34m)\u001b[0m\u001b[0;34m\u001b[0m\u001b[0;34m\u001b[0m\u001b[0m\n\u001b[1;32m     12\u001b[0m \u001b[0;34m\u001b[0m\u001b[0m\n",
      "\u001b[0;31mNameError\u001b[0m: name 'customer_arrivals' is not defined"
     ]
    }
   ],
   "source": [
    "import random \n",
    "\n",
    "RANDOM_SEED = 20\n",
    "SIM_TIME  = 240\n",
    "\n",
    "random.seed(RANDOM_SEED)\n",
    "env = simpy.Environment()\n",
    "\n",
    "# Start process and run\n",
    "env.process(customer_arrivals(env, restaurant))\n",
    "env.run(until=SIM_TIME)\n",
    "\n",
    "for food in foods:\n",
    "    if restaurant.run_out[food]:\n",
    "        print(f'The {food} ran out {round(restaurant.when_run_out[food], 2)} '\n",
    "            'minutes after the restaurant opens.')\n",
    "            \n",
    "        print(f'Number of people leaving queue when the {food} ran out is ' \n",
    "        f'{restaurant.rejected_customers[food]}.\\n')"
   ]
  }
 ],
 "metadata": {
  "kernelspec": {
   "display_name": "Python 3",
   "language": "python",
   "name": "python3"
  },
  "language_info": {
   "codemirror_mode": {
    "name": "ipython",
    "version": 3
   },
   "file_extension": ".py",
   "mimetype": "text/x-python",
   "name": "python",
   "nbconvert_exporter": "python",
   "pygments_lexer": "ipython3",
   "version": "3.8.5"
  }
 },
 "nbformat": 4,
 "nbformat_minor": 5
}
