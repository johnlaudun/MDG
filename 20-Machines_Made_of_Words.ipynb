{
 "cells": [
  {
   "cell_type": "code",
   "execution_count": 10,
   "metadata": {
    "scrolled": true
   },
   "outputs": [
    {
     "name": "stdout",
     "output_type": "stream",
     "text": [
      "Populating the interactive namespace from numpy and matplotlib\n"
     ]
    }
   ],
   "source": [
    "import re\n",
    "\n",
    "%pylab inline\n",
    "figsize(12, 6)"
   ]
  },
  {
   "cell_type": "code",
   "execution_count": 1,
   "metadata": {
    "slideshow": {
     "slide_type": "-"
    }
   },
   "outputs": [],
   "source": [
    "# First we load our file into a string\n",
    "text = \"\"\"\n",
    "A relative [of ours] had a husband who went out into the wooded region \n",
    "in that area. Along with his brother, they went looking for cypress moss \n",
    "for cushioning their pillows and blankets. This was way back in the day. \n",
    "As they were searching, they noticed a stone slab on the ground beneath \n",
    "a tree. It was odd because the husband and his brother weren't able to \n",
    "move the slab of stone. It seemed to be stuck in the ground. Then, they \n",
    "got this weird feeling. Something wasn't quite right with the stone. The \n",
    "two men freaked out, and they climbed the tree in fear. When they looked \n",
    "down, the slab of stone disappeared. They jumped down from the tree and \n",
    "ran home.\n",
    "\"\"\"\n",
    "\n",
    "# Then we turn that string into a list of words\n",
    "words = re.sub(\"[^a-zA-Z']\",\" \", text).lower().split()"
   ]
  },
  {
   "cell_type": "code",
   "execution_count": 2,
   "metadata": {},
   "outputs": [
    {
     "name": "stdout",
     "output_type": "stream",
     "text": [
      "0           a\n",
      "1    relative\n",
      "2          of\n",
      "3        ours\n",
      "4         had\n",
      "dtype: object\n"
     ]
    }
   ],
   "source": [
    "import pandas as pd\n",
    "\n",
    "series = pd.Series(words)\n",
    "\n",
    "print(series[0:5])"
   ]
  },
  {
   "cell_type": "code",
   "execution_count": 13,
   "metadata": {
    "scrolled": false
   },
   "outputs": [
    {
     "name": "stdout",
     "output_type": "stream",
     "text": [
      "went       2\n",
      "this       2\n",
      "to         2\n",
      "out        2\n",
      "with       2\n",
      "down       2\n",
      "it         2\n",
      "for        2\n",
      "ground     2\n",
      "his        2\n",
      "was        2\n",
      "husband    2\n",
      "got        1\n",
      "then       1\n",
      "quite      1\n",
      "wasn't     1\n",
      "when       1\n",
      "home       1\n",
      "move       1\n",
      "jumped     1\n",
      "dtype: int64\n"
     ]
    }
   ],
   "source": [
    "counts = series.value_counts()\n",
    "# counts.to_csv('~/Desktop/legend_word_freq.csv')\n",
    "print(counts[10:30])"
   ]
  },
  {
   "cell_type": "code",
   "execution_count": 11,
   "metadata": {},
   "outputs": [
    {
     "data": {
      "text/plain": [
       "<matplotlib.axes._subplots.AxesSubplot at 0x11a6f7fd0>"
      ]
     },
     "execution_count": 11,
     "metadata": {},
     "output_type": "execute_result"
    },
    {
     "data": {
      "image/png": "[encoded data removed]",
      "text/plain": [
       "<Figure size 864x432 with 1 Axes>"
      ]
     },
     "metadata": {
      "needs_background": "light"
     },
     "output_type": "display_data"
    }
   ],
   "source": [
    "counts.iloc[0:49].plot(kind='bar')"
   ]
  },
  {
   "cell_type": "code",
   "execution_count": 7,
   "metadata": {},
   "outputs": [
    {
     "name": "stdout",
     "output_type": "stream",
     "text": [
      "76 {'husband', 'was', 'fear', 'relative', 'right', 'cushioning', 'their', 'wooded', 'region', 'pillows', 'of', 'for', 'area', \"weren't\", 'on', 'stuck', 'seemed', 'men', 'climbed', 'beneath', 'tree', 'ground', 'in', 'home', 'and', \"wasn't\", 'disappeared', 'along', 'it', 'looking', 'a', 'because', 'that', 'to', 'moss', 'quite', 'looked', 'odd', 'weird', 'as', 'noticed', 'be', 'cypress', 'ran', 'out', 'ours', 'his', 'way', 'something', 'when', 'who', 'this', 'then', 'feeling', 'went', 'able', 'they', 'got', 'were', 'had', 'stone', 'slab', 'two', 'blankets', 'freaked', 'into', 'back', 'down', 'move', 'day', 'jumped', 'searching', 'from', 'the', 'brother', 'with'}\n"
     ]
    }
   ],
   "source": [
    "uniques = set(words)\n",
    "print(len(uniques), uniques)"
   ]
  },
  {
   "cell_type": "code",
   "execution_count": 8,
   "metadata": {},
   "outputs": [],
   "source": [
    "def lexical_diversity(text):\n",
    "    return len(text) / len(set(text))"
   ]
  },
  {
   "cell_type": "code",
   "execution_count": 9,
   "metadata": {},
   "outputs": [
    {
     "data": {
      "text/plain": [
       "1.618421052631579"
      ]
     },
     "execution_count": 9,
     "metadata": {},
     "output_type": "execute_result"
    }
   ],
   "source": [
    "lexical_diversity(words)"
   ]
  }
 ],
 "metadata": {
  "kernelspec": {
   "display_name": "Python 3",
   "language": "python",
   "name": "python3"
  },
  "language_info": {
   "codemirror_mode": {
    "name": "ipython",
    "version": 3
   },
   "file_extension": ".py",
   "mimetype": "text/x-python",
   "name": "python",
   "nbconvert_exporter": "python",
   "pygments_lexer": "ipython3",
   "version": "3.6.7"
  },
  "toc": {
   "base_numbering": 1,
   "nav_menu": {},
   "number_sections": true,
   "sideBar": true,
   "skip_h1_title": true,
   "title_cell": "Table of Contents",
   "title_sidebar": "Contents",
   "toc_cell": true,
   "toc_position": {},
   "toc_section_display": true,
   "toc_window_display": false
  }
 },
 "nbformat": 4,
 "nbformat_minor": 2
}
