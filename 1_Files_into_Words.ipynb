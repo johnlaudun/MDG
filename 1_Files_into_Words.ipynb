{
 "cells": [
  {
   "cell_type": "markdown",
   "metadata": {
    "slideshow": {
     "slide_type": "slide"
    }
   },
   "source": [
    "# Files into Words"
   ]
  },
  {
   "cell_type": "markdown",
   "metadata": {},
   "source": [
    "## Table of Contents <a name=\"toc\"></a>\n",
    "\n",
    "**[Loading a File & Understanding What It Is](#file)**  \n",
    "**[Tokenizing](#tokenizing)**  \n",
    "[A Quick Note about Normalization](#norm)  \n",
    "[Using regex to Tokenize](#REtoke)   \n",
    "[Using NLTK Tokenizers](#nltktoken)  "
   ]
  },
  {
   "cell_type": "markdown",
   "metadata": {
    "slideshow": {
     "slide_type": "slide"
    }
   },
   "source": [
    "The first line of code run _here_ is something internal to Jupyter Notebooks that allows us to place any graphical output into the page itself and not in a separate window or file. (We can still save output to a file, if we want.)"
   ]
  },
  {
   "cell_type": "code",
   "execution_count": 1,
   "metadata": {
    "slideshow": {
     "slide_type": "-"
    }
   },
   "outputs": [
    {
     "name": "stdout",
     "output_type": "stream",
     "text": [
      "Populating the interactive namespace from numpy and matplotlib\n"
     ]
    }
   ],
   "source": [
    "%pylab inline\n",
    "figsize(12, 6)"
   ]
  },
  {
   "cell_type": "markdown",
   "metadata": {},
   "source": [
    "## Loading a File & Understanding What It Is <a name=\"file\"></a>"
   ]
  },
  {
   "cell_type": "markdown",
   "metadata": {
    "slideshow": {
     "slide_type": "slide"
    }
   },
   "source": [
    "After that, it's time to get our text and start examining it. So the first thing we need to do is load the text file. In the case of reading one file, as we are doing here, we first tell Python to open the file in **read** mode -- that's all the `r` is doing inside the parenthesis, preventing any possibility of of us writing to it. After that we literally read the file into a variable. \n",
    "\n",
    "This can be done in two lines of code:"
   ]
  },
  {
   "cell_type": "code",
   "execution_count": null,
   "metadata": {},
   "outputs": [],
   "source": [
    "# First we open the file:\n",
    "opened_file = open('texts/mdg.txt', 'r')\n",
    "\n",
    "# Then we read the file:\n",
    "mdg = opened_file.read()"
   ]
  },
  {
   "cell_type": "markdown",
   "metadata": {},
   "source": [
    "If we try to work with the first object we created, `opened_file`, let's say by printing it, we are going to get an error. Python recognizes that it is probably a text file, but it hasn't been told specifically to take the stream of bytes, as Python understand them, and convert them into a string, which is how computers handle things humans call \"texts.\"\n",
    "\n",
    "In the code cells above and below you will also notice the presence of lines that are simply descriptions of what the code does and not themselves code: that is, they do not do anything but communicate to humans, yourself or others, what is happening in the code. These are called comments, and it's good to get in the habit of including them. Comments start with a hash mark, `#`, and are typically hand-wrapped if more than one line, with each line beginning with a hash mark. In Jupyter Notebook, you can simply select the lines you want to make comments and then `CMD + /` on your keyboard. This is a toggle-able action, so you can uncomment code this way too. "
   ]
  },
  {
   "cell_type": "code",
   "execution_count": null,
   "metadata": {},
   "outputs": [],
   "source": [
    "# What happens when we try to print the opened file?\n",
    "print(opened_file[0:20])"
   ]
  },
  {
   "cell_type": "code",
   "execution_count": 2,
   "metadata": {
    "slideshow": {
     "slide_type": "-"
    }
   },
   "outputs": [],
   "source": [
    "# The work of the two lines above can also be achieved in one line.\n",
    "# See if your growing Pythonista abilities can't tell how this is done!\n",
    "mdg = open('texts/mdg.txt', 'r').read()"
   ]
  },
  {
   "cell_type": "markdown",
   "metadata": {},
   "source": [
    "Oh, you've just created your first \"object\" in Python, and it's a text! Or, rather, it's a string, one of the kinds of objects you can work with. If you ever wonder what kind of object you have, you can ask it its `type`:"
   ]
  },
  {
   "cell_type": "code",
   "execution_count": null,
   "metadata": {
    "scrolled": true
   },
   "outputs": [],
   "source": [
    "len(mdg)"
   ]
  },
  {
   "cell_type": "markdown",
   "metadata": {},
   "source": [
    "You can ask it other kinds of things: how big, or long it is -- `len()` -- as well as printing it to see what it looks like. Why don't you do that now? Replace `type` above first with `len` and then with `print` and then hit enter to see what happens. \n",
    "\n",
    "When you run **`print(mdg)`**, you see all of the text in what appears to be \"human readable\" form. One of the problems you now face is understanding that when you hit `print` and see the text, the computer just sees a `string` of characters -- remember what `type` told you? Python doesn't natively understand human languages: they are nothing more than a series of things, characters made up of letters, numbers, punctuation marks, and spaces.\n",
    "\n",
    "When you asked Python to tell you the length of the object, it just counted all those things and told you the total. Our version of \"The Most Dangerous Game\" is 44,000+ characters long. But characters isn't a very useful way to measure texts, is it? Letters are not meaningful. Words are. That's how we think of texts, isn't it? In order to count the words, we have to tell Python how to break the string into words.\n",
    "\n",
    "We need to convert our string into a list of words. To do that, we need to figure out how to tell the computer to find words among the sequence of characters. The term for words, and all the other bits that make up written language (like punctuation) as they occur in discourse is **tokens**, and what we need to do is **tokenize**."
   ]
  },
  {
   "cell_type": "markdown",
   "metadata": {},
   "source": [
    "## Tokenizing <a name=\"tokenizing\"></a>\n",
    "\n",
    "If only **tokenization** was straightforward. While your first essays into text analytics will probably rely upon relatively well-known methods, you will probably find yourself regularly re-visiting what you use and fine-tuning to fit the needs of your project. (That kind of iterative understanding and refinement based on the work at hand is part of what makes work in the digital humanities so rewarding.) In other words, it's important to remember that, first, tokenization refers \"the process of breaking a stream of text up into words, phrases, symbols, or other meaningful elements called tokens\" ([Wikipedia][]) and that \"meaningful\" is in the eye of the beholder.\n",
    "\n",
    "[Wikipedia]: https://en.wikipedia.org/wiki/Lexical_analysis#Tokenization\n",
    "\n",
    "\n",
    "One of the first places to start tokenizing is with the `split()` method available to use on strings, turning them into lists. If you supply no value inside the parentheses, the default  for `split()` is to split a string into a list wherever there is a white space. \n",
    "\n",
    "In the cell below, we first create a string object called `text` -- in this case, the first paragraph from _Heart of Darkness_ -- and then we `split()` it and print the list to see the results."
   ]
  },
  {
   "cell_type": "code",
   "execution_count": 41,
   "metadata": {},
   "outputs": [
    {
     "name": "stdout",
     "output_type": "stream",
     "text": [
      "['The', 'Nellie,', 'a', 'cruising', 'yawl,', 'swung', 'to', 'her', 'anchor', 'without', 'a', 'flutter', 'of', 'the', 'sails,', 'and', 'was', 'at', 'rest.', 'The', 'flood', 'had', 'made,', 'the', 'wind', 'was', 'nearly', 'calm,', 'and', 'being', 'bound', 'down', 'the', 'river,', 'the', 'only', 'thing', 'for', 'it', 'was', 'to', 'come', 'to', 'and', 'wait', 'for', 'the', 'turn', 'of', 'the', 'tide.']\n"
     ]
    }
   ],
   "source": [
    "text = \"\"\"\n",
    "The Nellie, a cruising yawl, swung to her anchor without a flutter of\n",
    "the sails, and was at rest. The flood had made, the wind was nearly\n",
    "calm, and being bound down the river, the only thing for it was to come\n",
    "to and wait for the turn of the tide.\n",
    "\"\"\"\n",
    "\n",
    "split_text = text.split()\n",
    "\n",
    "print(split_text)"
   ]
  },
  {
   "cell_type": "markdown",
   "metadata": {},
   "source": [
    "**>>>**: Why not copy and paste a block of text from your own work to see what happens?"
   ]
  },
  {
   "cell_type": "markdown",
   "metadata": {},
   "source": [
    "You can actually specify other values on which to split a string, which can be useful in some cases. (Please note that `split()` and `split(' ')` are the same thing, but do note that there is a space between the two quotation marks.)\n",
    "\n",
    "In the next cell, we split the paragraph by comma -- the `\\n`s you see are newline characters normally hidden from human eyes, but always there. They care considered part of white space by Python, which is why they are not part of the list above."
   ]
  },
  {
   "cell_type": "code",
   "execution_count": 43,
   "metadata": {
    "scrolled": true
   },
   "outputs": [
    {
     "name": "stdout",
     "output_type": "stream",
     "text": [
      "['\\nThe Nellie', ' a cruising yawl', ' swung to her anchor without a flutter of\\nthe sails', ' and was at rest. The flood had made', ' the wind was nearly\\ncalm', ' and being bound down the river', ' the only thing for it was to come\\nto and wait for the turn of the tide.\\n']\n"
     ]
    }
   ],
   "source": [
    "comma_text = text.split(\",\")\n",
    "print(comma_text)"
   ]
  },
  {
   "cell_type": "markdown",
   "metadata": {},
   "source": [
    "As you can see, Python's built-in string method `split()` has plenty of power and may very well do everything you need for quick surveying of results. For more nuanced results, you may find yourself wanting to build a custom setup with regex or to use one of the tokenizers included with the NLTK. Both of those are discussed next.\n",
    "\n",
    "[For more on tokenization in Python.](http://jeffreyfossett.com/2014/04/25/tokenizing-raw-text-in-python.html)"
   ]
  },
  {
   "cell_type": "markdown",
   "metadata": {},
   "source": [
    "### A Quick Note about Normalization <a name=\"norm\"></a>\n",
    "\n",
    "In the first sentence from the opening of _Heart of Darkness_ there are two instances of the definite article *the*:\n",
    "\n",
    "> The Nellie, a cruising yawl, swung to her anchor without a flutter of the sails, and was at rest.\n",
    "\n",
    "If we break the sentence into tokens as above and then ask Python to compose a set of words based on the sentence we get the following:"
   ]
  },
  {
   "cell_type": "code",
   "execution_count": 49,
   "metadata": {},
   "outputs": [
    {
     "name": "stdout",
     "output_type": "stream",
     "text": [
      "This set has 18 items: {'rest.', 'swung', 'to', 'The', 'cruising', 'her', 'Nellie,', 'yawl,', 'without', 'flutter', 'the', 'and', 'was', 'of', 'at', 'anchor', 'a', 'sails,'}\n"
     ]
    }
   ],
   "source": [
    "# Whenever you have extra long text in a code example that breaks across lines,\n",
    "# you enclose it within three quotation marks to let Python know that. \n",
    "# (This is one reason to load text from a file.)\n",
    "\n",
    "sentence = \"\"\"The Nellie, a cruising yawl, swung to her anchor without a flutter of\n",
    "the sails, and was at rest.\"\"\"\n",
    "\n",
    "split = sentence.split()\n",
    "\n",
    "print(\"This set has {} items:\".format(len(set(split))), set(split))"
   ]
  },
  {
   "cell_type": "markdown",
   "metadata": {},
   "source": [
    "In fact, if we ask Python is *The* and *the* are the same, it tells us no:"
   ]
  },
  {
   "cell_type": "code",
   "execution_count": 45,
   "metadata": {},
   "outputs": [
    {
     "data": {
      "text/plain": [
       "False"
      ]
     },
     "execution_count": 45,
     "metadata": {},
     "output_type": "execute_result"
    }
   ],
   "source": [
    "'The' == 'the'"
   ]
  },
  {
   "cell_type": "markdown",
   "metadata": {},
   "source": [
    "The way most scholars and scientists avoid this particular semantic difficulty is to make all the text in a string lowercase with `lower()`. This too is a string method, and so you can append it just as you do `split()`. (FTR, there is also `upper()` that makes everything uppercase.)\n",
    "\n",
    "Watch what happens when normalize our text to lowercase and ask Python to count the set of words:"
   ]
  },
  {
   "cell_type": "code",
   "execution_count": 50,
   "metadata": {},
   "outputs": [
    {
     "name": "stdout",
     "output_type": "stream",
     "text": [
      "This set has 17 items: {'rest.', 'swung', 'to', 'cruising', 'her', 'without', 'yawl,', 'nellie,', 'the', 'flutter', 'was', 'and', 'at', 'of', 'anchor', 'a', 'sails,'}\n"
     ]
    }
   ],
   "source": [
    "sentence = \"\"\"The Nellie, a cruising yawl, swung to her anchor without a flutter of\n",
    "the sails, and was at rest.\"\"\"\n",
    "\n",
    "split = sentence.lower().split()\n",
    "\n",
    "print(\"This set has {} items:\".format(len(set(split))), set(split))"
   ]
  },
  {
   "cell_type": "markdown",
   "metadata": {},
   "source": [
    "The two *the*s are now considered to be the same!"
   ]
  },
  {
   "cell_type": "markdown",
   "metadata": {},
   "source": [
    "### Using Regex to Tokenize <a name=\"REtoke\"></a>\n",
    "\n",
    "As you are already beginning to sense, there are a lot of ways to approach breaking a string of characters into a string of words. The first method presented above is the most basic and should be used when first starting out, especially when you pair lowercasing with it -- `.lower().split()` are your new best friends. But at some point you may find that you want a little bit more flexibility in how you handle your text. \n",
    "\n",
    "This next approach still depends upon `.lower().split()`, but before we pass our text to it, we do a bit of cleanup. It's one I have used quite often when making first passes through texts. After a while, you'll find that some bits of regex become part of your toolset, and reveal, as this one does mine, your own interests and concerns. In this case, the regex reveals a particular obsession of mine: I like to keep contractions together. (This reveals my own non-standard training: corpus linguists just take for granted that **`can't`** becomes **`ca`** and **`n't`**, or something else equally weird."
   ]
  },
  {
   "cell_type": "code",
   "execution_count": 3,
   "metadata": {},
   "outputs": [],
   "source": [
    "# We need the regular expression library\n",
    "import re\n",
    "\n",
    "mdg_words = re.sub(\"[^a-zA-Z']\",\" \", mdg).lower().split()"
   ]
  },
  {
   "cell_type": "markdown",
   "metadata": {},
   "source": [
    "A quick walkthrough might help a little:\n",
    "\n",
    "* **`import re`** tells the script to import the regular expression module which comes bundled with every Python installation but doesn't get loaded into our workspace unless we tell it to do so.\n",
    "* **`mdg_words`** is the object we are creating: everything to the right is the process by which we create the object.\n",
    "* We aren't going to discuss the regular expression substitution, **`re.sub()`** that gets done here, except to note that you should read the stuff inside the parentheses like this: `(find this pattern, substitute this, in this text)` -- in this case I am telling it to find things that are **not** (`[^ ]` is called a *negated set*) letters (big and small) or apostrophes and replace them with spaces. \n",
    "* **`.lower()`** is a method you can apply to strings that makes everything lower case -- otherwise \"The\" and \"the\" are two different keys. \n",
    "* **`.split()`** is the string method discussed above and we're using its default setting of splitting on white spaces, of which we have plenty, since we have replaced everything except for letters and apostrophes with white space.\n",
    "\n",
    "The **`split()`** method turns our string into a **list**. In this case, a list of words that are in the same order as they are in the original text. (The computer has no reason to disturb this order.)\n",
    "\n",
    "If we ask how long the list is, we should come back with a reasonably close count of the words -- don't forget we kept apostrophes, and while most are buried inside contractions, there may be some loose apostrophes. "
   ]
  },
  {
   "cell_type": "code",
   "execution_count": 59,
   "metadata": {},
   "outputs": [
    {
     "name": "stdout",
     "output_type": "stream",
     "text": [
      "Words in text: 8017.\n"
     ]
    }
   ],
   "source": [
    "print('Words in text: {}.'.format(len(mdg_words)))"
   ]
  },
  {
   "cell_type": "markdown",
   "metadata": {},
   "source": [
    "As you will discover, or have discovered, a list is a different kind of object than a string, and it has some useful properties. One of the things we can do is **slice** a list. In the command below we are saying we want the first 50 words in the list of words: start at the 0th element and go up to the 50th element. Note how the apostrophe, here as a single quotation mark inside Whitney's response about \"'ship trap island'\", is part of our tokens:"
   ]
  },
  {
   "cell_type": "code",
   "execution_count": 58,
   "metadata": {
    "scrolled": false
   },
   "outputs": [
    {
     "name": "stdout",
     "output_type": "stream",
     "text": [
      "['off', 'there', 'to', 'the', 'right', 'somewhere', 'is', 'a', 'large', 'island', 'said', 'whitney', \"it's\", 'rather', 'a', 'mystery', 'what', 'island', 'is', 'it', 'rainsford', 'asked', 'the', 'old', 'charts', 'call', 'it', \"'ship\", 'trap', 'island', \"'\", 'whitney', 'replied', 'a', 'suggestive', 'name', \"isn't\", 'it', 'sailors', 'have', 'a', 'curious', 'dread', 'of', 'the', 'place', 'i', \"don't\", 'know', 'why']\n"
     ]
    }
   ],
   "source": [
    "print(mdg_words[0:50])"
   ]
  },
  {
   "cell_type": "markdown",
   "metadata": {},
   "source": [
    "### Using NLTK Tokenizers <a name=\"nltktoken\"></a>\n",
    "\n",
    "Whether you develop your own tokenizer somewhere along the way or not is entirely up to you and the nature of the projects which you undertake. You may never find yourself doing so. There are certainly a lot of already available options, a number of which are packaged with the Natural Language Toolkit, more often called by its acronym \"NLTK\", which, by the way, is the same way we call it in Python: \n",
    "\n",
    "```python\n",
    "import nltk\n",
    "```\n",
    "\n",
    "As you saw above, the way we tell Python we want some additional functionality is to tell it to **import** a particular library. Previously, we imported the regular expression library, which is called **`re`**. \n",
    "\n",
    "If we were to run the line above, we would probably wait a few seconds as the NLTK library loaded -- it's quite large. Because it is a large library, and we really don't need all its functionality, most people don't load all of it -- and isn't it cool that we can load only the parts we need! This is handy as you begin to work with larger scripts and larger data sets: keeping your workspace as tidy, and as small, becomes a necessity. And, in some cases, it's actually easier to use certain tools singly and with a particular name."
   ]
  },
  {
   "cell_type": "code",
   "execution_count": 52,
   "metadata": {},
   "outputs": [],
   "source": [
    "# In this instance, we are going to tell Python that we only want \n",
    "# one particular tool from the larger toolkit:\n",
    "\n",
    "from nltk.tokenize import WhitespaceTokenizer"
   ]
  },
  {
   "cell_type": "markdown",
   "metadata": {},
   "source": [
    "NLTK's `WhitespaceTokenizer` is about as basic as it comes -- in fact, in the NLTK documentation, they actually note you might as well use split. It is, so far as I can tell, its output is the same as `.lower().split()` while also keeping contractions together. However, do note that punctuation is kept with words. "
   ]
  },
  {
   "cell_type": "code",
   "execution_count": 54,
   "metadata": {},
   "outputs": [],
   "source": [
    "mdg_tokens = WhitespaceTokenizer().tokenize(mdg.lower())"
   ]
  },
  {
   "cell_type": "markdown",
   "metadata": {
    "slideshow": {
     "slide_type": "slide"
    }
   },
   "source": [
    "Please note that we now have two versions of \"The Most Dangerous Game\" rendered as a list in Python: **`mdg_words`** and **`mdg_tokens`**. We created the former using regex and the latter with the NLTK WhitespaceTokenizer. We could have re-used the former name, and that would have, in effect, replaced the older list with the newer one. Please keep this in mind as you work, and also remember to use sensible names for the objects you create. (The more self-explanatory things are, the better as your code grows.)\n",
    "\n",
    "Now, let's take a look at what kind of object this is, how big it is, and then let's print the first 50 items -- I use 50 as a convenient, quick look, but you can adjust the number down to 25 or up to 100 or some other number that you find more useful. I often change the numbers several times, contracting and expanding as I feel the need."
   ]
  },
  {
   "cell_type": "code",
   "execution_count": 56,
   "metadata": {},
   "outputs": [
    {
     "name": "stdout",
     "output_type": "stream",
     "text": [
      "['\"off', 'there', 'to', 'the', 'right', '--', 'somewhere', '--', 'is', 'a', 'large', 'island,\"', 'said', 'whitney.', '\"it\\'s', 'rather', 'a', 'mystery', '--', '\"', '\"what', 'island', 'is', 'it?\"', 'rainsford', 'asked.', '\"the', 'old', 'charts', 'call', 'it', \"'ship-trap\", 'island,\\'\"', 'whitney', 'replied.', '\"a', 'suggestive', 'name,', \"isn't\", 'it?', 'sailors', 'have', 'a', 'curious', 'dread', 'of', 'the', 'place.', 'i', \"don't\"]\n"
     ]
    }
   ],
   "source": [
    "print(mdg_tokens[0:50])"
   ]
  },
  {
   "cell_type": "markdown",
   "metadata": {
    "slideshow": {
     "slide_type": "slide"
    }
   },
   "source": [
    "What would happen if we were to read the text differently, if we were to read all the words, but this time with the words in alphabetical order?"
   ]
  },
  {
   "cell_type": "code",
   "execution_count": 60,
   "metadata": {},
   "outputs": [
    {
     "name": "stdout",
     "output_type": "stream",
     "text": [
      "['\"', '\"', '\"', '\"', '\"', '\"', '\"', '\"', '\"', '\"', '\"', '\"', '\"a', '\"a', '\"a', '\"a', '\"after', '\"again', '\"ah,', '\"and', '\"and', '\"and', '\"and', '\"and', '\"and', '\"as', '\"as', '\"bah!', '\"better', '\"but', '\"but', '\"but', '\"but', '\"but', '\"but', '\"but', '\"but,', '\"can\\'t', '\"cannibals?\"', '\"civilized?', '\"come,\"', '\"dear', '\"dear', '\"did', '\"did', '\"don\\'t', '\"don\\'t', '\"ennui.', '\"even', '\"follow', '\"for', '\"fractured', '\"general,\"', '\"get', '\"god', '\"good', '\"hardly.', '\"have', '\"he', '\"he', '\"here', '\"how', '\"how', '\"hunting', '\"hunting?', '\"hurled', '\"i', '\"i', '\"i', '\"i', '\"i', '\"i', '\"i', '\"i', '\"i', '\"i', '\"i', '\"i', '\"i', '\"i', '\"i', '\"i', '\"i', '\"i', '\"i', '\"i', '\"i', '\"i', '\"i', '\"i', '\"i', '\"i', '\"i', '\"i', '\"i', '\"i', '\"i', '\"i', '\"i', '\"i\\'ll', '\"i\\'ll', '\"i\\'ll', '\"i\\'ll', '\"i\\'m', '\"i\\'m', '\"i\\'m', '\"i\\'m', '\"i\\'ve', '\"i\\'ve', '\"if', '\"in', '\"is', '\"is', '\"it', '\"it', '\"it', '\"it', '\"it\\'s', '\"it\\'s', '\"it\\'s', '\"it\\'s', '\"ivan', '\"ivan,\"', '\"life', '\"maybe.', '\"mirage,\"', '\"my', '\"my', '\"my', '\"nerve,', '\"no', '\"no', '\"no,', '\"no,\"', '\"no.', '\"nonsense,\"', '\"nor', '\"not', '\"not', '\"not', '\"off', '\"oh,', '\"oh,', '\"oh,', '\"oh,', '\"oh,\"', '\"oh,\"', '\"oh,\"', '\"one', '\"one', '\"perhaps', '\"perhaps,\"', '\"pistol', '\"precisely,\"', '\"pure', '\"rainsford!\"', '\"rainsford,\"', '\"really?\"', '\"right.', '\"simply', '\"so', '\"so', '\"so,\"', '\"sometimes', '\"sorry', '\"splendid!', '\"suppose', '\"swam,\"', '\"thank', '\"thank', '\"that', '\"that', '\"that', '\"that', '\"that', '\"that\\'s', '\"the', '\"the', '\"the', '\"the', '\"the', '\"the', '\"the', '\"there', '\"there', '\"they', '\"they', '\"they', '\"they', '\"this', '\"this', '\"this', '\"tigers?\"', '\"to', '\"tonight,\"', '\"ugh!', '\"watch!', '\"we', '\"we', '\"we', '\"we', '\"we', '\"we\\'ll', '\"well,', '\"what', '\"what', '\"what', '\"what', '\"where', '\"where', '\"why', '\"why?\"', '\"will', '\"yes,', '\"yes,', '\"yes?\"', '\"you', '\"you', '\"you', '\"you', '\"you', '\"you\\'ll', '\"you\\'ll', '\"you\\'re', '\"you\\'ve', '\"you\\'ve', '\"you\\'ve', '\"your', '\"your', \"'ship-trap\", '--', '--', '--', '--', '--', '--', '--', '--', '--', '--', '--', '--', '--', '--', '--', '--', '--', '--', '--', '--', '--', '--', '--', '--', '--', '--', '--', '--', '--', '--', '--', '--', '--', '--', '--', '--', '--', '--', '--', '--', '--', '--', '--', '--', '--', '--', '--', '--', '--', '--', '--', '--', '--', '.', '.', '.', '.', '.', '.', '...', '.the', '`a', \"`don't\", '`it', '`this', '`what', 'a', 'a', 'a', 'a', 'a', 'a', 'a', 'a', 'a', 'a', 'a', 'a', 'a', 'a', 'a', 'a', 'a', 'a', 'a', 'a', 'a', 'a', 'a', 'a', 'a', 'a', 'a', 'a', 'a', 'a', 'a', 'a', 'a', 'a', 'a', 'a', 'a', 'a', 'a', 'a', 'a', 'a', 'a', 'a', 'a', 'a', 'a', 'a', 'a', 'a', 'a', 'a', 'a', 'a', 'a', 'a', 'a', 'a', 'a', 'a', 'a', 'a', 'a', 'a', 'a', 'a', 'a', 'a', 'a', 'a', 'a', 'a', 'a', 'a', 'a', 'a', 'a', 'a', 'a', 'a', 'a', 'a', 'a', 'a', 'a', 'a', 'a', 'a', 'a', 'a', 'a', 'a', 'a', 'a', 'a', 'a', 'a', 'a', 'a', 'a', 'a', 'a', 'a', 'a', 'a', 'a', 'a', 'a', 'a', 'a', 'a', 'a', 'a', 'a', 'a', 'a', 'a', 'a', 'a', 'a', 'a', 'a', 'a', 'a', 'a', 'a', 'a', 'a', 'a', 'a', 'a', 'a', 'a', 'a', 'a', 'a', 'a', 'a', 'a', 'a', 'a', 'a', 'a', 'a', 'a', 'a', 'a', 'a', 'a', 'a', 'a', 'a', 'a', 'a', 'a', 'a', 'a', 'a', 'a', 'a', 'a', 'a', 'a', 'a', 'a', 'a', 'a', 'a', 'a', 'a', 'a', 'a', 'a', 'a', 'a', 'a', 'a', 'a', 'a', 'a', 'a', 'a', 'a', 'a', 'a', 'a', 'a', 'a', 'a', 'a', 'a', 'a', 'a', 'a', 'a', 'a', 'a', 'a', 'a', 'a', 'a', 'a', 'a', 'a', 'a', 'a', 'a', 'a', 'a', 'a', 'a', 'a', 'a', 'a', 'a', 'a', 'a', 'a', 'a', 'a', 'a', 'a', 'a', 'a', 'a', 'a', 'a', 'a', 'a', 'a', 'a', 'a', 'a', 'a', 'a', 'a', 'a', 'a', 'a', 'a', 'a', 'a', 'a', 'a', 'a', 'a', 'a', 'a', 'a', 'a', 'a', 'a', 'a', 'able', 'aboard', 'about', 'about', 'about', 'about', 'about', 'about', 'about', 'about', 'about', 'about', 'about', 'about', 'about', 'about', 'about', 'about', 'about', 'about', 'above', 'above', 'above', 'abrupt', 'abruptly,', 'absorbed', 'accent', 'accustomed', 'achieved', 'aching', 'acknowledge', 'acres', 'across', 'across', 'actually', 'added', 'added,', 'adjusted', 'admitted', 'advanced', 'affable', 'afford', 'afraid,', 'africa', 'africa.', 'after', 'after', 'after', 'after', 'after', 'after', 'after', 'afterdeck.\"', 'afternoon.', 'again', 'again', 'again', 'again', 'again', 'again', 'again', 'again,', 'again.', 'again.', 'again.', 'again.', 'again;', 'against', 'against', 'against', 'against', 'against', 'against', 'against', 'age,', 'agility', 'ago.', 'agree', 'agree', 'agreed', 'ah,', 'ahead', 'ahead.', 'air', 'air', 'air', 'air', 'air;', 'alarmed,\"', 'alertness,', 'all', 'all', 'all', 'all', 'all', 'all', 'all', 'all', 'all', 'all', 'all', 'all', 'all', 'all,', 'all,\"', 'all.', 'almost', 'almost', 'almost', 'almost', 'almost', 'almost', 'almost', 'alone.', 'along', 'along', 'along', 'along', 'along', 'along', 'along,', 'along,', 'along,', 'along.', 'aloud', 'although', 'always', 'always', 'always', 'always', \"always'\", 'always.', 'am', 'am', 'am', 'am', 'am', 'am', 'am', 'am', 'am', 'am,', 'amazon', 'amazon.', 'amended', 'amenities', 'america', 'america,', 'american', 'american', 'americans', 'among', 'amused,', 'amusing', 'an', 'an', 'an', 'an', 'an', 'an', 'an', 'an', 'an', 'an', 'an', 'an', 'an', 'an', 'an', 'an', 'an', 'an', 'an', 'an', 'an', 'an', 'an', 'an', 'an', 'an', 'an', 'an', 'an', 'an', 'an', 'an', 'an', 'an', 'analytical', 'ancestors.', 'and', 'and', 'and', 'and', 'and', 'and', 'and', 'and', 'and', 'and', 'and', 'and', 'and', 'and', 'and', 'and', 'and', 'and', 'and', 'and', 'and', 'and', 'and', 'and', 'and', 'and', 'and', 'and', 'and', 'and', 'and', 'and', 'and', 'and', 'and', 'and', 'and', 'and', 'and', 'and', 'and', 'and', 'and', 'and', 'and', 'and', 'and', 'and', 'and', 'and', 'and', 'and', 'and', 'and', 'and', 'and', 'and', 'and', 'and', 'and', 'and', 'and', 'and', 'and', 'and', 'and', 'and', 'and', 'and', 'and', 'and', 'and', 'and', 'and', 'and', 'and', 'and', 'and', 'and', 'and', 'and', 'and', 'and', 'and', 'and', 'and', 'and', 'and', 'and', 'and', 'and', 'and', 'and', 'and', 'and', 'and', 'and', 'and', 'and', 'and', 'and', 'and', 'and', 'and', 'and', 'and', 'and', 'and', 'and', 'and', 'and', 'and', 'and', 'and', 'and', 'and', 'and', 'and', 'and', 'and', 'and', 'and', 'and', 'and', 'and', 'and', 'and', 'and', 'and', 'and', 'and', 'and', 'and', 'and', 'and', 'and', 'and', 'and', 'and', 'and', 'and', 'and', 'and', 'and', 'and', 'and', 'and', 'and', 'and,', 'and,', 'and,', 'and,', 'and,', 'and,', 'and,', 'and,', 'and,', 'and,', 'anger', 'angry', 'anguish', 'animal', 'animal', 'animal', 'animal', 'animal', 'animal', 'animal', 'animal', 'animal', 'animal', 'animal,', 'animal.', 'animal?', 'animals', 'animals', 'animated', 'annoyances', 'annoying.', 'another', 'another', 'another', 'another', 'another', 'another', 'another', 'another', 'another', 'another', 'answer', 'answer', 'answer', 'answer.\"', 'answered.', 'any', 'any', 'any', 'anyhow,', 'anyone', \"anything?'--\", 'ape.', 'apointments', 'apologetically', 'appear', 'appear', 'appeared', 'appraising', 'apprehensive', 'approaching', 'ardent', 'are', 'are', 'are', 'are', 'are', 'are', 'are', 'are', 'are', 'are', 'are', 'are', 'are', 'are', 'are', 'are', 'are', 'are!', 'are!\"', 'are,', 'aristocrat.', 'arm', 'armed', 'arms', 'army', 'as', 'as', 'as', 'as', 'as', 'as', 'as', 'as', 'as', 'as', 'as', 'as', 'as', 'as', 'as', 'as', 'as', 'as', 'as', 'as', 'as', 'as', 'as', 'as', 'as', 'as', 'as', 'as', 'as', 'as', 'as', 'as', 'as', 'as', 'as', 'as', 'as', 'as', 'as', 'as', 'as', 'as', 'as', 'as', 'as', 'as', 'as', 'as', 'as', 'as', 'as', 'as', 'ask', 'asked', 'asked', 'asked.', 'asked.', 'assure', 'astonishment', 'astrakhan.', 'at', 'at', 'at', 'at', 'at', 'at', 'at', 'at', 'at', 'at', 'at', 'at', 'at', 'at', 'at', 'at', 'at', 'at', 'at', 'at', 'at', 'at', 'at', 'at', 'at', 'at', 'at', 'ate', 'ate', 'attention', 'attention.', 'attributes', 'au', 'au', 'aurelius.', 'automatic', 'automatically', 'avoid', 'awakened', 'away', 'away', 'away', 'away,', 'away,', 'away.', 'back', 'back', 'back', 'back', 'back', 'back', 'back,', 'back.', 'back.', 'back.', 'back.\"', 'back?', 'bad', 'bad', 'balance.', 'balanced', 'barbarous.', 'bark', 'baronial', 'bay', 'bay,\"', 'baying', 'baying', 'baying', 'be', 'be', 'be', 'be', 'be', 'be', 'be', 'be', 'be', 'be', 'be', 'be', 'be', 'be', 'be', 'be', 'be', 'be', 'be', 'be', 'be', 'be', 'be', 'be', 'be', 'be', 'be,', 'beam-ceilinged', 'bear', 'beard', 'bearded', 'bears;', 'beast', 'beaten', 'beaver,', 'became', 'become', 'bed', 'bed', 'bed', 'bed,', 'bed,', 'bed.', 'bedroom', 'bedroom.', 'been', 'been', 'been', 'been', 'been', 'been', 'been', 'been', 'been', 'been', 'been', 'been', 'been', 'before', 'before', 'before', 'before', 'before', 'before', 'before', 'before.', 'beg', 'began', 'began', 'began', 'began', 'began', 'began', 'began', 'beggars.', 'begin', 'beginning', 'beginning', 'behind', 'behind', 'behind', 'being,', 'being.', 'believe', 'believe', 'believe', 'below', 'below', 'below,', 'belt,', 'beneath', 'beneath', 'bent', 'bergere.', 'best', 'best', 'best', 'better', 'between', 'between', 'bewilderment', 'big', 'big', 'big', 'big', 'big', 'big', 'big,', 'big-game', 'biggest.\"', 'bird', 'bit', 'bit', 'bit', 'bit', 'bit', 'bit', 'bit.', 'bitterly', 'bizarre', 'black', 'black', 'black', 'black', 'black', 'black', 'black', 'black', 'black', 'black', 'black', 'black,', 'black.', 'blacking', 'blackness', 'blackness,', 'blackness,', 'blacks,', 'blade', 'blade', 'blandly.', 'blanket.', 'bleak', 'blew', 'blinking', 'blood-warm', 'bloodhound', 'blotted', 'blow', 'blue', 'blue', 'blue-green', 'bluff,', 'blunder', 'boast;', 'book', 'books', 'booming', 'boots', 'boots.', 'bore', 'bore', 'bored', 'boredom.\"', 'borsch,', 'both', 'bottle', 'bottle', 'bottle', 'bottle.', 'bottom', 'bough', 'bought', 'bow,', 'bows.', 'braggart,', 'brain', 'brain', 'brain', 'brains', 'branches', 'branches', 'branches', 'branches,', 'brandy', 'breakfast.\"', 'breaking', 'breaking', 'breath', 'breath.', 'breath.', 'breeze', 'breeze.', 'brier.', 'bright.', 'brightened.', 'bring', 'broad', 'broad', 'broadcast', 'brought', 'brought', 'brought', 'brought', 'brought', 'brown', 'brown', 'bruised', 'brute', 'brute.\"', 'buffalo', 'buffalo', 'buffalo', 'buffalo', 'building', 'built', 'burmese', 'burst', 'bush', 'bush', 'bush', 'bush,', 'business', 'businesslike', 'businessmen', 'but', 'but', 'but', 'but', 'but', 'but', 'but', 'but', 'but', 'but', 'but', 'but', 'but', 'but', 'but', 'but', 'but', 'but', 'but', 'but', 'but', 'but', 'but', 'but', 'but', 'but', 'but', 'but', 'but', 'but', 'but', 'but', 'but', 'but', 'but', 'but', 'but', 'but', 'but', 'but', 'but,', 'butterfly.', 'button,', 'by', 'by', 'by', 'by', 'by', 'by', 'by', 'by', 'by', 'by', 'by', 'by', 'by', 'by', 'by', 'by', 'by', 'by', 'by', 'by', 'by', 'by', 'by', 'by', 'by,', 'caliber', 'call', 'call', 'call', 'called', 'called', 'called', 'called,', 'called.', 'calm', 'came', 'came', 'came', 'came', 'came', 'came', 'came', 'came', 'came', 'came,', 'came.', 'can', 'can', 'can', 'can', 'can', 'can', 'can', 'can', 'can', 'can', 'can', 'can', 'can', \"can't\", \"can't\", \"can't\", \"can't\", \"can't\", 'can,', 'can.\"', 'cannibals', 'canopied', 'cape', 'cape', 'cape', 'cape', 'capital', 'captain', 'care', 'carefully,', 'carelessly', 'cares', 'caribbean', 'caribbean', 'carlo', 'carpet', 'carried', 'carried', 'cartridge.', 'case', 'case', 'case', 'casually,', 'cat', 'cat', 'cat;', 'caucasus', 'caught', 'caught', 'cavalry,', 'ceased', 'ceased', 'ceiling,', 'celebrated', 'cellar.', 'certain', 'certainty.', 'chablis', 'chablis,', 'chair,', 'chambertin.', 'champagne', 'chance', 'chance', 'chance', 'chance', 'chance', 'change.', 'channel,\"', 'charge', 'charts', 'chase.\"', 'chateau', 'chateau', 'chateau.', 'chateau;', 'chatting', 'check.', 'cheekbones,', 'cheerfully', 'cheerfully.', 'chess!', 'chest.', 'chill.', 'chill;', 'china.', 'chinese,', 'choice', 'choose', 'chuckled.', 'cigarette', 'cigarette', 'cigarette,', 'cigarette.', 'cigarette.', 'cigarette.', 'cigarettes;', 'city.\"', 'civilization', 'civilized', 'civilized', 'claimed', 'class,', 'classes', 'clear', 'clearheaded', 'clearly,', 'click', 'cliff', 'cliffs', 'cliffs.', 'climbed', 'climbed', 'climbed', 'climbed', 'cliquot,', 'closed', 'closed.', 'closely', 'closely', 'closing', 'clothes', 'clothes', 'clothes,', 'clothes,', 'clothes,', 'clothes.', 'coast', 'cocked', 'cocktail', 'cocktail,', 'coffee.', 'cold', 'cold-blooded', 'collection', 'come', 'come', 'come', 'come', 'come', 'come', 'come,', 'come,', 'come.', 'come.', 'come.', 'come.', 'coming', 'coming', 'coming', 'coming', 'coming', 'coming', 'coming;', 'commanded', 'company', 'compared', 'compares', 'complaint.\"', 'complicated', 'complimented', 'concealment.', 'concentration', 'concern', 'condition.', 'condone', 'conducted', 'confidence', 'congratulate', 'congratulate', 'conserving', 'consideration.', 'containing', 'continued', 'continued', 'coolheadedness', 'corner', 'corner', 'corridor', 'cosmopolite.', 'cossack', 'cossack', 'cossack', 'cossack', 'cossack', 'cossack', 'cossack,\"', 'cossack.', 'could', 'could', 'could', 'could', 'could', 'could', 'could', 'could', 'could', 'could', 'could', 'could', 'could', 'could', 'could', 'could', 'could', 'could', 'could', 'could', 'could', 'count', 'country', 'country,', 'courage,', 'course', 'course,', 'course,', 'course.', 'course.', 'courtly', 'courtyard', 'courtyard.', 'courtyard.', 'cove', 'cover', 'covered', 'cowered', 'cr^epes', 'crackle', 'crags', 'crashed', 'crawled', 'creaked', 'cream', 'creature,', \"crew's\", 'cried', 'cries', 'crimea,', 'crimson', 'crimson.', 'crisp,', 'crocodiles', 'crook', 'crossed', 'crotch,', 'crouch', 'crouched', 'crouching', 'crush', 'crush', 'crushed', 'crushed', 'cry', 'cry', 'cry', 'cry', 'cry', 'cry', 'crystal,', 'cultivated', 'cunning,', 'cunning.', 'curious', 'curious', 'curtains', 'cut', 'cut', 'cut', 'cut', 'czar', 'czar,', 'danger', 'danger,', 'danger.', 'danger.', 'dangerous', 'dangerous', 'dangerous', 'dangerous.\"', 'dank', 'dark', 'dark', 'dark,', 'dark,\"', 'dark.', 'dark.', 'darkness', 'darkness', 'darkness,', 'darkness,', 'darkness,', 'dashed', 'date', 'day', \"day's\", 'day,', 'day,\"', 'daybreak', 'days', 'days,', 'days.', 'dead', 'dead', 'dead', 'dead', 'dead', 'deaf', 'dear', 'dear', 'dear', 'dear', 'death', 'death', 'death.', 'death.\"', 'debacle', 'decided.', 'deck', 'declared', 'deep,', 'deeper;', 'deepest', 'deepest', 'defeat', 'delay', 'deliberate', 'deliberately', 'deliberateness,', 'delicately', 'delicately', 'deliciously', 'dense', 'denser;', 'deplorable', 'desperate,', 'desperately', 'detected', 'determined', 'devil', 'devil', 'devil', 'did', 'did', 'did', 'did', 'did', 'did', 'did', 'did', 'did', 'did', 'did', 'did', 'did', 'did', 'did', 'did', \"didn't\", 'died,', 'difficult', 'difficult', 'dig.', 'digging', 'dimly,', 'dingy', 'dining', 'dining', 'dinner', 'dinner', 'dinner', 'direction', 'direction', 'direction,', 'direction.', 'disappointed.', 'disarming.', 'discerned', 'discuss', 'discuss', 'distance', 'distant', 'dived', 'diverting', 'division', 'do', 'do', 'do', 'do', 'do', 'do', 'do', 'do', 'do', 'do', 'do', 'do', 'do', 'do', 'do', 'do', 'do,\"', 'dodges', 'does', 'does', 'does,\"', \"doesn't\", 'doggedly', 'dogs.', 'dogs.\"', 'dogs?\"', \"don't\", \"don't\", \"don't\", \"don't\", 'done', 'done', 'door', 'door', 'door', 'door', 'door;', 'dosed', 'doubled', 'doubt,', 'doubt.', 'doubtless', 'doubtless', 'down', 'down', 'down', 'down', 'down', 'down', 'down', 'down', 'down', 'down', 'down', 'down', 'down', 'down', 'down', 'down', 'down', 'down', 'down', 'down', 'down,', 'down.', 'doze', 'dozen', 'dozen', 'dozen', 'dragged', 'drawing', 'dread', 'dread.\"', 'dressed', 'dressed', 'dressed;', 'drew', 'drew', 'drink', 'drink', 'drive', 'driven', 'droll', 'drop', 'dropped', 'dropped', 'drove', 'drowsiness', 'dug', 'duke.', 'dull', 'dumb.', 'dusk', 'dusk.', 'dusty', 'eagerly', 'ears', 'ears,', 'earth', 'earth,', 'earth:', 'easier', 'easily', 'east', 'easy.', 'eat.', 'eating', 'edge', 'edge', 'edges', 'educated', 'effort', 'effort,', 'effort,', 'eh?', 'eh?\"', 'electric', 'electricity.', 'elementary', 'elephants,', 'elevation;', 'eludes', 'empty', 'end,', 'endless', 'enemy,', 'energy.', 'engine', 'english,', 'enjoy', 'enjoyment.', 'enormous', 'enough', 'enough', 'enough;', 'enough;', 'enough;', 'enthusiastically.', 'entire', 'entirely', 'entirely', 'entirely', 'erect,', 'escaped', 'escaped', 'even', 'even', 'even', 'even', 'even', 'even', 'even', 'even', 'even', 'even', 'evening', 'evening', 'evening.', 'evening.\"', 'eventually', 'ever', 'ever', 'ever', 'ever', 'ever', 'ever-vanishing', 'every', 'every', 'every', 'every', 'every', 'every', 'every', 'everything.', 'evidence,', 'evident', 'evil', 'evil', 'evil', 'evil.', 'examined', 'exceedingly', 'excellent', 'excellent', 'excessively', 'excitedly', 'exciting', 'exciting', 'exclaimed', 'excuse', 'excuse', 'executed', 'exercise.', 'exhausted', 'expanse', 'expect', 'expect', 'expectantly,', 'expected', 'experiences', 'expert', 'explained', 'explained', 'explained:', 'expressed', 'extra', 'extraordinarily', 'extremely', 'extremely', 'extremity', 'eye', 'eyebrows', 'eyebrows;', 'eyelid', 'eyelids', 'eyes', 'eyes', 'eyes', 'eyes', 'eyes', 'eyes', 'eyes', 'eyes', 'eyes', 'eyes', 'eyes', 'eyes', 'eyes', 'eyes', 'eyes,', 'eyes,', 'eyes,', 'eyes,', 'eyes,\"', 'eyes.', 'eyes;', 'fable.\"', 'face', 'face', 'face', 'face', 'face', 'face', 'face', 'face', 'face', 'face', 'face.', 'face.', 'face.', 'faced', 'failed', 'failed.', 'faint', 'faint', 'faint', 'faint,', 'fainter', 'fainter.', 'fair', 'fairly', 'fall', 'fall,', 'fall.', 'fall;', 'fallen', 'far', 'far', 'far', 'far', 'far', 'far', 'fascinated', 'fashion,', 'fashion.', 'fastened', 'father', 'faultlessly', 'favorite', 'fear', 'fear', 'fear', 'fear.', 'fear.', 'fear.', 'fear.\"', 'feel', 'feel', 'feel', 'feel', 'feel', 'feeling', 'feeling', 'feeling', 'feelings,', 'feels.', 'feels?\"', 'feet', 'feet', 'feet', 'feet', 'feet', 'feet', 'feet.', 'feet.', 'fell', 'fell', 'fell;', 'fellow', 'fellow', 'fellow,', 'fellow,\"', 'fellow,\"', 'fellow,\"', 'fellow,\"', 'fellow.', 'felt', 'felt', 'feudal', 'few', 'fiber', 'fifty', 'fight.', 'figure', 'figure', 'filet', 'filled', 'filled', 'find', 'find', 'find', 'find', 'find', 'find', 'find', 'finding', 'finding', 'fine', 'finest', 'finest', 'fingers', 'finished', 'finished', 'finished', 'fired', 'fireflies;', 'firmly,', 'first', 'first', 'first', 'first', 'first', 'first', 'first', 'first', 'fishy', 'fit', 'five', 'fixed', 'flash', 'flask,', 'flat', 'flat', 'flattened', 'flee.', 'flickering', 'flight', 'flight', 'flight', 'flight,', 'floated', 'floor', 'floundered', 'flung', 'flushed', 'fluttered', 'flying', 'focused', 'foeman', 'folies', 'follow', 'follow', 'follow', 'follow', 'follow,', 'follow,\"', 'followed', 'followed', 'following', 'following', 'food', 'food', 'food,', 'food,', 'food,', 'food,', 'food,\"', 'foolish', 'foot', 'foot', 'foot', 'foot', 'foot.', 'for', 'for', 'for', 'for', 'for', 'for', 'for', 'for', 'for', 'for', 'for', 'for', 'for', 'for', 'for', 'for', 'for', 'for', 'for', 'for', 'for', 'for', 'for', 'for', 'for', 'for', 'for', 'for', 'for', 'for', 'for', 'for', 'for', 'for', 'for', 'for', 'for', 'for', 'for', 'for', 'for', 'for', 'for', 'for', 'for', 'for', 'for', 'for', 'for', 'for', 'forbidding', 'force;', 'forced', 'forced', 'forced', 'ford,', 'forehead', 'forged', 'forget', 'forgive', 'forms;', 'forth', 'forward', 'forward,', 'fought', 'fought', 'found', 'found', 'found', 'found', 'found', 'found', 'found,', 'founded.\"', 'four', 'four', 'four', 'fox', 'fox,', 'fox.', 'fragment', 'frame', 'frame.', 'france', 'frantically.', 'free', 'french,', 'fresh', 'fresh', 'fresh', 'friend,\"', 'fringed', 'from', 'from', 'from', 'from', 'from', 'from', 'from', 'from', 'from', 'from', 'from', 'from', 'from', 'from', 'from', 'from', 'from', 'from', 'from', 'from', 'from', 'from', 'from', 'from', 'from', 'from', 'from', 'from', 'from', 'from', 'from', 'from', 'from', 'from', 'from', 'from', 'from', 'from', 'from', 'front', 'froze', 'full', 'function.', 'furnish', 'futile;', 'gag', 'game', 'game', 'game', 'game', 'game', 'game', 'game,', 'game.', 'game.\"', 'game.\"', 'game.\"', 'game.\"', 'ganges,', 'gap', 'gap.', 'gargoyle', 'gasped', 'gasping,', 'gate.', 'gates', 'gave', 'gave', 'gave', 'gave', 'gave', 'gave', 'general', 'general', 'general', 'general', 'general', 'general', 'general', 'general', 'general', 'general', 'general', 'general', 'general', 'general', 'general', 'general', 'general', 'general', 'general', 'general', 'general', 'general', 'general', 'general', 'general', 'general', 'general', 'general', 'general', 'general', 'general', 'general', 'general', 'general', 'general', 'general', 'general', 'general', 'general', 'general', 'general', 'general', 'general', 'general', 'general', 'general', 'general', 'general', 'general', 'general', 'general', 'general', 'general', 'general', 'general', 'general', 'general', 'general', 'general', 'general', 'general', 'general', 'general', 'general', 'general', \"general's\", \"general's\", \"general's\", \"general's\", \"general's\", \"general's\", \"general's\", \"general's\", \"general's\", 'general,', 'general,', 'general,', 'general,', 'general,', 'general,', 'general,', 'general,', 'general,', 'general,', 'general,', 'general,', 'general,', 'general,', 'general,', 'general,', 'general,\"', 'general.', 'general.', 'general.', 'general.', 'general.', 'general.', 'general.', 'general.', 'general.', 'general.', 'general.', 'general.', 'general.\"', 'general?\"', 'gentleman', 'genuine', 'get', 'get', 'get', 'get', 'get', 'get', 'get', 'get', 'get', 'getting', 'giant', 'giant', 'giant', 'giant', 'giant', 'giant', 'giant', 'giant.', 'gift?', 'gigantic', 'give', 'give', 'give', 'give', 'give', 'give', 'give', 'given', 'given', 'gives', 'giving', 'glad', 'glad', 'glance', 'glancing', 'glaring', 'glass', 'glass', 'glass', 'glass,', 'glasses,', 'glittered', 'glittering', 'gloom.', 'gloomy', 'go', 'go', 'go', 'go', 'go', 'go', 'go', 'go', 'go', 'go', 'god', \"god's\", 'god-forsaken', 'going', 'going', 'going', 'going.', 'gold', 'gold', 'gone,', 'good', 'good', 'good', 'good', 'good', 'good', 'good', 'good', 'good', 'good', 'good,', 'good,', 'good;', 'got', 'got', 'got', 'gotten', 'grape.', 'grapevine', 'grass,', 'gravely,', 'gray', 'gray', 'gray', 'great', 'great', 'great', 'great', 'great', 'great', 'great', 'great', 'greater', 'greater', 'greedy', 'green', 'greenly.', 'grew', 'grew', 'grew', 'grew', 'grew', 'grinding', 'grip', 'grip.', 'gripping', 'grisly', 'grizzliest', 'grotesque', 'ground', 'ground', 'ground', 'ground', 'ground', 'ground.', 'grow', 'growling', 'guard,', 'guess', 'guest', 'gun', 'gun,', 'gun.', 'guns', 'guns,', 'had', 'had', 'had', 'had', 'had', 'had', 'had', 'had', 'had', 'had', 'had', 'had', 'had', 'had', 'had', 'had', 'had', 'had', 'had', 'had', 'had', 'had', 'had', 'had', 'had', 'had', 'had', 'had', 'had', 'had', 'had', 'had', 'had', 'had', 'had', 'had', 'had', 'had', 'had', 'had', 'had', 'had', 'had', 'had', 'had', 'had', 'had', 'had', 'had', 'had', 'had', 'had', 'had', 'had', 'had', 'had', 'had', 'had', 'had', 'had', 'had', 'had', 'had', 'had', 'had', 'had', 'had', 'had.', \"hadn't\", 'hair', 'half', 'half', 'hall', 'hall', 'hall', 'hammer', 'hand', 'hand', 'hand', 'hand', 'hand', 'hand', 'hand,', 'hand.', 'hand.', 'hand.', 'hand.', 'hands', 'hands', 'hands', 'handsome;', 'harbors', 'hard', 'hardly', 'hardly', 'hardwood', 'has', 'has', 'has', 'has', 'has', 'has', 'has', 'has', 'has', 'hastily:', 'have', 'have', 'have', 'have', 'have', 'have', 'have', 'have', 'have', 'have', 'have', 'have', 'have', 'have', 'have', 'have', 'have', 'have', 'have', 'have', 'have', 'have', 'have', 'have', 'have', 'have', 'have', 'have', 'have', 'have', 'have', 'have', 'have', 'have', 'have', 'have', 'have', 'have', 'have', 'have', 'have.', 'haversack', 'he', 'he', 'he', 'he', 'he', 'he', 'he', 'he', 'he', 'he', 'he', 'he', 'he', 'he', 'he', 'he', 'he', 'he', 'he', 'he', 'he', 'he', 'he', 'he', 'he', 'he', 'he', 'he', 'he', 'he', 'he', 'he', 'he', 'he', 'he', 'he', 'he', 'he', 'he', 'he', 'he', 'he', 'he', 'he', 'he', 'he', 'he', 'he', 'he', 'he', 'he', 'he', 'he', 'he', 'he', 'he', 'he', 'he', 'he', 'he', 'he', 'he', 'he', 'he', 'he', 'he', 'he', 'he', 'he', 'he', 'he', 'he', 'he', 'he', 'he', 'he', 'he', 'he', 'he', 'he', 'he', 'he', 'he', 'he', 'he', 'he', 'he', 'he', 'he', 'he', 'he', 'he', 'he', 'he', 'he', 'he', 'he', 'he', 'he', 'he', 'he', 'he', 'he', 'he', 'he', 'he', 'he', 'he', 'he', 'he', 'he', 'he', 'he', 'he', 'he', 'he', 'he', 'he', 'he', 'he', 'he', 'he', 'he', 'he', 'he', 'he', 'he', 'he', 'he', 'he', 'he', 'he', 'he', 'he', 'he', 'he', 'he', 'he', 'he', 'he', 'he', 'he', 'he', 'he', 'he', 'he', 'he', 'he', 'he', 'he', 'he', 'he', 'he', 'he', 'he', 'he', 'he', 'he', 'he', 'he', 'he', 'he', 'he', 'he', 'he', 'he', 'he', 'he', 'he', 'he', 'he', 'he', 'he', 'he', 'he', 'he', 'he', 'he', 'he', 'he', 'he', 'he', 'he', 'he', 'he', 'he', 'he', 'he', 'he', 'he', 'he', 'he', 'he', 'he', 'he', 'he', 'he', 'he', 'he', 'he', 'he', 'he', 'he', 'he', 'he', 'he', 'he', 'he', 'he', 'he', 'he', 'he', 'he', 'he', 'he', 'he', 'he', 'he', 'he', 'he', 'he', 'he', 'he', 'he', 'he', 'he', 'he', 'he', 'he', 'he', 'he', 'he', 'he', 'he', 'he', 'he', 'he', 'he', 'he', 'he', 'he', 'he', 'he', 'he', 'he', 'he', 'head', 'head.', 'head.', 'head.', 'headache', 'headed', 'headlong', 'heads', 'heads', 'heads.', 'headway;', 'health.', 'heard', 'heard', 'heard', 'heard', 'heard', 'heard', 'heard', 'heard', 'heard', 'heard', 'heard', 'heard', 'heard', 'heard', 'heard', 'heard', 'heard', 'heard', 'heard,', 'heart', 'heart,', 'heart.', 'heavily', 'heavy', 'heel', 'heels', 'held', 'held', 'held', 'held', 'held', 'held', 'held', 'help', 'helping', 'hence', 'here', 'here', 'here', 'here', 'here,\"', 'here.', 'here.', 'here.\"', 'here.\"', 'here?\"', 'hesitated.', 'hiding', 'hiding', 'high', 'high', 'high', 'high', 'high', 'high', 'high-powered', 'hills,', 'him', 'him', 'him', 'him', 'him', 'him', 'him', 'him', 'him', 'him', 'him', 'him', 'him', 'him', 'him', 'him', 'him', 'him', 'him', 'him', 'him', 'him', 'him', 'him', 'him', 'him', 'him', 'him', 'him', 'him', 'him', 'him', 'him', 'him', 'him!', 'him\"', 'him,', 'him,', 'him,', 'him,', 'him,', 'him,', 'him.', 'him.', 'him.', 'him.', 'him.', 'him.', 'him.', 'him.', 'him.', 'him.', 'him.\"', 'him;', 'him;', 'himself', 'himself', 'himself', 'himself', 'himself', 'himself', 'himself', 'himself', 'himself', 'himself', 'himself', 'himself', 'himself', 'himself', 'himself', 'himself', 'himself,', 'himself,', 'himself,', 'himself;', 'his', 'his', 'his', 'his', 'his', 'his', 'his', 'his', 'his', 'his', 'his', 'his', 'his', 'his', 'his', 'his', 'his', 'his', 'his', 'his', 'his', 'his', 'his', 'his', 'his', 'his', 'his', 'his', 'his', 'his', 'his', 'his', 'his', 'his', 'his', 'his', 'his', 'his', 'his', 'his', 'his', 'his', 'his', 'his', 'his', 'his', 'his', 'his', 'his', 'his', 'his', 'his', 'his', 'his', 'his', 'his', 'his', 'his', 'his', 'his', 'his', 'his', 'his', 'his', 'his', 'his', 'his', 'his', 'his', 'his', 'his', 'his', 'his', 'his', 'his', 'his', 'his', 'his', 'his', 'his', 'his', 'his', 'his', 'his', 'his', 'his', 'his', 'his', 'his', 'his', 'his', 'his', 'his', 'his', 'his', 'his', 'his', 'his', 'his', 'his', 'his', 'his', 'his', 'his', 'his', 'his', 'his', 'his', 'his', 'his', 'his', 'his', 'his', 'his', 'his', 'his', 'his', 'his', 'his', 'his', 'his', 'his', 'his', 'his', 'his', 'his', 'his', 'his', 'his', 'his', 'his', 'his', 'his', 'his', 'his', 'his', 'his', 'hissed.', 'hit', 'hit', 'hoarse', 'hoarse', 'hogshead', 'hold', 'hold', 'holding', 'home', 'home.\"', 'honor', 'honor', 'hope', 'hope', 'hope', 'hope', 'hope,\"', 'hoped', 'hoped', 'hopeless', 'horror', 'horse', 'host', 'host,', 'hot', 'hothouse', 'hotly', 'hotly.', 'hound', 'hound', 'hounds', 'hounds', 'hounds', 'hounds', 'hounds,', 'hounds.', 'hounds.', 'hounds.', 'hounds.', \"hours'\", 'hours.', 'hours.', 'house', 'house,', 'how', 'how', 'how', 'how', 'how', 'how', 'huge', 'huge', 'huge', 'huge,', 'human', 'hummed', 'hummed', 'hundred', 'hundred', 'hundred', 'hundred', 'hung', 'hunger', 'hungry.\"', 'hunt', 'hunt', 'hunt', 'hunt', 'hunt', 'hunt', 'hunt,', 'hunt,', 'hunt,', 'hunt,', 'hunt,', 'hunt,\"', 'hunt,\"', 'hunt.', 'hunt.', 'hunt.\"', 'hunt.\"', 'hunt.\"', 'hunted', 'hunted', 'hunted', 'hunted?\"', 'huntees.', 'hunter', 'hunter', 'hunter', 'hunter', 'hunter', 'hunter', 'hunter,', 'hunter,', 'hunter,', 'hunter,\"', 'hunter.', 'hunters', 'hunters.', 'hunting', 'hunting', 'hunting', 'hunting', 'hunting', 'hunting', 'hunting', 'hunting', 'hunting', 'hunting', 'hunting', 'hunting', 'hunting', 'hunting', 'hunting', 'hunting', 'hunting', 'hunting', 'hunting,', 'hunting,', 'hunting.', 'hunting.', 'hunting.', 'hunting.\"', 'hunting.\"', 'hunting?', 'hurl', 'hurried', 'hurrying', 'hurt.', 'huskily.', 'i', 'i', 'i', 'i', 'i', 'i', 'i', 'i', 'i', 'i', 'i', 'i', 'i', 'i', 'i', 'i', 'i', 'i', 'i', 'i', 'i', 'i', 'i', 'i', 'i', 'i', 'i', 'i', 'i', 'i', 'i', 'i', 'i', 'i', 'i', 'i', 'i', 'i', 'i', 'i', 'i', 'i', 'i', 'i', 'i', 'i', 'i', 'i', 'i', 'i', 'i', 'i', 'i', 'i', 'i', 'i', 'i', 'i', 'i', 'i', 'i', 'i', 'i', 'i', 'i', 'i', 'i', 'i', 'i', 'i', 'i', 'i', 'i', 'i', 'i', 'i', 'i', 'i', 'i', 'i', 'i', 'i', 'i', 'i', 'i', 'i', 'i', 'i', 'i', 'i', 'i', 'i', 'i', 'i', 'i', 'i', 'i', 'i', 'i', 'i', 'i', 'i', 'i', 'i', 'i', 'i', 'i', 'i', 'i', 'i', 'i', 'i', 'i', 'i', 'i', 'i', 'i', \"i'll\", \"i'll\", \"i'll\", \"i'll\", \"i'll\", \"i'll\", \"i'm\", \"i'm\", \"i'm\", \"i'm\", \"i'm\", \"i've\", \"i've\", 'i,', 'i,', 'i,\"', 'i.\"', 'i.\"', 'idea', 'idea', 'idea', 'idea.', 'ideal', 'ideal', 'ideas', 'ideas', 'if', 'if', 'if', 'if', 'if', 'if', 'if', 'if', 'if', 'if', 'if', 'if', 'if', 'if', 'if', 'if', 'if', 'if', 'if', 'if', 'if', 'ill', 'illumination', 'imagination,\"', 'imagine', 'imperative', 'imported,', 'impossible', 'impression', 'imprudent', 'impulse', 'impulse', 'in', 'in', 'in', 'in', 'in', 'in', 'in', 'in', 'in', 'in', 'in', 'in', 'in', 'in', 'in', 'in', 'in', 'in', 'in', 'in', 'in', 'in', 'in', 'in', 'in', 'in', 'in', 'in', 'in', 'in', 'in', 'in', 'in', 'in', 'in', 'in', 'in', 'in', 'in', 'in', 'in', 'in', 'in', 'in', 'in', 'in', 'in', 'in', 'in', 'in', 'in', 'in', 'in', 'in', 'in', 'in', 'in', 'in', 'in', 'in', 'in', 'in', 'in', 'in', 'in', 'in', 'in', 'in', 'in', 'in', 'in', 'in', 'in', 'in', 'in', 'in', 'in', 'in', 'in', 'in', 'in', 'in', 'in', 'in', 'in', 'in', 'in', 'in', 'in', 'in', 'in', 'in', 'in', 'in', 'in', 'in', 'in', 'in', 'in', 'in', 'in', 'in', 'in', 'in', 'in', 'in', 'in.', 'incense-like', 'incense.', 'inch', 'inch', 'incredibly', 'indeed?\"', 'indicate', 'indolently', 'inevitable.', 'inevitably', 'inferior', 'injured', 'inquired', 'insane', 'insects', 'inspiration', 'inspiration.', 'instant.', 'instinct', 'instinct.', 'intent', 'interest', 'interest', 'interesting,', 'into', 'into', 'into', 'into', 'into', 'into', 'into', 'into', 'into', 'into', 'into', 'into', 'into', 'into', 'into', 'intricate', 'invariably', 'invariably,', 'invent', 'invented', 'invested', 'iron', 'is', 'is', 'is', 'is', 'is', 'is', 'is', 'is', 'is', 'is', 'is', 'is', 'is', 'is', 'is', 'is', 'is', 'is', 'is', 'is', 'is', 'is', 'is', 'is', 'is', 'is', 'is', 'is', 'is', 'is', 'is', 'is', 'is', 'is', 'island', 'island', 'island', 'island', 'island', 'island', 'island', 'island,\"', 'island,\"', 'island,\\'\"', 'island.', 'island.', 'island.\"', 'island?\"', \"isn't\", \"isn't\", 'it', 'it', 'it', 'it', 'it', 'it', 'it', 'it', 'it', 'it', 'it', 'it', 'it', 'it', 'it', 'it', 'it', 'it', 'it', 'it', 'it', 'it', 'it', 'it', 'it', 'it', 'it', 'it', 'it', 'it', 'it', 'it', 'it', 'it', 'it', 'it', 'it', 'it', 'it', 'it', 'it', 'it', 'it', 'it', 'it', 'it', 'it', 'it', 'it', 'it', 'it', 'it', 'it', 'it', 'it', 'it', 'it', 'it', 'it', 'it', 'it', 'it', 'it', 'it', 'it', 'it', 'it', 'it', 'it', 'it', 'it', 'it', \"it's\", \"it's\", \"it's\", \"it's\", \"it's\", \"it's\", 'it,', 'it,', 'it,', 'it,\"', 'it.', 'it.', 'it.', 'it.', 'it.', 'it.', 'it.', 'it.', 'it.\"', 'it;', 'it;', 'it?', 'it?\"', 'it?\"', 'its', 'its', 'its', 'its', 'its', 'its', 'its', 'its', 'its', 'its', 'its', 'ivan', 'ivan', 'ivan', 'ivan', 'ivan', 'ivan', 'ivan\\'s?\"', 'ivan,', 'ivan,', 'ivan,', 'ivan.', 'ivan.', 'ivan;', 'jagged', 'jaguar', 'jaguar', 'jaguar', 'jaguar.\"', 'jaguars,', 'jaws.', 'job', 'joke', 'joke.\"', 'joking.\"', 'joy,', 'jumpy', 'jungle', 'jungle', 'jungle', 'jungle', 'jungle', 'jungle', 'jungle', 'jungle,', 'jungle.', 'jungle.', 'jungle.\"', 'jungle.\"', 'jungles', 'just', 'just', 'just', 'just', 'just', 'jut', 'keep', 'keep', 'kept', 'khaki', 'killed', 'killed.\"', 'kind', 'kind', 'kind,', 'kind,\"', 'kings,', 'knees', 'knew', 'knew', 'knew', 'knew', 'knew', 'knew', 'knew', 'knew', 'knew', 'knew', 'knife', 'knife,', 'knife,', 'knife.', 'knife.', 'knife.', 'knife;', 'knit', 'knocked', 'knocker', 'knocker,', 'knocker,', 'knouter', 'know', 'know', 'know', 'know', 'know.', 'know.', 'lacerated;', 'laid', 'laid', 'land.', 'landed,', 'lapses.', 'large', 'large', 'large', 'larger', 'largest', 'largest', 'lashed', 'lassars,', 'last', 'last', 'last', 'last,', 'last.\"', 'late', 'later.', 'laugh', 'laugh', 'laugh,', 'laughed', 'laughed', 'laughter', 'lay', 'lay,', 'lay;', 'lazarus', 'lazarus;', 'lean', 'leaned', 'leaned', 'leaped', 'leaped', 'leaped', 'leaped', 'learn', 'learned', 'leash.', 'least,\"', 'leather', 'leave', 'leave', 'leave', 'leaves', 'leech.', 'leering', 'left', 'left', 'left', 'left', 'leg-weary,', 'legs', 'lengths,', 'leopards', 'less', 'let', 'let', 'let', 'let', 'library', 'library?\"', 'licked', 'life', 'life,', 'life.', 'life.', 'life.', 'life.', 'life.\"', 'lifted', 'lifted', 'light', 'light', 'light', 'light', 'light', 'light,', 'light.', 'light.', 'lightning-charred', 'lights', 'lights', 'lights', 'lights', 'lights', 'lights.', 'lights.', 'lights.', 'like', 'like', 'like', 'like', 'like', 'like', 'like', 'like', 'like', 'like', 'like', 'like', 'limb', 'limb', 'limbs,', 'limousine.', 'line;', 'linen,', 'lions,', 'lips', 'lips', 'lips', 'lips', 'liqueur.', 'lit', 'lit', 'little', 'little', 'live', 'live', 'lived', 'lived', 'living', 'living', 'locked', 'lofty', 'log', 'log', 'london', 'long', 'long', 'long', 'long-barreled', 'long-bladed', 'long.', 'longer', 'look', 'look', 'looked', 'looked', 'looked', 'looked', 'looked', 'looked', 'looked', 'looks', 'loops;', 'loose', 'loose.', 'lore', 'lore,', 'lose', 'loses.\"', 'lost', 'lost', 'lost', 'lost,\"', 'lot,', 'lot,', 'loudness.', 'loved', 'low,', 'lucar', 'luck', 'luck', 'luckily', 'luckily,', 'luckily,', 'lunch.', 'luncheon.', 'lunged', 'lungs.', 'lying', 'lying', 'machinery', 'madame', 'made', 'made', 'made', 'made', 'made', 'made', 'made', 'made', 'made', 'made', 'made', 'made', 'made', 'made', 'made', 'made', 'made', 'made', 'magnificence', 'mainland', 'make', 'make', 'make', 'makes', 'makes', 'making', 'making', 'malacca.', 'malay', 'man', 'man', 'man', 'man', 'man', 'man', 'man', 'man', 'man', 'man', 'man', 'man', \"man's\", \"man's\", \"man's\", 'man,', 'man,', 'man.', 'man.', 'mancatcher.', 'manner,', 'many', 'many', 'many', 'many', 'many', 'many', 'many', 'many', 'many', 'marble', 'marcus', 'mark,', 'mark,', 'mark.', 'marked', 'marksmanship.', 'massive', 'match', 'match', 'match', 'mathematical', 'matter', 'matters,', 'may', 'may', 'may', 'may', 'maze', 'me', 'me', 'me', 'me', 'me', 'me', 'me', 'me', 'me', 'me', 'me', 'me', 'me', 'me', 'me', 'me', 'me', 'me', 'me', 'me', 'me', 'me!', 'me,', 'me,', 'me,', 'me,', 'me,\"', 'me,\"', 'me,\"', 'me.', 'me.', 'me.', 'me.\"', 'me;', 'mean', 'mean', 'mean-\"', 'mean?\"', 'meaning', 'meant', 'medieval', 'men', 'men', 'men', 'men', 'men,', 'men,', 'men,', 'men,\"', 'men.', 'men?\"', 'menacing', 'mental', 'mention', 'merest', 'metallic', 'methods', 'mid-victorian', 'middle', 'midnight', 'might', 'mignon.', 'mile', 'miles', 'military', 'military', 'million', 'mind', 'mind', 'mind,', 'mind.', 'mine', 'mine.', 'mine.', 'mine.', 'minute', 'minute.', 'minutes', 'minutes', 'mirage,', 'misfortune', 'mistaken.', 'mists.', 'moccasins;', 'moccasins;', 'mocking', 'modern', 'modesty,', 'moist', 'moment', 'moment', 'moment', 'mongrels', 'monster', 'monster.\"', 'monte', 'months.', 'moon,', 'moonless', 'moonlight,', 'moose', 'moose,', 'more', 'more', 'more', 'more', 'more', 'more', 'more', 'more', 'more', 'more.', 'morning', 'morning', 'morning', 'moscow', 'moss', 'moss.', 'most', 'most', 'most', 'most', 'most', 'most', 'most', 'most', 'most', 'most', 'most', 'mounted', 'mouse.', 'mouse.', 'mouth', 'mouth', 'mouth.', 'moved', 'moved', 'moving', 'moving', 'moving.', 'mr.', 'mr.', 'mr.', 'mr.', 'mr.', 'mr.', 'mr.', 'mr.', 'mr.', 'mr.', 'mr.', 'mr.', 'mr.', 'mr.', 'mr.', 'mr.', 'mr.', 'much', 'much', 'much,', 'muck', 'muffled', 'murder,\"', 'murder.\"', 'murderer.\"', 'muscle', 'must', 'must', 'must', 'must', 'must', 'must', 'must', 'must', 'must', 'must', 'must', 'must', 'must', 'must', 'must', 'mustache', \"mustn't\", 'muttered', 'muttered', 'muttering', 'my', 'my', 'my', 'my', 'my', 'my', 'my', 'my', 'my', 'my', 'my', 'my', 'my', 'my', 'my', 'my', 'my', 'my', 'my', 'my', 'my', 'my', 'my', 'my', 'my', 'my', 'my', 'my', 'my', 'my', 'my', 'my', 'my', 'my', 'my', 'my', 'my', 'my', 'my', 'my', 'my', 'my', 'myself', 'myself', 'mystery', 'mystified.', 'naive,', 'name', 'name', 'name', 'name,', 'name.', 'nap,', 'narrowly.', 'native', 'natural,', 'naturally,', 'naturally,', 'nature.', 'near', 'near', 'near', 'near', 'nearer', 'nearer,', 'nearer,', 'nearer,', 'nearer.', 'need', 'need', 'need', 'needed', 'needs', 'nerve', 'nerve', 'nerve!\"', 'nerve,', 'nerve,\"', 'nerve.', 'nerve.', 'nerves', 'never', 'never', 'never', 'never', 'never', 'never', 'never', 'nevertheless', 'new', 'new', 'new', 'new', 'new', 'new', 'new', 'new', 'new', 'new', 'new', 'new', 'nielsen', 'night', 'night', 'night', 'night', 'night', 'night', 'night', 'night', 'night', 'night', 'night', 'night', 'night', \"night's\", \"night's\", 'night,', 'night,', 'night,', 'night.', 'night.', 'night.', 'night.', 'night.\"', 'night;', 'no', 'no', 'no', 'no', 'no', 'no', 'no', 'no', 'no', 'no', 'no', 'no', 'no', 'no', 'no', 'no', 'no', 'no', 'no', 'no', 'no', 'no', 'no', 'no', 'no', 'noble', \"noblemen's\", 'nodded', 'nodded.', 'noise,', 'noiseless', 'none', 'none;', 'nor', 'nor', 'nose,', 'nostrils.', 'not', 'not', 'not', 'not', 'not', 'not', 'not', 'not', 'not', 'not', 'not', 'not', 'not', 'not', 'not', 'not', 'not', 'not', 'not', 'not', 'not', 'not', 'not', 'not', 'not', 'not', 'not', 'not', 'not', 'not', 'not', 'not', 'not', 'not', 'not', 'not', 'not', 'not', 'not', 'not', 'not', 'not', 'not', 'not', 'not', 'not', 'not', 'not', 'not', 'not', 'not', 'not', 'not.', 'not.\"', 'not?', 'not?\"', 'noted,', 'nothing', 'nothing', 'nothing', 'nothing', 'notice', 'noticed', 'notions', 'now', 'now', 'now', 'now', 'now', 'now', 'now', 'now', 'now,', 'now,', 'now,', 'now,', 'now,', 'now,', 'now,\"', 'now.', 'now.', 'now.', 'now.', 'now.', 'now.', 'now?', 'nowadays', 'numb.', 'nursing', 'nut.\"', 'oaken', 'object', 'objected', 'observed', 'observed', 'obstacle', 'obvious', 'occasionally', 'occur', 'ocean', 'odd.', 'of', 'of', 'of', 'of', 'of', 'of', 'of', 'of', 'of', 'of', 'of', 'of', 'of', 'of', 'of', 'of', 'of', 'of', 'of', 'of', 'of', 'of', 'of', 'of', 'of', 'of', 'of', 'of', 'of', 'of', 'of', 'of', 'of', 'of', 'of', 'of', 'of', 'of', 'of', 'of', 'of', 'of', 'of', 'of', 'of', 'of', 'of', 'of', 'of', 'of', 'of', 'of', 'of', 'of', 'of', 'of', 'of', 'of', 'of', 'of', 'of', 'of', 'of', 'of', 'of', 'of', 'of', 'of', 'of', 'of', 'of', 'of', 'of', 'of', 'of', 'of', 'of', 'of', 'of', 'of', 'of', 'of', 'of', 'of', 'of', 'of', 'of', 'of', 'of', 'of', 'of', 'of', 'of', 'of', 'of', 'of', 'of', 'of', 'of', 'of', 'of', 'of', 'of', 'of', 'of', 'of', 'of', 'of', 'of', 'of', 'of', 'of', 'of', 'of', 'of', 'of', 'of', 'of', 'of', 'of', 'of', 'of', 'of', 'of', 'of', 'of', 'of', 'of', 'of', 'of', 'of', 'of', 'of', 'of', 'of', 'of', 'of', 'of', 'of', 'of', 'of', 'of', 'of', 'of', 'of', 'of', 'of', 'of', 'of', 'of', 'of', 'of', 'of', 'of', 'of', 'of', 'of', 'of', 'of', 'of', 'of', 'of', 'of', 'of', 'of', 'of', 'of', 'of', 'of', 'of', 'of', 'of', 'off', 'off', 'off', 'off', 'off', 'off', 'off', 'off', 'off', 'off', 'off', 'off', 'offered', 'offered', 'officer', 'official', 'often', 'old', 'old', 'old', 'old', 'on', 'on', 'on', 'on', 'on', 'on', 'on', 'on', 'on', 'on', 'on', 'on', 'on', 'on', 'on', 'on', 'on', 'on', 'on', 'on', 'on', 'on', 'on', 'on', 'on', 'on', 'on', 'on', 'on', 'on', 'on', 'on', 'on', 'on', 'on', 'on', 'on', 'on', 'on', 'on', 'on', 'on', 'on', 'on', 'on', 'on', 'on', 'on', 'on,', 'on.', 'on.', 'on.', 'on.', 'once', 'once', 'once.\"', 'one', 'one', 'one', 'one', 'one', 'one', 'one', 'one', 'one', 'one', 'one', 'one', 'one', 'one', 'one', 'one', 'one', 'one', 'one', 'one', 'one', 'one', 'one,', 'one.', 'one.', 'one.', 'one.\"', 'only', 'only', 'only', 'only', 'only', 'only', 'only', 'only', 'only', 'only', 'ooze.', 'opaqueness;', 'open', 'open', 'open', 'open.', 'open.', 'opened', 'opened', 'opened', 'opened', 'operations,', 'opiate', 'option,', 'or', 'or', 'or', 'or', 'or', 'or', 'or', 'or', 'or', 'orders,', 'ordinarily', 'original,', 'other', 'other', 'other', 'our', 'out', 'out', 'out', 'out', 'out', 'out', 'out', 'out', 'out', 'out', 'out', 'out', 'out', 'out', 'out', 'out', 'out', 'out', 'out', 'out', 'out', 'out', 'out', 'out,', 'out.', 'out.', 'outdoor', 'outlines', 'outside', 'outspread', 'over', 'over', 'over', 'over', 'over', 'own', 'pack', 'pack', 'pack', 'pack', 'pack.', 'pack.', 'padding', 'pain', 'pain', 'pajamas', 'palates.', 'palatial', 'palpable', 'paneled', 'panels,', 'panic.', 'panted,', 'panther,', 'paris.', 'part', 'particularly', 'passed', 'passion', 'past', 'pastime', 'patch', 'path', 'pattern', 'patterns', 'paused,', 'peer', 'pent-up', 'perfect', 'perfect', 'perfect', 'perfection.\"', 'perfume', 'perfumed', 'perhaps', 'perhaps', 'perils', 'philosopher.', 'physical', 'pick', 'picked', 'picking', 'picture', 'pieces', 'pieces,\"', 'pinched', 'pipe', 'pipe,', 'pistol', 'pistol', 'pistol,', 'pistol.', 'pistol.', 'pit', 'pit', 'pit', 'pit', 'pit', 'pit.', 'pit.', 'place', 'place', 'place', 'place', 'place', 'place', 'place', 'place', 'place', 'place.', 'place.', 'place.', 'place?', 'placid', 'planted', 'plate', 'plate-glass', 'play', 'play', 'play', 'played', 'played', 'playing', 'playing,\"', 'pleasant', 'please', 'please,', 'please.', 'pleasure', 'pleasure.', 'pleasure.', 'plenty', 'plunged', 'plunging', 'pocket', 'poets.', 'point', 'point.', 'pointed', 'pointed', 'pointed', 'pointed', 'pointed', 'pointing', 'pointing', 'pointing', 'pointing', 'points', 'poisonous.', 'pol', 'poor', 'poorer', 'port?\"', 'position', 'possibilities,', 'possibly', 'postponing', 'pour', 'poured', 'power.', 'powers;', 'precariously', 'precision', 'prehistoric', 'preserve', 'preserve', 'pressed', 'pressed', 'pressed', 'print', 'prize', 'problem.', 'problems', 'problems', 'prolonged', 'promised', 'promising', 'propeller.', \"proposition.'\", 'prospect', 'protested,', 'protruding', 'providence', 'providence', 'proving', 'published', 'puffed', 'puffed', 'pulled', 'pungent', 'punish', 'pupils', \"purdey's.\", 'puritan', 'purposes', 'pursued', 'pursuer', 'pursuers', 'pushed', 'pushed', 'put', 'put', 'put', 'put', 'put', 'put', 'puzzled.', 'quality', 'quarry', 'quarry', 'quarry', 'quarry', 'quarry.', 'quarry.', \"quarry?'\", 'quarter', 'quarter', 'question,', 'questioning', 'quick', 'quicker', 'quickly', 'quicksand', 'quicksand', 'quicksand.', 'quiet', 'quiet', 'quite', 'quite', 'quite', 'quizzically.', 'race,', 'raced', 'ragged', 'rail', 'rail,', 'rains.', 'rainsford', 'rainsford', 'rainsford', 'rainsford', 'rainsford', 'rainsford', 'rainsford', 'rainsford', 'rainsford', 'rainsford', 'rainsford', 'rainsford', 'rainsford', 'rainsford', 'rainsford', 'rainsford', 'rainsford', 'rainsford', 'rainsford', 'rainsford', 'rainsford', 'rainsford', 'rainsford', 'rainsford', 'rainsford', 'rainsford', 'rainsford', 'rainsford', 'rainsford', 'rainsford', 'rainsford', 'rainsford', 'rainsford', 'rainsford', 'rainsford', 'rainsford', 'rainsford', 'rainsford', 'rainsford', 'rainsford', 'rainsford', 'rainsford', 'rainsford', 'rainsford', 'rainsford', 'rainsford', 'rainsford', 'rainsford', 'rainsford', 'rainsford', 'rainsford', 'rainsford', 'rainsford', 'rainsford', 'rainsford', 'rainsford', 'rainsford', 'rainsford', 'rainsford', 'rainsford', 'rainsford', 'rainsford', 'rainsford', \"rainsford's\", \"rainsford's\", \"rainsford's\", \"rainsford's\", \"rainsford's\", \"rainsford's\", \"rainsford's\", \"rainsford's\", \"rainsford's\", \"rainsford's\", \"rainsford's\", \"rainsford's\", \"rainsford's\", \"rainsford's\", \"rainsford's\", \"rainsford's\", \"rainsford's\", 'rainsford,', 'rainsford,', 'rainsford,', 'rainsford,', 'rainsford,', 'rainsford,', 'rainsford,', 'rainsford,', 'rainsford,', 'rainsford,', 'rainsford,', 'rainsford,', 'rainsford,', 'rainsford,', 'rainsford,', 'rainsford,', 'rainsford,', 'rainsford,', 'rainsford,\"', 'rainsford,\"', 'rainsford,\"', 'rainsford.', 'rainsford.', 'rainsford.', 'rainsford.', 'rainsford.', 'rainsford.', 'rainsford.', 'rainsford.', 'rainsford.', 'rainsford.', 'rainsford.', 'rainsford.', 'rainsford.', 'rainsford.', 'rainsford.', 'rainsford.', 'rainsford.', 'rainsford.', 'rainsford.', 'rainsford.', 'rainsford.', 'rainsford.', 'rainsford.', 'rainsford.', 'rainsford.', 'rainsford.\"', 'rainsford.\"', 'rainsford.\"', 'rainsford.\"', 'rainsford;', 'rainsford?\"', 'rains{ord,', 'raise', 'raised', 'raised', 'raised', 'raised', 'ran', 'range.', 'rank', 'ranker,', 'rare', 'rather', 'rather', 'rather', 'rather', 'rather', 'raw,', 'razor', 'reached', 'reached', 'reached', 'reached', 'reached', 'reached', 'read', 'read', 'read', 'read,', 'ready,', 'real', 'real', 'real', 'real', 'realist.', 'realized', 'really', 'really', 'reappeared,', 'reason', 'reason,', 'reason,\"', 'reason.', 'reason.\"\\'', 'recalling', 'receding', 'reclining', 'recognize', 'recognized', 'recoil', 'recovered', 'red', 'red', 'red-lipped', 'refectory', 'refuse', 'refuses', 'regarded', 'regarded', 'regarding', 'regret', 'regrettable', 'remained', 'remaining', 'remarkable.', 'remarked', 'remarked', 'remarked.', 'remember,', 'remembered', 'repast', 'replace', 'replied.', 'reply;', 'report', 'reports', 'reputation', 'resourceful', 'rest', 'rest', 'rest', 'rest', 'rest.', 'rest.\"', 'rested', 'rested.', 'restful', 'restful', 'rests', 'revoir,', 'revoir.\"', 'revolver', 'revolver', 'revolver,', 'revolver.', 'revolver.', 'rhinoceroses', 'rich', 'rich,', 'ridge', 'ridge.', 'rifle.', 'right', 'right', 'right', 'right', 'right,', 'righteous', 'rigidly', 'ring', 'ring', 'rio,\"', 'ripple', 'river', 'robber.', 'rockies,', 'rocks', 'rocks', 'rocks', 'rocky', 'roger', 'romantic', 'room', 'room', 'room.', 'room.', 'room.', 'rope,', 'rot,', 'rotten', 'rough', 'rowers', 'rubbing', 'rude', 'rumbled', 'russia', 'russian', 'russian.', 'russian?\"', 'russians', 'sack', 'safe', 'said', 'said', 'said', 'said', 'said', 'said', 'said', 'said', 'said', 'said', 'said', 'said', 'said', 'said', 'said', 'said', 'said', 'said', 'said', 'said', 'said', 'said', 'said', 'said', 'said', 'said', 'said', 'said', 'said', 'said', 'said', 'said', 'said', 'said', 'said', 'said', 'said', 'said', 'said', 'said', 'said,', 'said,', 'said,', 'said,', 'said,', 'said,', 'said,', 'said,', 'said,', 'said,', 'said.', 'said.', 'said.', 'said.', 'said.', 'said.', 'said.', 'said.', 'said.', 'said.', 'sailor', 'sailor', 'sailors', 'sailors', 'sailors', 'sailors;', 'sallow', 'salt', 'salute,', 'saluted,', 'same', 'same', 'san', 'sanger', 'sanger', 'sanger', 'sank', 'sapling', 'sapling.', 'saplings', 'sash', 'sat', 'sat', 'sat', 'savage.\"', 'savagely.', 'saving', 'saw', 'saw', 'saw', 'saw', 'saw', 'saw', 'saw', 'saw', 'saw', 'saw', 'saw', 'saw', 'saw', 'saw', 'saw.\"', 'say', 'say', 'say', 'say,', 'say.', 'saying.', 'scent.', 'school,\"', 'score', 'score.', 'scowling,', 'scream', 'screamed', 'screaming', 'screen', 'scruples', 'scum', 'sea', 'sea', 'sea', 'sea', 'sea', 'sea', 'sea', 'sea', 'sea,', 'sea,', 'sea.', 'sea.', 'sea.', 'sea.', 'sea.', 'seafaring', 'searching', 'seas', 'second', 'second', 'second', \"second's\", 'second;', 'securities,', 'security.', 'see', 'see', 'see', 'see', 'see', 'see', 'see', 'see', 'see', 'see', 'see', 'see', 'see', 'see,', 'see,', 'see,\"', 'see,\"', 'see,\"', 'see.', 'seem', 'seemed', 'seemed', 'seemed', 'seemed', 'seemingly', 'seen', 'seen', 'seen.', 'sends', 'sensation.', 'sense', 'sensed', 'sensuous', 'sent', 'sent', 'series', 'serious,', 'serious?', 'served', 'serving', 'set', 'set', 'settle', 'seven', 'several', 'sewed', 'shadow,', 'shadows.', 'shadowy', 'shall', 'shall', 'shall', 'shall', 'shall', 'shall', 'shall', 'shallow', 'shapes;', 'sharp', 'sharp', 'sharp', 'sharp', 'sharp', 'sharpcut', 'sharpened', 'shattered', 'sheath', 'sheath', 'shinned', 'ship', 'ship', \"ship's\", 'ships', 'shook', 'shook', 'shook', 'shook', 'shoot', 'shoot', 'shore', 'shore,', 'shore.', 'shore.', 'short', 'short', 'short,', 'shot', 'shot', 'shot,\"', 'shots', 'shots,', 'shots.', 'should', 'should', 'should', 'should', 'should', 'should', 'shoulder', 'shoulder,', 'shoulder,', 'shoulders', 'shoulders', 'shoulders,', 'shoulders.', \"shouldn't\", 'shouted', 'show', 'show', 'show', 'showed', 'showed', 'showed', 'shrugged', 'shrugged', 'shudder', 'shut', 'sick', 'sides', 'siesta', 'sighed', 'sighed.', 'sighted', 'sign', 'sign', 'sign.', 'silence', 'silent', 'silent;', 'silk,', 'silver', 'silver', 'silver,', 'simple', 'singularly', 'sipped', 'sipped', 'sir.', \"sir.'\", 'sit', 'sitting,', 'situation.', 'six', 'six', 'skull.', 'sky,', 'slapped', 'sleep', 'sleep', 'sleep', 'sleep', 'sleep', 'sleep.', 'sleep.', 'sleep.', 'sleepy,\"', 'slender', 'slender', 'slender', 'slept', 'slid', 'slid', 'slight', 'slight', 'slight', 'slightest', 'slipping', 'sloop', 'slow', 'slow,', 'slowly', 'slowly,', 'slowly,', 'small', 'small', 'small', 'small,', 'smaller,', 'smallest', 'smashed', 'smell', 'smile', 'smile', 'smile', 'smile', 'smile', 'smile.', 'smile.', 'smiled', 'smiled', 'smiled', 'smiled.', 'smiled.', 'smiled.', 'smiled?', 'smiling', 'smoke', 'smoke', 'smoke', 'snake', 'snapped', 'snarl', 'snarled', 'snatch', 'snow', 'snuffbox', 'so', 'so', 'so', 'so', 'so', 'so', 'so', 'so', 'so', 'so', 'so', 'so', 'so', 'so', 'so', 'so', 'so', 'so', 'so,', 'so,', 'so,', 'so,\"', 'so.\"', 'society.\"', 'soft', 'soft,', 'softer', 'softest', 'softness', 'solicitous', 'solicitously.', 'solidly', 'some', 'some', 'some', 'some', 'some', 'some', 'some', 'some', 'some', 'some', 'some', 'some', 'some', 'some', 'some', 'some', 'somehow.', 'someone', 'someone', 'someone', 'something', 'something', 'something', 'something', 'something', 'something', 'something.', 'sometimes', 'sometimes', 'sometimes,', 'somewhere', 'somewhere,', 'song', 'sons', 'soon', 'soothe', 'sort', 'sort', 'sought', 'sound', 'sound', 'sound', 'sound', 'sound', 'sound', 'sound', 'sound', 'sound,', 'sound,', 'sound,', 'sound.', 'sound.', 'sound.', 'sound;', 'soup', 'southeast', 'spanish', 'spare,', 'sparrows', 'speak', 'speak,', 'speaking', 'specially', 'specimens', 'specimens', 'speeding', 'spiked', 'splendid', 'splitting', 'spoke', 'sport', 'sport', 'sport', 'sport!', 'sport,', 'sport.', 'sporting', 'sportsman.', 'sportsman.', 'spot.\"', 'sprang', 'spread', 'spring', 'spring.', 'springing', 'springy', 'spurred', 'squire.', 'staccato.', 'staggered,', 'stained', 'stake', 'stakes', 'stakes', 'stakes', 'stalking', 'stamina', 'stand', 'standing', 'standing,', 'staring', 'start,', 'start.', 'started', 'startled', 'startled', 'startled', 'state', 'statue.', 'stay', 'stay', 'stealthy', 'steamer', 'steel', 'steered', 'stepped', 'stepped', 'steps', 'steps', 'steps', 'steps,', 'sticking', 'stiffly,', 'stiffly.', 'still', 'still', 'still', 'still', 'stock', 'stock', 'stone', 'stone', 'stone,', 'stood', 'stood', 'stood', 'stood', 'stood,', 'stop', 'stopped', 'stopped', 'stopped', 'stopped', 'stopped', 'stopped,', 'stopped.', 'stopped.', 'stopped.', 'store', 'straight', 'straight', 'straight', 'straightened', 'strained', 'straining', 'strange,', 'strangle.', 'strength', 'strength', 'strength.', 'strength.', 'stretching', 'strike', 'striking', 'strokes', 'strokes,', 'strokes;', 'strolled', 'strong', 'strong', 'strong', 'strong,', 'strong,', 'strong,', 'strong.', 'strong.', 'struck', 'struck', 'struck', 'struck', 'structure', 'struggled', 'studied', 'studying', 'studying', 'stump', 'stupid', 'success.', 'such', 'such', 'such', 'sucked', 'sucked', 'sudden', 'sudden', 'suddenly', 'suddenly', 'suffered', 'suggest', 'suggest', 'suggest', 'suggest,', 'suggest.', 'suggested', 'suggested', 'suggested.', 'suggestive', 'suicide.', 'suit,', 'sun', 'sun', 'superstition', 'superstitious', 'supplies', 'supply', 'supply', 'suppose', 'suppose', 'suppose', 'surely', 'sureness', 'surface', 'surged', 'surmounted', 'surpassingly', 'surprise.', 'surprised', 'suzette,', 'swam', 'swam', 'swamp', 'swamp', 'swamp,', 'swamp.', 'swamp.', 'swamps', 'sweat', 'swede,', 'swiftly', 'swiftness;', 'swim.', 'swimming', 'swimming', 'swirling', 'swish', 'swish', 'switched', 'swum', 'table', 'table', 'table,', 'tables', 'tackle', 'tailor', 'taint', 'take', 'take', 'taken', 'taking', 'taking', 'taking', 'talk', 'talk', 'tall', 'tall', 'tall', 'tangible', 'tangible', 'tangle', 'tapestry,', 'tartar.', 'tasted', 'taxi', 'tear', 'tearoom', 'teeth.', 'teeth.', 'tell', 'tell', 'tell', 'tell', 'tell', 'tells', 'ten', 'ten', 'ten.', 'tensed', 'tent', 'terrible', 'terrible.', 'terror.', 'terror.', 'than', 'than', 'than', 'than', 'than', 'than', 'than', 'thank', 'that', 'that', 'that', 'that', 'that', 'that', 'that', 'that', 'that', 'that', 'that', 'that', 'that', 'that', 'that', 'that', 'that', 'that', 'that', 'that', 'that', 'that', 'that', 'that', 'that', 'that', 'that', 'that', 'that', 'that', 'that', 'that', 'that', 'that', 'that', 'that', 'that', 'that', 'that', 'that', 'that', 'that', 'that', 'that', 'that', 'that', 'that', 'that', 'that', 'that', 'that', 'that', 'that', 'that', 'that', 'that', 'that', 'that', 'that', 'that', 'that', 'that', 'that', 'that', 'that', 'that', 'that', 'that', 'that', 'that', 'that', 'that', 'that', 'that', 'that', 'that', 'that', 'that', \"that's\", \"that's\", \"that's\", 'the', 'the', 'the', 'the', 'the', 'the', 'the', 'the', 'the', 'the', 'the', 'the', 'the', 'the', 'the', 'the', 'the', 'the', 'the', 'the', 'the', 'the', 'the', 'the', 'the', 'the', 'the', 'the', 'the', 'the', 'the', 'the', 'the', 'the', 'the', 'the', 'the', 'the', 'the', 'the', 'the', 'the', 'the', 'the', 'the', 'the', 'the', 'the', 'the', 'the', 'the', 'the', 'the', 'the', 'the', 'the', 'the', 'the', 'the', 'the', 'the', 'the', 'the', 'the', 'the', 'the', 'the', 'the', 'the', 'the', 'the', 'the', 'the', 'the', 'the', 'the', 'the', 'the', 'the', 'the', 'the', 'the', 'the', 'the', 'the', 'the', 'the', 'the', 'the', 'the', 'the', 'the', 'the', 'the', 'the', 'the', 'the', 'the', 'the', 'the', 'the', 'the', 'the', 'the', 'the', 'the', 'the', 'the', 'the', 'the', 'the', 'the', 'the', 'the', 'the', 'the', 'the', 'the', 'the', 'the', 'the', 'the', 'the', 'the', 'the', 'the', 'the', 'the', 'the', 'the', 'the', 'the', 'the', 'the', 'the', 'the', 'the', 'the', 'the', 'the', 'the', 'the', 'the', 'the', 'the', 'the', 'the', 'the', 'the', 'the', 'the', 'the', 'the', 'the', 'the', 'the', 'the', 'the', 'the', 'the', 'the', 'the', 'the', 'the', 'the', 'the', 'the', 'the', 'the', 'the', 'the', 'the', 'the', 'the', 'the', 'the', 'the', 'the', 'the', 'the', 'the', 'the', 'the', 'the', 'the', 'the', 'the', 'the', 'the', 'the', 'the', 'the', 'the', 'the', 'the', 'the', 'the', 'the', 'the', 'the', 'the', 'the', 'the', 'the', 'the', 'the', 'the', 'the', 'the', 'the', 'the', 'the', 'the', 'the', 'the', 'the', 'the', 'the', 'the', 'the', 'the', 'the', 'the', 'the', 'the', 'the', 'the', 'the', 'the', 'the', 'the', 'the', 'the', 'the', 'the', 'the', 'the', 'the', 'the', 'the', 'the', 'the', 'the', 'the', 'the', 'the', 'the', 'the', 'the', 'the', 'the', 'the', 'the', 'the', 'the', 'the', 'the', 'the', 'the', 'the', 'the', 'the', 'the', 'the', 'the', 'the', 'the', 'the', 'the', 'the', 'the', 'the', 'the', 'the', 'the', 'the', 'the', 'the', 'the', 'the', 'the', 'the', 'the', 'the', 'the', 'the', 'the', 'the', 'the', 'the', 'the', 'the', 'the', 'the', 'the', 'the', 'the', 'the', 'the', 'the', 'the', 'the', 'the', 'the', 'the', 'the', 'the', 'the', 'the', 'the', 'the', 'the', 'the', 'the', 'the', 'the', 'the', 'the', 'the', 'the', 'the', 'the', 'the', 'the', 'the', 'the', 'the', 'the', 'the', 'the', 'the', 'the', 'the', 'the', 'the', 'the', 'the', 'the', 'the', 'the', 'the', 'the', 'the', 'the', 'the', 'the', 'the', 'the', 'the', 'the', 'the', 'the', 'the', 'the', 'the', 'the', 'the', 'the', 'the', 'the', 'the', 'the', 'the', 'the', 'the', 'the', 'the', 'the', 'the', 'the', 'the', 'the', 'the', 'the', 'the', 'the', 'the', 'the', 'the', 'the', 'the', 'the', 'the', 'the', 'the', 'the', 'the', 'the', 'the', 'the', 'the', 'the', 'the', 'the', 'the', 'the', 'the', 'the', 'the', 'the', 'the', 'the', 'the', 'the', 'the', 'the', 'the', 'the', 'the', 'the', 'the', 'the', 'the', 'the', 'the', 'the', 'the', 'the', 'the', 'the', 'the', 'the', 'the', 'the', 'the', 'the', 'the', 'the', 'the', 'the', 'the', 'the', 'the', 'the', 'the', 'the', 'the', 'the', 'the', 'the', 'the', 'the', 'the', 'the', 'the', 'the', 'the', 'the', 'the', 'the', 'the', 'the', 'the', 'the', 'the', 'the', 'the', 'the', 'the', 'the', 'the', 'the', 'the', 'the', 'the', 'the', 'the', 'the', 'the', 'the', 'the', 'the', 'the', 'the', 'the', 'the', 'the', 'the', 'the', 'the', 'the', 'the', 'the', 'the', 'the', 'the', 'the', 'the', 'the', 'the', 'the', 'the', 'the', 'the', 'the', 'the', 'the', 'the', 'the', 'the', 'the', 'the', 'the', 'the', 'their', 'their', 'their', 'their', 'their', 'their', 'them', 'them', 'them', 'them', 'them', 'them', 'them,', 'them.', 'them.', 'them.', 'them.', 'them.', 'them.\"', 'them;', 'them?\"', 'then', 'then', 'then', 'then', 'then', 'then', 'then', 'then', 'then', 'then', 'then', 'then', 'then', 'then', 'then', 'then', 'then', 'then', 'then', 'then', 'then,', 'then,', 'then,', 'then,', 'then,', 'then-', 'then.', 'then.', 'there', 'there', 'there', 'there', 'there', 'there', 'there', 'there', 'there', 'there', 'there', 'there', 'there', 'there', 'there', 'there', 'there', 'there', 'there', 'there', 'there', 'there!\"', \"there's\", \"there's\", 'there,', 'there,', 'there,', 'there,', 'there,', 'there,', 'there,', 'there.', 'there.', 'there.', 'there.', 'these', 'these', 'these', 'they', 'they', 'they', 'they', 'they', 'they', 'they', 'they', 'they', 'they', 'they', 'they', 'they', 'they', 'they', 'they', 'they', 'they', 'they', 'they', 'they', 'they', 'they', 'they', 'they', 'they', \"they're\", \"they've\", 'thick', 'thick', 'thick', 'thick', 'thick', 'thick', 'thickets', 'thickly', 'thing', 'thing', 'thing', 'thing', 'thing', 'thing', 'thing.', 'things', 'things.', 'things.', 'think', 'think', 'think', 'think', 'think', 'think', 'think', 'think', 'think', 'think,', 'think,\"', 'think.\"', 'think?', 'thinking.', 'thinking.', 'third', 'this', 'this', 'this', 'this', 'this', 'this', 'this', 'this', 'this', 'this', 'this', 'this', 'this', 'this', 'this', 'this:', 'thoroughbred', 'those', 'those', 'thought', 'thought', 'thought', 'thought', 'thought', 'thought', 'thought', 'thought', 'thought', 'thought', 'thought', 'thought,', 'thought,', 'thought,\"', 'thought.', 'thoughtful', 'thrashed', 'three', 'three', 'three', 'three', 'three', 'three', 'three', 'three', 'threw', 'thrill', 'thrill', 'throb', 'through', 'through', 'through', 'through', 'through', 'through', 'through', 'through', 'through', 'through', 'through', 'through', 'through', 'through', 'through', 'through', 'through', 'throw', 'throwing', 'thrust', 'thumb', 'tibet,', 'tied', 'tiger', 'tigers', 'tigers,', 'tigers,', 'tight', 'tight', 'tight', 'tightening', 'till', 'time', 'time', 'time', 'time', 'time,\"', 'times', 'times,', 'times.', 'tip;', 'tired', 'tired,', 'tiredness,', 'to', 'to', 'to', 'to', 'to', 'to', 'to', 'to', 'to', 'to', 'to', 'to', 'to', 'to', 'to', 'to', 'to', 'to', 'to', 'to', 'to', 'to', 'to', 'to', 'to', 'to', 'to', 'to', 'to', 'to', 'to', 'to', 'to', 'to', 'to', 'to', 'to', 'to', 'to', 'to', 'to', 'to', 'to', 'to', 'to', 'to', 'to', 'to', 'to', 'to', 'to', 'to', 'to', 'to', 'to', 'to', 'to', 'to', 'to', 'to', 'to', 'to', 'to', 'to', 'to', 'to', 'to', 'to', 'to', 'to', 'to', 'to', 'to', 'to', 'to', 'to', 'to', 'to', 'to', 'to', 'to', 'to', 'to', 'to', 'to', 'to', 'to', 'to', 'to', 'to', 'to', 'to', 'to', 'to', 'to', 'to', 'to', 'to', 'to', 'to', 'to', 'to', 'to', 'to', 'to', 'to', 'to', 'to', 'to', 'to', 'to', 'to', 'to', 'to', 'to', 'to', 'to', 'to', 'to', 'to', 'to', 'to', 'to', 'to', 'to', 'to', 'to', 'to', 'to', 'to', 'to', 'to', 'to', 'to', 'to', 'to', 'to', 'to', 'to', 'to', 'to', 'to', 'to', 'to', 'to', 'to.', 'to;', 'today,\"', 'today?\"', 'together', 'told', 'told', 'told', 'tomorrow', 'tomorrow.\"', 'tone,', 'tongue', 'tonight,', 'tonight,\"', 'too', 'too', 'too,', 'too,', 'too,', 'too.', 'too.', 'took', 'took', 'took', 'took', 'took', 'took', 'top.', 'torch', 'tore', 'touched', 'touched', 'tough-minded', 'toward', 'toward', 'toward', 'toward', 'toward', 'toward', 'towers', 'towers.', 'town.\"', 'trace', 'trace', 'traces', 'track,', 'trackless', 'tragic', 'trail', 'trail', 'trail', 'trail', 'trail', 'trail', 'trail', 'trail', 'trail.', 'trail;', 'trail;', 'trailed', 'training', 'trait', 'traits', 'tramp', 'trap,\"', 'traveling', 'treat', 'tree', 'tree', 'tree', 'tree', 'tree,', 'tree,', 'tree,', 'tree,', 'tree,\"', 'tree.', 'tree.', 'tree.', 'tree.', 'trees', 'trees', 'trees;', 'trick', 'tried', 'tried', 'tried', 'tried', 'trigger,', 'trigger.', 'trimmed', 'trip?\"', 'tropical', 'trouble', 'true', 'true,', 'trunk', 'trust', 'truth', 'try', 'try', 'try', 'trying', 'trying', 'trying', 'tumbled', 'tumbled', 'turkeys', 'turkish', 'turn', 'turn', 'turn,', 'turned', 'turned', 'turned', 'turned', 'turning', 'turning', 'tweeds', 'twenty', 'twenty-two,\"', 'twig,', 'two', 'two', 'two', 'two', 'two', 'twoscore', 'uganda.', 'unbroken', 'uncanny', 'uncomfortable.', 'under', 'under', 'underbrush', 'underbrush', 'underbrush;', 'understand', 'understanding.\"', 'understood', 'uniform', 'uniform', 'uniform,', 'unless', 'unpleasant', 'unreality.', 'unruffled,', 'unseen', 'until', 'unusual', 'unusually', 'up', 'up', 'up', 'up', 'up', 'up', 'up', 'up', 'up', 'up', 'up', 'up', 'up', 'up', 'up', 'up', 'up', 'up', 'up', 'up', 'up', 'up', 'up,', 'up.', 'up.', 'upon', 'upon', 'upon', 'upon', 'upon', 'upward', 'upward,', 'us', 'us', 'use', 'use', 'use', 'used', 'used.', 'utmost', 'utter', 'valley', 'value', 'value,', 'varnishing', 'vast', 'vegetation', 'velvet.\"', 'venerable', 'venture', 'very', 'very', 'very', 'very', 'very', 'very', 'very', 'very', 'very', 'veuve', 'vibrations', 'viciously', 'view.', 'vigor;', 'village,', 'violent', 'visit', 'visit', 'visit', 'visitors', 'vitality', 'vivid', 'voice', 'voice', 'voice,', 'voice.', 'voices', 'wager', 'wager.', 'waist.', 'waist.', 'wait', 'wait', 'wait.', 'waiter,', 'walked', 'walking', 'walnut', 'wan', 'want', 'want', 'want', 'want', 'wanted', 'war', 'warm', 'was', 'was', 'was', 'was', 'was', 'was', 'was', 'was', 'was', 'was', 'was', 'was', 'was', 'was', 'was', 'was', 'was', 'was', 'was', 'was', 'was', 'was', 'was', 'was', 'was', 'was', 'was', 'was', 'was', 'was', 'was', 'was', 'was', 'was', 'was', 'was', 'was', 'was', 'was', 'was', 'was', 'was', 'was', 'was', 'was', 'was', 'was', 'was', 'was', 'was', 'was', 'was', 'was', 'was', 'was', 'was', 'was', 'was', 'was', 'was', 'was', 'was', 'was', 'was', 'was', 'was', 'was', 'was', 'was', 'was', 'was', 'was', 'was', 'was', 'was', 'was', 'was', 'was', 'was', 'was', 'was', 'was', 'was', 'was', 'was', 'was', 'was', 'was', 'was', 'was', 'was', 'was', 'was', 'was', 'was', 'was', 'was', 'was', 'was', 'was', 'was', 'was', 'was', 'was', 'was', 'was', 'was', 'was', 'was', 'was', 'was', 'was', 'was', 'was', 'was', 'was', 'was', 'was', 'was', 'was', 'was', 'was', 'was', 'was', 'was', 'was', 'was', 'was', 'was', 'was', 'was', 'was', 'was', 'was', 'was', 'was', 'was', 'was', 'was,', 'was?\"', 'wash', 'wash', 'watched.', 'water', 'water,', 'water.', 'water.', 'watercourse,', 'waters', 'waters.', 'wave', 'wavering,', 'way', 'way', 'way', 'way', 'way', 'way,', 'way;', 'ways', 'we', 'we', 'we', 'we', 'we', 'we', 'we', 'we', \"we'll\", \"we're\", \"we've\", 'weak', 'wear', 'weariness', 'weather', 'weaving', 'web', 'weeds', 'weeds', 'weeds', 'weeds', 'weeds;', 'welcome', 'welcome', 'well', 'well,', 'well,', 'well,', 'well,', 'well,', 'well-cooked', 'well.', 'well.\"', 'went', 'went', 'went', 'went', 'went', 'went', 'went', 'were', 'were', 'were', 'were', 'were', 'were', 'were', 'were', 'were', 'were', 'were', 'were', 'were', 'were', 'were', 'were', 'were', 'were', 'were', 'were', 'were', 'were', 'were', 'were', 'were', 'weren\\'t.\"', 'wet', 'what', 'what', 'what', 'what', 'what', 'what', 'what', 'what', 'what', 'what', 'what', 'what', 'what', 'what', 'when', 'when', 'when', 'when', 'when', 'when', 'when', 'when', 'when', 'when', 'when', 'when', 'when', 'when', 'when', 'when', 'when', 'when', 'when', 'when', 'when', 'when', 'when', 'when', 'when,', 'whenever', 'where', 'where', 'where', 'where', 'where', 'where', 'where', 'where', 'where', 'where', 'which', 'which', 'which', 'which', 'which', 'which', 'whipped', 'white', 'white;', 'whites,', 'whitney', 'whitney,', 'whitney,\"', 'whitney.', 'whitney.', 'whitney.', 'whitney.', 'whitney.', 'whitney.\"', 'who', 'who', 'who', 'who', 'who', \"who'd\", 'whole', 'whole', 'whole', 'whole', 'whole', 'whole', 'wholly', 'whose', 'why', 'why', 'why', 'why', 'why', 'why', 'why', 'why', 'why', 'why.', 'wide', 'wide', 'wide-open', 'widened.', 'wild', 'wild', 'wilderness.', 'will', 'will', 'will', 'will', 'will', 'will', 'will', 'will', 'will', 'will', 'will', 'will', 'will', 'will', 'will', 'win', 'win.', 'win?\"', 'winding', 'window', 'window', 'window', 'window', 'window', 'window.', 'window.', 'windows', 'wine.', 'wine.', 'wink.', 'wins', 'wish', 'wish', 'wish', 'wish', 'wish', 'wish', 'wish', 'wish,', 'with', 'with', 'with', 'with', 'with', 'with', 'with', 'with', 'with', 'with', 'with', 'with', 'with', 'with', 'with', 'with', 'with', 'with', 'with', 'with', 'with', 'with', 'with', 'with', 'with', 'with', 'with', 'with', 'with', 'with', 'with', 'with', 'with', 'with', 'with', 'with', 'with', 'with', 'with', 'with', 'with', 'with', 'with', 'with', 'with', 'with', 'with', 'with', 'with', 'with', 'with', 'with', 'with', 'with', 'with', 'with', 'with', 'with', 'with', 'with', 'with', 'with', 'with', 'with', 'with', 'with', 'with', 'with', 'with', 'with', 'with', 'with', 'with,', 'with.', 'withdrew.', 'within', 'within', 'within;', 'without', 'without', 'wits', 'wits.\"', 'won', 'wondered,', 'wonderful', 'woodcraft', 'wooded', 'woods', 'woods.', 'woods.', 'word', 'word.', 'words,', 'work', 'worked', 'works', 'world', 'world', 'world', 'world,\"', 'world.', 'worried,', 'worth', 'worth', 'worthy', 'would', 'would', 'would', 'would', 'would', 'would', 'would', 'would', 'would', 'would', \"wouldn't\", 'wound', 'wounded', 'wounded', 'wounded', 'wove', 'wrench', 'wrestled', 'wrong,', 'yacht', 'yacht', 'yacht', 'yacht', 'yacht,', 'yacht,', 'yacht.', 'yacht.', 'yacht.', 'yards', 'yards,', 'yards,\"', 'year', 'years', 'years', 'yes,', 'yes,\"', 'yet', 'yet?\"', 'york', 'york,\"', 'you', 'you', 'you', 'you', 'you', 'you', 'you', 'you', 'you', 'you', 'you', 'you', 'you', 'you', 'you', 'you', 'you', 'you', 'you', 'you', 'you', 'you', 'you', 'you', 'you', 'you', 'you', 'you', 'you', 'you', 'you', 'you', 'you', 'you', 'you', 'you', 'you', 'you', 'you', 'you', 'you', 'you', 'you', 'you', 'you', 'you', 'you', 'you', 'you', 'you', 'you', 'you', 'you', 'you', 'you', 'you', 'you', 'you', 'you', 'you', 'you', 'you', 'you', 'you', 'you', 'you', 'you', 'you', 'you', 'you', 'you', 'you', 'you', \"you'll\", \"you'll\", \"you'll\", \"you'll\", \"you'll\", \"you're\", \"you've\", \"you've\", 'you,', 'you,', 'you,', 'you,', 'you,', 'you,\"', 'you,\"', 'you.', 'you.', 'you.', 'you.\"', 'you.\"', 'you?\"', 'young', 'young', 'young', 'young', 'younger', 'your', 'your', 'your', 'your', 'your', 'your', 'your', 'your', 'your', 'your', 'your', 'yourself', 'zaroff', 'zaroff', 'zaroff', 'zaroff', 'zaroff', \"zaroff's\", 'zaroff,', 'zaroff,', 'zaroff,', 'zaroff.', 'zaroff.', 'zaroff.', 'zaroff.', 'zaroff.', 'zaroff.\"', 'zaroff.\"', 'zaroff.\"', 'zaroff;', 'zaroff;', 'zaroff?\"', 'zealous', 'zone.']\n"
     ]
    }
   ],
   "source": [
    "print(sorted(mdg_tokens))"
   ]
  },
  {
   "cell_type": "markdown",
   "metadata": {
    "slideshow": {
     "slide_type": "slide"
    }
   },
   "source": [
    "What's this? That's a lot of *a*s and *about*s. What happens if we look at just the words without repetition?"
   ]
  },
  {
   "cell_type": "code",
   "execution_count": 61,
   "metadata": {},
   "outputs": [
    {
     "name": "stdout",
     "output_type": "stream",
     "text": [
      "['\"', '\"a', '\"after', '\"again', '\"ah,', '\"and', '\"as', '\"bah!', '\"better', '\"but', '\"but,', '\"can\\'t', '\"cannibals?\"', '\"civilized?', '\"come,\"', '\"dear', '\"did', '\"don\\'t', '\"ennui.', '\"even', '\"follow', '\"for', '\"fractured', '\"general,\"', '\"get', '\"god', '\"good', '\"hardly.', '\"have', '\"he', '\"here', '\"how', '\"hunting', '\"hunting?', '\"hurled', '\"i', '\"i\\'ll', '\"i\\'m', '\"i\\'ve', '\"if', '\"in', '\"is', '\"it', '\"it\\'s', '\"ivan', '\"ivan,\"', '\"life', '\"maybe.', '\"mirage,\"', '\"my', '\"nerve,', '\"no', '\"no,', '\"no,\"', '\"no.', '\"nonsense,\"', '\"nor', '\"not', '\"off', '\"oh,', '\"oh,\"', '\"one', '\"perhaps', '\"perhaps,\"', '\"pistol', '\"precisely,\"', '\"pure', '\"rainsford!\"', '\"rainsford,\"', '\"really?\"', '\"right.', '\"simply', '\"so', '\"so,\"', '\"sometimes', '\"sorry', '\"splendid!', '\"suppose', '\"swam,\"', '\"thank', '\"that', '\"that\\'s', '\"the', '\"there', '\"they', '\"this', '\"tigers?\"', '\"to', '\"tonight,\"', '\"ugh!', '\"watch!', '\"we', '\"we\\'ll', '\"well,', '\"what', '\"where', '\"why', '\"why?\"', '\"will', '\"yes,', '\"yes?\"', '\"you', '\"you\\'ll', '\"you\\'re', '\"you\\'ve', '\"your', \"'ship-trap\", '--', '.', '...', '.the', '`a', \"`don't\", '`it', '`this', '`what', 'a', 'able', 'aboard', 'about', 'above', 'abrupt', 'abruptly,', 'absorbed', 'accent', 'accustomed', 'achieved', 'aching', 'acknowledge', 'acres', 'across', 'actually', 'added', 'added,', 'adjusted', 'admitted', 'advanced', 'affable', 'afford', 'afraid,', 'africa', 'africa.', 'after', 'afterdeck.\"', 'afternoon.', 'again', 'again,', 'again.', 'again;', 'against', 'age,', 'agility', 'ago.', 'agree', 'agreed', 'ah,', 'ahead', 'ahead.', 'air', 'air;', 'alarmed,\"', 'alertness,', 'all', 'all,', 'all,\"', 'all.', 'almost', 'alone.', 'along', 'along,', 'along.', 'aloud', 'although', 'always', \"always'\", 'always.', 'am', 'am,', 'amazon', 'amazon.', 'amended', 'amenities', 'america', 'america,', 'american', 'americans', 'among', 'amused,', 'amusing', 'an', 'analytical', 'ancestors.', 'and', 'and,', 'anger', 'angry', 'anguish', 'animal', 'animal,', 'animal.', 'animal?', 'animals', 'animated', 'annoyances', 'annoying.', 'another', 'answer', 'answer.\"', 'answered.', 'any', 'anyhow,', 'anyone', \"anything?'--\", 'ape.', 'apointments', 'apologetically', 'appear', 'appeared', 'appraising', 'apprehensive', 'approaching', 'ardent', 'are', 'are!', 'are!\"', 'are,', 'aristocrat.', 'arm', 'armed', 'arms', 'army', 'as', 'ask', 'asked', 'asked.', 'assure', 'astonishment', 'astrakhan.', 'at', 'ate', 'attention', 'attention.', 'attributes', 'au', 'aurelius.', 'automatic', 'automatically', 'avoid', 'awakened', 'away', 'away,', 'away.', 'back', 'back,', 'back.', 'back.\"', 'back?', 'bad', 'balance.', 'balanced', 'barbarous.', 'bark', 'baronial', 'bay', 'bay,\"', 'baying', 'be', 'be,', 'beam-ceilinged', 'bear', 'beard', 'bearded', 'bears;', 'beast', 'beaten', 'beaver,', 'became', 'become', 'bed', 'bed,', 'bed.', 'bedroom', 'bedroom.', 'been', 'before', 'before.', 'beg', 'began', 'beggars.', 'begin', 'beginning', 'behind', 'being,', 'being.', 'believe', 'below', 'below,', 'belt,', 'beneath', 'bent', 'bergere.', 'best', 'better', 'between', 'bewilderment', 'big', 'big,', 'big-game', 'biggest.\"', 'bird', 'bit', 'bit.', 'bitterly', 'bizarre', 'black', 'black,', 'black.', 'blacking', 'blackness', 'blackness,', 'blacks,', 'blade', 'blandly.', 'blanket.', 'bleak', 'blew', 'blinking', 'blood-warm', 'bloodhound', 'blotted', 'blow', 'blue', 'blue-green', 'bluff,', 'blunder', 'boast;', 'book', 'books', 'booming', 'boots', 'boots.', 'bore', 'bored', 'boredom.\"', 'borsch,', 'both', 'bottle', 'bottle.', 'bottom', 'bough', 'bought', 'bow,', 'bows.', 'braggart,', 'brain', 'brains', 'branches', 'branches,', 'brandy', 'breakfast.\"', 'breaking', 'breath', 'breath.', 'breeze', 'breeze.', 'brier.', 'bright.', 'brightened.', 'bring', 'broad', 'broadcast', 'brought', 'brown', 'bruised', 'brute', 'brute.\"', 'buffalo', 'building', 'built', 'burmese', 'burst', 'bush', 'bush,', 'business', 'businesslike', 'businessmen', 'but', 'but,', 'butterfly.', 'button,', 'by', 'by,', 'caliber', 'call', 'called', 'called,', 'called.', 'calm', 'came', 'came,', 'came.', 'can', \"can't\", 'can,', 'can.\"', 'cannibals', 'canopied', 'cape', 'capital', 'captain', 'care', 'carefully,', 'carelessly', 'cares', 'caribbean', 'carlo', 'carpet', 'carried', 'cartridge.', 'case', 'casually,', 'cat', 'cat;', 'caucasus', 'caught', 'cavalry,', 'ceased', 'ceiling,', 'celebrated', 'cellar.', 'certain', 'certainty.', 'chablis', 'chablis,', 'chair,', 'chambertin.', 'champagne', 'chance', 'change.', 'channel,\"', 'charge', 'charts', 'chase.\"', 'chateau', 'chateau.', 'chateau;', 'chatting', 'check.', 'cheekbones,', 'cheerfully', 'cheerfully.', 'chess!', 'chest.', 'chill.', 'chill;', 'china.', 'chinese,', 'choice', 'choose', 'chuckled.', 'cigarette', 'cigarette,', 'cigarette.', 'cigarettes;', 'city.\"', 'civilization', 'civilized', 'claimed', 'class,', 'classes', 'clear', 'clearheaded', 'clearly,', 'click', 'cliff', 'cliffs', 'cliffs.', 'climbed', 'cliquot,', 'closed', 'closed.', 'closely', 'closing', 'clothes', 'clothes,', 'clothes.', 'coast', 'cocked', 'cocktail', 'cocktail,', 'coffee.', 'cold', 'cold-blooded', 'collection', 'come', 'come,', 'come.', 'coming', 'coming;', 'commanded', 'company', 'compared', 'compares', 'complaint.\"', 'complicated', 'complimented', 'concealment.', 'concentration', 'concern', 'condition.', 'condone', 'conducted', 'confidence', 'congratulate', 'conserving', 'consideration.', 'containing', 'continued', 'coolheadedness', 'corner', 'corridor', 'cosmopolite.', 'cossack', 'cossack,\"', 'cossack.', 'could', 'count', 'country', 'country,', 'courage,', 'course', 'course,', 'course.', 'courtly', 'courtyard', 'courtyard.', 'cove', 'cover', 'covered', 'cowered', 'cr^epes', 'crackle', 'crags', 'crashed', 'crawled', 'creaked', 'cream', 'creature,', \"crew's\", 'cried', 'cries', 'crimea,', 'crimson', 'crimson.', 'crisp,', 'crocodiles', 'crook', 'crossed', 'crotch,', 'crouch', 'crouched', 'crouching', 'crush', 'crushed', 'cry', 'crystal,', 'cultivated', 'cunning,', 'cunning.', 'curious', 'curtains', 'cut', 'czar', 'czar,', 'danger', 'danger,', 'danger.', 'dangerous', 'dangerous.\"', 'dank', 'dark', 'dark,', 'dark,\"', 'dark.', 'darkness', 'darkness,', 'dashed', 'date', 'day', \"day's\", 'day,', 'day,\"', 'daybreak', 'days', 'days,', 'days.', 'dead', 'deaf', 'dear', 'death', 'death.', 'death.\"', 'debacle', 'decided.', 'deck', 'declared', 'deep,', 'deeper;', 'deepest', 'defeat', 'delay', 'deliberate', 'deliberately', 'deliberateness,', 'delicately', 'deliciously', 'dense', 'denser;', 'deplorable', 'desperate,', 'desperately', 'detected', 'determined', 'devil', 'did', \"didn't\", 'died,', 'difficult', 'dig.', 'digging', 'dimly,', 'dingy', 'dining', 'dinner', 'direction', 'direction,', 'direction.', 'disappointed.', 'disarming.', 'discerned', 'discuss', 'distance', 'distant', 'dived', 'diverting', 'division', 'do', 'do,\"', 'dodges', 'does', 'does,\"', \"doesn't\", 'doggedly', 'dogs.', 'dogs.\"', 'dogs?\"', \"don't\", 'done', 'door', 'door;', 'dosed', 'doubled', 'doubt,', 'doubt.', 'doubtless', 'down', 'down,', 'down.', 'doze', 'dozen', 'dragged', 'drawing', 'dread', 'dread.\"', 'dressed', 'dressed;', 'drew', 'drink', 'drive', 'driven', 'droll', 'drop', 'dropped', 'drove', 'drowsiness', 'dug', 'duke.', 'dull', 'dumb.', 'dusk', 'dusk.', 'dusty', 'eagerly', 'ears', 'ears,', 'earth', 'earth,', 'earth:', 'easier', 'easily', 'east', 'easy.', 'eat.', 'eating', 'edge', 'edges', 'educated', 'effort', 'effort,', 'eh?', 'eh?\"', 'electric', 'electricity.', 'elementary', 'elephants,', 'elevation;', 'eludes', 'empty', 'end,', 'endless', 'enemy,', 'energy.', 'engine', 'english,', 'enjoy', 'enjoyment.', 'enormous', 'enough', 'enough;', 'enthusiastically.', 'entire', 'entirely', 'erect,', 'escaped', 'even', 'evening', 'evening.', 'evening.\"', 'eventually', 'ever', 'ever-vanishing', 'every', 'everything.', 'evidence,', 'evident', 'evil', 'evil.', 'examined', 'exceedingly', 'excellent', 'excessively', 'excitedly', 'exciting', 'exclaimed', 'excuse', 'executed', 'exercise.', 'exhausted', 'expanse', 'expect', 'expectantly,', 'expected', 'experiences', 'expert', 'explained', 'explained:', 'expressed', 'extra', 'extraordinarily', 'extremely', 'extremity', 'eye', 'eyebrows', 'eyebrows;', 'eyelid', 'eyelids', 'eyes', 'eyes,', 'eyes,\"', 'eyes.', 'eyes;', 'fable.\"', 'face', 'face.', 'faced', 'failed', 'failed.', 'faint', 'faint,', 'fainter', 'fainter.', 'fair', 'fairly', 'fall', 'fall,', 'fall.', 'fall;', 'fallen', 'far', 'fascinated', 'fashion,', 'fashion.', 'fastened', 'father', 'faultlessly', 'favorite', 'fear', 'fear.', 'fear.\"', 'feel', 'feeling', 'feelings,', 'feels.', 'feels?\"', 'feet', 'feet.', 'fell', 'fell;', 'fellow', 'fellow,', 'fellow,\"', 'fellow.', 'felt', 'feudal', 'few', 'fiber', 'fifty', 'fight.', 'figure', 'filet', 'filled', 'find', 'finding', 'fine', 'finest', 'fingers', 'finished', 'fired', 'fireflies;', 'firmly,', 'first', 'fishy', 'fit', 'five', 'fixed', 'flash', 'flask,', 'flat', 'flattened', 'flee.', 'flickering', 'flight', 'flight,', 'floated', 'floor', 'floundered', 'flung', 'flushed', 'fluttered', 'flying', 'focused', 'foeman', 'folies', 'follow', 'follow,', 'follow,\"', 'followed', 'following', 'food', 'food,', 'food,\"', 'foolish', 'foot', 'foot.', 'for', 'forbidding', 'force;', 'forced', 'ford,', 'forehead', 'forged', 'forget', 'forgive', 'forms;', 'forth', 'forward', 'forward,', 'fought', 'found', 'found,', 'founded.\"', 'four', 'fox', 'fox,', 'fox.', 'fragment', 'frame', 'frame.', 'france', 'frantically.', 'free', 'french,', 'fresh', 'friend,\"', 'fringed', 'from', 'front', 'froze', 'full', 'function.', 'furnish', 'futile;', 'gag', 'game', 'game,', 'game.', 'game.\"', 'ganges,', 'gap', 'gap.', 'gargoyle', 'gasped', 'gasping,', 'gate.', 'gates', 'gave', 'general', \"general's\", 'general,', 'general,\"', 'general.', 'general.\"', 'general?\"', 'gentleman', 'genuine', 'get', 'getting', 'giant', 'giant.', 'gift?', 'gigantic', 'give', 'given', 'gives', 'giving', 'glad', 'glance', 'glancing', 'glaring', 'glass', 'glass,', 'glasses,', 'glittered', 'glittering', 'gloom.', 'gloomy', 'go', 'god', \"god's\", 'god-forsaken', 'going', 'going.', 'gold', 'gone,', 'good', 'good,', 'good;', 'got', 'gotten', 'grape.', 'grapevine', 'grass,', 'gravely,', 'gray', 'great', 'greater', 'greedy', 'green', 'greenly.', 'grew', 'grinding', 'grip', 'grip.', 'gripping', 'grisly', 'grizzliest', 'grotesque', 'ground', 'ground.', 'grow', 'growling', 'guard,', 'guess', 'guest', 'gun', 'gun,', 'gun.', 'guns', 'guns,', 'had', 'had.', \"hadn't\", 'hair', 'half', 'hall', 'hammer', 'hand', 'hand,', 'hand.', 'hands', 'handsome;', 'harbors', 'hard', 'hardly', 'hardwood', 'has', 'hastily:', 'have', 'have.', 'haversack', 'he', 'head', 'head.', 'headache', 'headed', 'headlong', 'heads', 'heads.', 'headway;', 'health.', 'heard', 'heard,', 'heart', 'heart,', 'heart.', 'heavily', 'heavy', 'heel', 'heels', 'held', 'help', 'helping', 'hence', 'here', 'here,\"', 'here.', 'here.\"', 'here?\"', 'hesitated.', 'hiding', 'high', 'high-powered', 'hills,', 'him', 'him!', 'him\"', 'him,', 'him.', 'him.\"', 'him;', 'himself', 'himself,', 'himself;', 'his', 'hissed.', 'hit', 'hoarse', 'hogshead', 'hold', 'holding', 'home', 'home.\"', 'honor', 'hope', 'hope,\"', 'hoped', 'hopeless', 'horror', 'horse', 'host', 'host,', 'hot', 'hothouse', 'hotly', 'hotly.', 'hound', 'hounds', 'hounds,', 'hounds.', \"hours'\", 'hours.', 'house', 'house,', 'how', 'huge', 'huge,', 'human', 'hummed', 'hundred', 'hung', 'hunger', 'hungry.\"', 'hunt', 'hunt,', 'hunt,\"', 'hunt.', 'hunt.\"', 'hunted', 'hunted?\"', 'huntees.', 'hunter', 'hunter,', 'hunter,\"', 'hunter.', 'hunters', 'hunters.', 'hunting', 'hunting,', 'hunting.', 'hunting.\"', 'hunting?', 'hurl', 'hurried', 'hurrying', 'hurt.', 'huskily.', 'i', \"i'll\", \"i'm\", \"i've\", 'i,', 'i,\"', 'i.\"', 'idea', 'idea.', 'ideal', 'ideas', 'if', 'ill', 'illumination', 'imagination,\"', 'imagine', 'imperative', 'imported,', 'impossible', 'impression', 'imprudent', 'impulse', 'in', 'in.', 'incense-like', 'incense.', 'inch', 'incredibly', 'indeed?\"', 'indicate', 'indolently', 'inevitable.', 'inevitably', 'inferior', 'injured', 'inquired', 'insane', 'insects', 'inspiration', 'inspiration.', 'instant.', 'instinct', 'instinct.', 'intent', 'interest', 'interesting,', 'into', 'intricate', 'invariably', 'invariably,', 'invent', 'invented', 'invested', 'iron', 'is', 'island', 'island,\"', 'island,\\'\"', 'island.', 'island.\"', 'island?\"', \"isn't\", 'it', \"it's\", 'it,', 'it,\"', 'it.', 'it.\"', 'it;', 'it?', 'it?\"', 'its', 'ivan', 'ivan\\'s?\"', 'ivan,', 'ivan.', 'ivan;', 'jagged', 'jaguar', 'jaguar.\"', 'jaguars,', 'jaws.', 'job', 'joke', 'joke.\"', 'joking.\"', 'joy,', 'jumpy', 'jungle', 'jungle,', 'jungle.', 'jungle.\"', 'jungles', 'just', 'jut', 'keep', 'kept', 'khaki', 'killed', 'killed.\"', 'kind', 'kind,', 'kind,\"', 'kings,', 'knees', 'knew', 'knife', 'knife,', 'knife.', 'knife;', 'knit', 'knocked', 'knocker', 'knocker,', 'knouter', 'know', 'know.', 'lacerated;', 'laid', 'land.', 'landed,', 'lapses.', 'large', 'larger', 'largest', 'lashed', 'lassars,', 'last', 'last,', 'last.\"', 'late', 'later.', 'laugh', 'laugh,', 'laughed', 'laughter', 'lay', 'lay,', 'lay;', 'lazarus', 'lazarus;', 'lean', 'leaned', 'leaped', 'learn', 'learned', 'leash.', 'least,\"', 'leather', 'leave', 'leaves', 'leech.', 'leering', 'left', 'leg-weary,', 'legs', 'lengths,', 'leopards', 'less', 'let', 'library', 'library?\"', 'licked', 'life', 'life,', 'life.', 'life.\"', 'lifted', 'light', 'light,', 'light.', 'lightning-charred', 'lights', 'lights.', 'like', 'limb', 'limbs,', 'limousine.', 'line;', 'linen,', 'lions,', 'lips', 'liqueur.', 'lit', 'little', 'live', 'lived', 'living', 'locked', 'lofty', 'log', 'london', 'long', 'long-barreled', 'long-bladed', 'long.', 'longer', 'look', 'looked', 'looks', 'loops;', 'loose', 'loose.', 'lore', 'lore,', 'lose', 'loses.\"', 'lost', 'lost,\"', 'lot,', 'loudness.', 'loved', 'low,', 'lucar', 'luck', 'luckily', 'luckily,', 'lunch.', 'luncheon.', 'lunged', 'lungs.', 'lying', 'machinery', 'madame', 'made', 'magnificence', 'mainland', 'make', 'makes', 'making', 'malacca.', 'malay', 'man', \"man's\", 'man,', 'man.', 'mancatcher.', 'manner,', 'many', 'marble', 'marcus', 'mark,', 'mark.', 'marked', 'marksmanship.', 'massive', 'match', 'mathematical', 'matter', 'matters,', 'may', 'maze', 'me', 'me!', 'me,', 'me,\"', 'me.', 'me.\"', 'me;', 'mean', 'mean-\"', 'mean?\"', 'meaning', 'meant', 'medieval', 'men', 'men,', 'men,\"', 'men.', 'men?\"', 'menacing', 'mental', 'mention', 'merest', 'metallic', 'methods', 'mid-victorian', 'middle', 'midnight', 'might', 'mignon.', 'mile', 'miles', 'military', 'million', 'mind', 'mind,', 'mind.', 'mine', 'mine.', 'minute', 'minute.', 'minutes', 'mirage,', 'misfortune', 'mistaken.', 'mists.', 'moccasins;', 'mocking', 'modern', 'modesty,', 'moist', 'moment', 'mongrels', 'monster', 'monster.\"', 'monte', 'months.', 'moon,', 'moonless', 'moonlight,', 'moose', 'moose,', 'more', 'more.', 'morning', 'moscow', 'moss', 'moss.', 'most', 'mounted', 'mouse.', 'mouth', 'mouth.', 'moved', 'moving', 'moving.', 'mr.', 'much', 'much,', 'muck', 'muffled', 'murder,\"', 'murder.\"', 'murderer.\"', 'muscle', 'must', 'mustache', \"mustn't\", 'muttered', 'muttering', 'my', 'myself', 'mystery', 'mystified.', 'naive,', 'name', 'name,', 'name.', 'nap,', 'narrowly.', 'native', 'natural,', 'naturally,', 'nature.', 'near', 'nearer', 'nearer,', 'nearer.', 'need', 'needed', 'needs', 'nerve', 'nerve!\"', 'nerve,', 'nerve,\"', 'nerve.', 'nerves', 'never', 'nevertheless', 'new', 'nielsen', 'night', \"night's\", 'night,', 'night.', 'night.\"', 'night;', 'no', 'noble', \"noblemen's\", 'nodded', 'nodded.', 'noise,', 'noiseless', 'none', 'none;', 'nor', 'nose,', 'nostrils.', 'not', 'not.', 'not.\"', 'not?', 'not?\"', 'noted,', 'nothing', 'notice', 'noticed', 'notions', 'now', 'now,', 'now,\"', 'now.', 'now?', 'nowadays', 'numb.', 'nursing', 'nut.\"', 'oaken', 'object', 'objected', 'observed', 'obstacle', 'obvious', 'occasionally', 'occur', 'ocean', 'odd.', 'of', 'off', 'offered', 'officer', 'official', 'often', 'old', 'on', 'on,', 'on.', 'once', 'once.\"', 'one', 'one,', 'one.', 'one.\"', 'only', 'ooze.', 'opaqueness;', 'open', 'open.', 'opened', 'operations,', 'opiate', 'option,', 'or', 'orders,', 'ordinarily', 'original,', 'other', 'our', 'out', 'out,', 'out.', 'outdoor', 'outlines', 'outside', 'outspread', 'over', 'own', 'pack', 'pack.', 'padding', 'pain', 'pajamas', 'palates.', 'palatial', 'palpable', 'paneled', 'panels,', 'panic.', 'panted,', 'panther,', 'paris.', 'part', 'particularly', 'passed', 'passion', 'past', 'pastime', 'patch', 'path', 'pattern', 'patterns', 'paused,', 'peer', 'pent-up', 'perfect', 'perfection.\"', 'perfume', 'perfumed', 'perhaps', 'perils', 'philosopher.', 'physical', 'pick', 'picked', 'picking', 'picture', 'pieces', 'pieces,\"', 'pinched', 'pipe', 'pipe,', 'pistol', 'pistol,', 'pistol.', 'pit', 'pit.', 'place', 'place.', 'place?', 'placid', 'planted', 'plate', 'plate-glass', 'play', 'played', 'playing', 'playing,\"', 'pleasant', 'please', 'please,', 'please.', 'pleasure', 'pleasure.', 'plenty', 'plunged', 'plunging', 'pocket', 'poets.', 'point', 'point.', 'pointed', 'pointing', 'points', 'poisonous.', 'pol', 'poor', 'poorer', 'port?\"', 'position', 'possibilities,', 'possibly', 'postponing', 'pour', 'poured', 'power.', 'powers;', 'precariously', 'precision', 'prehistoric', 'preserve', 'pressed', 'print', 'prize', 'problem.', 'problems', 'prolonged', 'promised', 'promising', 'propeller.', \"proposition.'\", 'prospect', 'protested,', 'protruding', 'providence', 'proving', 'published', 'puffed', 'pulled', 'pungent', 'punish', 'pupils', \"purdey's.\", 'puritan', 'purposes', 'pursued', 'pursuer', 'pursuers', 'pushed', 'put', 'puzzled.', 'quality', 'quarry', 'quarry.', \"quarry?'\", 'quarter', 'question,', 'questioning', 'quick', 'quicker', 'quickly', 'quicksand', 'quicksand.', 'quiet', 'quite', 'quizzically.', 'race,', 'raced', 'ragged', 'rail', 'rail,', 'rains.', 'rainsford', \"rainsford's\", 'rainsford,', 'rainsford,\"', 'rainsford.', 'rainsford.\"', 'rainsford;', 'rainsford?\"', 'rains{ord,', 'raise', 'raised', 'ran', 'range.', 'rank', 'ranker,', 'rare', 'rather', 'raw,', 'razor', 'reached', 'read', 'read,', 'ready,', 'real', 'realist.', 'realized', 'really', 'reappeared,', 'reason', 'reason,', 'reason,\"', 'reason.', 'reason.\"\\'', 'recalling', 'receding', 'reclining', 'recognize', 'recognized', 'recoil', 'recovered', 'red', 'red-lipped', 'refectory', 'refuse', 'refuses', 'regarded', 'regarding', 'regret', 'regrettable', 'remained', 'remaining', 'remarkable.', 'remarked', 'remarked.', 'remember,', 'remembered', 'repast', 'replace', 'replied.', 'reply;', 'report', 'reports', 'reputation', 'resourceful', 'rest', 'rest.', 'rest.\"', 'rested', 'rested.', 'restful', 'rests', 'revoir,', 'revoir.\"', 'revolver', 'revolver,', 'revolver.', 'rhinoceroses', 'rich', 'rich,', 'ridge', 'ridge.', 'rifle.', 'right', 'right,', 'righteous', 'rigidly', 'ring', 'rio,\"', 'ripple', 'river', 'robber.', 'rockies,', 'rocks', 'rocky', 'roger', 'romantic', 'room', 'room.', 'rope,', 'rot,', 'rotten', 'rough', 'rowers', 'rubbing', 'rude', 'rumbled', 'russia', 'russian', 'russian.', 'russian?\"', 'russians', 'sack', 'safe', 'said', 'said,', 'said.', 'sailor', 'sailors', 'sailors;', 'sallow', 'salt', 'salute,', 'saluted,', 'same', 'san', 'sanger', 'sank', 'sapling', 'sapling.', 'saplings', 'sash', 'sat', 'savage.\"', 'savagely.', 'saving', 'saw', 'saw.\"', 'say', 'say,', 'say.', 'saying.', 'scent.', 'school,\"', 'score', 'score.', 'scowling,', 'scream', 'screamed', 'screaming', 'screen', 'scruples', 'scum', 'sea', 'sea,', 'sea.', 'seafaring', 'searching', 'seas', 'second', \"second's\", 'second;', 'securities,', 'security.', 'see', 'see,', 'see,\"', 'see.', 'seem', 'seemed', 'seemingly', 'seen', 'seen.', 'sends', 'sensation.', 'sense', 'sensed', 'sensuous', 'sent', 'series', 'serious,', 'serious?', 'served', 'serving', 'set', 'settle', 'seven', 'several', 'sewed', 'shadow,', 'shadows.', 'shadowy', 'shall', 'shallow', 'shapes;', 'sharp', 'sharpcut', 'sharpened', 'shattered', 'sheath', 'shinned', 'ship', \"ship's\", 'ships', 'shook', 'shoot', 'shore', 'shore,', 'shore.', 'short', 'short,', 'shot', 'shot,\"', 'shots', 'shots,', 'shots.', 'should', 'shoulder', 'shoulder,', 'shoulders', 'shoulders,', 'shoulders.', \"shouldn't\", 'shouted', 'show', 'showed', 'shrugged', 'shudder', 'shut', 'sick', 'sides', 'siesta', 'sighed', 'sighed.', 'sighted', 'sign', 'sign.', 'silence', 'silent', 'silent;', 'silk,', 'silver', 'silver,', 'simple', 'singularly', 'sipped', 'sir.', \"sir.'\", 'sit', 'sitting,', 'situation.', 'six', 'skull.', 'sky,', 'slapped', 'sleep', 'sleep.', 'sleepy,\"', 'slender', 'slept', 'slid', 'slight', 'slightest', 'slipping', 'sloop', 'slow', 'slow,', 'slowly', 'slowly,', 'small', 'small,', 'smaller,', 'smallest', 'smashed', 'smell', 'smile', 'smile.', 'smiled', 'smiled.', 'smiled?', 'smiling', 'smoke', 'snake', 'snapped', 'snarl', 'snarled', 'snatch', 'snow', 'snuffbox', 'so', 'so,', 'so,\"', 'so.\"', 'society.\"', 'soft', 'soft,', 'softer', 'softest', 'softness', 'solicitous', 'solicitously.', 'solidly', 'some', 'somehow.', 'someone', 'something', 'something.', 'sometimes', 'sometimes,', 'somewhere', 'somewhere,', 'song', 'sons', 'soon', 'soothe', 'sort', 'sought', 'sound', 'sound,', 'sound.', 'sound;', 'soup', 'southeast', 'spanish', 'spare,', 'sparrows', 'speak', 'speak,', 'speaking', 'specially', 'specimens', 'speeding', 'spiked', 'splendid', 'splitting', 'spoke', 'sport', 'sport!', 'sport,', 'sport.', 'sporting', 'sportsman.', 'spot.\"', 'sprang', 'spread', 'spring', 'spring.', 'springing', 'springy', 'spurred', 'squire.', 'staccato.', 'staggered,', 'stained', 'stake', 'stakes', 'stalking', 'stamina', 'stand', 'standing', 'standing,', 'staring', 'start,', 'start.', 'started', 'startled', 'state', 'statue.', 'stay', 'stealthy', 'steamer', 'steel', 'steered', 'stepped', 'steps', 'steps,', 'sticking', 'stiffly,', 'stiffly.', 'still', 'stock', 'stone', 'stone,', 'stood', 'stood,', 'stop', 'stopped', 'stopped,', 'stopped.', 'store', 'straight', 'straightened', 'strained', 'straining', 'strange,', 'strangle.', 'strength', 'strength.', 'stretching', 'strike', 'striking', 'strokes', 'strokes,', 'strokes;', 'strolled', 'strong', 'strong,', 'strong.', 'struck', 'structure', 'struggled', 'studied', 'studying', 'stump', 'stupid', 'success.', 'such', 'sucked', 'sudden', 'suddenly', 'suffered', 'suggest', 'suggest,', 'suggest.', 'suggested', 'suggested.', 'suggestive', 'suicide.', 'suit,', 'sun', 'superstition', 'superstitious', 'supplies', 'supply', 'suppose', 'surely', 'sureness', 'surface', 'surged', 'surmounted', 'surpassingly', 'surprise.', 'surprised', 'suzette,', 'swam', 'swamp', 'swamp,', 'swamp.', 'swamps', 'sweat', 'swede,', 'swiftly', 'swiftness;', 'swim.', 'swimming', 'swirling', 'swish', 'switched', 'swum', 'table', 'table,', 'tables', 'tackle', 'tailor', 'taint', 'take', 'taken', 'taking', 'talk', 'tall', 'tangible', 'tangle', 'tapestry,', 'tartar.', 'tasted', 'taxi', 'tear', 'tearoom', 'teeth.', 'tell', 'tells', 'ten', 'ten.', 'tensed', 'tent', 'terrible', 'terrible.', 'terror.', 'than', 'thank', 'that', \"that's\", 'the', 'their', 'them', 'them,', 'them.', 'them.\"', 'them;', 'them?\"', 'then', 'then,', 'then-', 'then.', 'there', 'there!\"', \"there's\", 'there,', 'there.', 'these', 'they', \"they're\", \"they've\", 'thick', 'thickets', 'thickly', 'thing', 'thing.', 'things', 'things.', 'think', 'think,', 'think,\"', 'think.\"', 'think?', 'thinking.', 'third', 'this', 'this:', 'thoroughbred', 'those', 'thought', 'thought,', 'thought,\"', 'thought.', 'thoughtful', 'thrashed', 'three', 'threw', 'thrill', 'throb', 'through', 'throw', 'throwing', 'thrust', 'thumb', 'tibet,', 'tied', 'tiger', 'tigers', 'tigers,', 'tight', 'tightening', 'till', 'time', 'time,\"', 'times', 'times,', 'times.', 'tip;', 'tired', 'tired,', 'tiredness,', 'to', 'to.', 'to;', 'today,\"', 'today?\"', 'together', 'told', 'tomorrow', 'tomorrow.\"', 'tone,', 'tongue', 'tonight,', 'tonight,\"', 'too', 'too,', 'too.', 'took', 'top.', 'torch', 'tore', 'touched', 'tough-minded', 'toward', 'towers', 'towers.', 'town.\"', 'trace', 'traces', 'track,', 'trackless', 'tragic', 'trail', 'trail.', 'trail;', 'trailed', 'training', 'trait', 'traits', 'tramp', 'trap,\"', 'traveling', 'treat', 'tree', 'tree,', 'tree,\"', 'tree.', 'trees', 'trees;', 'trick', 'tried', 'trigger,', 'trigger.', 'trimmed', 'trip?\"', 'tropical', 'trouble', 'true', 'true,', 'trunk', 'trust', 'truth', 'try', 'trying', 'tumbled', 'turkeys', 'turkish', 'turn', 'turn,', 'turned', 'turning', 'tweeds', 'twenty', 'twenty-two,\"', 'twig,', 'two', 'twoscore', 'uganda.', 'unbroken', 'uncanny', 'uncomfortable.', 'under', 'underbrush', 'underbrush;', 'understand', 'understanding.\"', 'understood', 'uniform', 'uniform,', 'unless', 'unpleasant', 'unreality.', 'unruffled,', 'unseen', 'until', 'unusual', 'unusually', 'up', 'up,', 'up.', 'upon', 'upward', 'upward,', 'us', 'use', 'used', 'used.', 'utmost', 'utter', 'valley', 'value', 'value,', 'varnishing', 'vast', 'vegetation', 'velvet.\"', 'venerable', 'venture', 'very', 'veuve', 'vibrations', 'viciously', 'view.', 'vigor;', 'village,', 'violent', 'visit', 'visitors', 'vitality', 'vivid', 'voice', 'voice,', 'voice.', 'voices', 'wager', 'wager.', 'waist.', 'wait', 'wait.', 'waiter,', 'walked', 'walking', 'walnut', 'wan', 'want', 'wanted', 'war', 'warm', 'was', 'was,', 'was?\"', 'wash', 'watched.', 'water', 'water,', 'water.', 'watercourse,', 'waters', 'waters.', 'wave', 'wavering,', 'way', 'way,', 'way;', 'ways', 'we', \"we'll\", \"we're\", \"we've\", 'weak', 'wear', 'weariness', 'weather', 'weaving', 'web', 'weeds', 'weeds;', 'welcome', 'well', 'well,', 'well-cooked', 'well.', 'well.\"', 'went', 'were', 'weren\\'t.\"', 'wet', 'what', 'when', 'when,', 'whenever', 'where', 'which', 'whipped', 'white', 'white;', 'whites,', 'whitney', 'whitney,', 'whitney,\"', 'whitney.', 'whitney.\"', 'who', \"who'd\", 'whole', 'wholly', 'whose', 'why', 'why.', 'wide', 'wide-open', 'widened.', 'wild', 'wilderness.', 'will', 'win', 'win.', 'win?\"', 'winding', 'window', 'window.', 'windows', 'wine.', 'wink.', 'wins', 'wish', 'wish,', 'with', 'with,', 'with.', 'withdrew.', 'within', 'within;', 'without', 'wits', 'wits.\"', 'won', 'wondered,', 'wonderful', 'woodcraft', 'wooded', 'woods', 'woods.', 'word', 'word.', 'words,', 'work', 'worked', 'works', 'world', 'world,\"', 'world.', 'worried,', 'worth', 'worthy', 'would', \"wouldn't\", 'wound', 'wounded', 'wove', 'wrench', 'wrestled', 'wrong,', 'yacht', 'yacht,', 'yacht.', 'yards', 'yards,', 'yards,\"', 'year', 'years', 'yes,', 'yes,\"', 'yet', 'yet?\"', 'york', 'york,\"', 'you', \"you'll\", \"you're\", \"you've\", 'you,', 'you,\"', 'you.', 'you.\"', 'you?\"', 'young', 'younger', 'your', 'yourself', 'zaroff', \"zaroff's\", 'zaroff,', 'zaroff.', 'zaroff.\"', 'zaroff;', 'zaroff?\"', 'zealous', 'zone.']\n"
     ]
    }
   ],
   "source": [
    "print(sorted(set(mdg_tokens)))"
   ]
  },
  {
   "cell_type": "markdown",
   "metadata": {
    "slideshow": {
     "slide_type": "slide"
    }
   },
   "source": [
    "That looks like a lot of words. If we ask how many by counting how long the set of words is, we get: "
   ]
  },
  {
   "cell_type": "code",
   "execution_count": 62,
   "metadata": {},
   "outputs": [
    {
     "name": "stdout",
     "output_type": "stream",
     "text": [
      "There are 2589 words in \"The Most Dangerous Game.\"\n"
     ]
    }
   ],
   "source": [
    "# Notice how I enclose the text I want to print in single quotes\n",
    "# so that I can use double quotes in the text itself:\n",
    "print('There are {} words in \"The Most Dangerous Game.\"'.format(len(set(mdg_tokens))))"
   ]
  },
  {
   "cell_type": "markdown",
   "metadata": {},
   "source": [
    "### Stacked Tokenizers\n"
   ]
  },
  {
   "cell_type": "code",
   "execution_count": 20,
   "metadata": {},
   "outputs": [],
   "source": [
    "fdist = nltk.FreqDist()\n",
    "for sentence in nltk.tokenize.sent_tokenize(mdg):\n",
    "    for word in nltk.tokenize.word_tokenize(sentence):\n",
    "        fdist[word] += 1"
   ]
  },
  {
   "cell_type": "code",
   "execution_count": 24,
   "metadata": {},
   "outputs": [
    {
     "name": "stdout",
     "output_type": "stream",
     "text": [
      "[('.', 640), (',', 556), ('the', 439), ('a', 246), ('``', 223), (\"''\", 210), ('I', 178), ('he', 173), ('of', 171), ('and', 155)]\n"
     ]
    }
   ],
   "source": [
    "print(fdist.most_common(10))"
   ]
  },
  {
   "cell_type": "code",
   "execution_count": 21,
   "metadata": {},
   "outputs": [
    {
     "name": "stdout",
     "output_type": "stream",
     "text": [
      "<generator object <genexpr> at 0x11ff86ba0>\n"
     ]
    }
   ],
   "source": [
    "sentences = nltk.tokenize.sent_tokenize(mdg)\n",
    "# print(sentence for sentence in sentences[0:10])"
   ]
  },
  {
   "cell_type": "code",
   "execution_count": 22,
   "metadata": {},
   "outputs": [
    {
     "ename": "TypeError",
     "evalue": "expected string or bytes-like object",
     "output_type": "error",
     "traceback": [
      "\u001b[0;31m---------------------------------------------------------------------------\u001b[0m",
      "\u001b[0;31mTypeError\u001b[0m                                 Traceback (most recent call last)",
      "\u001b[0;32m<ipython-input-22-a615a9a32fe5>\u001b[0m in \u001b[0;36m<module>\u001b[0;34m\u001b[0m\n\u001b[0;32m----> 1\u001b[0;31m \u001b[0mtokens\u001b[0m \u001b[0;34m=\u001b[0m \u001b[0mnltk\u001b[0m\u001b[0;34m.\u001b[0m\u001b[0mtokenize\u001b[0m\u001b[0;34m.\u001b[0m\u001b[0mword_tokenize\u001b[0m\u001b[0;34m(\u001b[0m\u001b[0msentences\u001b[0m\u001b[0;34m)\u001b[0m\u001b[0;34m\u001b[0m\u001b[0;34m\u001b[0m\u001b[0m\n\u001b[0m",
      "\u001b[0;32m/opt/local/Library/Frameworks/Python.framework/Versions/3.6/lib/python3.6/site-packages/nltk/tokenize/__init__.py\u001b[0m in \u001b[0;36mword_tokenize\u001b[0;34m(text, language, preserve_line)\u001b[0m\n\u001b[1;32m    141\u001b[0m     \u001b[0;34m:\u001b[0m\u001b[0mtype\u001b[0m \u001b[0mpreserve_line\u001b[0m\u001b[0;34m:\u001b[0m \u001b[0mbool\u001b[0m\u001b[0;34m\u001b[0m\u001b[0;34m\u001b[0m\u001b[0m\n\u001b[1;32m    142\u001b[0m     \"\"\"\n\u001b[0;32m--> 143\u001b[0;31m     \u001b[0msentences\u001b[0m \u001b[0;34m=\u001b[0m \u001b[0;34m[\u001b[0m\u001b[0mtext\u001b[0m\u001b[0;34m]\u001b[0m \u001b[0;32mif\u001b[0m \u001b[0mpreserve_line\u001b[0m \u001b[0;32melse\u001b[0m \u001b[0msent_tokenize\u001b[0m\u001b[0;34m(\u001b[0m\u001b[0mtext\u001b[0m\u001b[0;34m,\u001b[0m \u001b[0mlanguage\u001b[0m\u001b[0;34m)\u001b[0m\u001b[0;34m\u001b[0m\u001b[0;34m\u001b[0m\u001b[0m\n\u001b[0m\u001b[1;32m    144\u001b[0m     return [\n\u001b[1;32m    145\u001b[0m         \u001b[0mtoken\u001b[0m \u001b[0;32mfor\u001b[0m \u001b[0msent\u001b[0m \u001b[0;32min\u001b[0m \u001b[0msentences\u001b[0m \u001b[0;32mfor\u001b[0m \u001b[0mtoken\u001b[0m \u001b[0;32min\u001b[0m \u001b[0m_treebank_word_tokenizer\u001b[0m\u001b[0;34m.\u001b[0m\u001b[0mtokenize\u001b[0m\u001b[0;34m(\u001b[0m\u001b[0msent\u001b[0m\u001b[0;34m)\u001b[0m\u001b[0;34m\u001b[0m\u001b[0;34m\u001b[0m\u001b[0m\n",
      "\u001b[0;32m/opt/local/Library/Frameworks/Python.framework/Versions/3.6/lib/python3.6/site-packages/nltk/tokenize/__init__.py\u001b[0m in \u001b[0;36msent_tokenize\u001b[0;34m(text, language)\u001b[0m\n\u001b[1;32m    103\u001b[0m     \"\"\"\n\u001b[1;32m    104\u001b[0m     \u001b[0mtokenizer\u001b[0m \u001b[0;34m=\u001b[0m \u001b[0mload\u001b[0m\u001b[0;34m(\u001b[0m\u001b[0;34m'tokenizers/punkt/{0}.pickle'\u001b[0m\u001b[0;34m.\u001b[0m\u001b[0mformat\u001b[0m\u001b[0;34m(\u001b[0m\u001b[0mlanguage\u001b[0m\u001b[0;34m)\u001b[0m\u001b[0;34m)\u001b[0m\u001b[0;34m\u001b[0m\u001b[0;34m\u001b[0m\u001b[0m\n\u001b[0;32m--> 105\u001b[0;31m     \u001b[0;32mreturn\u001b[0m \u001b[0mtokenizer\u001b[0m\u001b[0;34m.\u001b[0m\u001b[0mtokenize\u001b[0m\u001b[0;34m(\u001b[0m\u001b[0mtext\u001b[0m\u001b[0;34m)\u001b[0m\u001b[0;34m\u001b[0m\u001b[0;34m\u001b[0m\u001b[0m\n\u001b[0m\u001b[1;32m    106\u001b[0m \u001b[0;34m\u001b[0m\u001b[0m\n\u001b[1;32m    107\u001b[0m \u001b[0;34m\u001b[0m\u001b[0m\n",
      "\u001b[0;32m/opt/local/Library/Frameworks/Python.framework/Versions/3.6/lib/python3.6/site-packages/nltk/tokenize/punkt.py\u001b[0m in \u001b[0;36mtokenize\u001b[0;34m(self, text, realign_boundaries)\u001b[0m\n\u001b[1;32m   1267\u001b[0m         \u001b[0mGiven\u001b[0m \u001b[0ma\u001b[0m \u001b[0mtext\u001b[0m\u001b[0;34m,\u001b[0m \u001b[0mreturns\u001b[0m \u001b[0ma\u001b[0m \u001b[0mlist\u001b[0m \u001b[0mof\u001b[0m \u001b[0mthe\u001b[0m \u001b[0msentences\u001b[0m \u001b[0;32min\u001b[0m \u001b[0mthat\u001b[0m \u001b[0mtext\u001b[0m\u001b[0;34m.\u001b[0m\u001b[0;34m\u001b[0m\u001b[0;34m\u001b[0m\u001b[0m\n\u001b[1;32m   1268\u001b[0m         \"\"\"\n\u001b[0;32m-> 1269\u001b[0;31m         \u001b[0;32mreturn\u001b[0m \u001b[0mlist\u001b[0m\u001b[0;34m(\u001b[0m\u001b[0mself\u001b[0m\u001b[0;34m.\u001b[0m\u001b[0msentences_from_text\u001b[0m\u001b[0;34m(\u001b[0m\u001b[0mtext\u001b[0m\u001b[0;34m,\u001b[0m \u001b[0mrealign_boundaries\u001b[0m\u001b[0;34m)\u001b[0m\u001b[0;34m)\u001b[0m\u001b[0;34m\u001b[0m\u001b[0;34m\u001b[0m\u001b[0m\n\u001b[0m\u001b[1;32m   1270\u001b[0m \u001b[0;34m\u001b[0m\u001b[0m\n\u001b[1;32m   1271\u001b[0m     \u001b[0;32mdef\u001b[0m \u001b[0mdebug_decisions\u001b[0m\u001b[0;34m(\u001b[0m\u001b[0mself\u001b[0m\u001b[0;34m,\u001b[0m \u001b[0mtext\u001b[0m\u001b[0;34m)\u001b[0m\u001b[0;34m:\u001b[0m\u001b[0;34m\u001b[0m\u001b[0;34m\u001b[0m\u001b[0m\n",
      "\u001b[0;32m/opt/local/Library/Frameworks/Python.framework/Versions/3.6/lib/python3.6/site-packages/nltk/tokenize/punkt.py\u001b[0m in \u001b[0;36msentences_from_text\u001b[0;34m(self, text, realign_boundaries)\u001b[0m\n\u001b[1;32m   1321\u001b[0m         \u001b[0mfollows\u001b[0m \u001b[0mthe\u001b[0m \u001b[0mperiod\u001b[0m\u001b[0;34m.\u001b[0m\u001b[0;34m\u001b[0m\u001b[0;34m\u001b[0m\u001b[0m\n\u001b[1;32m   1322\u001b[0m         \"\"\"\n\u001b[0;32m-> 1323\u001b[0;31m         \u001b[0;32mreturn\u001b[0m \u001b[0;34m[\u001b[0m\u001b[0mtext\u001b[0m\u001b[0;34m[\u001b[0m\u001b[0ms\u001b[0m\u001b[0;34m:\u001b[0m\u001b[0me\u001b[0m\u001b[0;34m]\u001b[0m \u001b[0;32mfor\u001b[0m \u001b[0ms\u001b[0m\u001b[0;34m,\u001b[0m \u001b[0me\u001b[0m \u001b[0;32min\u001b[0m \u001b[0mself\u001b[0m\u001b[0;34m.\u001b[0m\u001b[0mspan_tokenize\u001b[0m\u001b[0;34m(\u001b[0m\u001b[0mtext\u001b[0m\u001b[0;34m,\u001b[0m \u001b[0mrealign_boundaries\u001b[0m\u001b[0;34m)\u001b[0m\u001b[0;34m]\u001b[0m\u001b[0;34m\u001b[0m\u001b[0;34m\u001b[0m\u001b[0m\n\u001b[0m\u001b[1;32m   1324\u001b[0m \u001b[0;34m\u001b[0m\u001b[0m\n\u001b[1;32m   1325\u001b[0m     \u001b[0;32mdef\u001b[0m \u001b[0m_slices_from_text\u001b[0m\u001b[0;34m(\u001b[0m\u001b[0mself\u001b[0m\u001b[0;34m,\u001b[0m \u001b[0mtext\u001b[0m\u001b[0;34m)\u001b[0m\u001b[0;34m:\u001b[0m\u001b[0;34m\u001b[0m\u001b[0;34m\u001b[0m\u001b[0m\n",
      "\u001b[0;32m/opt/local/Library/Frameworks/Python.framework/Versions/3.6/lib/python3.6/site-packages/nltk/tokenize/punkt.py\u001b[0m in \u001b[0;36m<listcomp>\u001b[0;34m(.0)\u001b[0m\n\u001b[1;32m   1321\u001b[0m         \u001b[0mfollows\u001b[0m \u001b[0mthe\u001b[0m \u001b[0mperiod\u001b[0m\u001b[0;34m.\u001b[0m\u001b[0;34m\u001b[0m\u001b[0;34m\u001b[0m\u001b[0m\n\u001b[1;32m   1322\u001b[0m         \"\"\"\n\u001b[0;32m-> 1323\u001b[0;31m         \u001b[0;32mreturn\u001b[0m \u001b[0;34m[\u001b[0m\u001b[0mtext\u001b[0m\u001b[0;34m[\u001b[0m\u001b[0ms\u001b[0m\u001b[0;34m:\u001b[0m\u001b[0me\u001b[0m\u001b[0;34m]\u001b[0m \u001b[0;32mfor\u001b[0m \u001b[0ms\u001b[0m\u001b[0;34m,\u001b[0m \u001b[0me\u001b[0m \u001b[0;32min\u001b[0m \u001b[0mself\u001b[0m\u001b[0;34m.\u001b[0m\u001b[0mspan_tokenize\u001b[0m\u001b[0;34m(\u001b[0m\u001b[0mtext\u001b[0m\u001b[0;34m,\u001b[0m \u001b[0mrealign_boundaries\u001b[0m\u001b[0;34m)\u001b[0m\u001b[0;34m]\u001b[0m\u001b[0;34m\u001b[0m\u001b[0;34m\u001b[0m\u001b[0m\n\u001b[0m\u001b[1;32m   1324\u001b[0m \u001b[0;34m\u001b[0m\u001b[0m\n\u001b[1;32m   1325\u001b[0m     \u001b[0;32mdef\u001b[0m \u001b[0m_slices_from_text\u001b[0m\u001b[0;34m(\u001b[0m\u001b[0mself\u001b[0m\u001b[0;34m,\u001b[0m \u001b[0mtext\u001b[0m\u001b[0;34m)\u001b[0m\u001b[0;34m:\u001b[0m\u001b[0;34m\u001b[0m\u001b[0;34m\u001b[0m\u001b[0m\n",
      "\u001b[0;32m/opt/local/Library/Frameworks/Python.framework/Versions/3.6/lib/python3.6/site-packages/nltk/tokenize/punkt.py\u001b[0m in \u001b[0;36mspan_tokenize\u001b[0;34m(self, text, realign_boundaries)\u001b[0m\n\u001b[1;32m   1311\u001b[0m         \u001b[0;32mif\u001b[0m \u001b[0mrealign_boundaries\u001b[0m\u001b[0;34m:\u001b[0m\u001b[0;34m\u001b[0m\u001b[0;34m\u001b[0m\u001b[0m\n\u001b[1;32m   1312\u001b[0m             \u001b[0mslices\u001b[0m \u001b[0;34m=\u001b[0m \u001b[0mself\u001b[0m\u001b[0;34m.\u001b[0m\u001b[0m_realign_boundaries\u001b[0m\u001b[0;34m(\u001b[0m\u001b[0mtext\u001b[0m\u001b[0;34m,\u001b[0m \u001b[0mslices\u001b[0m\u001b[0;34m)\u001b[0m\u001b[0;34m\u001b[0m\u001b[0;34m\u001b[0m\u001b[0m\n\u001b[0;32m-> 1313\u001b[0;31m         \u001b[0;32mfor\u001b[0m \u001b[0msl\u001b[0m \u001b[0;32min\u001b[0m \u001b[0mslices\u001b[0m\u001b[0;34m:\u001b[0m\u001b[0;34m\u001b[0m\u001b[0;34m\u001b[0m\u001b[0m\n\u001b[0m\u001b[1;32m   1314\u001b[0m             \u001b[0;32myield\u001b[0m \u001b[0;34m(\u001b[0m\u001b[0msl\u001b[0m\u001b[0;34m.\u001b[0m\u001b[0mstart\u001b[0m\u001b[0;34m,\u001b[0m \u001b[0msl\u001b[0m\u001b[0;34m.\u001b[0m\u001b[0mstop\u001b[0m\u001b[0;34m)\u001b[0m\u001b[0;34m\u001b[0m\u001b[0;34m\u001b[0m\u001b[0m\n\u001b[1;32m   1315\u001b[0m \u001b[0;34m\u001b[0m\u001b[0m\n",
      "\u001b[0;32m/opt/local/Library/Frameworks/Python.framework/Versions/3.6/lib/python3.6/site-packages/nltk/tokenize/punkt.py\u001b[0m in \u001b[0;36m_realign_boundaries\u001b[0;34m(self, text, slices)\u001b[0m\n\u001b[1;32m   1352\u001b[0m         \"\"\"\n\u001b[1;32m   1353\u001b[0m         \u001b[0mrealign\u001b[0m \u001b[0;34m=\u001b[0m \u001b[0;36m0\u001b[0m\u001b[0;34m\u001b[0m\u001b[0;34m\u001b[0m\u001b[0m\n\u001b[0;32m-> 1354\u001b[0;31m         \u001b[0;32mfor\u001b[0m \u001b[0msl1\u001b[0m\u001b[0;34m,\u001b[0m \u001b[0msl2\u001b[0m \u001b[0;32min\u001b[0m \u001b[0m_pair_iter\u001b[0m\u001b[0;34m(\u001b[0m\u001b[0mslices\u001b[0m\u001b[0;34m)\u001b[0m\u001b[0;34m:\u001b[0m\u001b[0;34m\u001b[0m\u001b[0;34m\u001b[0m\u001b[0m\n\u001b[0m\u001b[1;32m   1355\u001b[0m             \u001b[0msl1\u001b[0m \u001b[0;34m=\u001b[0m \u001b[0mslice\u001b[0m\u001b[0;34m(\u001b[0m\u001b[0msl1\u001b[0m\u001b[0;34m.\u001b[0m\u001b[0mstart\u001b[0m \u001b[0;34m+\u001b[0m \u001b[0mrealign\u001b[0m\u001b[0;34m,\u001b[0m \u001b[0msl1\u001b[0m\u001b[0;34m.\u001b[0m\u001b[0mstop\u001b[0m\u001b[0;34m)\u001b[0m\u001b[0;34m\u001b[0m\u001b[0;34m\u001b[0m\u001b[0m\n\u001b[1;32m   1356\u001b[0m             \u001b[0;32mif\u001b[0m \u001b[0;32mnot\u001b[0m \u001b[0msl2\u001b[0m\u001b[0;34m:\u001b[0m\u001b[0;34m\u001b[0m\u001b[0;34m\u001b[0m\u001b[0m\n",
      "\u001b[0;32m/opt/local/Library/Frameworks/Python.framework/Versions/3.6/lib/python3.6/site-packages/nltk/tokenize/punkt.py\u001b[0m in \u001b[0;36m_pair_iter\u001b[0;34m(it)\u001b[0m\n\u001b[1;32m    315\u001b[0m     \"\"\"\n\u001b[1;32m    316\u001b[0m     \u001b[0mit\u001b[0m \u001b[0;34m=\u001b[0m \u001b[0miter\u001b[0m\u001b[0;34m(\u001b[0m\u001b[0mit\u001b[0m\u001b[0;34m)\u001b[0m\u001b[0;34m\u001b[0m\u001b[0;34m\u001b[0m\u001b[0m\n\u001b[0;32m--> 317\u001b[0;31m     \u001b[0mprev\u001b[0m \u001b[0;34m=\u001b[0m \u001b[0mnext\u001b[0m\u001b[0;34m(\u001b[0m\u001b[0mit\u001b[0m\u001b[0;34m)\u001b[0m\u001b[0;34m\u001b[0m\u001b[0;34m\u001b[0m\u001b[0m\n\u001b[0m\u001b[1;32m    318\u001b[0m     \u001b[0;32mfor\u001b[0m \u001b[0mel\u001b[0m \u001b[0;32min\u001b[0m \u001b[0mit\u001b[0m\u001b[0;34m:\u001b[0m\u001b[0;34m\u001b[0m\u001b[0;34m\u001b[0m\u001b[0m\n\u001b[1;32m    319\u001b[0m         \u001b[0;32myield\u001b[0m \u001b[0;34m(\u001b[0m\u001b[0mprev\u001b[0m\u001b[0;34m,\u001b[0m \u001b[0mel\u001b[0m\u001b[0;34m)\u001b[0m\u001b[0;34m\u001b[0m\u001b[0;34m\u001b[0m\u001b[0m\n",
      "\u001b[0;32m/opt/local/Library/Frameworks/Python.framework/Versions/3.6/lib/python3.6/site-packages/nltk/tokenize/punkt.py\u001b[0m in \u001b[0;36m_slices_from_text\u001b[0;34m(self, text)\u001b[0m\n\u001b[1;32m   1325\u001b[0m     \u001b[0;32mdef\u001b[0m \u001b[0m_slices_from_text\u001b[0m\u001b[0;34m(\u001b[0m\u001b[0mself\u001b[0m\u001b[0;34m,\u001b[0m \u001b[0mtext\u001b[0m\u001b[0;34m)\u001b[0m\u001b[0;34m:\u001b[0m\u001b[0;34m\u001b[0m\u001b[0;34m\u001b[0m\u001b[0m\n\u001b[1;32m   1326\u001b[0m         \u001b[0mlast_break\u001b[0m \u001b[0;34m=\u001b[0m \u001b[0;36m0\u001b[0m\u001b[0;34m\u001b[0m\u001b[0;34m\u001b[0m\u001b[0m\n\u001b[0;32m-> 1327\u001b[0;31m         \u001b[0;32mfor\u001b[0m \u001b[0mmatch\u001b[0m \u001b[0;32min\u001b[0m \u001b[0mself\u001b[0m\u001b[0;34m.\u001b[0m\u001b[0m_lang_vars\u001b[0m\u001b[0;34m.\u001b[0m\u001b[0mperiod_context_re\u001b[0m\u001b[0;34m(\u001b[0m\u001b[0;34m)\u001b[0m\u001b[0;34m.\u001b[0m\u001b[0mfinditer\u001b[0m\u001b[0;34m(\u001b[0m\u001b[0mtext\u001b[0m\u001b[0;34m)\u001b[0m\u001b[0;34m:\u001b[0m\u001b[0;34m\u001b[0m\u001b[0;34m\u001b[0m\u001b[0m\n\u001b[0m\u001b[1;32m   1328\u001b[0m             \u001b[0mcontext\u001b[0m \u001b[0;34m=\u001b[0m \u001b[0mmatch\u001b[0m\u001b[0;34m.\u001b[0m\u001b[0mgroup\u001b[0m\u001b[0;34m(\u001b[0m\u001b[0;34m)\u001b[0m \u001b[0;34m+\u001b[0m \u001b[0mmatch\u001b[0m\u001b[0;34m.\u001b[0m\u001b[0mgroup\u001b[0m\u001b[0;34m(\u001b[0m\u001b[0;34m'after_tok'\u001b[0m\u001b[0;34m)\u001b[0m\u001b[0;34m\u001b[0m\u001b[0;34m\u001b[0m\u001b[0m\n\u001b[1;32m   1329\u001b[0m             \u001b[0;32mif\u001b[0m \u001b[0mself\u001b[0m\u001b[0;34m.\u001b[0m\u001b[0mtext_contains_sentbreak\u001b[0m\u001b[0;34m(\u001b[0m\u001b[0mcontext\u001b[0m\u001b[0;34m)\u001b[0m\u001b[0;34m:\u001b[0m\u001b[0;34m\u001b[0m\u001b[0;34m\u001b[0m\u001b[0m\n",
      "\u001b[0;31mTypeError\u001b[0m: expected string or bytes-like object"
     ]
    }
   ],
   "source": [
    "tokens = nltk.tokenize.word_tokenize(sentences)"
   ]
  },
  {
   "cell_type": "markdown",
   "metadata": {},
   "source": [
    "## Counting Words"
   ]
  },
  {
   "cell_type": "markdown",
   "metadata": {
    "slideshow": {
     "slide_type": "slide"
    }
   },
   "source": [
    "From our experiments above we learn that approximately two thousand words are spread out over 8000 places. If averaged over the entire text, each word appears 4 times, but looking over our sorted `mdg_words` above, we can see that the word **and** appears 162 times alone. And it's not even the top 5 of most used words! \n",
    "\n",
    "In order they are:\n",
    "\n",
    "    the, 512\n",
    "    a, 258\n",
    "    he, 248\n",
    "    i, 177\n",
    "    of, 172\n",
    "    and, 164\n",
    "\n",
    "The list above is the start of a word frequency list. There are a number of ways to do this, and I will include those in separate files for your reference, but since we have started with the NLTK, I thought we would stay with it. We have a choice to make, however: we can either continue to import one tool at a time from the NLTK library, or we can just say to ourselves that we're going to be playing with a lot of the tools, so why not just bring them all into our workspace?\n",
    "\n",
    "Please note that once I've imported all of the `nltk` library, I need to tell Python that a particular tool, or function, comes from that library. Sometimes functions from two different, and large, libraries can have the same name, prepending the library name is one way that Python has of avoiding what are called \"namespace conflicts,\" which is a fancy way of saying you can't call two things by the same name. You've seen both ways of doing things now."
   ]
  },
  {
   "cell_type": "code",
   "execution_count": 27,
   "metadata": {},
   "outputs": [],
   "source": [
    "import nltk"
   ]
  },
  {
   "cell_type": "code",
   "execution_count": 5,
   "metadata": {},
   "outputs": [],
   "source": [
    "freq_dist = nltk.FreqDist(mdg_words)"
   ]
  },
  {
   "cell_type": "code",
   "execution_count": 7,
   "metadata": {},
   "outputs": [
    {
     "data": {
      "text/plain": [
       "nltk.probability.FreqDist"
      ]
     },
     "execution_count": 7,
     "metadata": {},
     "output_type": "execute_result"
    }
   ],
   "source": [
    "type(freq_dist)"
   ]
  },
  {
   "cell_type": "code",
   "execution_count": 8,
   "metadata": {},
   "outputs": [
    {
     "name": "stdout",
     "output_type": "stream",
     "text": [
      "the:  512\n",
      "a:  258\n",
      "he:  248\n",
      "of:  172\n",
      "and:  164\n",
      "i:  155\n",
      "to:  148\n",
      "was:  140\n",
      "his:  137\n",
      "rainsford:  117\n"
     ]
    }
   ],
   "source": [
    "for word, frequency in freq_dist.most_common(10):\n",
    "    print('{}:  {}'.format(word, frequency))"
   ]
  },
  {
   "cell_type": "code",
   "execution_count": 19,
   "metadata": {},
   "outputs": [
    {
     "ename": "ValueError",
     "evalue": "too many values to unpack (expected 2)",
     "output_type": "error",
     "traceback": [
      "\u001b[0;31m---------------------------------------------------------------------------\u001b[0m",
      "\u001b[0;31mValueError\u001b[0m                                Traceback (most recent call last)",
      "\u001b[0;32m<ipython-input-19-587c87af7947>\u001b[0m in \u001b[0;36m<module>\u001b[0;34m\u001b[0m\n\u001b[0;32m----> 1\u001b[0;31m \u001b[0;32mfor\u001b[0m \u001b[0mword\u001b[0m\u001b[0;34m,\u001b[0m \u001b[0mfrequency\u001b[0m \u001b[0;32min\u001b[0m \u001b[0mfreq_dist\u001b[0m\u001b[0;34m:\u001b[0m\u001b[0;34m\u001b[0m\u001b[0;34m\u001b[0m\u001b[0m\n\u001b[0m\u001b[1;32m      2\u001b[0m     \u001b[0mprint\u001b[0m\u001b[0;34m(\u001b[0m\u001b[0mword\u001b[0m\u001b[0;34m,\u001b[0m \u001b[0mfrequency\u001b[0m\u001b[0;34m)\u001b[0m\u001b[0;34m\u001b[0m\u001b[0;34m\u001b[0m\u001b[0m\n",
      "\u001b[0;31mValueError\u001b[0m: too many values to unpack (expected 2)"
     ]
    }
   ],
   "source": [
    "for word, frequency in freq_dist:\n",
    "    print(word, frequency)"
   ]
  },
  {
   "cell_type": "code",
   "execution_count": 18,
   "metadata": {
    "scrolled": true
   },
   "outputs": [
    {
     "ename": "NameError",
     "evalue": "name 'value' is not defined",
     "output_type": "error",
     "traceback": [
      "\u001b[0;31m---------------------------------------------------------------------------\u001b[0m",
      "\u001b[0;31mNameError\u001b[0m                                 Traceback (most recent call last)",
      "\u001b[0;32m<ipython-input-18-8ddfd3110f0f>\u001b[0m in \u001b[0;36m<module>\u001b[0;34m\u001b[0m\n\u001b[0;32m----> 1\u001b[0;31m \u001b[0mmdg_dict\u001b[0m \u001b[0;34m=\u001b[0m \u001b[0;34m{\u001b[0m\u001b[0mkey\u001b[0m\u001b[0;34m:\u001b[0m\u001b[0mvalue\u001b[0m \u001b[0;32mfor\u001b[0m \u001b[0mword\u001b[0m\u001b[0;34m,\u001b[0m \u001b[0mfrequency\u001b[0m \u001b[0;32min\u001b[0m \u001b[0mfreq_dist\u001b[0m\u001b[0;34m.\u001b[0m\u001b[0mitems\u001b[0m\u001b[0;34m(\u001b[0m\u001b[0;34m)\u001b[0m\u001b[0;34m}\u001b[0m\u001b[0;34m\u001b[0m\u001b[0;34m\u001b[0m\u001b[0m\n\u001b[0m",
      "\u001b[0;32m<ipython-input-18-8ddfd3110f0f>\u001b[0m in \u001b[0;36m<dictcomp>\u001b[0;34m(.0)\u001b[0m\n\u001b[0;32m----> 1\u001b[0;31m \u001b[0mmdg_dict\u001b[0m \u001b[0;34m=\u001b[0m \u001b[0;34m{\u001b[0m\u001b[0mkey\u001b[0m\u001b[0;34m:\u001b[0m\u001b[0mvalue\u001b[0m \u001b[0;32mfor\u001b[0m \u001b[0mword\u001b[0m\u001b[0;34m,\u001b[0m \u001b[0mfrequency\u001b[0m \u001b[0;32min\u001b[0m \u001b[0mfreq_dist\u001b[0m\u001b[0;34m.\u001b[0m\u001b[0mitems\u001b[0m\u001b[0;34m(\u001b[0m\u001b[0;34m)\u001b[0m\u001b[0;34m}\u001b[0m\u001b[0;34m\u001b[0m\u001b[0;34m\u001b[0m\u001b[0m\n\u001b[0m",
      "\u001b[0;31mNameError\u001b[0m: name 'value' is not defined"
     ]
    }
   ],
   "source": [
    "mdg_dict = {key:value for word, frequency in freq_dist.items()}"
   ]
  },
  {
   "cell_type": "code",
   "execution_count": null,
   "metadata": {
    "slideshow": {
     "slide_type": "slide"
    }
   },
   "outputs": [],
   "source": [
    "# =-=-=-=-=-=-=-=-=-=-=\n",
    "# Let's graph the 50 most frequent words:\n",
    "# =-=-=-=-=-=-=-=-=-=-= \n",
    "\n",
    "# This shows all the words: still working on slices\n",
    "freq_dist.plot()"
   ]
  },
  {
   "cell_type": "code",
   "execution_count": null,
   "metadata": {
    "slideshow": {
     "slide_type": "slide"
    }
   },
   "outputs": [],
   "source": [
    "# =-=-=-=-=-=-=-=-=-=-=\n",
    "# Save these results to a CSV file (makes it easier for the Excel-impaired)\n",
    "# =-=-=-=-=-=-=-=-=-=-= \n",
    "\n",
    "mdg_counts.to_csv('../data/mdg_word_freq.csv')"
   ]
  },
  {
   "cell_type": "markdown",
   "metadata": {},
   "source": [
    "### ngrams"
   ]
  },
  {
   "cell_type": "code",
   "execution_count": 9,
   "metadata": {},
   "outputs": [],
   "source": [
    "all_counts = dict()\n",
    "for size in 2, 3, 4, 5:\n",
    "    all_counts[size] = nltk.FreqDist(nltk.ngrams(mdg_words, size))\n"
   ]
  },
  {
   "cell_type": "code",
   "execution_count": 13,
   "metadata": {},
   "outputs": [
    {
     "data": {
      "text/plain": [
       "[(('went', 'to', 'the', 'window', 'and'), 3),\n",
       " (('to', 'the', 'window', 'and', 'looked'), 3),\n",
       " (('i', 'fell', 'off', 'a', 'yacht'), 2),\n",
       " (('sanger', 'rainsford', 'of', 'new', 'york'), 2),\n",
       " (('rainsford', 'my', 'dear', 'fellow', 'said'), 2)]"
      ]
     },
     "execution_count": 13,
     "metadata": {},
     "output_type": "execute_result"
    }
   ],
   "source": [
    "all_counts[5].most_common(5)"
   ]
  },
  {
   "cell_type": "code",
   "execution_count": null,
   "metadata": {},
   "outputs": [],
   "source": [
    "mpl.style.use('ggplot')\n",
    "ax = df[['Word','Frequency']].plot(kind='bar', \n",
    "                                   title =\"Frequency of Words in MDG\",\n",
    "                                   figsize=(20,10),\n",
    "                                   legend=True)\n",
    "ax.set_xlabel(\"Word\")\n",
    "ax.set_ylabel(\"Occurrences\")\n",
    "ax.set_xticklabels(list(df['Word'])) \n",
    "mpl.pyplot.show()"
   ]
  },
  {
   "cell_type": "code",
   "execution_count": 15,
   "metadata": {},
   "outputs": [
    {
     "ename": "AttributeError",
     "evalue": "'list' object has no attribute 'concordance'",
     "output_type": "error",
     "traceback": [
      "\u001b[0;31m---------------------------------------------------------------------------\u001b[0m",
      "\u001b[0;31mAttributeError\u001b[0m                            Traceback (most recent call last)",
      "\u001b[0;32m<ipython-input-15-54a2d4843b14>\u001b[0m in \u001b[0;36m<module>\u001b[0;34m\u001b[0m\n\u001b[0;32m----> 1\u001b[0;31m \u001b[0mmyword\u001b[0m \u001b[0;34m=\u001b[0m \u001b[0mmdg_words\u001b[0m\u001b[0;34m.\u001b[0m\u001b[0mconcordance\u001b[0m\u001b[0;34m(\u001b[0m\u001b[0;34m\"dangerous\"\u001b[0m\u001b[0;34m)\u001b[0m\u001b[0;34m\u001b[0m\u001b[0;34m\u001b[0m\u001b[0m\n\u001b[0m\u001b[1;32m      2\u001b[0m \u001b[0mprint\u001b[0m\u001b[0;34m(\u001b[0m\u001b[0mmyword\u001b[0m\u001b[0;34m)\u001b[0m\u001b[0;34m\u001b[0m\u001b[0;34m\u001b[0m\u001b[0m\n",
      "\u001b[0;31mAttributeError\u001b[0m: 'list' object has no attribute 'concordance'"
     ]
    }
   ],
   "source": [
    "myword = mdg_words.concordance(\"dangerous\")\n",
    "print(myword)"
   ]
  },
  {
   "cell_type": "code",
   "execution_count": null,
   "metadata": {},
   "outputs": [],
   "source": [
    "text.similar(\"love\")\n",
    "text.common_contexts([\"husband\", \"wife\"])\n",
    "text.collocations()"
   ]
  },
  {
   "cell_type": "code",
   "execution_count": null,
   "metadata": {},
   "outputs": [],
   "source": [
    "# Lexical Diversity of MDG:\n",
    "len(mdg2_word_list) / len(set(mdg2_word_list))"
   ]
  },
  {
   "cell_type": "code",
   "execution_count": null,
   "metadata": {},
   "outputs": [],
   "source": [
    "len(mdg_tokens) / len(set(mdg_tokens))"
   ]
  },
  {
   "cell_type": "markdown",
   "metadata": {},
   "source": [
    "On average, a word occurs four times in \"The Most Dangerous Game.\"\n",
    "\n",
    "Out of curiosity, how many words occur four times?"
   ]
  },
  {
   "cell_type": "code",
   "execution_count": null,
   "metadata": {},
   "outputs": [],
   "source": [
    "wordfrequency = nltk.FreqDist(mdg_tokens)\n",
    "four_times = [word for word in wordfrequency.keys() if wordfrequency[word] == 4]\n",
    "print(four_times)"
   ]
  },
  {
   "cell_type": "code",
   "execution_count": null,
   "metadata": {},
   "outputs": [],
   "source": [
    "mdg_text.count(\"dangerous\")"
   ]
  },
  {
   "cell_type": "code",
   "execution_count": null,
   "metadata": {},
   "outputs": [],
   "source": [
    "mdg_text.concordance(\"dangerous\")"
   ]
  },
  {
   "cell_type": "markdown",
   "metadata": {},
   "source": [
    "Where does \"dangerous\" occur within the larger text?"
   ]
  },
  {
   "cell_type": "code",
   "execution_count": null,
   "metadata": {},
   "outputs": [],
   "source": [
    "mdg_text.dispersion_plot([\"dangerous\", \"danger\", \"game\", \"fear\"])"
   ]
  },
  {
   "cell_type": "code",
   "execution_count": null,
   "metadata": {},
   "outputs": [],
   "source": [
    "wordfrequency.plot()"
   ]
  }
 ],
 "metadata": {
  "kernelspec": {
   "display_name": "Python 3",
   "language": "python",
   "name": "python3"
  },
  "language_info": {
   "codemirror_mode": {
    "name": "ipython",
    "version": 3
   },
   "file_extension": ".py",
   "mimetype": "text/x-python",
   "name": "python",
   "nbconvert_exporter": "python",
   "pygments_lexer": "ipython3",
   "version": "3.6.7"
  }
 },
 "nbformat": 4,
 "nbformat_minor": 2
}
