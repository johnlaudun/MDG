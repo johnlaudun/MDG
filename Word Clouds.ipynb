{
 "cells": [
  {
   "cell_type": "markdown",
   "id": "qualified-cleaner",
   "metadata": {},
   "source": [
    "This guide is taken from Frank Andrade's \"How to Easily Make Beautiful Wordclouds in Python\" ([Towards Data Science](https://towardsdatascience.com/how-to-easily-make-beautiful-wordclouds-in-python-55789102f6f5))."
   ]
  },
  {
   "cell_type": "code",
   "execution_count": 1,
   "id": "center-sleeping",
   "metadata": {},
   "outputs": [],
   "source": [
    "import stylecloud"
   ]
  },
  {
   "cell_type": "markdown",
   "id": "broke-major",
   "metadata": {},
   "source": [
    "The basics are the filepath for the text for the frequency count, the icon according to whcih the cloud will be styled, and the output file's name and location:"
   ]
  },
  {
   "cell_type": "code",
   "execution_count": 4,
   "id": "friendly-whale",
   "metadata": {},
   "outputs": [],
   "source": [
    "stylecloud.gen_stylecloud(file_path='/Users/jl/Developer/corpora/ai_fiction/1909-forster.txt',\n",
    "                          icon_name= 'fas fa-book-open',\n",
    "                          output_name='/Users/jl/Desktop/book.png')"
   ]
  },
  {
   "cell_type": "markdown",
   "id": "commercial-maple",
   "metadata": {},
   "source": [
    "To make things a bit old-fashioned, here's the image in white on black -- reverse for black on white:"
   ]
  },
  {
   "cell_type": "code",
   "execution_count": 6,
   "id": "junior-passion",
   "metadata": {},
   "outputs": [],
   "source": [
    "stylecloud.gen_stylecloud(file_path='/Users/jl/Developer/corpora/ai_fiction/1909-forster.txt',\n",
    "                          icon_name= 'fas fa-book-open',\n",
    "                          colors='black',\n",
    "                          background_color='white',\n",
    "                          output_name='/Users/jl/Desktop/book.png')"
   ]
  },
  {
   "cell_type": "markdown",
   "id": "possible-seating",
   "metadata": {},
   "source": [
    "You can also add custom color palette as well as a custom stopword list:"
   ]
  },
  {
   "cell_type": "code",
   "execution_count": null,
   "id": "earlier-priority",
   "metadata": {},
   "outputs": [],
   "source": [
    "palette='cartocolors.qualitative.Pastel_3',\n",
    "collocations=False,\n",
    "custom_stopwords=stop_words"
   ]
  },
  {
   "cell_type": "markdown",
   "id": "broke-detection",
   "metadata": {},
   "source": [
    "For custom shapes, you need to use `wordcloud`:"
   ]
  },
  {
   "cell_type": "code",
   "execution_count": null,
   "id": "fewer-tower",
   "metadata": {},
   "outputs": [],
   "source": [
    "from wordcloud import WordCloud, ImageColorGenerator \n",
    "from PIL import Image\n",
    "import matplotlib.pyplot as plt\n",
    "import numpy as np\n",
    "# create a mask based on the image we wish to include\n",
    "my_mask = np.array(Image.open('batman-logo.png'))\n",
    "# create a wordcloud \n",
    "wc = WordCloud(background_color='white',\n",
    "               mask=my_mask,\n",
    "               collocations=False,\n",
    "               width=600,\n",
    "               height=300,\n",
    "               contour_width=3,\n",
    "               contour_color='black',\n",
    "               stopwords=stop_words)"
   ]
  },
  {
   "cell_type": "markdown",
   "id": "unlike-indicator",
   "metadata": {},
   "source": [
    "To generate the image:"
   ]
  },
  {
   "cell_type": "code",
   "execution_count": null,
   "id": "potential-remedy",
   "metadata": {},
   "outputs": [],
   "source": [
    "with open('SJ-Speech.txt', 'r') as txt_file:\n",
    "    texto = txt_file.read()\n",
    "wc.generate(texto)"
   ]
  },
  {
   "cell_type": "markdown",
   "id": "right-vegetation",
   "metadata": {},
   "source": [
    "In case we want to use the original image’s color, we write the following code (if not the wordcloud will have random colors just like the first apple image shown in this article):\n",
    "```python\n",
    "image_colors = ImageColorGenerator(my_mask)\n",
    "wc.recolor(color_func=image_colors)\n",
    "```\n",
    "Finally to plot the wordcloud we use matplotlib.\n",
    "```python\n",
    "plt.figure(figsize=(20, 10))\n",
    "plt.imshow(wc, interpolation='bilinear')\n",
    "plt.axis('off')\n",
    "wc.to_file('wordcloud.png')\n",
    "plt.show()\n",
    "```\n",
    "I also remove the axis to only have the wordcloud in the plot and save the wordcloud withwc.to_file()\n"
   ]
  }
 ],
 "metadata": {
  "kernelspec": {
   "display_name": "Python 3",
   "language": "python",
   "name": "python3"
  },
  "language_info": {
   "codemirror_mode": {
    "name": "ipython",
    "version": 3
   },
   "file_extension": ".py",
   "mimetype": "text/x-python",
   "name": "python",
   "nbconvert_exporter": "python",
   "pygments_lexer": "ipython3",
   "version": "3.8.5"
  }
 },
 "nbformat": 4,
 "nbformat_minor": 5
}
