{
 "cells": [
  {
   "cell_type": "code",
   "execution_count": null,
   "metadata": {},
   "outputs": [],
   "source": []
  },
  {
   "cell_type": "code",
   "execution_count": 1,
   "metadata": {},
   "outputs": [],
   "source": [
    "mdg = open('texts/mdg.txt', 'r').read()"
   ]
  },
  {
   "cell_type": "markdown",
   "metadata": {},
   "source": [
    "Use `find` ([StackOverflow](https://stackoverflow.com/questions/38444389/how-do-i-find-quotes-in-strings-python))"
   ]
  },
  {
   "cell_type": "code",
   "execution_count": 9,
   "metadata": {},
   "outputs": [
    {
     "name": "stdout",
     "output_type": "stream",
     "text": [
      "0 <class 'int'>\n"
     ]
    }
   ],
   "source": [
    "startIndex = mdg.find('\\\"')\n",
    "print(startIndex, type(startIndex))"
   ]
  },
  {
   "cell_type": "code",
   "execution_count": 7,
   "metadata": {},
   "outputs": [
    {
     "name": "stdout",
     "output_type": "stream",
     "text": [
      "Start: 0\n",
      "End: 58\n"
     ]
    }
   ],
   "source": [
    "if startIndex != -1: #i.e. if the first quote was found\n",
    "    endIndex = mdg.find('\\\"', startIndex + 1)\n",
    "    if startIndex != -1 and endIndex != -1: #i.e. both quotes were found\n",
    "        print('Start: ' + str(startIndex))\n",
    "        print('End: ' + str(endIndex))"
   ]
  },
  {
   "cell_type": "code",
   "execution_count": 8,
   "metadata": {},
   "outputs": [
    {
     "name": "stdout",
     "output_type": "stream",
     "text": [
      "\"Off there to the right -- somewhere -- is a large island,\n"
     ]
    }
   ],
   "source": [
    "print(mdg[0:58])"
   ]
  },
  {
   "cell_type": "code",
   "execution_count": 10,
   "metadata": {},
   "outputs": [
    {
     "name": "stdout",
     "output_type": "stream",
     "text": [
      "\"Off there to the right -- somewhere -- is a large island,\n"
     ]
    }
   ],
   "source": [
    "if startIndex != -1: #i.e. if the first quote was found\n",
    "    endIndex = mdg.find('\\\"', startIndex + 1)\n",
    "    if startIndex != -1 and endIndex != -1: #i.e. both quotes were found\n",
    "        print(mdg[startIndex:endIndex])"
   ]
  },
  {
   "cell_type": "code",
   "execution_count": 13,
   "metadata": {},
   "outputs": [
    {
     "name": "stdout",
     "output_type": "stream",
     "text": [
      "Off there to the right -- somewhere -- is a large island,\"\n"
     ]
    }
   ],
   "source": [
    "# Another way to use find:\n",
    "start_pt = mdg.find(\"\\\"\")\n",
    "end_pt = mdg.find(\"\\\"\", start_pt + 1)  # add one to skip the opening \"\n",
    "quote = mdg[start_pt + 1: end_pt + 1]  # add one to get the quote excluding the \"\"\n",
    "\n",
    "print(quote)"
   ]
  },
  {
   "cell_type": "code",
   "execution_count": null,
   "metadata": {},
   "outputs": [],
   "source": []
  },
  {
   "cell_type": "code",
   "execution_count": null,
   "metadata": {},
   "outputs": [],
   "source": []
  }
 ],
 "metadata": {
  "kernelspec": {
   "display_name": "Python 3",
   "language": "python",
   "name": "python3"
  },
  "language_info": {
   "codemirror_mode": {
    "name": "ipython",
    "version": 3
   },
   "file_extension": ".py",
   "mimetype": "text/x-python",
   "name": "python",
   "nbconvert_exporter": "python",
   "pygments_lexer": "ipython3",
   "version": "3.7.1"
  }
 },
 "nbformat": 4,
 "nbformat_minor": 2
}
