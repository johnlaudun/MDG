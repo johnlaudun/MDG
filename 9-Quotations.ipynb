{
 "cells": [
  {
   "cell_type": "markdown",
   "metadata": {},
   "source": [
    "# Getting Quotations\n",
    "\n",
    "Our text, as always, is \"The Most Dangerous Game.\" To make this code more reusable, simply call the string object \"text.\""
   ]
  },
  {
   "cell_type": "code",
   "execution_count": 1,
   "metadata": {},
   "outputs": [],
   "source": [
    "text = open('texts/mdg.txt', 'r').read()"
   ]
  },
  {
   "cell_type": "markdown",
   "metadata": {},
   "source": [
    "## `find` \n",
    "\n",
    "This is a nice use of the `find` function that is part of the standard Python installation found on ([StackOverflow](https://stackoverflow.com/questions/38444389/how-do-i-find-quotes-in-strings-python))."
   ]
  },
  {
   "cell_type": "code",
   "execution_count": null,
   "metadata": {},
   "outputs": [],
   "source": [
    "startIndex = text.find('\\\"')\n",
    "print(startIndex, type(startIndex))"
   ]
  },
  {
   "cell_type": "code",
   "execution_count": null,
   "metadata": {},
   "outputs": [],
   "source": [
    "if startIndex != -1: #i.e. if the first quote was found\n",
    "    endIndex = text.find('\\\"', startIndex + 1)\n",
    "    if startIndex != -1 and endIndex != -1: #i.e. both quotes were found\n",
    "        print('Start: ' + str(startIndex))\n",
    "        print('End: ' + str(endIndex))"
   ]
  },
  {
   "cell_type": "code",
   "execution_count": null,
   "metadata": {},
   "outputs": [],
   "source": [
    "print(text[0:58])"
   ]
  },
  {
   "cell_type": "code",
   "execution_count": null,
   "metadata": {
    "scrolled": true
   },
   "outputs": [],
   "source": [
    "if startIndex != -1: #i.e. if the first quote was found\n",
    "    endIndex = text.find('\\\"', startIndex + 1)\n",
    "    if startIndex != -1 and endIndex != -1: #i.e. both quotes were found\n",
    "        print(text[startIndex:endIndex])"
   ]
  },
  {
   "cell_type": "code",
   "execution_count": null,
   "metadata": {},
   "outputs": [],
   "source": [
    "# Another way to use find:\n",
    "start_pt = text.find(\"\\\"\")\n",
    "end_pt = text.find(\"\\\"\", start_pt + 1)  # add one to skip the opening \"\n",
    "quote = text[start_pt + 1: end_pt] \n",
    "\n",
    "print(quote)"
   ]
  },
  {
   "cell_type": "markdown",
   "metadata": {},
   "source": [
    "Now to collect all the quotations from a text. **>>> UNDER CONSTRUCTION**"
   ]
  },
  {
   "cell_type": "code",
   "execution_count": null,
   "metadata": {},
   "outputs": [],
   "source": [
    "for item in text:\n",
    "    start_pt = text.find(\"\\\"\")\n",
    "    end_pt = text.find(\"\\\"\", start_pt + 1)  # add one to skip the opening \"\n",
    "    print(text[start_pt + 1: end_pt])"
   ]
  },
  {
   "cell_type": "markdown",
   "metadata": {},
   "source": [
    "## `regex`\n",
    "\n",
    "This is essentially the code at the heart of the `direct_quotations()` function in **`textacy.extract`** when I checked the [documentation](https://chartbeat-labs.github.io/textacy/_modules/textacy/extract.html): \n",
    "\n",
    "```python\n",
    "for m in re.finditer(r\"(\\\".*?\\\")|(''.*?'')|(``.*?'')\", doc.text)\n",
    "```"
   ]
  },
  {
   "cell_type": "code",
   "execution_count": 2,
   "metadata": {},
   "outputs": [],
   "source": [
    "import re"
   ]
  },
  {
   "cell_type": "code",
   "execution_count": 3,
   "metadata": {},
   "outputs": [
    {
     "name": "stdout",
     "output_type": "stream",
     "text": [
      "216\n"
     ]
    }
   ],
   "source": [
    "quotes = re.findall(r'\\\"(.+?)\\\"', text)\n",
    "print(len(quotes))"
   ]
  },
  {
   "cell_type": "markdown",
   "metadata": {},
   "source": [
    "This produces a list with each item being a string that was once enclosed inside [double] quotation marks -- so, this would have to be changed for non-American quotation systems. (The same would apply for `textacy` so far as I can tell."
   ]
  },
  {
   "cell_type": "code",
   "execution_count": 4,
   "metadata": {
    "scrolled": false
   },
   "outputs": [
    {
     "name": "stdout",
     "output_type": "stream",
     "text": [
      "Off there to the right -- somewhere -- is a large island,\n",
      "It's rather a mystery -- \n",
      "What island is it?\n",
      "The old charts call it 'Ship-Trap Island,'\n",
      "A suggestive name, isn't it? Sailors have a curious dread of the place. I don't know why. Some superstition -- \n"
     ]
    }
   ],
   "source": [
    "for quote in quotes[0:5]:\n",
    "    print(quote)"
   ]
  },
  {
   "cell_type": "markdown",
   "metadata": {},
   "source": [
    "What if joined all the quotations together, determined their length, and then divided that length by the length of the text? That would give us a very approximate sense of how much a text was in direct dialogue."
   ]
  },
  {
   "cell_type": "code",
   "execution_count": 5,
   "metadata": {},
   "outputs": [
    {
     "name": "stdout",
     "output_type": "stream",
     "text": [
      "The dialogue of this text is 37.9% of the overall text.\n"
     ]
    }
   ],
   "source": [
    "quotations = ' '.join(quotes)\n",
    "percentage = len(quotations) / len(text)\n",
    "print(f'The dialogue of this text is {(percentage * 100):.1f}% of the overall text.')"
   ]
  },
  {
   "cell_type": "markdown",
   "metadata": {},
   "source": [
    "## `textacy`\n",
    "\n",
    "Please note that in order for the `Doc()` method to work, you need the English model. Loading it is easier than many web searches suggest -- `python -m spacy download en` -- but if your Python installation is not in your user space, as mine is because I use MacPorts, then you need to be sure to prepend `sudo` to that command. With that done, you can simply call the model with `spacy.load('en')`, but it looks like the `Doc()` method below handles that as part of what it does -- it's not clear if I even need to `import spacy` now ... nope, no need."
   ]
  },
  {
   "cell_type": "code",
   "execution_count": 6,
   "metadata": {},
   "outputs": [],
   "source": [
    "# import spacy\n",
    "import textacy # This takes a while. Maybe try importing only the DQ module in the future?"
   ]
  },
  {
   "cell_type": "code",
   "execution_count": 7,
   "metadata": {},
   "outputs": [],
   "source": [
    "doc = textacy.Doc(text)"
   ]
  },
  {
   "cell_type": "code",
   "execution_count": null,
   "metadata": {},
   "outputs": [],
   "source": []
  }
 ],
 "metadata": {
  "kernelspec": {
   "display_name": "Python 3",
   "language": "python",
   "name": "python3"
  },
  "language_info": {
   "codemirror_mode": {
    "name": "ipython",
    "version": 3
   },
   "file_extension": ".py",
   "mimetype": "text/x-python",
   "name": "python",
   "nbconvert_exporter": "python",
   "pygments_lexer": "ipython3",
   "version": "3.6.7"
  }
 },
 "nbformat": 4,
 "nbformat_minor": 2
}
