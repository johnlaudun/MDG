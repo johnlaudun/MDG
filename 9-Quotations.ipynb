{
 "cells": [
  {
   "cell_type": "markdown",
   "metadata": {},
   "source": [
    "# Getting Quotations\n",
    "\n",
    "Our text, as always, is \"The Most Dangerous Game.\" To make this code more reusable, simply call the string object \"text.\""
   ]
  },
  {
   "cell_type": "code",
   "execution_count": 1,
   "metadata": {},
   "outputs": [],
   "source": [
    "text = open('texts/mdg.txt', 'r').read()"
   ]
  },
  {
   "cell_type": "markdown",
   "metadata": {},
   "source": [
    "## `find` \n",
    "\n",
    "This is a nice use of the `find` function that is part of the standard Python installation found on ([StackOverflow](https://stackoverflow.com/questions/38444389/how-do-i-find-quotes-in-strings-python))."
   ]
  },
  {
   "cell_type": "code",
   "execution_count": null,
   "metadata": {},
   "outputs": [],
   "source": [
    "startIndex = text.find('\\\"')\n",
    "print(startIndex, type(startIndex))"
   ]
  },
  {
   "cell_type": "code",
   "execution_count": null,
   "metadata": {},
   "outputs": [],
   "source": [
    "if startIndex != -1: #i.e. if the first quote was found\n",
    "    endIndex = text.find('\\\"', startIndex + 1)\n",
    "    if startIndex != -1 and endIndex != -1: #i.e. both quotes were found\n",
    "        print('Start: ' + str(startIndex))\n",
    "        print('End: ' + str(endIndex))"
   ]
  },
  {
   "cell_type": "code",
   "execution_count": null,
   "metadata": {},
   "outputs": [],
   "source": [
    "print(text[0:58])"
   ]
  },
  {
   "cell_type": "code",
   "execution_count": null,
   "metadata": {
    "scrolled": true
   },
   "outputs": [],
   "source": [
    "if startIndex != -1: #i.e. if the first quote was found\n",
    "    endIndex = text.find('\\\"', startIndex + 1)\n",
    "    if startIndex != -1 and endIndex != -1: #i.e. both quotes were found\n",
    "        print(text[startIndex:endIndex])"
   ]
  },
  {
   "cell_type": "code",
   "execution_count": null,
   "metadata": {},
   "outputs": [],
   "source": [
    "# Another way to use find:\n",
    "start_pt = text.find(\"\\\"\")\n",
    "end_pt = text.find(\"\\\"\", start_pt + 1)  # add one to skip the opening \"\n",
    "quote = text[start_pt + 1: end_pt] \n",
    "\n",
    "print(quote)"
   ]
  },
  {
   "cell_type": "markdown",
   "metadata": {},
   "source": [
    "Now to collect all the quotations from a text. **>>> UNDER CONSTRUCTION**"
   ]
  },
  {
   "cell_type": "code",
   "execution_count": null,
   "metadata": {},
   "outputs": [],
   "source": [
    "for item in text:\n",
    "    start_pt = text.find(\"\\\"\")\n",
    "    end_pt = text.find(\"\\\"\", start_pt + 1)  # add one to skip the opening \"\n",
    "    print(text[start_pt + 1: end_pt])"
   ]
  },
  {
   "cell_type": "markdown",
   "metadata": {},
   "source": [
    "## `regex`\n",
    "\n",
    "This is essentially the code at the heart of the `direct_quotations()` function in **`textacy.extract`** when I checked the [documentation](https://chartbeat-labs.github.io/textacy/_modules/textacy/extract.html): \n",
    "\n",
    "```python\n",
    "for m in re.finditer(r\"(\\\".*?\\\")|(''.*?'')|(``.*?'')\", doc.text)\n",
    "```"
   ]
  },
  {
   "cell_type": "code",
   "execution_count": 2,
   "metadata": {},
   "outputs": [],
   "source": [
    "import re"
   ]
  },
  {
   "cell_type": "code",
   "execution_count": 3,
   "metadata": {},
   "outputs": [
    {
     "name": "stdout",
     "output_type": "stream",
     "text": [
      "216\n"
     ]
    }
   ],
   "source": [
    "quotes = re.findall(r'\\\"(.+?)\\\"', text)\n",
    "print(len(quotes))"
   ]
  },
  {
   "cell_type": "markdown",
   "metadata": {},
   "source": [
    "This produces a list with each item being a string that was once enclosed inside [double] quotation marks -- so, this would have to be changed for non-American quotation systems. (The same would apply for `textacy` so far as I can tell."
   ]
  },
  {
   "cell_type": "code",
   "execution_count": 20,
   "metadata": {
    "scrolled": false
   },
   "outputs": [
    {
     "name": "stdout",
     "output_type": "stream",
     "text": [
      "Off there to the right -- somewhere -- is a large island,\n",
      "It's rather a mystery -- \n",
      "What island is it?\n",
      "The old charts call it 'Ship-Trap Island,'\n",
      "A suggestive name, isn't it? Sailors have a curious dread of the place. I don't know why. Some superstition -- \n",
      "Can't see it,\n",
      "You've good eyes,\n",
      "and I've seen you pick off a moose moving in the brown fall bush at four hundred yards, but even you can't see four miles or so through a moonless Caribbean night.\n",
      "Nor four yards,\n",
      "Ugh! It's like moist black velvet.\n"
     ]
    }
   ],
   "source": [
    "for quote in quotes[0:10]:\n",
    "    print(quote)"
   ]
  },
  {
   "cell_type": "markdown",
   "metadata": {},
   "source": [
    "What if joined all the quotations together, determined their length, and then divided that length by the length of the text? That would give us a very approximate sense of how much a text was in direct dialogue."
   ]
  },
  {
   "cell_type": "code",
   "execution_count": 5,
   "metadata": {},
   "outputs": [
    {
     "name": "stdout",
     "output_type": "stream",
     "text": [
      "The dialogue of this text is 37.9% of the overall text.\n"
     ]
    }
   ],
   "source": [
    "quotations = ' '.join(quotes)\n",
    "percentage = len(quotations) / len(text)\n",
    "print(f'The dialogue of this text is {(percentage * 100):.1f}% of the overall text.')"
   ]
  },
  {
   "cell_type": "markdown",
   "metadata": {},
   "source": [
    "## `textacy`\n",
    "\n",
    "Please note that in order for the `Doc()` method to work, you need the English model. Loading it is easier than many web searches suggest -- `python -m spacy download en` -- but if your Python installation is not in your user space, as mine is because I use MacPorts, then you need to be sure to prepend `sudo` to that command. With that done, you can simply call the model with `spacy.load('en')`, but it looks like the `Doc()` method below handles that as part of what it does -- it's not clear if I even need to `import spacy` now ... nope, no need."
   ]
  },
  {
   "cell_type": "code",
   "execution_count": 6,
   "metadata": {},
   "outputs": [],
   "source": [
    "# import spacy\n",
    "import textacy # This takes a while. Maybe try importing only the DQ module in the future?"
   ]
  },
  {
   "cell_type": "code",
   "execution_count": 7,
   "metadata": {},
   "outputs": [],
   "source": [
    "doc = textacy.Doc(text)"
   ]
  },
  {
   "cell_type": "code",
   "execution_count": 19,
   "metadata": {},
   "outputs": [
    {
     "name": "stdout",
     "output_type": "stream",
     "text": [
      "(Rainsford, asked, \"What island is it?\")\n",
      "(Rainsford, asked, \"The old charts call it 'Ship-Trap Island,'\")\n",
      "(sport, agreed, \"The best sport in the world,\")\n",
      "(sport, agreed, \"For the hunter,\")\n",
      "(Cannibals, suggested, \"Cannibals?\")\n",
      "(Cannibals, suggested, \"Hardly. Even cannibals wouldn't live in such a God-forsaken place. But it's gotten into sailor lore, somehow. Didn't you notice that the crew's nerves seemed a bit jumpy today?\")\n",
      "(he, thought, \"It's so dark,\")\n",
      "(he, thought, \"Where there are pistol shots, there are men. Where there are men, there is food,\")\n",
      "(Mirage, thought, \"Mirage,\")\n",
      "(he, hoped, \"I'm no robber. I fell off a yacht. My name is Sanger Rainsford of New York City.\")\n",
      "(he, said, \"It is a very great pleasure and honor to welcome Mr. Sanger Rainsford, the celebrated hunter, to my home.\")\n",
      "(he, said, \"Come,\")\n",
      "(he, said, \"we shouldn't be chatting here. We can talk later. Now you want clothes, food, rest. You shall have them. This is a most -- restful spot.\")\n",
      "(Follow Ivan, said, \"Follow Ivan, if you please, Mr. Rainsford,\")\n",
      "(Follow Ivan, said, \"I was about to have my dinner when you came. I'll wait for you. You'll find that my clothes will fit you, I think.\")\n",
      "(he, suggested, \"You'll have a cocktail, Mr. Rainsford,\")\n",
      "(Half, said, \"We do our best to preserve the amenities of civilization here. Please forgive any lapses. We are well off the beaten track, you know. Do you think the champagne has suffered from its long ocean trip?\")\n",
      "(he, said, \"No. You are wrong, sir. The Cape buffalo is not the most dangerous big game.\")\n",
      "(he, said, \"Here in my preserve on this island,\")\n",
      "(he, said, \"I hunt more dangerous game.\")\n",
      "(Rainsford, asked, \"What have you imported, general?\")\n",
      "(Rainsford, asked, \"Tigers?\")\n",
      "(he, said, \"No,\")\n",
      "(he, said, \"Hunting tigers ceased to interest me some years ago. I exhausted their possibilities, you see. No thrill left in tigers, no real danger. I live for danger, Mr. Rainsford.\")\n",
      "(he, said, \"I had no wish to go to pieces,\")\n",
      "(he, said, \"I must do something. Now, mine is an analytical mind, Mr. Rainsford. Doubtless that is why I enjoy the problems of the chase.\")\n",
      "(host, saying, \"It came to me as an inspiration what I must do,\")\n",
      "(he, said, \"I had to invent a new animal to hunt,\")\n",
      "(he, said, \"A new animal? You're joking.\")\n",
      "(he, said, \"How extraordinarily droll you are!\")\n",
      "(he, said, \"One does not expect nowadays to find a young man of the educated class, even in America, with such a naive, and, if I may say so, mid-Victorian point of view. It's like finding a snuffbox in a limousine. Ah, well, doubtless you had Puritan ancestors. So many Americans appear to have had. I'll wager you'll forget your notions when you go hunting with me. You've a genuine new thrill in store for you, Mr. Rainsford.\")\n",
      "(he, said, \"They indicate a channel,\")\n",
      "(he, said, \"where there's none; giant rocks with razor edges crouch like a sea monster with wide-open jaws. They can crush a ship as easily as I crush this nut.\")\n",
      "(he, said, \"Oh, yes,\")\n",
      "(he, said, \"I have electricity. We try to be civilized here.\")\n",
      "(he, said, \"Dear me, what a righteous young man you are! I assure you I do not do the thing you suggest. That would be barbarous. I treat these visitors with every consideration. They get plenty of good food and exercise. They get into splendid physical condition. You shall see for yourself tomorrow.\")\n",
      "(he, said, \"To date I have not lost,\")\n",
      "(he, added, \"I don't wish you to think me a braggart, Mr. Rainsford. Many of them afford only the most elementary sort of problem. Occasionally I strike a tartar. One almost did win. I eventually had to use the dogs.\")\n",
      "(general, said, \"Ennui. Boredom.\")\n",
      "(general, explained, \"The hunting was not good last night. The fellow lost his head. He made a straight trail that offered no problems at all. That's the trouble with these sailors; they have dull brains to begin with, and they do not know how to get about in the woods. They do excessively stupid and obvious things. It's most annoying. Will you have another glass of Chablis, Mr. Rainsford?\")\n",
      "(he, said, \"No, general,\")\n",
      "(he, said, \"I will not hunt.\")\n",
      "(he, said, \"As you wish, my friend,\")\n",
      "(he, said, \"The choice rests entirely with you. But may I not venture to suggest that you will find my idea of sport more diverting than Ivan's?\")\n",
      "(general, said, \"You'll find this game worth playing,\")\n",
      "(general, said, \"Your brain against mine. Your woodcraft against mine. Your strength and stamina against mine. Outdoor chess! And the stake is not without value, eh?\")\n",
      "(Rainsford, thinking, \"My sloop will place you on the mainland near a town.\")\n",
      "(Rainsford, thinking, \"Oh, you can trust me,\")\n",
      "(he, said, \"Ivan,\")\n",
      "(he, said, \"will supply you with hunting clothes, food, a knife. I suggest you wear moccasins; they leave a poorer trail. I suggest, too, that you avoid the big swamp in the southeast corner of the island. We call it Death Swamp. There's quicksand there. One foolish fellow tried it. The deplorable part of it was that Lazarus followed him. You can imagine my feelings, Mr. Rainsford. I loved Lazarus; he was the finest hound in my pack. Well, I must beg you to excuse me now. I always' take a siesta after lunch. You'll hardly have time for a nap, I fear. You'll want to start, no doubt. I shall not follow till dusk. Hunting at night is so much more exciting than by day, don't you think? Au revoir, Mr. Rainsford, au revoir.\")\n",
      "(he, said, \"I must keep my nerve. I must keep my nerve,\")\n",
      "(he, thought, \"I have played the fox, now I must play the cat of the fable.\")\n",
      "(he, said, \"I congratulate you,\")\n",
      "(he, said, \"You have won the game.\")\n",
      "(he, said, \"I am still a beast at bay,\")\n",
      "(he, said, \"Get ready, General Zaroff.\")\n",
      "(he, said, \"I see,\")\n",
      "(he, said, \"Splendid! One of us is to furnish a repast for the hounds. The other will sleep in this very excellent bed. On guard, Rainsford.\")\n"
     ]
    }
   ],
   "source": [
    "for i in textacy.extract.direct_quotations(doc):\n",
    "    print(i)"
   ]
  },
  {
   "cell_type": "code",
   "execution_count": 10,
   "metadata": {},
   "outputs": [
    {
     "data": {
      "text/plain": [
       "generator"
      ]
     },
     "execution_count": 10,
     "metadata": {},
     "output_type": "execute_result"
    }
   ],
   "source": []
  },
  {
   "cell_type": "code",
   "execution_count": 17,
   "metadata": {},
   "outputs": [],
   "source": [
    "for val in quotatio:\n",
    "    print(val)"
   ]
  }
 ],
 "metadata": {
  "kernelspec": {
   "display_name": "Python 3",
   "language": "python",
   "name": "python3"
  },
  "language_info": {
   "codemirror_mode": {
    "name": "ipython",
    "version": 3
   },
   "file_extension": ".py",
   "mimetype": "text/x-python",
   "name": "python",
   "nbconvert_exporter": "python",
   "pygments_lexer": "ipython3",
   "version": "3.6.7"
  }
 },
 "nbformat": 4,
 "nbformat_minor": 2
}
