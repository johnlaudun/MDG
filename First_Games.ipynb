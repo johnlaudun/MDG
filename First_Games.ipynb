{
 "cells": [
  {
   "cell_type": "markdown",
   "metadata": {
    "slideshow": {
     "slide_type": "slide"
    }
   },
   "source": [
    "# A Most Dangerous Game of Words"
   ]
  },
  {
   "cell_type": "markdown",
   "metadata": {
    "slideshow": {
     "slide_type": "slide"
    }
   },
   "source": [
    "The first line of code run here is something internal to Jupyter Notebooks that allows us to place any graphical output into the page itself and not in a separate window or file. (We can still save output to a file, if we want.)"
   ]
  },
  {
   "cell_type": "code",
   "execution_count": 1,
   "metadata": {
    "slideshow": {
     "slide_type": "-"
    }
   },
   "outputs": [
    {
     "name": "stdout",
     "output_type": "stream",
     "text": [
      "Populating the interactive namespace from numpy and matplotlib\n"
     ]
    }
   ],
   "source": [
    "%pylab inline\n",
    "figsize(12, 6)"
   ]
  },
  {
   "cell_type": "markdown",
   "metadata": {
    "slideshow": {
     "slide_type": "slide"
    }
   },
   "source": [
    "After that, it's time to get our text and start examining it. So the first thing we need to do is load the text file. In the case of reading one file, as we are doing here, we first tell Python to open the file in **read** mode -- that's all the `r` is doing inside the parenthesis, preventing any possibility of of us writing to it. After that we literally read the file into a variable. \n",
    "\n",
    "This can be done in two lines:\n",
    "\n",
    "```python\n",
    "opened_file = open('/texts/mdg.txt', 'r')\n",
    "mdg = opened_file.read()\n",
    "```\n",
    "\n",
    "Or it can be done in one line as it is below:"
   ]
  },
  {
   "cell_type": "code",
   "execution_count": 3,
   "metadata": {
    "slideshow": {
     "slide_type": "-"
    }
   },
   "outputs": [],
   "source": [
    "mdg = open('texts/mdg.txt', 'r').read()"
   ]
  },
  {
   "cell_type": "markdown",
   "metadata": {},
   "source": [
    "Oh, you've just created your first \"object\" in Python, and it's a text! Or, rather, it's a string, one of the kinds of objects you can work with. If you ever wonder what kind of object you have, you can ask it its `type`:"
   ]
  },
  {
   "cell_type": "code",
   "execution_count": 6,
   "metadata": {},
   "outputs": [
    {
     "data": {
      "text/plain": [
       "str"
      ]
     },
     "execution_count": 6,
     "metadata": {},
     "output_type": "execute_result"
    }
   ],
   "source": [
    "type(mdg)"
   ]
  },
  {
   "cell_type": "markdown",
   "metadata": {},
   "source": [
    "You can ask it other kinds of things: how big, or long it is -- `len()` -- as well as printing it to see what it looks like. Why don't you do that now? Replace `type` above first with `len` and then with `print` and then hit enter to see what happens. "
   ]
  },
  {
   "cell_type": "markdown",
   "metadata": {
    "slideshow": {
     "slide_type": "slide"
    }
   },
   "source": [
    "We see all of the text, in a \"human readable\" form. \n",
    "One of the problems you now face is understanding that when you hit `print` and see the text, the computer just sees a `string` of characters -- remember what `type` told you? Python doesn't natively understand human languages: they are nothing more than a series of things, characters made up of letters, numbers, punctuation marks, and spaces.\n",
    "\n",
    "When you asked Python to tell you the length of the object, it just counted all those things and told you the total. Our version of \"The Most Dangerous Game\" is 44078 characters long. But characters isn't a very useful way to measure texts, is it? Letters are not meaningful. Words are. That's how we think of texts, isn't it? In order to count the words, we have to tell Python how to break the string into words.\n",
    "\n",
    "We need to convert our string in a list of words, which, it turns out, is still human readable. To do that, we need to figure out how to tell the computer to find words among the sequence of characters. The term for words as they are found in discourse is **tokens**, and what we need to do is **tokenize**."
   ]
  },
  {
   "cell_type": "code",
   "execution_count": 16,
   "metadata": {},
   "outputs": [
    {
     "name": "stdout",
     "output_type": "stream",
     "text": [
      "Words in text: 8048.\n"
     ]
    }
   ],
   "source": [
    "import re\n",
    "\n",
    "mdg_words = re.sub(\"[^a-zA-Z'-]\",\" \", mdg).lower().split()\n",
    "print('Words in text: {}.'.format(len(mdg_words)))"
   ]
  },
  {
   "cell_type": "markdown",
   "metadata": {},
   "source": [
    "For various reasons, I have come to develop my own tokeniser, which I have inserted above just so we can talk about it, but for our purposes today, I am going to turn to the Natural Language Toolkit, more often called by its acronym, which, by the way, is the same way we call it in Python: \n",
    "\n",
    "```python\n",
    "import nltk\n",
    "```\n",
    "\n",
    "But the NLTK is a rather large library, or module -- we'll discuss this! -- and as you begin to work with larger programs and larger collections of texts, you want to keep your space as tidy as possible and only get out the tools you need. (And, in some cases, tools prefer to be pulled out singly which also makes their use easier.) \n",
    "\n",
    "In this instance, we are going to tell Python that we only want one particular tool from the larger toolkit:"
   ]
  },
  {
   "cell_type": "code",
   "execution_count": 9,
   "metadata": {},
   "outputs": [],
   "source": [
    "from nltk.tokenize import WhitespaceTokenizer"
   ]
  },
  {
   "cell_type": "code",
   "execution_count": 11,
   "metadata": {},
   "outputs": [],
   "source": [
    "mdg_tokens = WhitespaceTokenizer().tokenize(mdg)"
   ]
  },
  {
   "cell_type": "markdown",
   "metadata": {
    "slideshow": {
     "slide_type": "slide"
    }
   },
   "source": [
    "Now, let's take a look at what kind of object this is, how big it is, and then let's print it."
   ]
  },
  {
   "cell_type": "code",
   "execution_count": 14,
   "metadata": {},
   "outputs": [
    {
     "name": "stdout",
     "output_type": "stream",
     "text": [
      "['\"Off', 'there', 'to', 'the', 'right', '--', 'somewhere', '--', 'is', 'a']\n"
     ]
    }
   ],
   "source": [
    "print(mdg_tokens[0:10])"
   ]
  },
  {
   "cell_type": "markdown",
   "metadata": {
    "slideshow": {
     "slide_type": "slide"
    }
   },
   "source": [
    "What would happen if we were to read the text differently, if we were to read all the words, but this time with the words in alphabetical order?"
   ]
  },
  {
   "cell_type": "code",
   "execution_count": 17,
   "metadata": {},
   "outputs": [
    {
     "name": "stdout",
     "output_type": "stream",
     "text": [
      "[\"'\", \"'\", \"'\", \"'\", \"'\", \"'--\", \"'ship-trap\", '--', '--', '--', '--', '--', '--', '--', '--', '--', '--', '--', '--', '--', '--', '--', '--', '--', '--', '--', '--', '--', '--', '--', '--', '--', '--', '--', '--', '--', '--', '--', '--', '--', '--', '--', '--', '--', '--', '--', '--', '--', '--', '--', '--', '--', '--', '--', '--', '--', '--', '--', '--', '--', 'a', 'a', 'a', 'a', 'a', 'a', 'a', 'a', 'a', 'a', 'a', 'a', 'a', 'a', 'a', 'a', 'a', 'a', 'a', 'a', 'a', 'a', 'a', 'a', 'a', 'a', 'a', 'a', 'a', 'a', 'a', 'a', 'a', 'a', 'a', 'a', 'a', 'a', 'a', 'a', 'a', 'a', 'a', 'a', 'a', 'a', 'a', 'a', 'a', 'a', 'a', 'a', 'a', 'a', 'a', 'a', 'a', 'a', 'a', 'a', 'a', 'a', 'a', 'a', 'a', 'a', 'a', 'a', 'a', 'a', 'a', 'a', 'a', 'a', 'a', 'a', 'a', 'a', 'a', 'a', 'a', 'a', 'a', 'a', 'a', 'a', 'a', 'a', 'a', 'a', 'a', 'a', 'a', 'a', 'a', 'a', 'a', 'a', 'a', 'a', 'a', 'a', 'a', 'a', 'a', 'a', 'a', 'a', 'a', 'a', 'a', 'a', 'a', 'a', 'a', 'a', 'a', 'a', 'a', 'a', 'a', 'a', 'a', 'a', 'a', 'a', 'a', 'a', 'a', 'a', 'a', 'a', 'a', 'a', 'a', 'a', 'a', 'a', 'a', 'a', 'a', 'a', 'a', 'a', 'a', 'a', 'a', 'a', 'a', 'a', 'a', 'a', 'a', 'a', 'a', 'a', 'a', 'a', 'a', 'a', 'a', 'a', 'a', 'a', 'a', 'a', 'a', 'a', 'a', 'a', 'a', 'a', 'a', 'a', 'a', 'a', 'a', 'a', 'a', 'a', 'a', 'a', 'a', 'a', 'a', 'a', 'a', 'a', 'a', 'a', 'a', 'a', 'a', 'a', 'a', 'a', 'a', 'a', 'a', 'a', 'a', 'a', 'a', 'a', 'a', 'a', 'a', 'a', 'a', 'a', 'a', 'a', 'a', 'a', 'a', 'a', 'a', 'a', 'a', 'a', 'a', 'a', 'a', 'a', 'a', 'a', 'a', 'a', 'a', 'a', 'a', 'a', 'a', 'a', 'a', 'a', 'a', 'a', 'a', 'a', 'a', 'a', 'a', 'a', 'a', 'a', 'a', 'a', 'a', 'a', 'a', 'a', 'a', 'a', 'a', 'a', 'a', 'a', 'able', 'aboard', 'about', 'about', 'about', 'about', 'about', 'about', 'about', 'about', 'about', 'about', 'about', 'about', 'about', 'about', 'about', 'about', 'about', 'about', 'above', 'above', 'above', 'abrupt', 'abruptly', 'absorbed', 'accent', 'accustomed', 'achieved', 'aching', 'acknowledge', 'acres', 'across', 'across', 'actually', 'added', 'added', 'adjusted', 'admitted', 'advanced', 'affable', 'afford', 'afraid', 'africa', 'africa', 'after', 'after', 'after', 'after', 'after', 'after', 'after', 'after', 'afterdeck', 'afternoon', 'again', 'again', 'again', 'again', 'again', 'again', 'again', 'again', 'again', 'again', 'again', 'again', 'again', 'again', 'against', 'against', 'against', 'against', 'against', 'against', 'against', 'age', 'agility', 'ago', 'agree', 'agree', 'agreed', 'ah', 'ah', 'ahead', 'ahead', 'air', 'air', 'air', 'air', 'air', 'alarmed', 'alertness', 'all', 'all', 'all', 'all', 'all', 'all', 'all', 'all', 'all', 'all', 'all', 'all', 'all', 'all', 'all', 'all', 'almost', 'almost', 'almost', 'almost', 'almost', 'almost', 'almost', 'alone', 'along', 'along', 'along', 'along', 'along', 'along', 'along', 'along', 'along', 'along', 'aloud', 'although', 'always', 'always', 'always', 'always', 'always', \"always'\", 'am', 'am', 'am', 'am', 'am', 'am', 'am', 'am', 'am', 'am', 'amazon', 'amazon', 'amended', 'amenities', 'america', 'america', 'american', 'american', 'americans', 'among', 'amused', 'amusing', 'an', 'an', 'an', 'an', 'an', 'an', 'an', 'an', 'an', 'an', 'an', 'an', 'an', 'an', 'an', 'an', 'an', 'an', 'an', 'an', 'an', 'an', 'an', 'an', 'an', 'an', 'an', 'an', 'an', 'an', 'an', 'an', 'an', 'an', 'analytical', 'ancestors', 'and', 'and', 'and', 'and', 'and', 'and', 'and', 'and', 'and', 'and', 'and', 'and', 'and', 'and', 'and', 'and', 'and', 'and', 'and', 'and', 'and', 'and', 'and', 'and', 'and', 'and', 'and', 'and', 'and', 'and', 'and', 'and', 'and', 'and', 'and', 'and', 'and', 'and', 'and', 'and', 'and', 'and', 'and', 'and', 'and', 'and', 'and', 'and', 'and', 'and', 'and', 'and', 'and', 'and', 'and', 'and', 'and', 'and', 'and', 'and', 'and', 'and', 'and', 'and', 'and', 'and', 'and', 'and', 'and', 'and', 'and', 'and', 'and', 'and', 'and', 'and', 'and', 'and', 'and', 'and', 'and', 'and', 'and', 'and', 'and', 'and', 'and', 'and', 'and', 'and', 'and', 'and', 'and', 'and', 'and', 'and', 'and', 'and', 'and', 'and', 'and', 'and', 'and', 'and', 'and', 'and', 'and', 'and', 'and', 'and', 'and', 'and', 'and', 'and', 'and', 'and', 'and', 'and', 'and', 'and', 'and', 'and', 'and', 'and', 'and', 'and', 'and', 'and', 'and', 'and', 'and', 'and', 'and', 'and', 'and', 'and', 'and', 'and', 'and', 'and', 'and', 'and', 'and', 'and', 'and', 'and', 'and', 'and', 'and', 'and', 'and', 'and', 'and', 'and', 'and', 'and', 'and', 'and', 'and', 'and', 'and', 'and', 'and', 'and', 'anger', 'angry', 'anguish', 'animal', 'animal', 'animal', 'animal', 'animal', 'animal', 'animal', 'animal', 'animal', 'animal', 'animal', 'animal', 'animal', 'animals', 'animals', 'animated', 'annoyances', 'annoying', 'another', 'another', 'another', 'another', 'another', 'another', 'another', 'another', 'another', 'another', 'answer', 'answer', 'answer', 'answer', 'answered', 'any', 'any', 'any', 'anyhow', 'anyone', 'anything', 'ape', 'apointments', 'apologetically', 'appear', 'appear', 'appeared', 'appraising', 'apprehensive', 'approaching', 'ardent', 'are', 'are', 'are', 'are', 'are', 'are', 'are', 'are', 'are', 'are', 'are', 'are', 'are', 'are', 'are', 'are', 'are', 'are', 'are', 'are', 'aristocrat', 'arm', 'armed', 'arms', 'army', 'as', 'as', 'as', 'as', 'as', 'as', 'as', 'as', 'as', 'as', 'as', 'as', 'as', 'as', 'as', 'as', 'as', 'as', 'as', 'as', 'as', 'as', 'as', 'as', 'as', 'as', 'as', 'as', 'as', 'as', 'as', 'as', 'as', 'as', 'as', 'as', 'as', 'as', 'as', 'as', 'as', 'as', 'as', 'as', 'as', 'as', 'as', 'as', 'as', 'as', 'as', 'as', 'as', 'as', 'ask', 'asked', 'asked', 'asked', 'asked', 'assure', 'astonishment', 'astrakhan', 'at', 'at', 'at', 'at', 'at', 'at', 'at', 'at', 'at', 'at', 'at', 'at', 'at', 'at', 'at', 'at', 'at', 'at', 'at', 'at', 'at', 'at', 'at', 'at', 'at', 'at', 'at', 'ate', 'ate', 'attention', 'attention', 'attributes', 'au', 'au', 'aurelius', 'automatic', 'automatically', 'avoid', 'awakened', 'away', 'away', 'away', 'away', 'away', 'away', 'back', 'back', 'back', 'back', 'back', 'back', 'back', 'back', 'back', 'back', 'back', 'back', 'bad', 'bad', 'bah', 'balance', 'balanced', 'barbarous', 'bark', 'baronial', 'bay', 'bay', 'baying', 'baying', 'baying', 'be', 'be', 'be', 'be', 'be', 'be', 'be', 'be', 'be', 'be', 'be', 'be', 'be', 'be', 'be', 'be', 'be', 'be', 'be', 'be', 'be', 'be', 'be', 'be', 'be', 'be', 'be', 'beam-ceilinged', 'bear', 'beard', 'bearded', 'bears', 'beast', 'beaten', 'beaver', 'became', 'become', 'bed', 'bed', 'bed', 'bed', 'bed', 'bed', 'bedroom', 'bedroom', 'been', 'been', 'been', 'been', 'been', 'been', 'been', 'been', 'been', 'been', 'been', 'been', 'been', 'before', 'before', 'before', 'before', 'before', 'before', 'before', 'before', 'beg', 'began', 'began', 'began', 'began', 'began', 'began', 'began', 'beggars', 'begin', 'beginning', 'beginning', 'behind', 'behind', 'behind', 'being', 'being', 'believe', 'believe', 'believe', 'below', 'below', 'below', 'belt', 'beneath', 'beneath', 'bent', 'bergere', 'best', 'best', 'best', 'better', 'better', 'between', 'between', 'bewilderment', 'big', 'big', 'big', 'big', 'big', 'big', 'big', 'big-game', 'biggest', 'bird', 'bit', 'bit', 'bit', 'bit', 'bit', 'bit', 'bit', 'bitterly', 'bizarre', 'black', 'black', 'black', 'black', 'black', 'black', 'black', 'black', 'black', 'black', 'black', 'black', 'black', 'blacking', 'blackness', 'blackness', 'blackness', 'blacks', 'blade', 'blade', 'blandly', 'blanket', 'bleak', 'blew', 'blinking', 'blood-warm', 'bloodhound', 'blotted', 'blow', 'blue', 'blue', 'blue-green', 'bluff', 'blunder', 'boast', 'book', 'books', 'booming', 'boots', 'boots', 'bore', 'bore', 'bored', 'boredom', 'borsch', 'both', 'bottle', 'bottle', 'bottle', 'bottle', 'bottom', 'bough', 'bought', 'bow', 'bows', 'braggart', 'brain', 'brain', 'brain', 'brains', 'branches', 'branches', 'branches', 'branches', 'brandy', 'breakfast', 'breaking', 'breaking', 'breath', 'breath', 'breath', 'breeze', 'breeze', 'brier', 'bright', 'brightened', 'bring', 'broad', 'broad', 'broadcast', 'brought', 'brought', 'brought', 'brought', 'brought', 'brown', 'brown', 'bruised', 'brute', 'brute', 'buffalo', 'buffalo', 'buffalo', 'buffalo', 'building', 'built', 'burmese', 'burst', 'bush', 'bush', 'bush', 'bush', 'business', 'businesslike', 'businessmen', 'but', 'but', 'but', 'but', 'but', 'but', 'but', 'but', 'but', 'but', 'but', 'but', 'but', 'but', 'but', 'but', 'but', 'but', 'but', 'but', 'but', 'but', 'but', 'but', 'but', 'but', 'but', 'but', 'but', 'but', 'but', 'but', 'but', 'but', 'but', 'but', 'but', 'but', 'but', 'but', 'but', 'but', 'but', 'but', 'but', 'but', 'but', 'but', 'but', 'butterfly', 'button', 'by', 'by', 'by', 'by', 'by', 'by', 'by', 'by', 'by', 'by', 'by', 'by', 'by', 'by', 'by', 'by', 'by', 'by', 'by', 'by', 'by', 'by', 'by', 'by', 'by', 'caliber', 'call', 'call', 'call', 'called', 'called', 'called', 'called', 'called', 'calm', 'came', 'came', 'came', 'came', 'came', 'came', 'came', 'came', 'came', 'came', 'came', 'can', 'can', 'can', 'can', 'can', 'can', 'can', 'can', 'can', 'can', 'can', 'can', 'can', 'can', 'can', \"can't\", \"can't\", \"can't\", \"can't\", \"can't\", \"can't\", 'cannibals', 'cannibals', 'canopied', 'cape', 'cape', 'cape', 'cape', 'capital', 'captain', 'care', 'carefully', 'carelessly', 'cares', 'caribbean', 'caribbean', 'carlo', 'carpet', 'carried', 'carried', 'cartridge', 'case', 'case', 'case', 'casually', 'cat', 'cat', 'cat', 'caucasus', 'caught', 'caught', 'cavalry', 'ceased', 'ceased', 'ceiling', 'celebrated', 'cellar', 'certain', 'certainty', 'chablis', 'chablis', 'chair', 'chambertin', 'champagne', 'chance', 'chance', 'chance', 'chance', 'chance', 'change', 'channel', 'charge', 'charts', 'chase', 'chateau', 'chateau', 'chateau', 'chateau', 'chatting', 'check', 'cheekbones', 'cheerfully', 'cheerfully', 'chess', 'chest', 'chill', 'chill', 'china', 'chinese', 'choice', 'choose', 'chuckled', 'cigarette', 'cigarette', 'cigarette', 'cigarette', 'cigarette', 'cigarette', 'cigarettes', 'city', 'civilization', 'civilized', 'civilized', 'civilized', 'claimed', 'class', 'classes', 'clear', 'clearheaded', 'clearly', 'click', 'cliff', 'cliffs', 'cliffs', 'climbed', 'climbed', 'climbed', 'climbed', 'cliquot', 'closed', 'closed', 'closely', 'closely', 'closing', 'clothes', 'clothes', 'clothes', 'clothes', 'clothes', 'clothes', 'coast', 'cocked', 'cocktail', 'cocktail', 'coffee', 'cold', 'cold-blooded', 'collection', 'come', 'come', 'come', 'come', 'come', 'come', 'come', 'come', 'come', 'come', 'come', 'come', 'come', 'coming', 'coming', 'coming', 'coming', 'coming', 'coming', 'coming', 'commanded', 'company', 'compared', 'compares', 'complaint', 'complicated', 'complimented', 'concealment', 'concentration', 'concern', 'condition', 'condone', 'conducted', 'confidence', 'congratulate', 'congratulate', 'conserving', 'consideration', 'containing', 'continued', 'continued', 'coolheadedness', 'corner', 'corner', 'corridor', 'cosmopolite', 'cossack', 'cossack', 'cossack', 'cossack', 'cossack', 'cossack', 'cossack', 'cossack', 'could', 'could', 'could', 'could', 'could', 'could', 'could', 'could', 'could', 'could', 'could', 'could', 'could', 'could', 'could', 'could', 'could', 'could', 'could', 'could', 'could', 'count', 'country', 'country', 'courage', 'course', 'course', 'course', 'course', 'course', 'courtly', 'courtyard', 'courtyard', 'courtyard', 'cove', 'cover', 'covered', 'cowered', 'cr', 'crackle', 'crags', 'crashed', 'crawled', 'creaked', 'cream', 'creature', \"crew's\", 'cried', 'cries', 'crimea', 'crimson', 'crimson', 'crisp', 'crocodiles', 'crook', 'crossed', 'crotch', 'crouch', 'crouched', 'crouching', 'crush', 'crush', 'crushed', 'crushed', 'cry', 'cry', 'cry', 'cry', 'cry', 'cry', 'crystal', 'cultivated', 'cunning', 'cunning', 'curious', 'curious', 'curtains', 'cut', 'cut', 'cut', 'cut', 'czar', 'czar', 'danger', 'danger', 'danger', 'danger', 'dangerous', 'dangerous', 'dangerous', 'dangerous', 'dank', 'dark', 'dark', 'dark', 'dark', 'dark', 'dark', 'darkness', 'darkness', 'darkness', 'darkness', 'darkness', 'dashed', 'date', 'day', 'day', 'day', \"day's\", 'daybreak', 'days', 'days', 'days', 'dead', 'dead', 'dead', 'dead', 'dead', 'deaf', 'dear', 'dear', 'dear', 'dear', 'dear', 'dear', 'death', 'death', 'death', 'death', 'debacle', 'decided', 'deck', 'declared', 'deep', 'deeper', 'deepest', 'deepest', 'defeat', 'delay', 'deliberate', 'deliberately', 'deliberateness', 'delicately', 'delicately', 'deliciously', 'dense', 'denser', 'deplorable', 'desperate', 'desperately', 'detected', 'determined', 'devil', 'devil', 'devil', 'did', 'did', 'did', 'did', 'did', 'did', 'did', 'did', 'did', 'did', 'did', 'did', 'did', 'did', 'did', 'did', 'did', 'did', \"didn't\", 'died', 'difficult', 'difficult', 'dig', 'digging', 'dimly', 'dingy', 'dining', 'dining', 'dinner', 'dinner', 'dinner', 'direction', 'direction', 'direction', 'direction', 'disappointed', 'disarming', 'discerned', 'discuss', 'discuss', 'distance', 'distant', 'dived', 'diverting', 'division', 'do', 'do', 'do', 'do', 'do', 'do', 'do', 'do', 'do', 'do', 'do', 'do', 'do', 'do', 'do', 'do', 'do', 'dodges', 'does', 'does', 'does', \"doesn't\", 'doggedly', 'dogs', 'dogs', 'dogs', \"don't\", \"don't\", \"don't\", \"don't\", \"don't\", \"don't\", \"don't\", 'done', 'done', 'door', 'door', 'door', 'door', 'door', 'dosed', 'doubled', 'doubt', 'doubt', 'doubtless', 'doubtless', 'down', 'down', 'down', 'down', 'down', 'down', 'down', 'down', 'down', 'down', 'down', 'down', 'down', 'down', 'down', 'down', 'down', 'down', 'down', 'down', 'down', 'down', 'doze', 'dozen', 'dozen', 'dozen', 'dragged', 'drawing', 'dread', 'dread', 'dressed', 'dressed', 'dressed', 'drew', 'drew', 'drink', 'drink', 'drive', 'driven', 'droll', 'drop', 'dropped', 'dropped', 'drove', 'drowsiness', 'dug', 'duke', 'dull', 'dumb', 'dusk', 'dusk', 'dusty', 'eagerly', 'ears', 'ears', 'earth', 'earth', 'earth', 'easier', 'easily', 'east', 'easy', 'eat', 'eating', 'edge', 'edge', 'edges', 'educated', 'effort', 'effort', 'effort', 'eh', 'eh', 'electric', 'electricity', 'elementary', 'elephants', 'elevation', 'eludes', 'empty', 'end', 'endless', 'enemy', 'energy', 'engine', 'english', 'enjoy', 'enjoyment', 'ennui', 'enormous', 'enough', 'enough', 'enough', 'enough', 'enough', 'enthusiastically', 'entire', 'entirely', 'entirely', 'entirely', 'epes', 'erect', 'escaped', 'escaped', 'even', 'even', 'even', 'even', 'even', 'even', 'even', 'even', 'even', 'even', 'even', 'evening', 'evening', 'evening', 'evening', 'eventually', 'ever', 'ever', 'ever', 'ever', 'ever', 'ever-vanishing', 'every', 'every', 'every', 'every', 'every', 'every', 'every', 'everything', 'evidence', 'evident', 'evil', 'evil', 'evil', 'evil', 'examined', 'exceedingly', 'excellent', 'excellent', 'excessively', 'excitedly', 'exciting', 'exciting', 'exclaimed', 'excuse', 'excuse', 'executed', 'exercise', 'exhausted', 'expanse', 'expect', 'expect', 'expectantly', 'expected', 'experiences', 'expert', 'explained', 'explained', 'explained', 'expressed', 'extra', 'extraordinarily', 'extremely', 'extremely', 'extremity', 'eye', 'eyebrows', 'eyebrows', 'eyelid', 'eyelids', 'eyes', 'eyes', 'eyes', 'eyes', 'eyes', 'eyes', 'eyes', 'eyes', 'eyes', 'eyes', 'eyes', 'eyes', 'eyes', 'eyes', 'eyes', 'eyes', 'eyes', 'eyes', 'eyes', 'eyes', 'eyes', 'fable', 'face', 'face', 'face', 'face', 'face', 'face', 'face', 'face', 'face', 'face', 'face', 'face', 'face', 'faced', 'failed', 'failed', 'faint', 'faint', 'faint', 'faint', 'fainter', 'fainter', 'fair', 'fairly', 'fall', 'fall', 'fall', 'fall', 'fallen', 'far', 'far', 'far', 'far', 'far', 'far', 'fascinated', 'fashion', 'fashion', 'fastened', 'father', 'faultlessly', 'favorite', 'fear', 'fear', 'fear', 'fear', 'fear', 'fear', 'fear', 'feel', 'feel', 'feel', 'feel', 'feel', 'feeling', 'feeling', 'feeling', 'feelings', 'feels', 'feels', 'feet', 'feet', 'feet', 'feet', 'feet', 'feet', 'feet', 'feet', 'fell', 'fell', 'fell', 'fellow', 'fellow', 'fellow', 'fellow', 'fellow', 'fellow', 'fellow', 'fellow', 'felt', 'felt', 'feudal', 'few', 'fiber', 'fifty', 'fight', 'figure', 'figure', 'filet', 'filled', 'filled', 'find', 'find', 'find', 'find', 'find', 'find', 'find', 'finding', 'finding', 'fine', 'finest', 'finest', 'fingers', 'finished', 'finished', 'finished', 'fired', 'fireflies', 'firmly', 'first', 'first', 'first', 'first', 'first', 'first', 'first', 'first', 'fishy', 'fit', 'five', 'fixed', 'flash', 'flask', 'flat', 'flat', 'flattened', 'flee', 'flickering', 'flight', 'flight', 'flight', 'flight', 'floated', 'floor', 'floundered', 'flung', 'flushed', 'fluttered', 'flying', 'focused', 'foeman', 'folies', 'follow', 'follow', 'follow', 'follow', 'follow', 'follow', 'follow', 'followed', 'followed', 'following', 'following', 'food', 'food', 'food', 'food', 'food', 'food', 'food', 'foolish', 'foot', 'foot', 'foot', 'foot', 'foot', 'for', 'for', 'for', 'for', 'for', 'for', 'for', 'for', 'for', 'for', 'for', 'for', 'for', 'for', 'for', 'for', 'for', 'for', 'for', 'for', 'for', 'for', 'for', 'for', 'for', 'for', 'for', 'for', 'for', 'for', 'for', 'for', 'for', 'for', 'for', 'for', 'for', 'for', 'for', 'for', 'for', 'for', 'for', 'for', 'for', 'for', 'for', 'for', 'for', 'for', 'for', 'forbidding', 'force', 'forced', 'forced', 'forced', 'ford', 'forehead', 'forged', 'forget', 'forgive', 'forms', 'forth', 'forward', 'forward', 'fought', 'fought', 'found', 'found', 'found', 'found', 'found', 'found', 'found', 'founded', 'four', 'four', 'four', 'fox', 'fox', 'fox', 'fractured', 'fragment', 'frame', 'frame', 'france', 'frantically', 'free', 'french', 'fresh', 'fresh', 'fresh', 'friend', 'fringed', 'from', 'from', 'from', 'from', 'from', 'from', 'from', 'from', 'from', 'from', 'from', 'from', 'from', 'from', 'from', 'from', 'from', 'from', 'from', 'from', 'from', 'from', 'from', 'from', 'from', 'from', 'from', 'from', 'from', 'from', 'from', 'from', 'from', 'from', 'from', 'from', 'from', 'from', 'from', 'front', 'froze', 'full', 'function', 'furnish', 'futile', 'gag', 'game', 'game', 'game', 'game', 'game', 'game', 'game', 'game', 'game', 'game', 'game', 'game', 'ganges', 'gap', 'gap', 'gargoyle', 'gasped', 'gasping', 'gate', 'gates', 'gave', 'gave', 'gave', 'gave', 'gave', 'gave', 'general', 'general', 'general', 'general', 'general', 'general', 'general', 'general', 'general', 'general', 'general', 'general', 'general', 'general', 'general', 'general', 'general', 'general', 'general', 'general', 'general', 'general', 'general', 'general', 'general', 'general', 'general', 'general', 'general', 'general', 'general', 'general', 'general', 'general', 'general', 'general', 'general', 'general', 'general', 'general', 'general', 'general', 'general', 'general', 'general', 'general', 'general', 'general', 'general', 'general', 'general', 'general', 'general', 'general', 'general', 'general', 'general', 'general', 'general', 'general', 'general', 'general', 'general', 'general', 'general', 'general', 'general', 'general', 'general', 'general', 'general', 'general', 'general', 'general', 'general', 'general', 'general', 'general', 'general', 'general', 'general', 'general', 'general', 'general', 'general', 'general', 'general', 'general', 'general', 'general', 'general', 'general', 'general', 'general', 'general', 'general', 'general', \"general's\", \"general's\", \"general's\", \"general's\", \"general's\", \"general's\", \"general's\", \"general's\", \"general's\", 'gentleman', 'genuine', 'get', 'get', 'get', 'get', 'get', 'get', 'get', 'get', 'get', 'get', 'getting', 'giant', 'giant', 'giant', 'giant', 'giant', 'giant', 'giant', 'giant', 'gift', 'gigantic', 'give', 'give', 'give', 'give', 'give', 'give', 'give', 'given', 'given', 'gives', 'giving', 'glad', 'glad', 'glance', 'glancing', 'glaring', 'glass', 'glass', 'glass', 'glass', 'glasses', 'glittered', 'glittering', 'gloom', 'gloomy', 'go', 'go', 'go', 'go', 'go', 'go', 'go', 'go', 'go', 'go', 'god', 'god', \"god's\", 'god-forsaken', 'going', 'going', 'going', 'going', 'gold', 'gold', 'gone', 'good', 'good', 'good', 'good', 'good', 'good', 'good', 'good', 'good', 'good', 'good', 'good', 'good', 'good', 'got', 'got', 'got', 'gotten', 'grape', 'grapevine', 'grass', 'gravely', 'gray', 'gray', 'gray', 'great', 'great', 'great', 'great', 'great', 'great', 'great', 'great', 'greater', 'greater', 'greedy', 'green', 'greenly', 'grew', 'grew', 'grew', 'grew', 'grew', 'grinding', 'grip', 'grip', 'gripping', 'grisly', 'grizzliest', 'grotesque', 'ground', 'ground', 'ground', 'ground', 'ground', 'ground', 'grow', 'growling', 'guard', 'guess', 'guest', 'gun', 'gun', 'gun', 'guns', 'guns', 'had', 'had', 'had', 'had', 'had', 'had', 'had', 'had', 'had', 'had', 'had', 'had', 'had', 'had', 'had', 'had', 'had', 'had', 'had', 'had', 'had', 'had', 'had', 'had', 'had', 'had', 'had', 'had', 'had', 'had', 'had', 'had', 'had', 'had', 'had', 'had', 'had', 'had', 'had', 'had', 'had', 'had', 'had', 'had', 'had', 'had', 'had', 'had', 'had', 'had', 'had', 'had', 'had', 'had', 'had', 'had', 'had', 'had', 'had', 'had', 'had', 'had', 'had', 'had', 'had', 'had', 'had', 'had', \"hadn't\", 'hair', 'half', 'half', 'hall', 'hall', 'hall', 'hammer', 'hand', 'hand', 'hand', 'hand', 'hand', 'hand', 'hand', 'hand', 'hand', 'hand', 'hand', 'hands', 'hands', 'hands', 'handsome', 'harbors', 'hard', 'hardly', 'hardly', 'hardly', 'hardwood', 'has', 'has', 'has', 'has', 'has', 'has', 'has', 'has', 'has', 'hastily', 'have', 'have', 'have', 'have', 'have', 'have', 'have', 'have', 'have', 'have', 'have', 'have', 'have', 'have', 'have', 'have', 'have', 'have', 'have', 'have', 'have', 'have', 'have', 'have', 'have', 'have', 'have', 'have', 'have', 'have', 'have', 'have', 'have', 'have', 'have', 'have', 'have', 'have', 'have', 'have', 'have', 'have', 'haversack', 'he', 'he', 'he', 'he', 'he', 'he', 'he', 'he', 'he', 'he', 'he', 'he', 'he', 'he', 'he', 'he', 'he', 'he', 'he', 'he', 'he', 'he', 'he', 'he', 'he', 'he', 'he', 'he', 'he', 'he', 'he', 'he', 'he', 'he', 'he', 'he', 'he', 'he', 'he', 'he', 'he', 'he', 'he', 'he', 'he', 'he', 'he', 'he', 'he', 'he', 'he', 'he', 'he', 'he', 'he', 'he', 'he', 'he', 'he', 'he', 'he', 'he', 'he', 'he', 'he', 'he', 'he', 'he', 'he', 'he', 'he', 'he', 'he', 'he', 'he', 'he', 'he', 'he', 'he', 'he', 'he', 'he', 'he', 'he', 'he', 'he', 'he', 'he', 'he', 'he', 'he', 'he', 'he', 'he', 'he', 'he', 'he', 'he', 'he', 'he', 'he', 'he', 'he', 'he', 'he', 'he', 'he', 'he', 'he', 'he', 'he', 'he', 'he', 'he', 'he', 'he', 'he', 'he', 'he', 'he', 'he', 'he', 'he', 'he', 'he', 'he', 'he', 'he', 'he', 'he', 'he', 'he', 'he', 'he', 'he', 'he', 'he', 'he', 'he', 'he', 'he', 'he', 'he', 'he', 'he', 'he', 'he', 'he', 'he', 'he', 'he', 'he', 'he', 'he', 'he', 'he', 'he', 'he', 'he', 'he', 'he', 'he', 'he', 'he', 'he', 'he', 'he', 'he', 'he', 'he', 'he', 'he', 'he', 'he', 'he', 'he', 'he', 'he', 'he', 'he', 'he', 'he', 'he', 'he', 'he', 'he', 'he', 'he', 'he', 'he', 'he', 'he', 'he', 'he', 'he', 'he', 'he', 'he', 'he', 'he', 'he', 'he', 'he', 'he', 'he', 'he', 'he', 'he', 'he', 'he', 'he', 'he', 'he', 'he', 'he', 'he', 'he', 'he', 'he', 'he', 'he', 'he', 'he', 'he', 'he', 'he', 'he', 'he', 'he', 'he', 'he', 'he', 'he', 'he', 'he', 'he', 'he', 'he', 'he', 'he', 'he', 'he', 'he', 'he', 'he', 'he', 'he', 'he', 'head', 'head', 'head', 'head', 'headache', 'headed', 'headlong', 'heads', 'heads', 'heads', 'headway', 'health', 'heard', 'heard', 'heard', 'heard', 'heard', 'heard', 'heard', 'heard', 'heard', 'heard', 'heard', 'heard', 'heard', 'heard', 'heard', 'heard', 'heard', 'heard', 'heard', 'heart', 'heart', 'heart', 'heavily', 'heavy', 'heel', 'heels', 'held', 'held', 'held', 'held', 'held', 'held', 'held', 'help', 'helping', 'hence', 'here', 'here', 'here', 'here', 'here', 'here', 'here', 'here', 'here', 'here', 'here', 'hesitated', 'hiding', 'hiding', 'high', 'high', 'high', 'high', 'high', 'high', 'high-powered', 'hills', 'him', 'him', 'him', 'him', 'him', 'him', 'him', 'him', 'him', 'him', 'him', 'him', 'him', 'him', 'him', 'him', 'him', 'him', 'him', 'him', 'him', 'him', 'him', 'him', 'him', 'him', 'him', 'him', 'him', 'him', 'him', 'him', 'him', 'him', 'him', 'him', 'him', 'him', 'him', 'him', 'him', 'him', 'him', 'him', 'him', 'him', 'him', 'him', 'him', 'him', 'him', 'him', 'him', 'him', 'him', 'himself', 'himself', 'himself', 'himself', 'himself', 'himself', 'himself', 'himself', 'himself', 'himself', 'himself', 'himself', 'himself', 'himself', 'himself', 'himself', 'himself', 'himself', 'himself', 'himself', 'his', 'his', 'his', 'his', 'his', 'his', 'his', 'his', 'his', 'his', 'his', 'his', 'his', 'his', 'his', 'his', 'his', 'his', 'his', 'his', 'his', 'his', 'his', 'his', 'his', 'his', 'his', 'his', 'his', 'his', 'his', 'his', 'his', 'his', 'his', 'his', 'his', 'his', 'his', 'his', 'his', 'his', 'his', 'his', 'his', 'his', 'his', 'his', 'his', 'his', 'his', 'his', 'his', 'his', 'his', 'his', 'his', 'his', 'his', 'his', 'his', 'his', 'his', 'his', 'his', 'his', 'his', 'his', 'his', 'his', 'his', 'his', 'his', 'his', 'his', 'his', 'his', 'his', 'his', 'his', 'his', 'his', 'his', 'his', 'his', 'his', 'his', 'his', 'his', 'his', 'his', 'his', 'his', 'his', 'his', 'his', 'his', 'his', 'his', 'his', 'his', 'his', 'his', 'his', 'his', 'his', 'his', 'his', 'his', 'his', 'his', 'his', 'his', 'his', 'his', 'his', 'his', 'his', 'his', 'his', 'his', 'his', 'his', 'his', 'his', 'his', 'his', 'his', 'his', 'his', 'his', 'his', 'his', 'his', 'his', 'his', 'his', 'hissed', 'hit', 'hit', 'hoarse', 'hoarse', 'hogshead', 'hold', 'hold', 'holding', 'home', 'home', 'honor', 'honor', 'hope', 'hope', 'hope', 'hope', 'hope', 'hoped', 'hoped', 'hopeless', 'horror', 'horse', 'host', 'host', 'hot', 'hothouse', 'hotly', 'hotly', 'hound', 'hound', 'hounds', 'hounds', 'hounds', 'hounds', 'hounds', 'hounds', 'hounds', 'hounds', 'hounds', 'hours', 'hours', \"hours'\", 'house', 'house', 'how', 'how', 'how', 'how', 'how', 'how', 'how', 'how', 'huge', 'huge', 'huge', 'huge', 'human', 'hummed', 'hummed', 'hundred', 'hundred', 'hundred', 'hundred', 'hung', 'hunger', 'hungry', 'hunt', 'hunt', 'hunt', 'hunt', 'hunt', 'hunt', 'hunt', 'hunt', 'hunt', 'hunt', 'hunt', 'hunt', 'hunt', 'hunt', 'hunt', 'hunt', 'hunt', 'hunt', 'hunted', 'hunted', 'hunted', 'hunted', 'huntees', 'hunter', 'hunter', 'hunter', 'hunter', 'hunter', 'hunter', 'hunter', 'hunter', 'hunter', 'hunter', 'hunter', 'hunters', 'hunters', 'hunting', 'hunting', 'hunting', 'hunting', 'hunting', 'hunting', 'hunting', 'hunting', 'hunting', 'hunting', 'hunting', 'hunting', 'hunting', 'hunting', 'hunting', 'hunting', 'hunting', 'hunting', 'hunting', 'hunting', 'hunting', 'hunting', 'hunting', 'hunting', 'hunting', 'hunting', 'hunting', 'hunting', 'hurl', 'hurled', 'hurried', 'hurrying', 'hurt', 'huskily', 'i', 'i', 'i', 'i', 'i', 'i', 'i', 'i', 'i', 'i', 'i', 'i', 'i', 'i', 'i', 'i', 'i', 'i', 'i', 'i', 'i', 'i', 'i', 'i', 'i', 'i', 'i', 'i', 'i', 'i', 'i', 'i', 'i', 'i', 'i', 'i', 'i', 'i', 'i', 'i', 'i', 'i', 'i', 'i', 'i', 'i', 'i', 'i', 'i', 'i', 'i', 'i', 'i', 'i', 'i', 'i', 'i', 'i', 'i', 'i', 'i', 'i', 'i', 'i', 'i', 'i', 'i', 'i', 'i', 'i', 'i', 'i', 'i', 'i', 'i', 'i', 'i', 'i', 'i', 'i', 'i', 'i', 'i', 'i', 'i', 'i', 'i', 'i', 'i', 'i', 'i', 'i', 'i', 'i', 'i', 'i', 'i', 'i', 'i', 'i', 'i', 'i', 'i', 'i', 'i', 'i', 'i', 'i', 'i', 'i', 'i', 'i', 'i', 'i', 'i', 'i', 'i', 'i', 'i', 'i', 'i', 'i', 'i', 'i', 'i', 'i', 'i', 'i', 'i', 'i', 'i', 'i', 'i', 'i', 'i', 'i', 'i', 'i', 'i', 'i', 'i', 'i', 'i', 'i', 'i', 'i', 'i', 'i', 'i', 'i', 'i', 'i', 'i', 'i', 'i', \"i'll\", \"i'll\", \"i'll\", \"i'll\", \"i'll\", \"i'll\", \"i'll\", \"i'll\", \"i'll\", \"i'll\", \"i'm\", \"i'm\", \"i'm\", \"i'm\", \"i'm\", \"i'm\", \"i'm\", \"i'm\", \"i'm\", \"i've\", \"i've\", \"i've\", \"i've\", 'idea', 'idea', 'idea', 'idea', 'ideal', 'ideal', 'ideas', 'ideas', 'if', 'if', 'if', 'if', 'if', 'if', 'if', 'if', 'if', 'if', 'if', 'if', 'if', 'if', 'if', 'if', 'if', 'if', 'if', 'if', 'if', 'if', 'ill', 'illumination', 'imagination', 'imagine', 'imperative', 'imported', 'impossible', 'impression', 'imprudent', 'impulse', 'impulse', 'in', 'in', 'in', 'in', 'in', 'in', 'in', 'in', 'in', 'in', 'in', 'in', 'in', 'in', 'in', 'in', 'in', 'in', 'in', 'in', 'in', 'in', 'in', 'in', 'in', 'in', 'in', 'in', 'in', 'in', 'in', 'in', 'in', 'in', 'in', 'in', 'in', 'in', 'in', 'in', 'in', 'in', 'in', 'in', 'in', 'in', 'in', 'in', 'in', 'in', 'in', 'in', 'in', 'in', 'in', 'in', 'in', 'in', 'in', 'in', 'in', 'in', 'in', 'in', 'in', 'in', 'in', 'in', 'in', 'in', 'in', 'in', 'in', 'in', 'in', 'in', 'in', 'in', 'in', 'in', 'in', 'in', 'in', 'in', 'in', 'in', 'in', 'in', 'in', 'in', 'in', 'in', 'in', 'in', 'in', 'in', 'in', 'in', 'in', 'in', 'in', 'in', 'in', 'in', 'in', 'in', 'in', 'in', 'incense', 'incense-like', 'inch', 'inch', 'incredibly', 'indeed', 'indicate', 'indolently', 'inevitable', 'inevitably', 'inferior', 'injured', 'inquired', 'insane', 'insects', 'inspiration', 'inspiration', 'instant', 'instinct', 'instinct', 'intent', 'interest', 'interest', 'interesting', 'into', 'into', 'into', 'into', 'into', 'into', 'into', 'into', 'into', 'into', 'into', 'into', 'into', 'into', 'into', 'intricate', 'invariably', 'invariably', 'invent', 'invented', 'invested', 'iron', 'is', 'is', 'is', 'is', 'is', 'is', 'is', 'is', 'is', 'is', 'is', 'is', 'is', 'is', 'is', 'is', 'is', 'is', 'is', 'is', 'is', 'is', 'is', 'is', 'is', 'is', 'is', 'is', 'is', 'is', 'is', 'is', 'is', 'is', 'is', 'is', 'island', 'island', 'island', 'island', 'island', 'island', 'island', 'island', 'island', 'island', 'island', 'island', 'island', 'island', \"isn't\", \"isn't\", 'it', 'it', 'it', 'it', 'it', 'it', 'it', 'it', 'it', 'it', 'it', 'it', 'it', 'it', 'it', 'it', 'it', 'it', 'it', 'it', 'it', 'it', 'it', 'it', 'it', 'it', 'it', 'it', 'it', 'it', 'it', 'it', 'it', 'it', 'it', 'it', 'it', 'it', 'it', 'it', 'it', 'it', 'it', 'it', 'it', 'it', 'it', 'it', 'it', 'it', 'it', 'it', 'it', 'it', 'it', 'it', 'it', 'it', 'it', 'it', 'it', 'it', 'it', 'it', 'it', 'it', 'it', 'it', 'it', 'it', 'it', 'it', 'it', 'it', 'it', 'it', 'it', 'it', 'it', 'it', 'it', 'it', 'it', 'it', 'it', 'it', 'it', 'it', 'it', 'it', 'it', 'it', 'it', 'it', 'it', \"it's\", \"it's\", \"it's\", \"it's\", \"it's\", \"it's\", \"it's\", \"it's\", \"it's\", \"it's\", 'its', 'its', 'its', 'its', 'its', 'its', 'its', 'its', 'its', 'its', 'its', 'ivan', 'ivan', 'ivan', 'ivan', 'ivan', 'ivan', 'ivan', 'ivan', 'ivan', 'ivan', 'ivan', 'ivan', 'ivan', 'ivan', \"ivan's\", 'jagged', 'jaguar', 'jaguar', 'jaguar', 'jaguar', 'jaguars', 'jaws', 'job', 'joke', 'joke', 'joking', 'joy', 'jumpy', 'jungle', 'jungle', 'jungle', 'jungle', 'jungle', 'jungle', 'jungle', 'jungle', 'jungle', 'jungle', 'jungle', 'jungle', 'jungles', 'just', 'just', 'just', 'just', 'just', 'jut', 'keep', 'keep', 'kept', 'khaki', 'killed', 'killed', 'kind', 'kind', 'kind', 'kind', 'kings', 'knees', 'knew', 'knew', 'knew', 'knew', 'knew', 'knew', 'knew', 'knew', 'knew', 'knew', 'knife', 'knife', 'knife', 'knife', 'knife', 'knife', 'knife', 'knit', 'knocked', 'knocker', 'knocker', 'knocker', 'knouter', 'know', 'know', 'know', 'know', 'know', 'know', 'lacerated', 'laid', 'laid', 'land', 'landed', 'lapses', 'large', 'large', 'large', 'larger', 'largest', 'largest', 'lashed', 'lassars', 'last', 'last', 'last', 'last', 'last', 'late', 'later', 'laugh', 'laugh', 'laugh', 'laughed', 'laughed', 'laughter', 'lay', 'lay', 'lay', 'lazarus', 'lazarus', 'lean', 'leaned', 'leaned', 'leaped', 'leaped', 'leaped', 'leaped', 'learn', 'learned', 'leash', 'least', 'leather', 'leave', 'leave', 'leave', 'leaves', 'leech', 'leering', 'left', 'left', 'left', 'left', 'leg-weary', 'legs', 'lengths', 'leopards', 'less', 'let', 'let', 'let', 'let', 'library', 'library', 'licked', 'life', 'life', 'life', 'life', 'life', 'life', 'life', 'life', 'lifted', 'lifted', 'light', 'light', 'light', 'light', 'light', 'light', 'light', 'light', 'lightning-charred', 'lights', 'lights', 'lights', 'lights', 'lights', 'lights', 'lights', 'lights', 'like', 'like', 'like', 'like', 'like', 'like', 'like', 'like', 'like', 'like', 'like', 'like', 'limb', 'limb', 'limbs', 'limousine', 'line', 'linen', 'lions', 'lips', 'lips', 'lips', 'lips', 'liqueur', 'lit', 'lit', 'little', 'little', 'live', 'live', 'lived', 'lived', 'living', 'living', 'locked', 'lofty', 'log', 'log', 'london', 'long', 'long', 'long', 'long', 'long-barreled', 'long-bladed', 'longer', 'look', 'look', 'looked', 'looked', 'looked', 'looked', 'looked', 'looked', 'looked', 'looks', 'loops', 'loose', 'loose', 'lore', 'lore', 'lose', 'loses', 'lost', 'lost', 'lost', 'lost', 'lot', 'lot', 'loudness', 'loved', 'low', 'lucar', 'luck', 'luck', 'luckily', 'luckily', 'luckily', 'lunch', 'luncheon', 'lunged', 'lungs', 'lying', 'lying', 'machinery', 'madame', 'made', 'made', 'made', 'made', 'made', 'made', 'made', 'made', 'made', 'made', 'made', 'made', 'made', 'made', 'made', 'made', 'made', 'made', 'magnificence', 'mainland', 'make', 'make', 'make', 'makes', 'makes', 'making', 'making', 'malacca', 'malay', 'man', 'man', 'man', 'man', 'man', 'man', 'man', 'man', 'man', 'man', 'man', 'man', 'man', 'man', 'man', 'man', \"man's\", \"man's\", \"man's\", 'mancatcher', 'manner', 'many', 'many', 'many', 'many', 'many', 'many', 'many', 'many', 'many', 'marble', 'marcus', 'mark', 'mark', 'mark', 'marked', 'marksmanship', 'massive', 'match', 'match', 'match', 'mathematical', 'matter', 'matters', 'may', 'may', 'may', 'may', 'maybe', 'maze', 'me', 'me', 'me', 'me', 'me', 'me', 'me', 'me', 'me', 'me', 'me', 'me', 'me', 'me', 'me', 'me', 'me', 'me', 'me', 'me', 'me', 'me', 'me', 'me', 'me', 'me', 'me', 'me', 'me', 'me', 'me', 'me', 'me', 'me', 'mean', 'mean', 'mean', 'mean-', 'meaning', 'meant', 'medieval', 'men', 'men', 'men', 'men', 'men', 'men', 'men', 'men', 'men', 'men', 'menacing', 'mental', 'mention', 'merest', 'metallic', 'methods', 'mid-victorian', 'middle', 'midnight', 'might', 'mignon', 'mile', 'miles', 'military', 'military', 'million', 'mind', 'mind', 'mind', 'mind', 'mine', 'mine', 'mine', 'mine', 'minute', 'minute', 'minutes', 'minutes', 'mirage', 'mirage', 'misfortune', 'mistaken', 'mists', 'moccasins', 'moccasins', 'mocking', 'modern', 'modesty', 'moist', 'moment', 'moment', 'moment', 'mongrels', 'monster', 'monster', 'monte', 'months', 'moon', 'moonless', 'moonlight', 'moose', 'moose', 'more', 'more', 'more', 'more', 'more', 'more', 'more', 'more', 'more', 'more', 'morning', 'morning', 'morning', 'moscow', 'moss', 'moss', 'most', 'most', 'most', 'most', 'most', 'most', 'most', 'most', 'most', 'most', 'most', 'mounted', 'mouse', 'mouse', 'mouth', 'mouth', 'mouth', 'moved', 'moved', 'moving', 'moving', 'moving', 'mr', 'mr', 'mr', 'mr', 'mr', 'mr', 'mr', 'mr', 'mr', 'mr', 'mr', 'mr', 'mr', 'mr', 'mr', 'mr', 'mr', 'much', 'much', 'much', 'muck', 'muffled', 'murder', 'murder', 'murderer', 'muscle', 'must', 'must', 'must', 'must', 'must', 'must', 'must', 'must', 'must', 'must', 'must', 'must', 'must', 'must', 'must', 'mustache', \"mustn't\", 'muttered', 'muttered', 'muttering', 'my', 'my', 'my', 'my', 'my', 'my', 'my', 'my', 'my', 'my', 'my', 'my', 'my', 'my', 'my', 'my', 'my', 'my', 'my', 'my', 'my', 'my', 'my', 'my', 'my', 'my', 'my', 'my', 'my', 'my', 'my', 'my', 'my', 'my', 'my', 'my', 'my', 'my', 'my', 'my', 'my', 'my', 'my', 'my', 'my', 'myself', 'myself', 'mystery', 'mystified', 'naive', 'name', 'name', 'name', 'name', 'name', 'nap', 'narrowly', 'native', 'natural', 'naturally', 'naturally', 'nature', 'near', 'near', 'near', 'near', 'nearer', 'nearer', 'nearer', 'nearer', 'nearer', 'need', 'need', 'need', 'needed', 'needs', 'nerve', 'nerve', 'nerve', 'nerve', 'nerve', 'nerve', 'nerve', 'nerve', 'nerves', 'never', 'never', 'never', 'never', 'never', 'never', 'never', 'nevertheless', 'new', 'new', 'new', 'new', 'new', 'new', 'new', 'new', 'new', 'new', 'new', 'new', 'nielsen', 'night', 'night', 'night', 'night', 'night', 'night', 'night', 'night', 'night', 'night', 'night', 'night', 'night', 'night', 'night', 'night', 'night', 'night', 'night', 'night', 'night', 'night', \"night's\", \"night's\", 'no', 'no', 'no', 'no', 'no', 'no', 'no', 'no', 'no', 'no', 'no', 'no', 'no', 'no', 'no', 'no', 'no', 'no', 'no', 'no', 'no', 'no', 'no', 'no', 'no', 'no', 'no', 'no', 'no', 'no', 'noble', \"noblemen's\", 'nodded', 'nodded', 'noise', 'noiseless', 'none', 'none', 'nonsense', 'nor', 'nor', 'nor', 'nose', 'nostrils', 'not', 'not', 'not', 'not', 'not', 'not', 'not', 'not', 'not', 'not', 'not', 'not', 'not', 'not', 'not', 'not', 'not', 'not', 'not', 'not', 'not', 'not', 'not', 'not', 'not', 'not', 'not', 'not', 'not', 'not', 'not', 'not', 'not', 'not', 'not', 'not', 'not', 'not', 'not', 'not', 'not', 'not', 'not', 'not', 'not', 'not', 'not', 'not', 'not', 'not', 'not', 'not', 'not', 'not', 'not', 'not', 'not', 'not', 'not', 'noted', 'nothing', 'nothing', 'nothing', 'nothing', 'notice', 'noticed', 'notions', 'now', 'now', 'now', 'now', 'now', 'now', 'now', 'now', 'now', 'now', 'now', 'now', 'now', 'now', 'now', 'now', 'now', 'now', 'now', 'now', 'now', 'now', 'nowadays', 'numb', 'nursing', 'nut', 'oaken', 'object', 'objected', 'observed', 'observed', 'obstacle', 'obvious', 'occasionally', 'occur', 'ocean', 'odd', 'of', 'of', 'of', 'of', 'of', 'of', 'of', 'of', 'of', 'of', 'of', 'of', 'of', 'of', 'of', 'of', 'of', 'of', 'of', 'of', 'of', 'of', 'of', 'of', 'of', 'of', 'of', 'of', 'of', 'of', 'of', 'of', 'of', 'of', 'of', 'of', 'of', 'of', 'of', 'of', 'of', 'of', 'of', 'of', 'of', 'of', 'of', 'of', 'of', 'of', 'of', 'of', 'of', 'of', 'of', 'of', 'of', 'of', 'of', 'of', 'of', 'of', 'of', 'of', 'of', 'of', 'of', 'of', 'of', 'of', 'of', 'of', 'of', 'of', 'of', 'of', 'of', 'of', 'of', 'of', 'of', 'of', 'of', 'of', 'of', 'of', 'of', 'of', 'of', 'of', 'of', 'of', 'of', 'of', 'of', 'of', 'of', 'of', 'of', 'of', 'of', 'of', 'of', 'of', 'of', 'of', 'of', 'of', 'of', 'of', 'of', 'of', 'of', 'of', 'of', 'of', 'of', 'of', 'of', 'of', 'of', 'of', 'of', 'of', 'of', 'of', 'of', 'of', 'of', 'of', 'of', 'of', 'of', 'of', 'of', 'of', 'of', 'of', 'of', 'of', 'of', 'of', 'of', 'of', 'of', 'of', 'of', 'of', 'of', 'of', 'of', 'of', 'of', 'of', 'of', 'of', 'of', 'of', 'of', 'of', 'of', 'of', 'of', 'of', 'of', 'of', 'of', 'of', 'of', 'of', 'of', 'of', 'off', 'off', 'off', 'off', 'off', 'off', 'off', 'off', 'off', 'off', 'off', 'off', 'off', 'offered', 'offered', 'officer', 'official', 'often', 'oh', 'oh', 'oh', 'oh', 'oh', 'oh', 'oh', 'old', 'old', 'old', 'old', 'on', 'on', 'on', 'on', 'on', 'on', 'on', 'on', 'on', 'on', 'on', 'on', 'on', 'on', 'on', 'on', 'on', 'on', 'on', 'on', 'on', 'on', 'on', 'on', 'on', 'on', 'on', 'on', 'on', 'on', 'on', 'on', 'on', 'on', 'on', 'on', 'on', 'on', 'on', 'on', 'on', 'on', 'on', 'on', 'on', 'on', 'on', 'on', 'on', 'on', 'on', 'on', 'on', 'once', 'once', 'once', 'one', 'one', 'one', 'one', 'one', 'one', 'one', 'one', 'one', 'one', 'one', 'one', 'one', 'one', 'one', 'one', 'one', 'one', 'one', 'one', 'one', 'one', 'one', 'one', 'one', 'one', 'one', 'one', 'one', 'only', 'only', 'only', 'only', 'only', 'only', 'only', 'only', 'only', 'only', 'ooze', 'opaqueness', 'open', 'open', 'open', 'open', 'open', 'opened', 'opened', 'opened', 'opened', 'operations', 'opiate', 'option', 'or', 'or', 'or', 'or', 'or', 'or', 'or', 'or', 'or', 'ord', 'orders', 'ordinarily', 'original', 'other', 'other', 'other', 'our', 'out', 'out', 'out', 'out', 'out', 'out', 'out', 'out', 'out', 'out', 'out', 'out', 'out', 'out', 'out', 'out', 'out', 'out', 'out', 'out', 'out', 'out', 'out', 'out', 'out', 'out', 'outdoor', 'outlines', 'outside', 'outspread', 'over', 'over', 'over', 'over', 'over', 'own', 'pack', 'pack', 'pack', 'pack', 'pack', 'pack', 'padding', 'pain', 'pain', 'pajamas', 'palates', 'palatial', 'palpable', 'paneled', 'panels', 'panic', 'panted', 'panther', 'paris', 'part', 'particularly', 'passed', 'passion', 'past', 'pastime', 'patch', 'path', 'pattern', 'patterns', 'paused', 'peer', 'pent-up', 'perfect', 'perfect', 'perfect', 'perfection', 'perfume', 'perfumed', 'perhaps', 'perhaps', 'perhaps', 'perhaps', 'perils', 'philosopher', 'physical', 'pick', 'picked', 'picking', 'picture', 'pieces', 'pieces', 'pinched', 'pipe', 'pipe', 'pistol', 'pistol', 'pistol', 'pistol', 'pistol', 'pistol', 'pit', 'pit', 'pit', 'pit', 'pit', 'pit', 'pit', 'place', 'place', 'place', 'place', 'place', 'place', 'place', 'place', 'place', 'place', 'place', 'place', 'place', 'placid', 'planted', 'plate', 'plate-glass', 'play', 'play', 'play', 'played', 'played', 'playing', 'playing', 'pleasant', 'please', 'please', 'please', 'pleasure', 'pleasure', 'pleasure', 'plenty', 'plunged', 'plunging', 'pocket', 'poets', 'point', 'point', 'pointed', 'pointed', 'pointed', 'pointed', 'pointed', 'pointing', 'pointing', 'pointing', 'pointing', 'points', 'poisonous', 'pol', 'poor', 'poorer', 'port', 'position', 'possibilities', 'possibly', 'postponing', 'pour', 'poured', 'power', 'powers', 'precariously', 'precisely', 'precision', 'prehistoric', 'preserve', 'preserve', 'pressed', 'pressed', 'pressed', 'print', 'prize', 'problem', 'problems', 'problems', 'prolonged', 'promised', 'promising', 'propeller', 'proposition', 'prospect', 'protested', 'protruding', 'providence', 'providence', 'proving', 'published', 'puffed', 'puffed', 'pulled', 'pungent', 'punish', 'pupils', \"purdey's\", 'pure', 'puritan', 'purposes', 'pursued', 'pursuer', 'pursuers', 'pushed', 'pushed', 'put', 'put', 'put', 'put', 'put', 'put', 'puzzled', 'quality', 'quarry', 'quarry', 'quarry', 'quarry', 'quarry', 'quarry', 'quarry', 'quarter', 'quarter', 'question', 'questioning', 'quick', 'quicker', 'quickly', 'quicksand', 'quicksand', 'quicksand', 'quiet', 'quiet', 'quite', 'quite', 'quite', 'quizzically', 'race', 'raced', 'ragged', 'rail', 'rail', 'rains', 'rains', 'rainsford', 'rainsford', 'rainsford', 'rainsford', 'rainsford', 'rainsford', 'rainsford', 'rainsford', 'rainsford', 'rainsford', 'rainsford', 'rainsford', 'rainsford', 'rainsford', 'rainsford', 'rainsford', 'rainsford', 'rainsford', 'rainsford', 'rainsford', 'rainsford', 'rainsford', 'rainsford', 'rainsford', 'rainsford', 'rainsford', 'rainsford', 'rainsford', 'rainsford', 'rainsford', 'rainsford', 'rainsford', 'rainsford', 'rainsford', 'rainsford', 'rainsford', 'rainsford', 'rainsford', 'rainsford', 'rainsford', 'rainsford', 'rainsford', 'rainsford', 'rainsford', 'rainsford', 'rainsford', 'rainsford', 'rainsford', 'rainsford', 'rainsford', 'rainsford', 'rainsford', 'rainsford', 'rainsford', 'rainsford', 'rainsford', 'rainsford', 'rainsford', 'rainsford', 'rainsford', 'rainsford', 'rainsford', 'rainsford', 'rainsford', 'rainsford', 'rainsford', 'rainsford', 'rainsford', 'rainsford', 'rainsford', 'rainsford', 'rainsford', 'rainsford', 'rainsford', 'rainsford', 'rainsford', 'rainsford', 'rainsford', 'rainsford', 'rainsford', 'rainsford', 'rainsford', 'rainsford', 'rainsford', 'rainsford', 'rainsford', 'rainsford', 'rainsford', 'rainsford', 'rainsford', 'rainsford', 'rainsford', 'rainsford', 'rainsford', 'rainsford', 'rainsford', 'rainsford', 'rainsford', 'rainsford', 'rainsford', 'rainsford', 'rainsford', 'rainsford', 'rainsford', 'rainsford', 'rainsford', 'rainsford', 'rainsford', 'rainsford', 'rainsford', 'rainsford', 'rainsford', 'rainsford', 'rainsford', 'rainsford', 'rainsford', 'rainsford', \"rainsford's\", \"rainsford's\", \"rainsford's\", \"rainsford's\", \"rainsford's\", \"rainsford's\", \"rainsford's\", \"rainsford's\", \"rainsford's\", \"rainsford's\", \"rainsford's\", \"rainsford's\", \"rainsford's\", \"rainsford's\", \"rainsford's\", \"rainsford's\", \"rainsford's\", 'raise', 'raised', 'raised', 'raised', 'raised', 'ran', 'range', 'rank', 'ranker', 'rare', 'rather', 'rather', 'rather', 'rather', 'rather', 'raw', 'razor', 'reached', 'reached', 'reached', 'reached', 'reached', 'reached', 'read', 'read', 'read', 'read', 'ready', 'real', 'real', 'real', 'real', 'realist', 'realized', 'really', 'really', 'really', 'reappeared', 'reason', 'reason', 'reason', 'reason', 'reason', 'recalling', 'receding', 'reclining', 'recognize', 'recognized', 'recoil', 'recovered', 'red', 'red', 'red-lipped', 'refectory', 'refuse', 'refuses', 'regarded', 'regarded', 'regarding', 'regret', 'regrettable', 'remained', 'remaining', 'remarkable', 'remarked', 'remarked', 'remarked', 'remember', 'remembered', 'repast', 'replace', 'replied', 'reply', 'report', 'reports', 'reputation', 'resourceful', 'rest', 'rest', 'rest', 'rest', 'rest', 'rest', 'rested', 'rested', 'restful', 'restful', 'rests', 'revoir', 'revoir', 'revolver', 'revolver', 'revolver', 'revolver', 'revolver', 'rhinoceroses', 'rich', 'rich', 'ridge', 'ridge', 'rifle', 'right', 'right', 'right', 'right', 'right', 'right', 'righteous', 'rigidly', 'ring', 'ring', 'rio', 'ripple', 'river', 'robber', 'rockies', 'rocks', 'rocks', 'rocks', 'rocky', 'roger', 'romantic', 'room', 'room', 'room', 'room', 'room', 'rope', 'rot', 'rotten', 'rough', 'rowers', 'rubbing', 'rude', 'rumbled', 'russia', 'russian', 'russian', 'russian', 'russians', 'sack', 'safe', 'said', 'said', 'said', 'said', 'said', 'said', 'said', 'said', 'said', 'said', 'said', 'said', 'said', 'said', 'said', 'said', 'said', 'said', 'said', 'said', 'said', 'said', 'said', 'said', 'said', 'said', 'said', 'said', 'said', 'said', 'said', 'said', 'said', 'said', 'said', 'said', 'said', 'said', 'said', 'said', 'said', 'said', 'said', 'said', 'said', 'said', 'said', 'said', 'said', 'said', 'said', 'said', 'said', 'said', 'said', 'said', 'said', 'said', 'said', 'said', 'sailor', 'sailor', 'sailors', 'sailors', 'sailors', 'sailors', 'sallow', 'salt', 'salute', 'saluted', 'same', 'same', 'san', 'sanger', 'sanger', 'sanger', 'sank', 'sapling', 'sapling', 'saplings', 'sash', 'sat', 'sat', 'sat', 'savage', 'savagely', 'saving', 'saw', 'saw', 'saw', 'saw', 'saw', 'saw', 'saw', 'saw', 'saw', 'saw', 'saw', 'saw', 'saw', 'saw', 'saw', 'say', 'say', 'say', 'say', 'say', 'saying', 'scent', 'school', 'score', 'score', 'scowling', 'scream', 'screamed', 'screaming', 'screen', 'scruples', 'scum', 'sea', 'sea', 'sea', 'sea', 'sea', 'sea', 'sea', 'sea', 'sea', 'sea', 'sea', 'sea', 'sea', 'sea', 'sea', 'seafaring', 'searching', 'seas', 'second', 'second', 'second', 'second', \"second's\", 'securities', 'security', 'see', 'see', 'see', 'see', 'see', 'see', 'see', 'see', 'see', 'see', 'see', 'see', 'see', 'see', 'see', 'see', 'see', 'see', 'see', 'seem', 'seemed', 'seemed', 'seemed', 'seemed', 'seemingly', 'seen', 'seen', 'seen', 'sends', 'sensation', 'sense', 'sensed', 'sensuous', 'sent', 'sent', 'series', 'serious', 'serious', 'served', 'serving', 'set', 'set', 'settle', 'seven', 'several', 'sewed', 'shadow', 'shadows', 'shadowy', 'shall', 'shall', 'shall', 'shall', 'shall', 'shall', 'shall', 'shallow', 'shapes', 'sharp', 'sharp', 'sharp', 'sharp', 'sharp', 'sharpcut', 'sharpened', 'shattered', 'sheath', 'sheath', 'shinned', 'ship', 'ship', \"ship's\", 'ships', 'shook', 'shook', 'shook', 'shook', 'shoot', 'shoot', 'shore', 'shore', 'shore', 'shore', 'short', 'short', 'short', 'shot', 'shot', 'shot', 'shots', 'shots', 'shots', 'should', 'should', 'should', 'should', 'should', 'should', 'shoulder', 'shoulder', 'shoulder', 'shoulders', 'shoulders', 'shoulders', 'shoulders', \"shouldn't\", 'shouted', 'show', 'show', 'show', 'showed', 'showed', 'showed', 'shrugged', 'shrugged', 'shudder', 'shut', 'sick', 'sides', 'siesta', 'sighed', 'sighed', 'sighted', 'sign', 'sign', 'sign', 'silence', 'silent', 'silent', 'silk', 'silver', 'silver', 'silver', 'simple', 'simply', 'singularly', 'sipped', 'sipped', 'sir', 'sir', 'sit', 'sitting', 'situation', 'six', 'six', 'skull', 'sky', 'slapped', 'sleep', 'sleep', 'sleep', 'sleep', 'sleep', 'sleep', 'sleep', 'sleep', 'sleepy', 'slender', 'slender', 'slender', 'slept', 'slid', 'slid', 'slight', 'slight', 'slight', 'slightest', 'slipping', 'sloop', 'slow', 'slow', 'slowly', 'slowly', 'slowly', 'small', 'small', 'small', 'small', 'smaller', 'smallest', 'smashed', 'smell', 'smile', 'smile', 'smile', 'smile', 'smile', 'smile', 'smile', 'smiled', 'smiled', 'smiled', 'smiled', 'smiled', 'smiled', 'smiled', 'smiling', 'smoke', 'smoke', 'smoke', 'snake', 'snapped', 'snarl', 'snarled', 'snatch', 'snow', 'snuffbox', 'so', 'so', 'so', 'so', 'so', 'so', 'so', 'so', 'so', 'so', 'so', 'so', 'so', 'so', 'so', 'so', 'so', 'so', 'so', 'so', 'so', 'so', 'so', 'so', 'so', 'so', 'society', 'soft', 'soft', 'softer', 'softest', 'softness', 'solicitous', 'solicitously', 'solidly', 'some', 'some', 'some', 'some', 'some', 'some', 'some', 'some', 'some', 'some', 'some', 'some', 'some', 'some', 'some', 'some', 'somehow', 'someone', 'someone', 'someone', 'something', 'something', 'something', 'something', 'something', 'something', 'something', 'sometimes', 'sometimes', 'sometimes', 'sometimes', 'somewhere', 'somewhere', 'song', 'sons', 'soon', 'soothe', 'sorry', 'sort', 'sort', 'sought', 'sound', 'sound', 'sound', 'sound', 'sound', 'sound', 'sound', 'sound', 'sound', 'sound', 'sound', 'sound', 'sound', 'sound', 'sound', 'soup', 'southeast', 'spanish', 'spare', 'sparrows', 'speak', 'speak', 'speaking', 'specially', 'specimens', 'specimens', 'speeding', 'spiked', 'splendid', 'splendid', 'splitting', 'spoke', 'sport', 'sport', 'sport', 'sport', 'sport', 'sport', 'sporting', 'sportsman', 'sportsman', 'spot', 'sprang', 'spread', 'spring', 'spring', 'springing', 'springy', 'spurred', 'squire', 'staccato', 'staggered', 'stained', 'stake', 'stakes', 'stakes', 'stakes', 'stalking', 'stamina', 'stand', 'standing', 'standing', 'staring', 'start', 'start', 'started', 'startled', 'startled', 'startled', 'state', 'statue', 'stay', 'stay', 'stealthy', 'steamer', 'steel', 'steered', 'stepped', 'stepped', 'steps', 'steps', 'steps', 'steps', 'sticking', 'stiffly', 'stiffly', 'still', 'still', 'still', 'still', 'stock', 'stock', 'stone', 'stone', 'stone', 'stood', 'stood', 'stood', 'stood', 'stood', 'stop', 'stopped', 'stopped', 'stopped', 'stopped', 'stopped', 'stopped', 'stopped', 'stopped', 'stopped', 'store', 'straight', 'straight', 'straight', 'straightened', 'strained', 'straining', 'strange', 'strangle', 'strength', 'strength', 'strength', 'strength', 'stretching', 'strike', 'striking', 'strokes', 'strokes', 'strokes', 'strolled', 'strong', 'strong', 'strong', 'strong', 'strong', 'strong', 'strong', 'strong', 'struck', 'struck', 'struck', 'struck', 'structure', 'struggled', 'studied', 'studying', 'studying', 'stump', 'stupid', 'success', 'such', 'such', 'such', 'sucked', 'sucked', 'sudden', 'sudden', 'suddenly', 'suddenly', 'suffered', 'suggest', 'suggest', 'suggest', 'suggest', 'suggest', 'suggested', 'suggested', 'suggested', 'suggestive', 'suicide', 'suit', 'sun', 'sun', 'superstition', 'superstitious', 'supplies', 'supply', 'supply', 'suppose', 'suppose', 'suppose', 'suppose', 'surely', 'sureness', 'surface', 'surged', 'surmounted', 'surpassingly', 'surprise', 'surprised', 'suzette', 'swam', 'swam', 'swam', 'swamp', 'swamp', 'swamp', 'swamp', 'swamp', 'swamps', 'sweat', 'swede', 'swiftly', 'swiftness', 'swim', 'swimming', 'swimming', 'swirling', 'swish', 'swish', 'switched', 'swum', 'table', 'table', 'table', 'tables', 'tackle', 'tailor', 'taint', 'take', 'take', 'taken', 'taking', 'taking', 'taking', 'talk', 'talk', 'tall', 'tall', 'tall', 'tangible', 'tangible', 'tangle', 'tapestry', 'tartar', 'tasted', 'taxi', 'tear', 'tearoom', 'teeth', 'teeth', 'tell', 'tell', 'tell', 'tell', 'tell', 'tells', 'ten', 'ten', 'ten', 'tensed', 'tent', 'terrible', 'terrible', 'terror', 'terror', 'than', 'than', 'than', 'than', 'than', 'than', 'than', 'thank', 'thank', 'thank', 'that', 'that', 'that', 'that', 'that', 'that', 'that', 'that', 'that', 'that', 'that', 'that', 'that', 'that', 'that', 'that', 'that', 'that', 'that', 'that', 'that', 'that', 'that', 'that', 'that', 'that', 'that', 'that', 'that', 'that', 'that', 'that', 'that', 'that', 'that', 'that', 'that', 'that', 'that', 'that', 'that', 'that', 'that', 'that', 'that', 'that', 'that', 'that', 'that', 'that', 'that', 'that', 'that', 'that', 'that', 'that', 'that', 'that', 'that', 'that', 'that', 'that', 'that', 'that', 'that', 'that', 'that', 'that', 'that', 'that', 'that', 'that', 'that', 'that', 'that', 'that', 'that', 'that', 'that', 'that', 'that', 'that', 'that', \"that's\", \"that's\", \"that's\", \"that's\", 'the', 'the', 'the', 'the', 'the', 'the', 'the', 'the', 'the', 'the', 'the', 'the', 'the', 'the', 'the', 'the', 'the', 'the', 'the', 'the', 'the', 'the', 'the', 'the', 'the', 'the', 'the', 'the', 'the', 'the', 'the', 'the', 'the', 'the', 'the', 'the', 'the', 'the', 'the', 'the', 'the', 'the', 'the', 'the', 'the', 'the', 'the', 'the', 'the', 'the', 'the', 'the', 'the', 'the', 'the', 'the', 'the', 'the', 'the', 'the', 'the', 'the', 'the', 'the', 'the', 'the', 'the', 'the', 'the', 'the', 'the', 'the', 'the', 'the', 'the', 'the', 'the', 'the', 'the', 'the', 'the', 'the', 'the', 'the', 'the', 'the', 'the', 'the', 'the', 'the', 'the', 'the', 'the', 'the', 'the', 'the', 'the', 'the', 'the', 'the', 'the', 'the', 'the', 'the', 'the', 'the', 'the', 'the', 'the', 'the', 'the', 'the', 'the', 'the', 'the', 'the', 'the', 'the', 'the', 'the', 'the', 'the', 'the', 'the', 'the', 'the', 'the', 'the', 'the', 'the', 'the', 'the', 'the', 'the', 'the', 'the', 'the', 'the', 'the', 'the', 'the', 'the', 'the', 'the', 'the', 'the', 'the', 'the', 'the', 'the', 'the', 'the', 'the', 'the', 'the', 'the', 'the', 'the', 'the', 'the', 'the', 'the', 'the', 'the', 'the', 'the', 'the', 'the', 'the', 'the', 'the', 'the', 'the', 'the', 'the', 'the', 'the', 'the', 'the', 'the', 'the', 'the', 'the', 'the', 'the', 'the', 'the', 'the', 'the', 'the', 'the', 'the', 'the', 'the', 'the', 'the', 'the', 'the', 'the', 'the', 'the', 'the', 'the', 'the', 'the', 'the', 'the', 'the', 'the', 'the', 'the', 'the', 'the', 'the', 'the', 'the', 'the', 'the', 'the', 'the', 'the', 'the', 'the', 'the', 'the', 'the', 'the', 'the', 'the', 'the', 'the', 'the', 'the', 'the', 'the', 'the', 'the', 'the', 'the', 'the', 'the', 'the', 'the', 'the', 'the', 'the', 'the', 'the', 'the', 'the', 'the', 'the', 'the', 'the', 'the', 'the', 'the', 'the', 'the', 'the', 'the', 'the', 'the', 'the', 'the', 'the', 'the', 'the', 'the', 'the', 'the', 'the', 'the', 'the', 'the', 'the', 'the', 'the', 'the', 'the', 'the', 'the', 'the', 'the', 'the', 'the', 'the', 'the', 'the', 'the', 'the', 'the', 'the', 'the', 'the', 'the', 'the', 'the', 'the', 'the', 'the', 'the', 'the', 'the', 'the', 'the', 'the', 'the', 'the', 'the', 'the', 'the', 'the', 'the', 'the', 'the', 'the', 'the', 'the', 'the', 'the', 'the', 'the', 'the', 'the', 'the', 'the', 'the', 'the', 'the', 'the', 'the', 'the', 'the', 'the', 'the', 'the', 'the', 'the', 'the', 'the', 'the', 'the', 'the', 'the', 'the', 'the', 'the', 'the', 'the', 'the', 'the', 'the', 'the', 'the', 'the', 'the', 'the', 'the', 'the', 'the', 'the', 'the', 'the', 'the', 'the', 'the', 'the', 'the', 'the', 'the', 'the', 'the', 'the', 'the', 'the', 'the', 'the', 'the', 'the', 'the', 'the', 'the', 'the', 'the', 'the', 'the', 'the', 'the', 'the', 'the', 'the', 'the', 'the', 'the', 'the', 'the', 'the', 'the', 'the', 'the', 'the', 'the', 'the', 'the', 'the', 'the', 'the', 'the', 'the', 'the', 'the', 'the', 'the', 'the', 'the', 'the', 'the', 'the', 'the', 'the', 'the', 'the', 'the', 'the', 'the', 'the', 'the', 'the', 'the', 'the', 'the', 'the', 'the', 'the', 'the', 'the', 'the', 'the', 'the', 'the', 'the', 'the', 'the', 'the', 'the', 'the', 'the', 'the', 'the', 'the', 'the', 'the', 'the', 'the', 'the', 'the', 'the', 'the', 'the', 'the', 'the', 'the', 'the', 'the', 'the', 'the', 'the', 'the', 'the', 'the', 'the', 'the', 'the', 'the', 'the', 'the', 'the', 'the', 'the', 'the', 'the', 'the', 'the', 'the', 'the', 'the', 'the', 'the', 'the', 'the', 'the', 'the', 'the', 'the', 'the', 'the', 'the', 'the', 'the', 'the', 'the', 'the', 'the', 'the', 'the', 'the', 'the', 'the', 'the', 'the', 'the', 'their', 'their', 'their', 'their', 'their', 'their', 'them', 'them', 'them', 'them', 'them', 'them', 'them', 'them', 'them', 'them', 'them', 'them', 'them', 'them', 'them', 'then', 'then', 'then', 'then', 'then', 'then', 'then', 'then', 'then', 'then', 'then', 'then', 'then', 'then', 'then', 'then', 'then', 'then', 'then', 'then', 'then', 'then', 'then', 'then', 'then', 'then', 'then', 'then-', 'there', 'there', 'there', 'there', 'there', 'there', 'there', 'there', 'there', 'there', 'there', 'there', 'there', 'there', 'there', 'there', 'there', 'there', 'there', 'there', 'there', 'there', 'there', 'there', 'there', 'there', 'there', 'there', 'there', 'there', 'there', 'there', 'there', 'there', 'there', \"there's\", \"there's\", 'these', 'these', 'these', 'they', 'they', 'they', 'they', 'they', 'they', 'they', 'they', 'they', 'they', 'they', 'they', 'they', 'they', 'they', 'they', 'they', 'they', 'they', 'they', 'they', 'they', 'they', 'they', 'they', 'they', 'they', 'they', 'they', 'they', \"they're\", \"they've\", 'thick', 'thick', 'thick', 'thick', 'thick', 'thick', 'thickets', 'thickly', 'thing', 'thing', 'thing', 'thing', 'thing', 'thing', 'thing', 'things', 'things', 'things', 'think', 'think', 'think', 'think', 'think', 'think', 'think', 'think', 'think', 'think', 'think', 'think', 'think', 'thinking', 'thinking', 'third', 'this', 'this', 'this', 'this', 'this', 'this', 'this', 'this', 'this', 'this', 'this', 'this', 'this', 'this', 'this', 'this', 'this', 'this', 'this', 'this', 'thoroughbred', 'those', 'those', 'thought', 'thought', 'thought', 'thought', 'thought', 'thought', 'thought', 'thought', 'thought', 'thought', 'thought', 'thought', 'thought', 'thought', 'thought', 'thoughtful', 'thrashed', 'three', 'three', 'three', 'three', 'three', 'three', 'three', 'three', 'threw', 'thrill', 'thrill', 'throb', 'through', 'through', 'through', 'through', 'through', 'through', 'through', 'through', 'through', 'through', 'through', 'through', 'through', 'through', 'through', 'through', 'through', 'throw', 'throwing', 'thrust', 'thumb', 'tibet', 'tied', 'tiger', 'tigers', 'tigers', 'tigers', 'tigers', 'tight', 'tight', 'tight', 'tightening', 'till', 'time', 'time', 'time', 'time', 'time', 'times', 'times', 'times', 'tip', 'tired', 'tired', 'tiredness', 'to', 'to', 'to', 'to', 'to', 'to', 'to', 'to', 'to', 'to', 'to', 'to', 'to', 'to', 'to', 'to', 'to', 'to', 'to', 'to', 'to', 'to', 'to', 'to', 'to', 'to', 'to', 'to', 'to', 'to', 'to', 'to', 'to', 'to', 'to', 'to', 'to', 'to', 'to', 'to', 'to', 'to', 'to', 'to', 'to', 'to', 'to', 'to', 'to', 'to', 'to', 'to', 'to', 'to', 'to', 'to', 'to', 'to', 'to', 'to', 'to', 'to', 'to', 'to', 'to', 'to', 'to', 'to', 'to', 'to', 'to', 'to', 'to', 'to', 'to', 'to', 'to', 'to', 'to', 'to', 'to', 'to', 'to', 'to', 'to', 'to', 'to', 'to', 'to', 'to', 'to', 'to', 'to', 'to', 'to', 'to', 'to', 'to', 'to', 'to', 'to', 'to', 'to', 'to', 'to', 'to', 'to', 'to', 'to', 'to', 'to', 'to', 'to', 'to', 'to', 'to', 'to', 'to', 'to', 'to', 'to', 'to', 'to', 'to', 'to', 'to', 'to', 'to', 'to', 'to', 'to', 'to', 'to', 'to', 'to', 'to', 'to', 'to', 'to', 'to', 'to', 'to', 'to', 'to', 'to', 'to', 'to', 'to', 'today', 'today', 'together', 'told', 'told', 'told', 'tomorrow', 'tomorrow', 'tone', 'tongue', 'tonight', 'tonight', 'tonight', 'too', 'too', 'too', 'too', 'too', 'too', 'too', 'took', 'took', 'took', 'took', 'took', 'took', 'top', 'torch', 'tore', 'touched', 'touched', 'tough-minded', 'toward', 'toward', 'toward', 'toward', 'toward', 'toward', 'towers', 'towers', 'town', 'trace', 'trace', 'traces', 'track', 'trackless', 'tragic', 'trail', 'trail', 'trail', 'trail', 'trail', 'trail', 'trail', 'trail', 'trail', 'trail', 'trail', 'trailed', 'training', 'trait', 'traits', 'tramp', 'trap', 'traveling', 'treat', 'tree', 'tree', 'tree', 'tree', 'tree', 'tree', 'tree', 'tree', 'tree', 'tree', 'tree', 'tree', 'tree', 'trees', 'trees', 'trees', 'trick', 'tried', 'tried', 'tried', 'tried', 'trigger', 'trigger', 'trimmed', 'trip', 'tropical', 'trouble', 'true', 'true', 'trunk', 'trust', 'truth', 'try', 'try', 'try', 'trying', 'trying', 'trying', 'tumbled', 'tumbled', 'turkeys', 'turkish', 'turn', 'turn', 'turn', 'turned', 'turned', 'turned', 'turned', 'turning', 'turning', 'tweeds', 'twenty', 'twenty-two', 'twig', 'two', 'two', 'two', 'two', 'two', 'twoscore', 'uganda', 'ugh', 'unbroken', 'uncanny', 'uncomfortable', 'under', 'under', 'underbrush', 'underbrush', 'underbrush', 'understand', 'understanding', 'understood', 'uniform', 'uniform', 'uniform', 'unless', 'unpleasant', 'unreality', 'unruffled', 'unseen', 'until', 'unusual', 'unusually', 'up', 'up', 'up', 'up', 'up', 'up', 'up', 'up', 'up', 'up', 'up', 'up', 'up', 'up', 'up', 'up', 'up', 'up', 'up', 'up', 'up', 'up', 'up', 'up', 'up', 'upon', 'upon', 'upon', 'upon', 'upon', 'upward', 'upward', 'us', 'us', 'use', 'use', 'use', 'used', 'used', 'utmost', 'utter', 'valley', 'value', 'value', 'varnishing', 'vast', 'vegetation', 'velvet', 'venerable', 'venture', 'very', 'very', 'very', 'very', 'very', 'very', 'very', 'very', 'very', 'veuve', 'vibrations', 'viciously', 'view', 'vigor', 'village', 'violent', 'visit', 'visit', 'visit', 'visitors', 'vitality', 'vivid', 'voice', 'voice', 'voice', 'voice', 'voices', 'wager', 'wager', 'waist', 'waist', 'wait', 'wait', 'wait', 'waiter', 'walked', 'walking', 'walnut', 'wan', 'want', 'want', 'want', 'want', 'wanted', 'war', 'warm', 'was', 'was', 'was', 'was', 'was', 'was', 'was', 'was', 'was', 'was', 'was', 'was', 'was', 'was', 'was', 'was', 'was', 'was', 'was', 'was', 'was', 'was', 'was', 'was', 'was', 'was', 'was', 'was', 'was', 'was', 'was', 'was', 'was', 'was', 'was', 'was', 'was', 'was', 'was', 'was', 'was', 'was', 'was', 'was', 'was', 'was', 'was', 'was', 'was', 'was', 'was', 'was', 'was', 'was', 'was', 'was', 'was', 'was', 'was', 'was', 'was', 'was', 'was', 'was', 'was', 'was', 'was', 'was', 'was', 'was', 'was', 'was', 'was', 'was', 'was', 'was', 'was', 'was', 'was', 'was', 'was', 'was', 'was', 'was', 'was', 'was', 'was', 'was', 'was', 'was', 'was', 'was', 'was', 'was', 'was', 'was', 'was', 'was', 'was', 'was', 'was', 'was', 'was', 'was', 'was', 'was', 'was', 'was', 'was', 'was', 'was', 'was', 'was', 'was', 'was', 'was', 'was', 'was', 'was', 'was', 'was', 'was', 'was', 'was', 'was', 'was', 'was', 'was', 'was', 'was', 'was', 'was', 'was', 'was', 'was', 'was', 'was', 'was', 'was', 'was', 'wash', 'wash', 'watch', 'watched', 'water', 'water', 'water', 'water', 'watercourse', 'waters', 'waters', 'wave', 'wavering', 'way', 'way', 'way', 'way', 'way', 'way', 'way', 'ways', 'we', 'we', 'we', 'we', 'we', 'we', 'we', 'we', 'we', 'we', 'we', 'we', 'we', \"we'll\", \"we'll\", \"we're\", \"we've\", 'weak', 'wear', 'weariness', 'weather', 'weaving', 'web', 'weeds', 'weeds', 'weeds', 'weeds', 'weeds', 'welcome', 'welcome', 'well', 'well', 'well', 'well', 'well', 'well', 'well', 'well', 'well', 'well-cooked', 'went', 'went', 'went', 'went', 'went', 'went', 'went', 'were', 'were', 'were', 'were', 'were', 'were', 'were', 'were', 'were', 'were', 'were', 'were', 'were', 'were', 'were', 'were', 'were', 'were', 'were', 'were', 'were', 'were', 'were', 'were', 'were', \"weren't\", 'wet', 'what', 'what', 'what', 'what', 'what', 'what', 'what', 'what', 'what', 'what', 'what', 'what', 'what', 'what', 'what', 'what', 'what', 'what', 'what', 'when', 'when', 'when', 'when', 'when', 'when', 'when', 'when', 'when', 'when', 'when', 'when', 'when', 'when', 'when', 'when', 'when', 'when', 'when', 'when', 'when', 'when', 'when', 'when', 'when', 'whenever', 'where', 'where', 'where', 'where', 'where', 'where', 'where', 'where', 'where', 'where', 'where', 'where', 'which', 'which', 'which', 'which', 'which', 'which', 'whipped', 'white', 'white', 'whites', 'whitney', 'whitney', 'whitney', 'whitney', 'whitney', 'whitney', 'whitney', 'whitney', 'whitney', 'who', 'who', 'who', 'who', 'who', \"who'd\", 'whole', 'whole', 'whole', 'whole', 'whole', 'whole', 'wholly', 'whose', 'why', 'why', 'why', 'why', 'why', 'why', 'why', 'why', 'why', 'why', 'why', 'why', 'wide', 'wide', 'wide-open', 'widened', 'wild', 'wild', 'wilderness', 'will', 'will', 'will', 'will', 'will', 'will', 'will', 'will', 'will', 'will', 'will', 'will', 'will', 'will', 'will', 'will', 'win', 'win', 'win', 'winding', 'window', 'window', 'window', 'window', 'window', 'window', 'window', 'windows', 'wine', 'wine', 'wink', 'wins', 'wish', 'wish', 'wish', 'wish', 'wish', 'wish', 'wish', 'wish', 'with', 'with', 'with', 'with', 'with', 'with', 'with', 'with', 'with', 'with', 'with', 'with', 'with', 'with', 'with', 'with', 'with', 'with', 'with', 'with', 'with', 'with', 'with', 'with', 'with', 'with', 'with', 'with', 'with', 'with', 'with', 'with', 'with', 'with', 'with', 'with', 'with', 'with', 'with', 'with', 'with', 'with', 'with', 'with', 'with', 'with', 'with', 'with', 'with', 'with', 'with', 'with', 'with', 'with', 'with', 'with', 'with', 'with', 'with', 'with', 'with', 'with', 'with', 'with', 'with', 'with', 'with', 'with', 'with', 'with', 'with', 'with', 'with', 'with', 'withdrew', 'within', 'within', 'within', 'without', 'without', 'wits', 'wits', 'won', 'wondered', 'wonderful', 'woodcraft', 'wooded', 'woods', 'woods', 'woods', 'word', 'word', 'words', 'work', 'worked', 'works', 'world', 'world', 'world', 'world', 'world', 'worried', 'worth', 'worth', 'worthy', 'would', 'would', 'would', 'would', 'would', 'would', 'would', 'would', 'would', 'would', \"wouldn't\", 'wound', 'wounded', 'wounded', 'wounded', 'wove', 'wrench', 'wrestled', 'wrong', 'yacht', 'yacht', 'yacht', 'yacht', 'yacht', 'yacht', 'yacht', 'yacht', 'yacht', 'yards', 'yards', 'yards', 'year', 'years', 'years', 'yes', 'yes', 'yes', 'yes', 'yes', 'yet', 'yet', 'york', 'york', 'you', 'you', 'you', 'you', 'you', 'you', 'you', 'you', 'you', 'you', 'you', 'you', 'you', 'you', 'you', 'you', 'you', 'you', 'you', 'you', 'you', 'you', 'you', 'you', 'you', 'you', 'you', 'you', 'you', 'you', 'you', 'you', 'you', 'you', 'you', 'you', 'you', 'you', 'you', 'you', 'you', 'you', 'you', 'you', 'you', 'you', 'you', 'you', 'you', 'you', 'you', 'you', 'you', 'you', 'you', 'you', 'you', 'you', 'you', 'you', 'you', 'you', 'you', 'you', 'you', 'you', 'you', 'you', 'you', 'you', 'you', 'you', 'you', 'you', 'you', 'you', 'you', 'you', 'you', 'you', 'you', 'you', 'you', 'you', 'you', 'you', 'you', 'you', 'you', 'you', 'you', \"you'll\", \"you'll\", \"you'll\", \"you'll\", \"you'll\", \"you'll\", \"you'll\", \"you're\", \"you're\", \"you've\", \"you've\", \"you've\", \"you've\", \"you've\", 'young', 'young', 'young', 'young', 'younger', 'your', 'your', 'your', 'your', 'your', 'your', 'your', 'your', 'your', 'your', 'your', 'your', 'your', 'yourself', 'zaroff', 'zaroff', 'zaroff', 'zaroff', 'zaroff', 'zaroff', 'zaroff', 'zaroff', 'zaroff', 'zaroff', 'zaroff', 'zaroff', 'zaroff', 'zaroff', 'zaroff', 'zaroff', 'zaroff', 'zaroff', 'zaroff', \"zaroff's\", 'zealous', 'zone']\n"
     ]
    }
   ],
   "source": [
    "print(sorted(mdg_words))"
   ]
  },
  {
   "cell_type": "markdown",
   "metadata": {
    "slideshow": {
     "slide_type": "slide"
    }
   },
   "source": [
    "What's this? That's a lot of *a*s and *about*s. What happens if we look at just the words without repetition?"
   ]
  },
  {
   "cell_type": "code",
   "execution_count": 18,
   "metadata": {},
   "outputs": [
    {
     "name": "stdout",
     "output_type": "stream",
     "text": [
      "[\"'\", \"'--\", \"'ship-trap\", '--', 'a', 'able', 'aboard', 'about', 'above', 'abrupt', 'abruptly', 'absorbed', 'accent', 'accustomed', 'achieved', 'aching', 'acknowledge', 'acres', 'across', 'actually', 'added', 'adjusted', 'admitted', 'advanced', 'affable', 'afford', 'afraid', 'africa', 'after', 'afterdeck', 'afternoon', 'again', 'against', 'age', 'agility', 'ago', 'agree', 'agreed', 'ah', 'ahead', 'air', 'alarmed', 'alertness', 'all', 'almost', 'alone', 'along', 'aloud', 'although', 'always', \"always'\", 'am', 'amazon', 'amended', 'amenities', 'america', 'american', 'americans', 'among', 'amused', 'amusing', 'an', 'analytical', 'ancestors', 'and', 'anger', 'angry', 'anguish', 'animal', 'animals', 'animated', 'annoyances', 'annoying', 'another', 'answer', 'answered', 'any', 'anyhow', 'anyone', 'anything', 'ape', 'apointments', 'apologetically', 'appear', 'appeared', 'appraising', 'apprehensive', 'approaching', 'ardent', 'are', 'aristocrat', 'arm', 'armed', 'arms', 'army', 'as', 'ask', 'asked', 'assure', 'astonishment', 'astrakhan', 'at', 'ate', 'attention', 'attributes', 'au', 'aurelius', 'automatic', 'automatically', 'avoid', 'awakened', 'away', 'back', 'bad', 'bah', 'balance', 'balanced', 'barbarous', 'bark', 'baronial', 'bay', 'baying', 'be', 'beam-ceilinged', 'bear', 'beard', 'bearded', 'bears', 'beast', 'beaten', 'beaver', 'became', 'become', 'bed', 'bedroom', 'been', 'before', 'beg', 'began', 'beggars', 'begin', 'beginning', 'behind', 'being', 'believe', 'below', 'belt', 'beneath', 'bent', 'bergere', 'best', 'better', 'between', 'bewilderment', 'big', 'big-game', 'biggest', 'bird', 'bit', 'bitterly', 'bizarre', 'black', 'blacking', 'blackness', 'blacks', 'blade', 'blandly', 'blanket', 'bleak', 'blew', 'blinking', 'blood-warm', 'bloodhound', 'blotted', 'blow', 'blue', 'blue-green', 'bluff', 'blunder', 'boast', 'book', 'books', 'booming', 'boots', 'bore', 'bored', 'boredom', 'borsch', 'both', 'bottle', 'bottom', 'bough', 'bought', 'bow', 'bows', 'braggart', 'brain', 'brains', 'branches', 'brandy', 'breakfast', 'breaking', 'breath', 'breeze', 'brier', 'bright', 'brightened', 'bring', 'broad', 'broadcast', 'brought', 'brown', 'bruised', 'brute', 'buffalo', 'building', 'built', 'burmese', 'burst', 'bush', 'business', 'businesslike', 'businessmen', 'but', 'butterfly', 'button', 'by', 'caliber', 'call', 'called', 'calm', 'came', 'can', \"can't\", 'cannibals', 'canopied', 'cape', 'capital', 'captain', 'care', 'carefully', 'carelessly', 'cares', 'caribbean', 'carlo', 'carpet', 'carried', 'cartridge', 'case', 'casually', 'cat', 'caucasus', 'caught', 'cavalry', 'ceased', 'ceiling', 'celebrated', 'cellar', 'certain', 'certainty', 'chablis', 'chair', 'chambertin', 'champagne', 'chance', 'change', 'channel', 'charge', 'charts', 'chase', 'chateau', 'chatting', 'check', 'cheekbones', 'cheerfully', 'chess', 'chest', 'chill', 'china', 'chinese', 'choice', 'choose', 'chuckled', 'cigarette', 'cigarettes', 'city', 'civilization', 'civilized', 'claimed', 'class', 'classes', 'clear', 'clearheaded', 'clearly', 'click', 'cliff', 'cliffs', 'climbed', 'cliquot', 'closed', 'closely', 'closing', 'clothes', 'coast', 'cocked', 'cocktail', 'coffee', 'cold', 'cold-blooded', 'collection', 'come', 'coming', 'commanded', 'company', 'compared', 'compares', 'complaint', 'complicated', 'complimented', 'concealment', 'concentration', 'concern', 'condition', 'condone', 'conducted', 'confidence', 'congratulate', 'conserving', 'consideration', 'containing', 'continued', 'coolheadedness', 'corner', 'corridor', 'cosmopolite', 'cossack', 'could', 'count', 'country', 'courage', 'course', 'courtly', 'courtyard', 'cove', 'cover', 'covered', 'cowered', 'cr', 'crackle', 'crags', 'crashed', 'crawled', 'creaked', 'cream', 'creature', \"crew's\", 'cried', 'cries', 'crimea', 'crimson', 'crisp', 'crocodiles', 'crook', 'crossed', 'crotch', 'crouch', 'crouched', 'crouching', 'crush', 'crushed', 'cry', 'crystal', 'cultivated', 'cunning', 'curious', 'curtains', 'cut', 'czar', 'danger', 'dangerous', 'dank', 'dark', 'darkness', 'dashed', 'date', 'day', \"day's\", 'daybreak', 'days', 'dead', 'deaf', 'dear', 'death', 'debacle', 'decided', 'deck', 'declared', 'deep', 'deeper', 'deepest', 'defeat', 'delay', 'deliberate', 'deliberately', 'deliberateness', 'delicately', 'deliciously', 'dense', 'denser', 'deplorable', 'desperate', 'desperately', 'detected', 'determined', 'devil', 'did', \"didn't\", 'died', 'difficult', 'dig', 'digging', 'dimly', 'dingy', 'dining', 'dinner', 'direction', 'disappointed', 'disarming', 'discerned', 'discuss', 'distance', 'distant', 'dived', 'diverting', 'division', 'do', 'dodges', 'does', \"doesn't\", 'doggedly', 'dogs', \"don't\", 'done', 'door', 'dosed', 'doubled', 'doubt', 'doubtless', 'down', 'doze', 'dozen', 'dragged', 'drawing', 'dread', 'dressed', 'drew', 'drink', 'drive', 'driven', 'droll', 'drop', 'dropped', 'drove', 'drowsiness', 'dug', 'duke', 'dull', 'dumb', 'dusk', 'dusty', 'eagerly', 'ears', 'earth', 'easier', 'easily', 'east', 'easy', 'eat', 'eating', 'edge', 'edges', 'educated', 'effort', 'eh', 'electric', 'electricity', 'elementary', 'elephants', 'elevation', 'eludes', 'empty', 'end', 'endless', 'enemy', 'energy', 'engine', 'english', 'enjoy', 'enjoyment', 'ennui', 'enormous', 'enough', 'enthusiastically', 'entire', 'entirely', 'epes', 'erect', 'escaped', 'even', 'evening', 'eventually', 'ever', 'ever-vanishing', 'every', 'everything', 'evidence', 'evident', 'evil', 'examined', 'exceedingly', 'excellent', 'excessively', 'excitedly', 'exciting', 'exclaimed', 'excuse', 'executed', 'exercise', 'exhausted', 'expanse', 'expect', 'expectantly', 'expected', 'experiences', 'expert', 'explained', 'expressed', 'extra', 'extraordinarily', 'extremely', 'extremity', 'eye', 'eyebrows', 'eyelid', 'eyelids', 'eyes', 'fable', 'face', 'faced', 'failed', 'faint', 'fainter', 'fair', 'fairly', 'fall', 'fallen', 'far', 'fascinated', 'fashion', 'fastened', 'father', 'faultlessly', 'favorite', 'fear', 'feel', 'feeling', 'feelings', 'feels', 'feet', 'fell', 'fellow', 'felt', 'feudal', 'few', 'fiber', 'fifty', 'fight', 'figure', 'filet', 'filled', 'find', 'finding', 'fine', 'finest', 'fingers', 'finished', 'fired', 'fireflies', 'firmly', 'first', 'fishy', 'fit', 'five', 'fixed', 'flash', 'flask', 'flat', 'flattened', 'flee', 'flickering', 'flight', 'floated', 'floor', 'floundered', 'flung', 'flushed', 'fluttered', 'flying', 'focused', 'foeman', 'folies', 'follow', 'followed', 'following', 'food', 'foolish', 'foot', 'for', 'forbidding', 'force', 'forced', 'ford', 'forehead', 'forged', 'forget', 'forgive', 'forms', 'forth', 'forward', 'fought', 'found', 'founded', 'four', 'fox', 'fractured', 'fragment', 'frame', 'france', 'frantically', 'free', 'french', 'fresh', 'friend', 'fringed', 'from', 'front', 'froze', 'full', 'function', 'furnish', 'futile', 'gag', 'game', 'ganges', 'gap', 'gargoyle', 'gasped', 'gasping', 'gate', 'gates', 'gave', 'general', \"general's\", 'gentleman', 'genuine', 'get', 'getting', 'giant', 'gift', 'gigantic', 'give', 'given', 'gives', 'giving', 'glad', 'glance', 'glancing', 'glaring', 'glass', 'glasses', 'glittered', 'glittering', 'gloom', 'gloomy', 'go', 'god', \"god's\", 'god-forsaken', 'going', 'gold', 'gone', 'good', 'got', 'gotten', 'grape', 'grapevine', 'grass', 'gravely', 'gray', 'great', 'greater', 'greedy', 'green', 'greenly', 'grew', 'grinding', 'grip', 'gripping', 'grisly', 'grizzliest', 'grotesque', 'ground', 'grow', 'growling', 'guard', 'guess', 'guest', 'gun', 'guns', 'had', \"hadn't\", 'hair', 'half', 'hall', 'hammer', 'hand', 'hands', 'handsome', 'harbors', 'hard', 'hardly', 'hardwood', 'has', 'hastily', 'have', 'haversack', 'he', 'head', 'headache', 'headed', 'headlong', 'heads', 'headway', 'health', 'heard', 'heart', 'heavily', 'heavy', 'heel', 'heels', 'held', 'help', 'helping', 'hence', 'here', 'hesitated', 'hiding', 'high', 'high-powered', 'hills', 'him', 'himself', 'his', 'hissed', 'hit', 'hoarse', 'hogshead', 'hold', 'holding', 'home', 'honor', 'hope', 'hoped', 'hopeless', 'horror', 'horse', 'host', 'hot', 'hothouse', 'hotly', 'hound', 'hounds', 'hours', \"hours'\", 'house', 'how', 'huge', 'human', 'hummed', 'hundred', 'hung', 'hunger', 'hungry', 'hunt', 'hunted', 'huntees', 'hunter', 'hunters', 'hunting', 'hurl', 'hurled', 'hurried', 'hurrying', 'hurt', 'huskily', 'i', \"i'll\", \"i'm\", \"i've\", 'idea', 'ideal', 'ideas', 'if', 'ill', 'illumination', 'imagination', 'imagine', 'imperative', 'imported', 'impossible', 'impression', 'imprudent', 'impulse', 'in', 'incense', 'incense-like', 'inch', 'incredibly', 'indeed', 'indicate', 'indolently', 'inevitable', 'inevitably', 'inferior', 'injured', 'inquired', 'insane', 'insects', 'inspiration', 'instant', 'instinct', 'intent', 'interest', 'interesting', 'into', 'intricate', 'invariably', 'invent', 'invented', 'invested', 'iron', 'is', 'island', \"isn't\", 'it', \"it's\", 'its', 'ivan', \"ivan's\", 'jagged', 'jaguar', 'jaguars', 'jaws', 'job', 'joke', 'joking', 'joy', 'jumpy', 'jungle', 'jungles', 'just', 'jut', 'keep', 'kept', 'khaki', 'killed', 'kind', 'kings', 'knees', 'knew', 'knife', 'knit', 'knocked', 'knocker', 'knouter', 'know', 'lacerated', 'laid', 'land', 'landed', 'lapses', 'large', 'larger', 'largest', 'lashed', 'lassars', 'last', 'late', 'later', 'laugh', 'laughed', 'laughter', 'lay', 'lazarus', 'lean', 'leaned', 'leaped', 'learn', 'learned', 'leash', 'least', 'leather', 'leave', 'leaves', 'leech', 'leering', 'left', 'leg-weary', 'legs', 'lengths', 'leopards', 'less', 'let', 'library', 'licked', 'life', 'lifted', 'light', 'lightning-charred', 'lights', 'like', 'limb', 'limbs', 'limousine', 'line', 'linen', 'lions', 'lips', 'liqueur', 'lit', 'little', 'live', 'lived', 'living', 'locked', 'lofty', 'log', 'london', 'long', 'long-barreled', 'long-bladed', 'longer', 'look', 'looked', 'looks', 'loops', 'loose', 'lore', 'lose', 'loses', 'lost', 'lot', 'loudness', 'loved', 'low', 'lucar', 'luck', 'luckily', 'lunch', 'luncheon', 'lunged', 'lungs', 'lying', 'machinery', 'madame', 'made', 'magnificence', 'mainland', 'make', 'makes', 'making', 'malacca', 'malay', 'man', \"man's\", 'mancatcher', 'manner', 'many', 'marble', 'marcus', 'mark', 'marked', 'marksmanship', 'massive', 'match', 'mathematical', 'matter', 'matters', 'may', 'maybe', 'maze', 'me', 'mean', 'mean-', 'meaning', 'meant', 'medieval', 'men', 'menacing', 'mental', 'mention', 'merest', 'metallic', 'methods', 'mid-victorian', 'middle', 'midnight', 'might', 'mignon', 'mile', 'miles', 'military', 'million', 'mind', 'mine', 'minute', 'minutes', 'mirage', 'misfortune', 'mistaken', 'mists', 'moccasins', 'mocking', 'modern', 'modesty', 'moist', 'moment', 'mongrels', 'monster', 'monte', 'months', 'moon', 'moonless', 'moonlight', 'moose', 'more', 'morning', 'moscow', 'moss', 'most', 'mounted', 'mouse', 'mouth', 'moved', 'moving', 'mr', 'much', 'muck', 'muffled', 'murder', 'murderer', 'muscle', 'must', 'mustache', \"mustn't\", 'muttered', 'muttering', 'my', 'myself', 'mystery', 'mystified', 'naive', 'name', 'nap', 'narrowly', 'native', 'natural', 'naturally', 'nature', 'near', 'nearer', 'need', 'needed', 'needs', 'nerve', 'nerves', 'never', 'nevertheless', 'new', 'nielsen', 'night', \"night's\", 'no', 'noble', \"noblemen's\", 'nodded', 'noise', 'noiseless', 'none', 'nonsense', 'nor', 'nose', 'nostrils', 'not', 'noted', 'nothing', 'notice', 'noticed', 'notions', 'now', 'nowadays', 'numb', 'nursing', 'nut', 'oaken', 'object', 'objected', 'observed', 'obstacle', 'obvious', 'occasionally', 'occur', 'ocean', 'odd', 'of', 'off', 'offered', 'officer', 'official', 'often', 'oh', 'old', 'on', 'once', 'one', 'only', 'ooze', 'opaqueness', 'open', 'opened', 'operations', 'opiate', 'option', 'or', 'ord', 'orders', 'ordinarily', 'original', 'other', 'our', 'out', 'outdoor', 'outlines', 'outside', 'outspread', 'over', 'own', 'pack', 'padding', 'pain', 'pajamas', 'palates', 'palatial', 'palpable', 'paneled', 'panels', 'panic', 'panted', 'panther', 'paris', 'part', 'particularly', 'passed', 'passion', 'past', 'pastime', 'patch', 'path', 'pattern', 'patterns', 'paused', 'peer', 'pent-up', 'perfect', 'perfection', 'perfume', 'perfumed', 'perhaps', 'perils', 'philosopher', 'physical', 'pick', 'picked', 'picking', 'picture', 'pieces', 'pinched', 'pipe', 'pistol', 'pit', 'place', 'placid', 'planted', 'plate', 'plate-glass', 'play', 'played', 'playing', 'pleasant', 'please', 'pleasure', 'plenty', 'plunged', 'plunging', 'pocket', 'poets', 'point', 'pointed', 'pointing', 'points', 'poisonous', 'pol', 'poor', 'poorer', 'port', 'position', 'possibilities', 'possibly', 'postponing', 'pour', 'poured', 'power', 'powers', 'precariously', 'precisely', 'precision', 'prehistoric', 'preserve', 'pressed', 'print', 'prize', 'problem', 'problems', 'prolonged', 'promised', 'promising', 'propeller', 'proposition', 'prospect', 'protested', 'protruding', 'providence', 'proving', 'published', 'puffed', 'pulled', 'pungent', 'punish', 'pupils', \"purdey's\", 'pure', 'puritan', 'purposes', 'pursued', 'pursuer', 'pursuers', 'pushed', 'put', 'puzzled', 'quality', 'quarry', 'quarter', 'question', 'questioning', 'quick', 'quicker', 'quickly', 'quicksand', 'quiet', 'quite', 'quizzically', 'race', 'raced', 'ragged', 'rail', 'rains', 'rainsford', \"rainsford's\", 'raise', 'raised', 'ran', 'range', 'rank', 'ranker', 'rare', 'rather', 'raw', 'razor', 'reached', 'read', 'ready', 'real', 'realist', 'realized', 'really', 'reappeared', 'reason', 'recalling', 'receding', 'reclining', 'recognize', 'recognized', 'recoil', 'recovered', 'red', 'red-lipped', 'refectory', 'refuse', 'refuses', 'regarded', 'regarding', 'regret', 'regrettable', 'remained', 'remaining', 'remarkable', 'remarked', 'remember', 'remembered', 'repast', 'replace', 'replied', 'reply', 'report', 'reports', 'reputation', 'resourceful', 'rest', 'rested', 'restful', 'rests', 'revoir', 'revolver', 'rhinoceroses', 'rich', 'ridge', 'rifle', 'right', 'righteous', 'rigidly', 'ring', 'rio', 'ripple', 'river', 'robber', 'rockies', 'rocks', 'rocky', 'roger', 'romantic', 'room', 'rope', 'rot', 'rotten', 'rough', 'rowers', 'rubbing', 'rude', 'rumbled', 'russia', 'russian', 'russians', 'sack', 'safe', 'said', 'sailor', 'sailors', 'sallow', 'salt', 'salute', 'saluted', 'same', 'san', 'sanger', 'sank', 'sapling', 'saplings', 'sash', 'sat', 'savage', 'savagely', 'saving', 'saw', 'say', 'saying', 'scent', 'school', 'score', 'scowling', 'scream', 'screamed', 'screaming', 'screen', 'scruples', 'scum', 'sea', 'seafaring', 'searching', 'seas', 'second', \"second's\", 'securities', 'security', 'see', 'seem', 'seemed', 'seemingly', 'seen', 'sends', 'sensation', 'sense', 'sensed', 'sensuous', 'sent', 'series', 'serious', 'served', 'serving', 'set', 'settle', 'seven', 'several', 'sewed', 'shadow', 'shadows', 'shadowy', 'shall', 'shallow', 'shapes', 'sharp', 'sharpcut', 'sharpened', 'shattered', 'sheath', 'shinned', 'ship', \"ship's\", 'ships', 'shook', 'shoot', 'shore', 'short', 'shot', 'shots', 'should', 'shoulder', 'shoulders', \"shouldn't\", 'shouted', 'show', 'showed', 'shrugged', 'shudder', 'shut', 'sick', 'sides', 'siesta', 'sighed', 'sighted', 'sign', 'silence', 'silent', 'silk', 'silver', 'simple', 'simply', 'singularly', 'sipped', 'sir', 'sit', 'sitting', 'situation', 'six', 'skull', 'sky', 'slapped', 'sleep', 'sleepy', 'slender', 'slept', 'slid', 'slight', 'slightest', 'slipping', 'sloop', 'slow', 'slowly', 'small', 'smaller', 'smallest', 'smashed', 'smell', 'smile', 'smiled', 'smiling', 'smoke', 'snake', 'snapped', 'snarl', 'snarled', 'snatch', 'snow', 'snuffbox', 'so', 'society', 'soft', 'softer', 'softest', 'softness', 'solicitous', 'solicitously', 'solidly', 'some', 'somehow', 'someone', 'something', 'sometimes', 'somewhere', 'song', 'sons', 'soon', 'soothe', 'sorry', 'sort', 'sought', 'sound', 'soup', 'southeast', 'spanish', 'spare', 'sparrows', 'speak', 'speaking', 'specially', 'specimens', 'speeding', 'spiked', 'splendid', 'splitting', 'spoke', 'sport', 'sporting', 'sportsman', 'spot', 'sprang', 'spread', 'spring', 'springing', 'springy', 'spurred', 'squire', 'staccato', 'staggered', 'stained', 'stake', 'stakes', 'stalking', 'stamina', 'stand', 'standing', 'staring', 'start', 'started', 'startled', 'state', 'statue', 'stay', 'stealthy', 'steamer', 'steel', 'steered', 'stepped', 'steps', 'sticking', 'stiffly', 'still', 'stock', 'stone', 'stood', 'stop', 'stopped', 'store', 'straight', 'straightened', 'strained', 'straining', 'strange', 'strangle', 'strength', 'stretching', 'strike', 'striking', 'strokes', 'strolled', 'strong', 'struck', 'structure', 'struggled', 'studied', 'studying', 'stump', 'stupid', 'success', 'such', 'sucked', 'sudden', 'suddenly', 'suffered', 'suggest', 'suggested', 'suggestive', 'suicide', 'suit', 'sun', 'superstition', 'superstitious', 'supplies', 'supply', 'suppose', 'surely', 'sureness', 'surface', 'surged', 'surmounted', 'surpassingly', 'surprise', 'surprised', 'suzette', 'swam', 'swamp', 'swamps', 'sweat', 'swede', 'swiftly', 'swiftness', 'swim', 'swimming', 'swirling', 'swish', 'switched', 'swum', 'table', 'tables', 'tackle', 'tailor', 'taint', 'take', 'taken', 'taking', 'talk', 'tall', 'tangible', 'tangle', 'tapestry', 'tartar', 'tasted', 'taxi', 'tear', 'tearoom', 'teeth', 'tell', 'tells', 'ten', 'tensed', 'tent', 'terrible', 'terror', 'than', 'thank', 'that', \"that's\", 'the', 'their', 'them', 'then', 'then-', 'there', \"there's\", 'these', 'they', \"they're\", \"they've\", 'thick', 'thickets', 'thickly', 'thing', 'things', 'think', 'thinking', 'third', 'this', 'thoroughbred', 'those', 'thought', 'thoughtful', 'thrashed', 'three', 'threw', 'thrill', 'throb', 'through', 'throw', 'throwing', 'thrust', 'thumb', 'tibet', 'tied', 'tiger', 'tigers', 'tight', 'tightening', 'till', 'time', 'times', 'tip', 'tired', 'tiredness', 'to', 'today', 'together', 'told', 'tomorrow', 'tone', 'tongue', 'tonight', 'too', 'took', 'top', 'torch', 'tore', 'touched', 'tough-minded', 'toward', 'towers', 'town', 'trace', 'traces', 'track', 'trackless', 'tragic', 'trail', 'trailed', 'training', 'trait', 'traits', 'tramp', 'trap', 'traveling', 'treat', 'tree', 'trees', 'trick', 'tried', 'trigger', 'trimmed', 'trip', 'tropical', 'trouble', 'true', 'trunk', 'trust', 'truth', 'try', 'trying', 'tumbled', 'turkeys', 'turkish', 'turn', 'turned', 'turning', 'tweeds', 'twenty', 'twenty-two', 'twig', 'two', 'twoscore', 'uganda', 'ugh', 'unbroken', 'uncanny', 'uncomfortable', 'under', 'underbrush', 'understand', 'understanding', 'understood', 'uniform', 'unless', 'unpleasant', 'unreality', 'unruffled', 'unseen', 'until', 'unusual', 'unusually', 'up', 'upon', 'upward', 'us', 'use', 'used', 'utmost', 'utter', 'valley', 'value', 'varnishing', 'vast', 'vegetation', 'velvet', 'venerable', 'venture', 'very', 'veuve', 'vibrations', 'viciously', 'view', 'vigor', 'village', 'violent', 'visit', 'visitors', 'vitality', 'vivid', 'voice', 'voices', 'wager', 'waist', 'wait', 'waiter', 'walked', 'walking', 'walnut', 'wan', 'want', 'wanted', 'war', 'warm', 'was', 'wash', 'watch', 'watched', 'water', 'watercourse', 'waters', 'wave', 'wavering', 'way', 'ways', 'we', \"we'll\", \"we're\", \"we've\", 'weak', 'wear', 'weariness', 'weather', 'weaving', 'web', 'weeds', 'welcome', 'well', 'well-cooked', 'went', 'were', \"weren't\", 'wet', 'what', 'when', 'whenever', 'where', 'which', 'whipped', 'white', 'whites', 'whitney', 'who', \"who'd\", 'whole', 'wholly', 'whose', 'why', 'wide', 'wide-open', 'widened', 'wild', 'wilderness', 'will', 'win', 'winding', 'window', 'windows', 'wine', 'wink', 'wins', 'wish', 'with', 'withdrew', 'within', 'without', 'wits', 'won', 'wondered', 'wonderful', 'woodcraft', 'wooded', 'woods', 'word', 'words', 'work', 'worked', 'works', 'world', 'worried', 'worth', 'worthy', 'would', \"wouldn't\", 'wound', 'wounded', 'wove', 'wrench', 'wrestled', 'wrong', 'yacht', 'yards', 'year', 'years', 'yes', 'yet', 'york', 'you', \"you'll\", \"you're\", \"you've\", 'young', 'younger', 'your', 'yourself', 'zaroff', \"zaroff's\", 'zealous', 'zone']\n"
     ]
    }
   ],
   "source": [
    "print(sorted(set(mdg_words)))"
   ]
  },
  {
   "cell_type": "markdown",
   "metadata": {
    "slideshow": {
     "slide_type": "slide"
    }
   },
   "source": [
    "That looks like a lot of words. If we ask how many by counting how long the set of words is, we get: "
   ]
  },
  {
   "cell_type": "code",
   "execution_count": 19,
   "metadata": {},
   "outputs": [
    {
     "data": {
      "text/plain": [
       "1952"
      ]
     },
     "execution_count": 19,
     "metadata": {},
     "output_type": "execute_result"
    }
   ],
   "source": [
    "len(set(mdg_words))"
   ]
  },
  {
   "cell_type": "markdown",
   "metadata": {
    "slideshow": {
     "slide_type": "slide"
    }
   },
   "source": [
    "Almost two thousand words are spread out over 8000 places. If averaged over the entire text, each word appears 4 times, but looking over our sorted `mdg_words` above, we can see that the word **and** appears 162 times alone. And it's not even the top 5 of most used words! \n",
    "\n",
    "In order they are:\n",
    "\n",
    "    the, 512\n",
    "    a, 258\n",
    "    he, 248\n",
    "    i, 177\n",
    "    of, 172\n",
    "    and, 164"
   ]
  },
  {
   "cell_type": "markdown",
   "metadata": {
    "slideshow": {
     "slide_type": "slide"
    }
   },
   "source": [
    "To be clear, these numbers are drawn from a complete list of the words in \"The Most Dangerous Game\" that was compiled by first creating a dataframe with each word on its own, indexed, row:"
   ]
  },
  {
   "cell_type": "code",
   "execution_count": 20,
   "metadata": {},
   "outputs": [
    {
     "ename": "ModuleNotFoundError",
     "evalue": "No module named 'pandas'",
     "output_type": "error",
     "traceback": [
      "\u001b[0;31m---------------------------------------------------------------------------\u001b[0m",
      "\u001b[0;31mModuleNotFoundError\u001b[0m                       Traceback (most recent call last)",
      "\u001b[0;32m<ipython-input-20-e5fb37eb3b75>\u001b[0m in \u001b[0;36m<module>\u001b[0;34m\u001b[0m\n\u001b[1;32m      1\u001b[0m \u001b[0;32mimport\u001b[0m \u001b[0mnumpy\u001b[0m \u001b[0;32mas\u001b[0m \u001b[0mnp\u001b[0m\u001b[0;34m\u001b[0m\u001b[0;34m\u001b[0m\u001b[0m\n\u001b[0;32m----> 2\u001b[0;31m \u001b[0;32mimport\u001b[0m \u001b[0mpandas\u001b[0m \u001b[0;32mas\u001b[0m \u001b[0mpd\u001b[0m\u001b[0;34m\u001b[0m\u001b[0;34m\u001b[0m\u001b[0m\n\u001b[0m\u001b[1;32m      3\u001b[0m \u001b[0;34m\u001b[0m\u001b[0m\n\u001b[1;32m      4\u001b[0m \u001b[0mmdg_series\u001b[0m \u001b[0;34m=\u001b[0m \u001b[0mpd\u001b[0m\u001b[0;34m.\u001b[0m\u001b[0mSeries\u001b[0m\u001b[0;34m(\u001b[0m\u001b[0mmdg_words\u001b[0m\u001b[0;34m)\u001b[0m\u001b[0;34m\u001b[0m\u001b[0;34m\u001b[0m\u001b[0m\n\u001b[1;32m      5\u001b[0m \u001b[0;34m\u001b[0m\u001b[0m\n",
      "\u001b[0;31mModuleNotFoundError\u001b[0m: No module named 'pandas'"
     ]
    }
   ],
   "source": [
    "import numpy as np\n",
    "import pandas as pd\n",
    "\n",
    "mdg_series = pd.Series(mdg_words)\n",
    "\n",
    "print(mdg_series)"
   ]
  },
  {
   "cell_type": "markdown",
   "metadata": {
    "slideshow": {
     "slide_type": "slide"
    }
   },
   "source": [
    "We can take that sequence of words and count them:"
   ]
  },
  {
   "cell_type": "code",
   "execution_count": null,
   "metadata": {
    "scrolled": true,
    "slideshow": {
     "slide_type": "-"
    }
   },
   "outputs": [],
   "source": [
    "mdg_counts = mdg_series.value_counts()\n",
    "print(mdg_counts)"
   ]
  },
  {
   "cell_type": "code",
   "execution_count": null,
   "metadata": {
    "slideshow": {
     "slide_type": "slide"
    }
   },
   "outputs": [],
   "source": [
    "# =-=-=-=-=-=-=-=-=-=-=\n",
    "# Let's graph the 50 most frequent words:\n",
    "# =-=-=-=-=-=-=-=-=-=-= \n",
    "\n",
    "mdg_counts.iloc[50:99].plot(kind='bar')"
   ]
  },
  {
   "cell_type": "code",
   "execution_count": null,
   "metadata": {
    "slideshow": {
     "slide_type": "slide"
    }
   },
   "outputs": [],
   "source": [
    "# =-=-=-=-=-=-=-=-=-=-=\n",
    "# Save these results to a CSV file (makes it easier for the Excel-impaired)\n",
    "# =-=-=-=-=-=-=-=-=-=-= \n",
    "\n",
    "mdg_counts.to_csv('../data/mdg_word_freq.csv')"
   ]
  },
  {
   "cell_type": "code",
   "execution_count": null,
   "metadata": {},
   "outputs": [],
   "source": [
    "mpl.style.use('ggplot')\n",
    "ax = df[['Word','Frequency']].plot(kind='bar', \n",
    "                                   title =\"Frequency of Words in MDG\",\n",
    "                                   figsize=(20,10),\n",
    "                                   legend=True)\n",
    "ax.set_xlabel(\"Word\")\n",
    "ax.set_ylabel(\"Occurrences\")\n",
    "ax.set_xticklabels(list(df['Word'])) \n",
    "mpl.pyplot.show()"
   ]
  },
  {
   "cell_type": "code",
   "execution_count": null,
   "metadata": {},
   "outputs": [],
   "source": [
    "import nltk\n",
    "myword = mdg.concordance(\"dangerous\")\n",
    "print(myword)"
   ]
  },
  {
   "cell_type": "code",
   "execution_count": null,
   "metadata": {},
   "outputs": [],
   "source": [
    "text.similar(\"love\")\n",
    "text.common_contexts([\"husband\", \"wife\"])\n",
    "text.collocations()"
   ]
  },
  {
   "cell_type": "code",
   "execution_count": null,
   "metadata": {},
   "outputs": [],
   "source": [
    "import nltk\n",
    "mdgtokens = nltk.word_tokenize(mdg)\n",
    "len(mdgtokens)\n",
    "\n",
    "import nltk, re\n",
    "\n",
    "mdg_raw = open(\"./mdg.txt\").read()\n",
    "mdg_words = re.sub(\"[^a-zA-Z'-]\",\" \", mdg_raw)\n",
    "mdg_case = mdg_words.lower()\n",
    "\n",
    "# print(mdg_case)\n",
    "\n",
    "\n",
    "\n",
    "import re\n",
    "\n",
    "\n",
    "mdg_word_list = mdg_words.split()\n",
    "print(mdg_word_list)\n",
    "\n",
    "sorted(set(mdg_word_list))\n",
    "\n",
    "len(sorted(set(mdg_word_list)))\n",
    "\n",
    "# Lexical Diversity of MDG:\n",
    "len(mdg2_word_list) / len(set(mdg2_word_list))"
   ]
  },
  {
   "cell_type": "code",
   "execution_count": null,
   "metadata": {},
   "outputs": [],
   "source": [
    "len(mdg_tokens) / len(set(mdg_tokens))"
   ]
  },
  {
   "cell_type": "markdown",
   "metadata": {},
   "source": [
    "On average, a word occurs four times in \"The Most Dangerous Game.\"\n",
    "\n",
    "Out of curiosity, how many words occur four times?"
   ]
  },
  {
   "cell_type": "code",
   "execution_count": null,
   "metadata": {},
   "outputs": [],
   "source": [
    "wordfrequency = nltk.FreqDist(mdg_tokens)\n",
    "four_times = [word for word in wordfrequency.keys() if wordfrequency[word] == 4]\n",
    "print(four_times)"
   ]
  },
  {
   "cell_type": "code",
   "execution_count": null,
   "metadata": {},
   "outputs": [],
   "source": [
    "mdg_text.count(\"dangerous\")"
   ]
  },
  {
   "cell_type": "code",
   "execution_count": null,
   "metadata": {},
   "outputs": [],
   "source": [
    "mdg_text.concordance(\"dangerous\")"
   ]
  },
  {
   "cell_type": "markdown",
   "metadata": {},
   "source": [
    "Where does \"dangerous\" occur within the larger text?"
   ]
  },
  {
   "cell_type": "code",
   "execution_count": null,
   "metadata": {},
   "outputs": [],
   "source": [
    "mdg_text.dispersion_plot([\"dangerous\", \"danger\", \"game\", \"fear\"])"
   ]
  },
  {
   "cell_type": "code",
   "execution_count": null,
   "metadata": {},
   "outputs": [],
   "source": [
    "wordfrequency.plot()"
   ]
  },
  {
   "cell_type": "code",
   "execution_count": null,
   "metadata": {},
   "outputs": [],
   "source": []
  },
  {
   "cell_type": "code",
   "execution_count": null,
   "metadata": {},
   "outputs": [],
   "source": []
  }
 ],
 "metadata": {
  "kernelspec": {
   "display_name": "Python 3",
   "language": "python",
   "name": "python3"
  },
  "language_info": {
   "codemirror_mode": {
    "name": "ipython",
    "version": 3
   },
   "file_extension": ".py",
   "mimetype": "text/x-python",
   "name": "python",
   "nbconvert_exporter": "python",
   "pygments_lexer": "ipython3",
   "version": "3.6.7"
  }
 },
 "nbformat": 4,
 "nbformat_minor": 2
}
