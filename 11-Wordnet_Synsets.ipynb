{
 "cells": [
  {
   "cell_type": "markdown",
   "metadata": {},
   "source": [
    "## Basics"
   ]
  },
  {
   "cell_type": "code",
   "execution_count": 3,
   "metadata": {},
   "outputs": [],
   "source": [
    "from nltk.corpus import wordnet"
   ]
  },
  {
   "cell_type": "code",
   "execution_count": 5,
   "metadata": {},
   "outputs": [
    {
     "name": "stdout",
     "output_type": "stream",
     "text": [
      "Synset name :   treasure.n.01\n",
      "Synset meaning :  accumulated wealth in the form of money or jewels etc.\n",
      "Synset example :  ['the pirates hid their treasure on a small island in the West Indies']\n"
     ]
    }
   ],
   "source": [
    "syn = wordnet.synsets('treasure')[0] \n",
    "  \n",
    "print (\"Synset name :  \", syn.name()) \n",
    "  \n",
    "# Defining the word \n",
    "print (\"Synset meaning : \", syn.definition()) \n",
    "  \n",
    "# list of phrases that use the word in context \n",
    "print (\"Synset example : \", syn.examples()) "
   ]
  },
  {
   "cell_type": "code",
   "execution_count": 10,
   "metadata": {},
   "outputs": [
    {
     "data": {
      "text/plain": [
       "[Synset('wealth.n.03')]"
      ]
     },
     "execution_count": 10,
     "metadata": {},
     "output_type": "execute_result"
    }
   ],
   "source": [
    "syn.hypernyms()"
   ]
  },
  {
   "cell_type": "code",
   "execution_count": 9,
   "metadata": {},
   "outputs": [
    {
     "data": {
      "text/plain": [
       "[Synset('entity.n.01')]"
      ]
     },
     "execution_count": 9,
     "metadata": {},
     "output_type": "execute_result"
    }
   ],
   "source": [
    "syn.root_hypernyms() "
   ]
  },
  {
   "cell_type": "markdown",
   "metadata": {},
   "source": [
    "## Wu-Palmer Similarity\n",
    "\n",
    "Wu-Palmer calculates relatedness by considering the depths of the two synsets in the WordNet taxonomies, along with the depth of the LCS (Least Common Subsumer). The score can be 0 < score <= 1. The score can never be zero because the depth of the LCS is never zero (the depth of the root of taxonomy is one). Wu-Palmer calculates the similarity based on how similar the word senses are and where the Synsets occur relative to each other in the hypernym tree. [Source][].\n",
    "\n",
    "[Source]: https://www.geeksforgeeks.org/nlp-wupalmer-wordnet-similarity/"
   ]
  },
  {
   "cell_type": "code",
   "execution_count": 11,
   "metadata": {},
   "outputs": [
    {
     "data": {
      "text/plain": [
       "0.25"
      ]
     },
     "execution_count": 11,
     "metadata": {},
     "output_type": "execute_result"
    }
   ],
   "source": [
    "syn1 = wordnet.synsets('treasure')[0] \n",
    "syn2 = wordnet.synsets('cash')[0]\n",
    "\n",
    "syn1.wup_similarity(syn2)"
   ]
  },
  {
   "cell_type": "code",
   "execution_count": 12,
   "metadata": {},
   "outputs": [
    {
     "data": {
      "text/plain": [
       "[Synset('abstraction.n.06'), Synset('entity.n.01')]"
      ]
     },
     "execution_count": 12,
     "metadata": {},
     "output_type": "execute_result"
    }
   ],
   "source": [
    "sorted(syn1.common_hypernyms(syn2))"
   ]
  },
  {
   "cell_type": "code",
   "execution_count": 14,
   "metadata": {},
   "outputs": [
    {
     "name": "stdout",
     "output_type": "stream",
     "text": [
      "Self comprison :  1\n",
      "Distance of treasure from cash :  12\n",
      "Distance of cash from treasure :  12\n"
     ]
    }
   ],
   "source": [
    "ref = syn1.hypernyms()[0]\n",
    "\n",
    "print (\"Self comprison : \",  \n",
    "       syn1.shortest_path_distance(ref)) \n",
    "  \n",
    "print (\"Distance of treasure from cash : \",  \n",
    "       syn1.shortest_path_distance(syn2)) \n",
    "  \n",
    "print (\"Distance of cash from treasure : \",  \n",
    "       syn2.shortest_path_distance(syn1)) "
   ]
  },
  {
   "cell_type": "code",
   "execution_count": null,
   "metadata": {},
   "outputs": [],
   "source": []
  }
 ],
 "metadata": {
  "kernelspec": {
   "display_name": "Python 3",
   "language": "python",
   "name": "python3"
  },
  "language_info": {
   "codemirror_mode": {
    "name": "ipython",
    "version": 3
   },
   "file_extension": ".py",
   "mimetype": "text/x-python",
   "name": "python",
   "nbconvert_exporter": "python",
   "pygments_lexer": "ipython3",
   "version": "3.6.7"
  }
 },
 "nbformat": 4,
 "nbformat_minor": 2
}
