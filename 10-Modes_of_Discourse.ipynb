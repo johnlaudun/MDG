{
 "cells": [
  {
   "cell_type": "code",
   "execution_count": 1,
   "metadata": {},
   "outputs": [],
   "source": [
    "import nltk"
   ]
  },
  {
   "cell_type": "code",
   "execution_count": 2,
   "metadata": {},
   "outputs": [
    {
     "name": "stdout",
     "output_type": "stream",
     "text": [
      "A relative of ours lived in the country near the woods of Morse and Crowley when she was a little girl. She lived in an house that was stilts so that when a flood came their house would be okay. When she was a child, our relative would play with the other kids under the house during the summer to stay out of the heat. The story goes that our relative, along with the rest of the children, saw a man sitting on a wooden chest beneath the house. This apparition did nothing to the children, although it did frighten them for a time. Strangely, only our relative and the children could see it. Not the adults.\n"
     ]
    }
   ],
   "source": [
    "text = open('../texts/legends/louisiana/uls-001.txt', 'r').read()\n",
    "print(text)"
   ]
  },
  {
   "cell_type": "code",
   "execution_count": 3,
   "metadata": {},
   "outputs": [
    {
     "name": "stdout",
     "output_type": "stream",
     "text": [
      "[('A', 'DT'), ('relative', 'NN'), ('of', 'IN'), ('ours', 'NNS'), ('lived', 'VBN'), ('in', 'IN'), ('the', 'DT'), ('country', 'NN'), ('near', 'IN'), ('the', 'DT'), ('woods', 'NNS'), ('of', 'IN'), ('Morse', 'NNP'), ('and', 'CC'), ('Crowley', 'NNP'), ('when', 'WRB'), ('she', 'PRP'), ('was', 'VBD'), ('a', 'DT'), ('little', 'JJ'), ('girl', 'NN'), ('.', '.')]\n"
     ]
    }
   ],
   "source": [
    "sentences = nltk.sent_tokenize(text)\n",
    "\n",
    "tokened = [nltk.word_tokenize(sentence) for sentence in sentences]\n",
    "\n",
    "tagged = nltk.pos_tag(tokened[0])\n",
    "\n",
    "print(tagged)"
   ]
  }
 ],
 "metadata": {
  "kernelspec": {
   "display_name": "Python 3",
   "language": "python",
   "name": "python3"
  },
  "language_info": {
   "codemirror_mode": {
    "name": "ipython",
    "version": 3
   },
   "file_extension": ".py",
   "mimetype": "text/x-python",
   "name": "python",
   "nbconvert_exporter": "python",
   "pygments_lexer": "ipython3",
   "version": "3.4.10"
  }
 },
 "nbformat": 4,
 "nbformat_minor": 2
}
