{
 "cells": [
  {
   "cell_type": "markdown",
   "metadata": {},
   "source": [
    "# Stopwords in Python"
   ]
  },
  {
   "cell_type": "markdown",
   "metadata": {},
   "source": [
    "If you have ever wondered about the nature of stopword lists available in Python, wonder no more. This workbook reveals the length and composition of the most common stopword lists, offers a comparison, and then proffers some methods for creating custom stopword lists. "
   ]
  },
  {
   "cell_type": "markdown",
   "metadata": {},
   "source": [
    "## `stop-words`"
   ]
  },
  {
   "cell_type": "code",
   "execution_count": 9,
   "metadata": {},
   "outputs": [
    {
     "data": {
      "text/plain": [
       "174"
      ]
     },
     "execution_count": 9,
     "metadata": {},
     "output_type": "execute_result"
    }
   ],
   "source": [
    "from stop_words import get_stop_words\n",
    "\n",
    "sw_stop = get_stop_words('en')\n",
    "len(sw_stop)"
   ]
  },
  {
   "cell_type": "code",
   "execution_count": 32,
   "metadata": {},
   "outputs": [
    {
     "name": "stdout",
     "output_type": "stream",
     "text": [
      "['a', 'about', 'above', 'after', 'again', 'against', 'all', 'am', 'an', 'and', 'any', 'are', \"aren't\", 'as', 'at', 'be', 'because', 'been', 'before', 'being', 'below', 'between', 'both', 'but', 'by', \"can't\", 'cannot', 'could', \"couldn't\", 'did', \"didn't\", 'do', 'does', \"doesn't\", 'doing', \"don't\", 'down', 'during', 'each', 'few', 'for', 'from', 'further', 'had', \"hadn't\", 'has', \"hasn't\", 'have', \"haven't\", 'having', 'he', \"he'd\", \"he'll\", \"he's\", 'her', 'here', \"here's\", 'hers', 'herself', 'him', 'himself', 'his', 'how', \"how's\", 'i', \"i'd\", \"i'll\", \"i'm\", \"i've\", 'if', 'in', 'into', 'is', \"isn't\", 'it', \"it's\", 'its', 'itself', \"let's\", 'me', 'more', 'most', \"mustn't\", 'my', 'myself', 'no', 'nor', 'not', 'of', 'off', 'on', 'once', 'only', 'or', 'other', 'ought', 'our', 'ours', 'ourselves', 'out', 'over', 'own', 'same', \"shan't\", 'she', \"she'd\", \"she'll\", \"she's\", 'should', \"shouldn't\", 'so', 'some', 'such', 'than', 'that', \"that's\", 'the', 'their', 'theirs', 'them', 'themselves', 'then', 'there', \"there's\", 'these', 'they', \"they'd\", \"they'll\", \"they're\", \"they've\", 'this', 'those', 'through', 'to', 'too', 'under', 'until', 'up', 'very', 'was', \"wasn't\", 'we', \"we'd\", \"we'll\", \"we're\", \"we've\", 'were', \"weren't\", 'what', \"what's\", 'when', \"when's\", 'where', \"where's\", 'which', 'while', 'who', \"who's\", 'whom', 'why', \"why's\", 'with', \"won't\", 'would', \"wouldn't\", 'you', \"you'd\", \"you'll\", \"you're\", \"you've\", 'your', 'yours', 'yourself', 'yourselves']\n"
     ]
    }
   ],
   "source": [
    "print(sw_stop)"
   ]
  },
  {
   "cell_type": "markdown",
   "metadata": {},
   "source": [
    "## NLTK"
   ]
  },
  {
   "cell_type": "code",
   "execution_count": 10,
   "metadata": {},
   "outputs": [
    {
     "data": {
      "text/plain": [
       "179"
      ]
     },
     "execution_count": 10,
     "metadata": {},
     "output_type": "execute_result"
    }
   ],
   "source": [
    "import nltk\n",
    "from nltk.corpus import stopwords\n",
    "\n",
    "nltk_stop = stopwords.words('english')\n",
    "len(nltk_stop)"
   ]
  },
  {
   "cell_type": "code",
   "execution_count": 33,
   "metadata": {},
   "outputs": [
    {
     "name": "stdout",
     "output_type": "stream",
     "text": [
      "['i', 'me', 'my', 'myself', 'we', 'our', 'ours', 'ourselves', 'you', \"you're\", \"you've\", \"you'll\", \"you'd\", 'your', 'yours', 'yourself', 'yourselves', 'he', 'him', 'his', 'himself', 'she', \"she's\", 'her', 'hers', 'herself', 'it', \"it's\", 'its', 'itself', 'they', 'them', 'their', 'theirs', 'themselves', 'what', 'which', 'who', 'whom', 'this', 'that', \"that'll\", 'these', 'those', 'am', 'is', 'are', 'was', 'were', 'be', 'been', 'being', 'have', 'has', 'had', 'having', 'do', 'does', 'did', 'doing', 'a', 'an', 'the', 'and', 'but', 'if', 'or', 'because', 'as', 'until', 'while', 'of', 'at', 'by', 'for', 'with', 'about', 'against', 'between', 'into', 'through', 'during', 'before', 'after', 'above', 'below', 'to', 'from', 'up', 'down', 'in', 'out', 'on', 'off', 'over', 'under', 'again', 'further', 'then', 'once', 'here', 'there', 'when', 'where', 'why', 'how', 'all', 'any', 'both', 'each', 'few', 'more', 'most', 'other', 'some', 'such', 'no', 'nor', 'not', 'only', 'own', 'same', 'so', 'than', 'too', 'very', 's', 't', 'can', 'will', 'just', 'don', \"don't\", 'should', \"should've\", 'now', 'd', 'll', 'm', 'o', 're', 've', 'y', 'ain', 'aren', \"aren't\", 'couldn', \"couldn't\", 'didn', \"didn't\", 'doesn', \"doesn't\", 'hadn', \"hadn't\", 'hasn', \"hasn't\", 'haven', \"haven't\", 'isn', \"isn't\", 'ma', 'mightn', \"mightn't\", 'mustn', \"mustn't\", 'needn', \"needn't\", 'shan', \"shan't\", 'shouldn', \"shouldn't\", 'wasn', \"wasn't\", 'weren', \"weren't\", 'won', \"won't\", 'wouldn', \"wouldn't\"]\n"
     ]
    }
   ],
   "source": [
    "print(nltk_stop)"
   ]
  },
  {
   "cell_type": "markdown",
   "metadata": {},
   "source": [
    "## SciKit Learn"
   ]
  },
  {
   "cell_type": "code",
   "execution_count": 11,
   "metadata": {},
   "outputs": [
    {
     "data": {
      "text/plain": [
       "318"
      ]
     },
     "execution_count": 11,
     "metadata": {},
     "output_type": "execute_result"
    }
   ],
   "source": [
    "from sklearn.feature_extraction import stop_words\n",
    "\n",
    "sklearn_stop = stop_words.ENGLISH_STOP_WORDS\n",
    "len(sklearn_stop)"
   ]
  },
  {
   "cell_type": "code",
   "execution_count": 34,
   "metadata": {},
   "outputs": [
    {
     "name": "stdout",
     "output_type": "stream",
     "text": [
      "frozenset({'none', 'least', 'me', 'twenty', 'should', 'sometime', 'as', 'seeming', 'herein', 'each', 'eight', 'after', 'him', 'only', 'ever', 'move', 'seem', 'throughout', 'below', 'both', 'hereby', 'please', 'somehow', 'latterly', 'many', 'sometimes', 'toward', 'two', 'whoever', 'more', 'thereupon', 'eg', 'can', 'less', 'elsewhere', 'a', 'seems', 'for', 'how', 'fill', 'much', 'his', 'few', 'nowhere', 'sixty', 'against', 'if', 'together', 'may', 'and', 'cant', 'though', 'on', 'across', 'forty', 'but', 'made', 'find', 'amoungst', 'herself', 'this', 'had', 'until', 'alone', 'is', 'our', 'often', 'same', 'in', 'first', 'former', 'namely', 'twelve', 'that', 'indeed', 'where', 'must', 'system', 'keep', 'front', 'my', 'to', 'which', 'next', 'couldnt', 'every', 'than', 'other', 'its', 'under', 'ltd', 'cry', 'what', 'will', 'done', 'never', 'why', 'himself', 'found', 'de', 'whither', 'through', 'whereafter', 'last', 'something', 'third', 'however', 'onto', 'either', 'are', 'see', 'anywhere', 'rather', 'describe', 'was', 'somewhere', 'about', 'becoming', 'most', 'serious', 'also', 'among', 'bill', 'it', 'mostly', 'nothing', 'whom', 'without', 'put', 'whereas', 'so', 'well', 'give', 'of', 'per', 'co', 'has', 'yet', 'whenever', 'perhaps', 'any', 'do', 'within', 'yourselves', 'itself', 'thick', 'them', 'go', 'we', 'yourself', 'anyway', 'latter', 'thereafter', 'back', 'formerly', 'off', 'since', 'four', 'cannot', 'hasnt', 'you', 'there', 'while', 'out', 'hereupon', 'still', 'whereby', 'these', 'almost', 'whether', 'noone', 'part', 'thru', 'neither', 'she', 'anything', 'some', 'hereafter', 'around', 'everywhere', 'upon', 'have', 'such', 'by', 'nor', 'because', 'before', 'amount', 'own', 'another', 'moreover', 'three', 'except', 'fire', 'i', 'am', 'beforehand', 'be', 'inc', 'from', 'ten', 'via', 'empty', 're', 'themselves', 'thin', 'their', 'due', 'being', 'down', 'her', 'full', 'seemed', 'towards', 'wherein', 'could', 'take', 'nine', 'although', 'meanwhile', 'becomes', 'nevertheless', 'therein', 'would', 'all', 'once', 'top', 'whole', 'again', 'interest', 'one', 'with', 'along', 'no', 'etc', 'been', 'now', 'always', 'enough', 'therefore', 'thence', 'amongst', 'six', 'whatever', 'over', 'eleven', 'the', 'myself', 'bottom', 'get', 'fifty', 'nobody', 'when', 'us', 'already', 'con', 'your', 'five', 'un', 'someone', 'everyone', 'name', 'besides', 'into', 'those', 'ourselves', 'very', 'wherever', 'call', 'detail', 'sincere', 'anyhow', 'become', 'might', 'mine', 'behind', 'too', 'side', 'they', 'whose', 'anyone', 'beside', 'ie', 'several', 'above', 'even', 'an', 'others', 'here', 'became', 'he', 'otherwise', 'whence', 'hers', 'fifteen', 'between', 'hence', 'during', 'yours', 'or', 'else', 'thus', 'afterwards', 'show', 'were', 'beyond', 'ours', 'everything', 'not', 'at', 'mill', 'then', 'who', 'hundred', 'further', 'up', 'thereby', 'whereupon'})\n"
     ]
    }
   ],
   "source": [
    "print(sklearn_stop)"
   ]
  },
  {
   "cell_type": "markdown",
   "metadata": {},
   "source": [
    "## Stopword List Comparisons"
   ]
  },
  {
   "cell_type": "markdown",
   "metadata": {},
   "source": [
    "### `stop-words` vs NLTK"
   ]
  },
  {
   "cell_type": "code",
   "execution_count": 30,
   "metadata": {},
   "outputs": [
    {
     "name": "stdout",
     "output_type": "stream",
     "text": [
      "[\"can't\", 'cannot', 'could', \"he'd\", \"he'll\", \"he's\", \"here's\", \"how's\", \"i'd\", \"i'll\", \"i'm\", \"i've\", \"let's\", 'ought', \"she'd\", \"she'll\", \"that's\", \"there's\", \"they'd\", \"they'll\", \"they're\", \"they've\", \"we'd\", \"we'll\", \"we're\", \"we've\", \"what's\", \"when's\", \"where's\", \"who's\", \"why's\", 'would']\n"
     ]
    }
   ],
   "source": [
    "print(sorted(list(set(sw_stop)-set(nltk_stop))))"
   ]
  },
  {
   "cell_type": "code",
   "execution_count": 29,
   "metadata": {},
   "outputs": [
    {
     "name": "stdout",
     "output_type": "stream",
     "text": [
      "['ain', 'aren', 'can', 'couldn', 'd', 'didn', 'doesn', 'don', 'hadn', 'hasn', 'haven', 'isn', 'just', 'll', 'm', 'ma', 'mightn', \"mightn't\", 'mustn', 'needn', \"needn't\", 'now', 'o', 're', 's', 'shan', \"should've\", 'shouldn', 't', \"that'll\", 've', 'wasn', 'weren', 'will', 'won', 'wouldn', 'y']\n"
     ]
    }
   ],
   "source": [
    "print(sorted(list(set(nltk_stop)-set(sw_stop))))"
   ]
  },
  {
   "cell_type": "markdown",
   "metadata": {},
   "source": [
    "### `stop-words` vs SciKit-Learn"
   ]
  },
  {
   "cell_type": "code",
   "execution_count": 28,
   "metadata": {
    "scrolled": false
   },
   "outputs": [
    {
     "name": "stdout",
     "output_type": "stream",
     "text": [
      "['across', 'afterwards', 'almost', 'alone', 'along', 'already', 'also', 'although', 'always', 'among', 'amongst', 'amoungst', 'amount', 'another', 'anyhow', 'anyone', 'anything', 'anyway', 'anywhere', 'around', 'back', 'became', 'become', 'becomes', 'becoming', 'beforehand', 'behind', 'beside', 'besides', 'beyond', 'bill', 'bottom', 'call', 'can', 'cant', 'co', 'con', 'couldnt', 'cry', 'de', 'describe', 'detail', 'done', 'due', 'eg', 'eight', 'either', 'eleven', 'else', 'elsewhere', 'empty', 'enough', 'etc', 'even', 'ever', 'every', 'everyone', 'everything', 'everywhere', 'except', 'fifteen', 'fifty', 'fill', 'find', 'fire', 'first', 'five', 'former', 'formerly', 'forty', 'found', 'four', 'front', 'full', 'get', 'give', 'go', 'hasnt', 'hence', 'hereafter', 'hereby', 'herein', 'hereupon', 'however', 'hundred', 'ie', 'inc', 'indeed', 'interest', 'keep', 'last', 'latter', 'latterly', 'least', 'less', 'ltd', 'made', 'many', 'may', 'meanwhile', 'might', 'mill', 'mine', 'moreover', 'mostly', 'move', 'much', 'must', 'name', 'namely', 'neither', 'never', 'nevertheless', 'next', 'nine', 'nobody', 'none', 'noone', 'nothing', 'now', 'nowhere', 'often', 'one', 'onto', 'others', 'otherwise', 'part', 'per', 'perhaps', 'please', 'put', 'rather', 're', 'see', 'seem', 'seemed', 'seeming', 'seems', 'serious', 'several', 'show', 'side', 'since', 'sincere', 'six', 'sixty', 'somehow', 'someone', 'something', 'sometime', 'sometimes', 'somewhere', 'still', 'system', 'take', 'ten', 'thence', 'thereafter', 'thereby', 'therefore', 'therein', 'thereupon', 'thick', 'thin', 'third', 'though', 'three', 'throughout', 'thru', 'thus', 'together', 'top', 'toward', 'towards', 'twelve', 'twenty', 'two', 'un', 'upon', 'us', 'via', 'well', 'whatever', 'whence', 'whenever', 'whereafter', 'whereas', 'whereby', 'wherein', 'whereupon', 'wherever', 'whether', 'whither', 'whoever', 'whole', 'whose', 'will', 'within', 'without', 'yet']\n"
     ]
    }
   ],
   "source": [
    "print(sorted(list(set(sklearn_stop)-set(sw_stop))))"
   ]
  },
  {
   "cell_type": "code",
   "execution_count": 27,
   "metadata": {
    "scrolled": true
   },
   "outputs": [
    {
     "name": "stdout",
     "output_type": "stream",
     "text": [
      "[\"aren't\", \"can't\", \"couldn't\", 'did', \"didn't\", 'does', \"doesn't\", 'doing', \"don't\", \"hadn't\", \"hasn't\", \"haven't\", 'having', \"he'd\", \"he'll\", \"he's\", \"here's\", \"how's\", \"i'd\", \"i'll\", \"i'm\", \"i've\", \"isn't\", \"it's\", \"let's\", \"mustn't\", 'ought', \"shan't\", \"she'd\", \"she'll\", \"she's\", \"shouldn't\", \"that's\", 'theirs', \"there's\", \"they'd\", \"they'll\", \"they're\", \"they've\", \"wasn't\", \"we'd\", \"we'll\", \"we're\", \"we've\", \"weren't\", \"what's\", \"when's\", \"where's\", \"who's\", \"why's\", \"won't\", \"wouldn't\", \"you'd\", \"you'll\", \"you're\", \"you've\"]\n"
     ]
    }
   ],
   "source": [
    "print(sorted(list(set(sw_stop)-set(sklearn_stop))))"
   ]
  },
  {
   "cell_type": "markdown",
   "metadata": {},
   "source": [
    "### NLTK vs SciKit-Learn"
   ]
  },
  {
   "cell_type": "code",
   "execution_count": 26,
   "metadata": {},
   "outputs": [
    {
     "name": "stdout",
     "output_type": "stream",
     "text": [
      "['ain', 'aren', \"aren't\", 'couldn', \"couldn't\", 'd', 'did', 'didn', \"didn't\", 'does', 'doesn', \"doesn't\", 'doing', 'don', \"don't\", 'hadn', \"hadn't\", 'hasn', \"hasn't\", 'haven', \"haven't\", 'having', 'isn', \"isn't\", \"it's\", 'just', 'll', 'm', 'ma', 'mightn', \"mightn't\", 'mustn', \"mustn't\", 'needn', \"needn't\", 'o', 's', 'shan', \"shan't\", \"she's\", \"should've\", 'shouldn', \"shouldn't\", 't', \"that'll\", 'theirs', 've', 'wasn', \"wasn't\", 'weren', \"weren't\", 'won', \"won't\", 'wouldn', \"wouldn't\", 'y', \"you'd\", \"you'll\", \"you're\", \"you've\"]\n"
     ]
    }
   ],
   "source": [
    "print(sorted(list(set(nltk_stop)-set(sklearn_stop))))"
   ]
  },
  {
   "cell_type": "code",
   "execution_count": 31,
   "metadata": {},
   "outputs": [
    {
     "name": "stdout",
     "output_type": "stream",
     "text": [
      "['across', 'afterwards', 'almost', 'alone', 'along', 'already', 'also', 'although', 'always', 'among', 'amongst', 'amoungst', 'amount', 'another', 'anyhow', 'anyone', 'anything', 'anyway', 'anywhere', 'around', 'back', 'became', 'become', 'becomes', 'becoming', 'beforehand', 'behind', 'beside', 'besides', 'beyond', 'bill', 'bottom', 'call', 'cannot', 'cant', 'co', 'con', 'could', 'couldnt', 'cry', 'de', 'describe', 'detail', 'done', 'due', 'eg', 'eight', 'either', 'eleven', 'else', 'elsewhere', 'empty', 'enough', 'etc', 'even', 'ever', 'every', 'everyone', 'everything', 'everywhere', 'except', 'fifteen', 'fifty', 'fill', 'find', 'fire', 'first', 'five', 'former', 'formerly', 'forty', 'found', 'four', 'front', 'full', 'get', 'give', 'go', 'hasnt', 'hence', 'hereafter', 'hereby', 'herein', 'hereupon', 'however', 'hundred', 'ie', 'inc', 'indeed', 'interest', 'keep', 'last', 'latter', 'latterly', 'least', 'less', 'ltd', 'made', 'many', 'may', 'meanwhile', 'might', 'mill', 'mine', 'moreover', 'mostly', 'move', 'much', 'must', 'name', 'namely', 'neither', 'never', 'nevertheless', 'next', 'nine', 'nobody', 'none', 'noone', 'nothing', 'nowhere', 'often', 'one', 'onto', 'others', 'otherwise', 'part', 'per', 'perhaps', 'please', 'put', 'rather', 'see', 'seem', 'seemed', 'seeming', 'seems', 'serious', 'several', 'show', 'side', 'since', 'sincere', 'six', 'sixty', 'somehow', 'someone', 'something', 'sometime', 'sometimes', 'somewhere', 'still', 'system', 'take', 'ten', 'thence', 'thereafter', 'thereby', 'therefore', 'therein', 'thereupon', 'thick', 'thin', 'third', 'though', 'three', 'throughout', 'thru', 'thus', 'together', 'top', 'toward', 'towards', 'twelve', 'twenty', 'two', 'un', 'upon', 'us', 'via', 'well', 'whatever', 'whence', 'whenever', 'whereafter', 'whereas', 'whereby', 'wherein', 'whereupon', 'wherever', 'whether', 'whither', 'whoever', 'whole', 'whose', 'within', 'without', 'would', 'yet']\n"
     ]
    }
   ],
   "source": [
    "print(sorted(list(set(sklearn_stop)-set(nltk_stop))))"
   ]
  },
  {
   "cell_type": "markdown",
   "metadata": {},
   "source": [
    "## Roll Your Own"
   ]
  },
  {
   "cell_type": "markdown",
   "metadata": {},
   "source": [
    "### TF-IDF"
   ]
  },
  {
   "cell_type": "code",
   "execution_count": null,
   "metadata": {},
   "outputs": [],
   "source": []
  },
  {
   "cell_type": "markdown",
   "metadata": {},
   "source": [
    "### word2vec\n",
    "\n",
    "A better approach (particularly for NLP tasks) would be to use an unsupervised model like word2vec and generate vectors for words. Then sort the vectors on magnitude and tag those vectors that are both low in magnitude and have high frequency counts as stopwords."
   ]
  },
  {
   "cell_type": "code",
   "execution_count": null,
   "metadata": {},
   "outputs": [],
   "source": []
  }
 ],
 "metadata": {
  "kernelspec": {
   "display_name": "Python 3",
   "language": "python",
   "name": "python3"
  },
  "language_info": {
   "codemirror_mode": {
    "name": "ipython",
    "version": 3
   },
   "file_extension": ".py",
   "mimetype": "text/x-python",
   "name": "python",
   "nbconvert_exporter": "python",
   "pygments_lexer": "ipython3",
   "version": "3.6.7"
  }
 },
 "nbformat": 4,
 "nbformat_minor": 2
}
